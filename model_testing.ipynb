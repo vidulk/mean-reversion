{
 "cells": [
  {
   "cell_type": "code",
   "execution_count": 158,
   "id": "f4570030",
   "metadata": {},
   "outputs": [],
   "source": [
    "import pandas as pd\n",
    "import matplotlib.pyplot as plt\n",
    "import numpy as np\n",
    "\n",
    "def add_bollinger_bands(df: pd.DataFrame, period: int = 20, std_dev: float = 2.0) -> pd.DataFrame:\n",
    "    \"\"\"Add Bollinger Bands manually\"\"\"\n",
    "    df = df.copy()\n",
    "    df['bb_middle'] = df['close'].rolling(window=period).mean()\n",
    "    bb_std = df['close'].rolling(window=period).std()\n",
    "    df['bb_upper'] = df['bb_middle'] + (bb_std * std_dev)\n",
    "    df['bb_lower'] = df['bb_middle'] - (bb_std * std_dev)\n",
    "    df['bb_percent'] = (df['close'] - df['bb_lower']) / (df['bb_upper'] - df['bb_lower'])\n",
    "    return df\n",
    "\n",
    "import plotly.graph_objects as go\n",
    "\n",
    "def plot_bollinger_bands(df: pd.DataFrame, n_periods: int = 200):\n",
    "    \"\"\"Plot price with Bollinger Bands using Plotly candlestick chart (last n_periods candles)\"\"\"\n",
    "    plot_df = df.tail(n_periods)\n",
    "    fig = go.Figure()\n",
    "\n",
    "    # Candlestick chart\n",
    "    fig.add_trace(go.Candlestick(\n",
    "        x=plot_df.index,\n",
    "        open=plot_df['open'],\n",
    "        high=plot_df['high'],\n",
    "        low=plot_df['low'],\n",
    "        close=plot_df['close'],\n",
    "        name='Candles'\n",
    "    ))\n",
    "\n",
    "    # Bollinger Bands\n",
    "    fig.add_trace(go.Scatter(\n",
    "        x=plot_df.index, y=plot_df['bb_upper'],\n",
    "        line=dict(color='red', width=1, dash='dash'),\n",
    "        name='Upper Band'\n",
    "    ))\n",
    "    fig.add_trace(go.Scatter(\n",
    "        x=plot_df.index, y=plot_df['bb_middle'],\n",
    "        line=dict(color='blue', width=1),\n",
    "        name='Middle Band'\n",
    "    ))\n",
    "    fig.add_trace(go.Scatter(\n",
    "        x=plot_df.index, y=plot_df['bb_lower'],\n",
    "        line=dict(color='green', width=1, dash='dash'),\n",
    "        name='Lower Band'\n",
    "    ))\n",
    "\n",
    "    # Fill between bands\n",
    "    fig.add_traces([\n",
    "        go.Scatter(\n",
    "            x=plot_df.index, y=plot_df['bb_upper'],\n",
    "            mode='lines',\n",
    "            line=dict(width=0),\n",
    "            showlegend=False,\n",
    "            hoverinfo='skip'\n",
    "        ),\n",
    "        go.Scatter(\n",
    "            x=plot_df.index, y=plot_df['bb_lower'],\n",
    "            mode='lines',\n",
    "            fill='tonexty',\n",
    "            fillcolor='rgba(0,100,80,0.1)',\n",
    "            line=dict(width=0),\n",
    "            showlegend=False,\n",
    "            hoverinfo='skip'\n",
    "        )\n",
    "    ])\n",
    "\n",
    "    fig.update_layout(\n",
    "        title='Bollinger Bands (last {} candles)'.format(n_periods),\n",
    "        xaxis_title='Time',\n",
    "        yaxis_title='Price',\n",
    "        xaxis_rangeslider_visible=False,\n",
    "        height=600\n",
    "    )\n",
    "    fig.show()\n"
   ]
  },
  {
   "cell_type": "code",
   "execution_count": 162,
   "id": "514eae19",
   "metadata": {},
   "outputs": [
    {
     "name": "stdout",
     "output_type": "stream",
     "text": [
      "2025-06-13 20:55:00+00:00 2024-08-01 04:00:00+00:00\n"
     ]
    }
   ],
   "source": [
    "print(df.index.max(), df.index.min())"
   ]
  },
  {
   "cell_type": "code",
   "execution_count": 159,
   "id": "39ef6282",
   "metadata": {},
   "outputs": [
    {
     "name": "stdout",
     "output_type": "stream",
     "text": [
      "(81368, 5)\n",
      "(64706, 5)\n"
     ]
    },
    {
     "data": {
      "application/vnd.plotly.v1+json": {
       "config": {
        "plotlyServerURL": "https://plot.ly"
       },
       "data": [
        {
         "close": {
          "bdata": "j+TyH9Jv8j8C2evdH2/yP8e6uI0GcPI/x7q4jQZw8j/i6ZWyDHHyP6jjMQOVcfI/cT0K16Nw8j83T3XIzXDyP4kkehnFcvI/aR1VTRB18j/B4nDmV3PyPxdIUPwYc/I/Atnr3R9v8j/Owp52+GvyP5SkaybfbPI/qOMxA5Vx8j9xPQrXo3DyP8VyS6shcfI/34lZL4Zy8j/8AKQ2cXLyP2fV52ordvI/nnsPlxx38j9N1qiHaHTyPzKP/MHAc/I/hXzQs1l18j9trS8S2nLyPy7/If32dfI/hqxu9Zx08j/fiVkvhnLyP4fEPZY+dPI/oyO5/Id08j+5wrtcxHfyPybfbHNjevI/Bwjm6PF78j/pYP2fw3zyP0NWt3pOevI/mxvTE5Z48j+Zu5aQD3ryPwcI5ujxe/I/XFX2XRF88j8LmMCtu3nyP3506spnefI/12mkpfJ28j+FlJ9U+3TyP/ZAKzBkdfI/MEeP39t08j9ljXqIRnfyP9rhr8kadfI/mxvTE5Z48j8N4C2QoHjyP2a9GMqJdvI/ppvEILBy8j+o4zEDlXHyPxYwgVt3c/I/FjCBW3dz8j/goSjQJ3LyP/vo1JXPcvI/ak3zjlN08j/8AKQ2cXLyP2t9kdCWc/I/UDblCu9y8j/CEg8om3LyP/0wQni0cfI/jIS2nEtx8j87x4Ds9W7yP3OdRloqb/I//TBCeLRx8j85fxMKEXDyP6jjMQOVcfI/HAjJAiZw8j8dIJijx2/yPyCYo8fvbfI/6iEa3UFs8j8Facai6WzyP1zmdFlMbPI/Kej2ksZo8j+WBKipZWvyP1DfMqfLYvI/Zk6XxcRm8j+cxCCwcmjyP7ubpzrkZvI/bCbfbHNj8j9MT1jiAWXyPzIge737Y/I/L8A+OnVl8j+94xQdyWXyP7ubpzrkZvI/KgDGM2ho8j8LQQ5KmGnyPyxIMxZNZ/I/LXjRV5Bm8j+0q5Dyk2ryP9DyPLg7a/I/s3vysFBr8j/qCUs8oGzyPwnh0cYRa/I/sktUbw1s8j/NkgA1tWzyP8oyxLEubvI/5EnSNZNv8j8C8bp+wW7yPyHIQQkzbfI/IchBCTNt8j9bttYXCW3yPyMQr+sXbPI/ttsuNNdp8j9hpu1fWWnyP0P/BBcravI/Q/8EFytq8j/w+WGE8GjyP0ZfQZqxaPI/BWnGouls8j+wG7YtymzyP8tKk1LQbfI/Vz7L8+Bu8j85fxMKEXDyP/5g4Ln3cPI/GHjuPVxy8j9lpUkp6HbyPxToE3mSdPI/8rBQa5p38j9+jLlrCXnyP4M0Y9F0dvI/EXAIVWp28j/1EI3uIHbyP0t2bATidfI/ucK7XMR38j9/pIgMq3jyP7iSHRuBePI/uarsuyJ48j9iFW9kHnnyP3icoiO5fPI/H7+36c9+8j9UNUHUfYDyPwAAAAAAgPI/Gy/dJAaB8j9yxFp8CoDyP5BrQ8U4f/I/r0LKT6p98j8FqKlla33yP64SLA5nfvI/kst/SL998j+xogbTMHzyP8cpOpLLf/I/q7LviuB/8j/HKTqSy3/yP1MFo5I6gfI/G0esxaeA8j9z9Pi9TX/yP1nd6jnpffI/r0LKT6p98j94nKIjuXzyP5UrvMtFfPI/exSuR+F68j8m32xzY3ryP7dif9k9efI/R+aRPxh48j8MyF7v/njyP9UJaCJsePI/Zr0Yyol28j9LdmwE4nXyP5+rrdhfdvI/CmgibHh68j/t8NdkjXryP0RuhhvwefI/YM0Bgjl68j/SqSuf5XnyPygPC7WmefI/0qkrn+V58j8sn+V5cHfyP3506spnefI/Lc+Du7N28j++amXCL3XyP/Fo44i1ePI/Dvj8MEJ48j9ljXqIRnfyPxFwCFVqdvI/n6ut2F928j9ljXqIRnfyP9dppKXydvI/Z9Xnait28j9mvRjKiXbyP0fmkT8YePI/ZF3cRgN48j8pP6n26XjyPwzIXu/+ePI/Rrbz/dR48j/t2AjE63ryPyuHFtnOd/I/LJ/leXB38j/VCWgibHjyP7iSHRuBePI/ucK7XMR38j+5wrtcxHfyP0ku/yH9dvI/nnsPlxx38j8lr84xIHvyP9F5jV2ievI/RG6GG/B58j/swDkjSnvyPw==",
          "dtype": "f8"
         },
         "high": {
          "bdata": "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",
          "dtype": "f8"
         },
         "low": {
          "bdata": "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",
          "dtype": "f8"
         },
         "name": "Candles",
         "open": {
          "bdata": "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",
          "dtype": "f8"
         },
         "type": "candlestick",
         "x": [
          "2025-06-13T04:20:00+00:00",
          "2025-06-13T04:25:00+00:00",
          "2025-06-13T04:30:00+00:00",
          "2025-06-13T04:35:00+00:00",
          "2025-06-13T04:40:00+00:00",
          "2025-06-13T04:45:00+00:00",
          "2025-06-13T04:50:00+00:00",
          "2025-06-13T04:55:00+00:00",
          "2025-06-13T05:00:00+00:00",
          "2025-06-13T05:05:00+00:00",
          "2025-06-13T05:10:00+00:00",
          "2025-06-13T05:15:00+00:00",
          "2025-06-13T05:20:00+00:00",
          "2025-06-13T05:25:00+00:00",
          "2025-06-13T05:30:00+00:00",
          "2025-06-13T05:35:00+00:00",
          "2025-06-13T05:40:00+00:00",
          "2025-06-13T05:45:00+00:00",
          "2025-06-13T05:50:00+00:00",
          "2025-06-13T05:55:00+00:00",
          "2025-06-13T06:00:00+00:00",
          "2025-06-13T06:05:00+00:00",
          "2025-06-13T06:10:00+00:00",
          "2025-06-13T06:15:00+00:00",
          "2025-06-13T06:20:00+00:00",
          "2025-06-13T06:25:00+00:00",
          "2025-06-13T06:30:00+00:00",
          "2025-06-13T06:35:00+00:00",
          "2025-06-13T06:40:00+00:00",
          "2025-06-13T06:45:00+00:00",
          "2025-06-13T06:50:00+00:00",
          "2025-06-13T06:55:00+00:00",
          "2025-06-13T07:00:00+00:00",
          "2025-06-13T07:05:00+00:00",
          "2025-06-13T07:10:00+00:00",
          "2025-06-13T07:15:00+00:00",
          "2025-06-13T07:20:00+00:00",
          "2025-06-13T07:25:00+00:00",
          "2025-06-13T07:30:00+00:00",
          "2025-06-13T07:35:00+00:00",
          "2025-06-13T07:40:00+00:00",
          "2025-06-13T07:45:00+00:00",
          "2025-06-13T07:50:00+00:00",
          "2025-06-13T07:55:00+00:00",
          "2025-06-13T08:00:00+00:00",
          "2025-06-13T08:05:00+00:00",
          "2025-06-13T08:10:00+00:00",
          "2025-06-13T08:15:00+00:00",
          "2025-06-13T08:20:00+00:00",
          "2025-06-13T08:25:00+00:00",
          "2025-06-13T08:30:00+00:00",
          "2025-06-13T08:35:00+00:00",
          "2025-06-13T08:40:00+00:00",
          "2025-06-13T08:45:00+00:00",
          "2025-06-13T08:50:00+00:00",
          "2025-06-13T08:55:00+00:00",
          "2025-06-13T09:00:00+00:00",
          "2025-06-13T09:05:00+00:00",
          "2025-06-13T09:10:00+00:00",
          "2025-06-13T09:15:00+00:00",
          "2025-06-13T09:20:00+00:00",
          "2025-06-13T09:25:00+00:00",
          "2025-06-13T09:30:00+00:00",
          "2025-06-13T09:35:00+00:00",
          "2025-06-13T09:40:00+00:00",
          "2025-06-13T09:45:00+00:00",
          "2025-06-13T09:50:00+00:00",
          "2025-06-13T09:55:00+00:00",
          "2025-06-13T10:00:00+00:00",
          "2025-06-13T10:05:00+00:00",
          "2025-06-13T10:10:00+00:00",
          "2025-06-13T10:15:00+00:00",
          "2025-06-13T10:20:00+00:00",
          "2025-06-13T10:25:00+00:00",
          "2025-06-13T10:30:00+00:00",
          "2025-06-13T10:35:00+00:00",
          "2025-06-13T10:40:00+00:00",
          "2025-06-13T10:45:00+00:00",
          "2025-06-13T10:50:00+00:00",
          "2025-06-13T10:55:00+00:00",
          "2025-06-13T11:00:00+00:00",
          "2025-06-13T11:05:00+00:00",
          "2025-06-13T11:10:00+00:00",
          "2025-06-13T11:15:00+00:00",
          "2025-06-13T11:20:00+00:00",
          "2025-06-13T11:25:00+00:00",
          "2025-06-13T11:30:00+00:00",
          "2025-06-13T11:35:00+00:00",
          "2025-06-13T11:40:00+00:00",
          "2025-06-13T11:45:00+00:00",
          "2025-06-13T11:50:00+00:00",
          "2025-06-13T11:55:00+00:00",
          "2025-06-13T12:00:00+00:00",
          "2025-06-13T12:05:00+00:00",
          "2025-06-13T12:10:00+00:00",
          "2025-06-13T12:15:00+00:00",
          "2025-06-13T12:20:00+00:00",
          "2025-06-13T12:25:00+00:00",
          "2025-06-13T12:30:00+00:00",
          "2025-06-13T12:35:00+00:00",
          "2025-06-13T12:40:00+00:00",
          "2025-06-13T12:45:00+00:00",
          "2025-06-13T12:50:00+00:00",
          "2025-06-13T12:55:00+00:00",
          "2025-06-13T13:00:00+00:00",
          "2025-06-13T13:05:00+00:00",
          "2025-06-13T13:10:00+00:00",
          "2025-06-13T13:15:00+00:00",
          "2025-06-13T13:20:00+00:00",
          "2025-06-13T13:25:00+00:00",
          "2025-06-13T13:30:00+00:00",
          "2025-06-13T13:35:00+00:00",
          "2025-06-13T13:40:00+00:00",
          "2025-06-13T13:45:00+00:00",
          "2025-06-13T13:50:00+00:00",
          "2025-06-13T13:55:00+00:00",
          "2025-06-13T14:00:00+00:00",
          "2025-06-13T14:05:00+00:00",
          "2025-06-13T14:10:00+00:00",
          "2025-06-13T14:15:00+00:00",
          "2025-06-13T14:20:00+00:00",
          "2025-06-13T14:25:00+00:00",
          "2025-06-13T14:30:00+00:00",
          "2025-06-13T14:35:00+00:00",
          "2025-06-13T14:40:00+00:00",
          "2025-06-13T14:45:00+00:00",
          "2025-06-13T14:50:00+00:00",
          "2025-06-13T14:55:00+00:00",
          "2025-06-13T15:00:00+00:00",
          "2025-06-13T15:05:00+00:00",
          "2025-06-13T15:10:00+00:00",
          "2025-06-13T15:15:00+00:00",
          "2025-06-13T15:20:00+00:00",
          "2025-06-13T15:25:00+00:00",
          "2025-06-13T15:30:00+00:00",
          "2025-06-13T15:35:00+00:00",
          "2025-06-13T15:40:00+00:00",
          "2025-06-13T15:45:00+00:00",
          "2025-06-13T15:50:00+00:00",
          "2025-06-13T15:55:00+00:00",
          "2025-06-13T16:00:00+00:00",
          "2025-06-13T16:05:00+00:00",
          "2025-06-13T16:10:00+00:00",
          "2025-06-13T16:15:00+00:00",
          "2025-06-13T16:20:00+00:00",
          "2025-06-13T16:25:00+00:00",
          "2025-06-13T16:30:00+00:00",
          "2025-06-13T16:35:00+00:00",
          "2025-06-13T16:40:00+00:00",
          "2025-06-13T16:45:00+00:00",
          "2025-06-13T16:50:00+00:00",
          "2025-06-13T16:55:00+00:00",
          "2025-06-13T17:00:00+00:00",
          "2025-06-13T17:05:00+00:00",
          "2025-06-13T17:10:00+00:00",
          "2025-06-13T17:15:00+00:00",
          "2025-06-13T17:20:00+00:00",
          "2025-06-13T17:25:00+00:00",
          "2025-06-13T17:30:00+00:00",
          "2025-06-13T17:35:00+00:00",
          "2025-06-13T17:40:00+00:00",
          "2025-06-13T17:45:00+00:00",
          "2025-06-13T17:50:00+00:00",
          "2025-06-13T17:55:00+00:00",
          "2025-06-13T18:00:00+00:00",
          "2025-06-13T18:05:00+00:00",
          "2025-06-13T18:10:00+00:00",
          "2025-06-13T18:15:00+00:00",
          "2025-06-13T18:20:00+00:00",
          "2025-06-13T18:25:00+00:00",
          "2025-06-13T18:30:00+00:00",
          "2025-06-13T18:35:00+00:00",
          "2025-06-13T18:40:00+00:00",
          "2025-06-13T18:45:00+00:00",
          "2025-06-13T18:50:00+00:00",
          "2025-06-13T18:55:00+00:00",
          "2025-06-13T19:00:00+00:00",
          "2025-06-13T19:05:00+00:00",
          "2025-06-13T19:10:00+00:00",
          "2025-06-13T19:15:00+00:00",
          "2025-06-13T19:20:00+00:00",
          "2025-06-13T19:25:00+00:00",
          "2025-06-13T19:30:00+00:00",
          "2025-06-13T19:35:00+00:00",
          "2025-06-13T19:40:00+00:00",
          "2025-06-13T19:45:00+00:00",
          "2025-06-13T19:50:00+00:00",
          "2025-06-13T19:55:00+00:00",
          "2025-06-13T20:00:00+00:00",
          "2025-06-13T20:05:00+00:00",
          "2025-06-13T20:10:00+00:00",
          "2025-06-13T20:15:00+00:00",
          "2025-06-13T20:20:00+00:00",
          "2025-06-13T20:25:00+00:00",
          "2025-06-13T20:30:00+00:00",
          "2025-06-13T20:35:00+00:00",
          "2025-06-13T20:40:00+00:00",
          "2025-06-13T20:45:00+00:00",
          "2025-06-13T20:50:00+00:00",
          "2025-06-13T20:55:00+00:00"
         ]
        },
        {
         "line": {
          "color": "red",
          "dash": "dash",
          "width": 1
         },
         "name": "Upper Band",
         "type": "scatter",
         "x": [
          "2025-06-13T04:20:00+00:00",
          "2025-06-13T04:25:00+00:00",
          "2025-06-13T04:30:00+00:00",
          "2025-06-13T04:35:00+00:00",
          "2025-06-13T04:40:00+00:00",
          "2025-06-13T04:45:00+00:00",
          "2025-06-13T04:50:00+00:00",
          "2025-06-13T04:55:00+00:00",
          "2025-06-13T05:00:00+00:00",
          "2025-06-13T05:05:00+00:00",
          "2025-06-13T05:10:00+00:00",
          "2025-06-13T05:15:00+00:00",
          "2025-06-13T05:20:00+00:00",
          "2025-06-13T05:25:00+00:00",
          "2025-06-13T05:30:00+00:00",
          "2025-06-13T05:35:00+00:00",
          "2025-06-13T05:40:00+00:00",
          "2025-06-13T05:45:00+00:00",
          "2025-06-13T05:50:00+00:00",
          "2025-06-13T05:55:00+00:00",
          "2025-06-13T06:00:00+00:00",
          "2025-06-13T06:05:00+00:00",
          "2025-06-13T06:10:00+00:00",
          "2025-06-13T06:15:00+00:00",
          "2025-06-13T06:20:00+00:00",
          "2025-06-13T06:25:00+00:00",
          "2025-06-13T06:30:00+00:00",
          "2025-06-13T06:35:00+00:00",
          "2025-06-13T06:40:00+00:00",
          "2025-06-13T06:45:00+00:00",
          "2025-06-13T06:50:00+00:00",
          "2025-06-13T06:55:00+00:00",
          "2025-06-13T07:00:00+00:00",
          "2025-06-13T07:05:00+00:00",
          "2025-06-13T07:10:00+00:00",
          "2025-06-13T07:15:00+00:00",
          "2025-06-13T07:20:00+00:00",
          "2025-06-13T07:25:00+00:00",
          "2025-06-13T07:30:00+00:00",
          "2025-06-13T07:35:00+00:00",
          "2025-06-13T07:40:00+00:00",
          "2025-06-13T07:45:00+00:00",
          "2025-06-13T07:50:00+00:00",
          "2025-06-13T07:55:00+00:00",
          "2025-06-13T08:00:00+00:00",
          "2025-06-13T08:05:00+00:00",
          "2025-06-13T08:10:00+00:00",
          "2025-06-13T08:15:00+00:00",
          "2025-06-13T08:20:00+00:00",
          "2025-06-13T08:25:00+00:00",
          "2025-06-13T08:30:00+00:00",
          "2025-06-13T08:35:00+00:00",
          "2025-06-13T08:40:00+00:00",
          "2025-06-13T08:45:00+00:00",
          "2025-06-13T08:50:00+00:00",
          "2025-06-13T08:55:00+00:00",
          "2025-06-13T09:00:00+00:00",
          "2025-06-13T09:05:00+00:00",
          "2025-06-13T09:10:00+00:00",
          "2025-06-13T09:15:00+00:00",
          "2025-06-13T09:20:00+00:00",
          "2025-06-13T09:25:00+00:00",
          "2025-06-13T09:30:00+00:00",
          "2025-06-13T09:35:00+00:00",
          "2025-06-13T09:40:00+00:00",
          "2025-06-13T09:45:00+00:00",
          "2025-06-13T09:50:00+00:00",
          "2025-06-13T09:55:00+00:00",
          "2025-06-13T10:00:00+00:00",
          "2025-06-13T10:05:00+00:00",
          "2025-06-13T10:10:00+00:00",
          "2025-06-13T10:15:00+00:00",
          "2025-06-13T10:20:00+00:00",
          "2025-06-13T10:25:00+00:00",
          "2025-06-13T10:30:00+00:00",
          "2025-06-13T10:35:00+00:00",
          "2025-06-13T10:40:00+00:00",
          "2025-06-13T10:45:00+00:00",
          "2025-06-13T10:50:00+00:00",
          "2025-06-13T10:55:00+00:00",
          "2025-06-13T11:00:00+00:00",
          "2025-06-13T11:05:00+00:00",
          "2025-06-13T11:10:00+00:00",
          "2025-06-13T11:15:00+00:00",
          "2025-06-13T11:20:00+00:00",
          "2025-06-13T11:25:00+00:00",
          "2025-06-13T11:30:00+00:00",
          "2025-06-13T11:35:00+00:00",
          "2025-06-13T11:40:00+00:00",
          "2025-06-13T11:45:00+00:00",
          "2025-06-13T11:50:00+00:00",
          "2025-06-13T11:55:00+00:00",
          "2025-06-13T12:00:00+00:00",
          "2025-06-13T12:05:00+00:00",
          "2025-06-13T12:10:00+00:00",
          "2025-06-13T12:15:00+00:00",
          "2025-06-13T12:20:00+00:00",
          "2025-06-13T12:25:00+00:00",
          "2025-06-13T12:30:00+00:00",
          "2025-06-13T12:35:00+00:00",
          "2025-06-13T12:40:00+00:00",
          "2025-06-13T12:45:00+00:00",
          "2025-06-13T12:50:00+00:00",
          "2025-06-13T12:55:00+00:00",
          "2025-06-13T13:00:00+00:00",
          "2025-06-13T13:05:00+00:00",
          "2025-06-13T13:10:00+00:00",
          "2025-06-13T13:15:00+00:00",
          "2025-06-13T13:20:00+00:00",
          "2025-06-13T13:25:00+00:00",
          "2025-06-13T13:30:00+00:00",
          "2025-06-13T13:35:00+00:00",
          "2025-06-13T13:40:00+00:00",
          "2025-06-13T13:45:00+00:00",
          "2025-06-13T13:50:00+00:00",
          "2025-06-13T13:55:00+00:00",
          "2025-06-13T14:00:00+00:00",
          "2025-06-13T14:05:00+00:00",
          "2025-06-13T14:10:00+00:00",
          "2025-06-13T14:15:00+00:00",
          "2025-06-13T14:20:00+00:00",
          "2025-06-13T14:25:00+00:00",
          "2025-06-13T14:30:00+00:00",
          "2025-06-13T14:35:00+00:00",
          "2025-06-13T14:40:00+00:00",
          "2025-06-13T14:45:00+00:00",
          "2025-06-13T14:50:00+00:00",
          "2025-06-13T14:55:00+00:00",
          "2025-06-13T15:00:00+00:00",
          "2025-06-13T15:05:00+00:00",
          "2025-06-13T15:10:00+00:00",
          "2025-06-13T15:15:00+00:00",
          "2025-06-13T15:20:00+00:00",
          "2025-06-13T15:25:00+00:00",
          "2025-06-13T15:30:00+00:00",
          "2025-06-13T15:35:00+00:00",
          "2025-06-13T15:40:00+00:00",
          "2025-06-13T15:45:00+00:00",
          "2025-06-13T15:50:00+00:00",
          "2025-06-13T15:55:00+00:00",
          "2025-06-13T16:00:00+00:00",
          "2025-06-13T16:05:00+00:00",
          "2025-06-13T16:10:00+00:00",
          "2025-06-13T16:15:00+00:00",
          "2025-06-13T16:20:00+00:00",
          "2025-06-13T16:25:00+00:00",
          "2025-06-13T16:30:00+00:00",
          "2025-06-13T16:35:00+00:00",
          "2025-06-13T16:40:00+00:00",
          "2025-06-13T16:45:00+00:00",
          "2025-06-13T16:50:00+00:00",
          "2025-06-13T16:55:00+00:00",
          "2025-06-13T17:00:00+00:00",
          "2025-06-13T17:05:00+00:00",
          "2025-06-13T17:10:00+00:00",
          "2025-06-13T17:15:00+00:00",
          "2025-06-13T17:20:00+00:00",
          "2025-06-13T17:25:00+00:00",
          "2025-06-13T17:30:00+00:00",
          "2025-06-13T17:35:00+00:00",
          "2025-06-13T17:40:00+00:00",
          "2025-06-13T17:45:00+00:00",
          "2025-06-13T17:50:00+00:00",
          "2025-06-13T17:55:00+00:00",
          "2025-06-13T18:00:00+00:00",
          "2025-06-13T18:05:00+00:00",
          "2025-06-13T18:10:00+00:00",
          "2025-06-13T18:15:00+00:00",
          "2025-06-13T18:20:00+00:00",
          "2025-06-13T18:25:00+00:00",
          "2025-06-13T18:30:00+00:00",
          "2025-06-13T18:35:00+00:00",
          "2025-06-13T18:40:00+00:00",
          "2025-06-13T18:45:00+00:00",
          "2025-06-13T18:50:00+00:00",
          "2025-06-13T18:55:00+00:00",
          "2025-06-13T19:00:00+00:00",
          "2025-06-13T19:05:00+00:00",
          "2025-06-13T19:10:00+00:00",
          "2025-06-13T19:15:00+00:00",
          "2025-06-13T19:20:00+00:00",
          "2025-06-13T19:25:00+00:00",
          "2025-06-13T19:30:00+00:00",
          "2025-06-13T19:35:00+00:00",
          "2025-06-13T19:40:00+00:00",
          "2025-06-13T19:45:00+00:00",
          "2025-06-13T19:50:00+00:00",
          "2025-06-13T19:55:00+00:00",
          "2025-06-13T20:00:00+00:00",
          "2025-06-13T20:05:00+00:00",
          "2025-06-13T20:10:00+00:00",
          "2025-06-13T20:15:00+00:00",
          "2025-06-13T20:20:00+00:00",
          "2025-06-13T20:25:00+00:00",
          "2025-06-13T20:30:00+00:00",
          "2025-06-13T20:35:00+00:00",
          "2025-06-13T20:40:00+00:00",
          "2025-06-13T20:45:00+00:00",
          "2025-06-13T20:50:00+00:00",
          "2025-06-13T20:55:00+00:00"
         ],
         "y": {
          "bdata": "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",
          "dtype": "f8"
         }
        },
        {
         "line": {
          "color": "blue",
          "width": 1
         },
         "name": "Middle Band",
         "type": "scatter",
         "x": [
          "2025-06-13T04:20:00+00:00",
          "2025-06-13T04:25:00+00:00",
          "2025-06-13T04:30:00+00:00",
          "2025-06-13T04:35:00+00:00",
          "2025-06-13T04:40:00+00:00",
          "2025-06-13T04:45:00+00:00",
          "2025-06-13T04:50:00+00:00",
          "2025-06-13T04:55:00+00:00",
          "2025-06-13T05:00:00+00:00",
          "2025-06-13T05:05:00+00:00",
          "2025-06-13T05:10:00+00:00",
          "2025-06-13T05:15:00+00:00",
          "2025-06-13T05:20:00+00:00",
          "2025-06-13T05:25:00+00:00",
          "2025-06-13T05:30:00+00:00",
          "2025-06-13T05:35:00+00:00",
          "2025-06-13T05:40:00+00:00",
          "2025-06-13T05:45:00+00:00",
          "2025-06-13T05:50:00+00:00",
          "2025-06-13T05:55:00+00:00",
          "2025-06-13T06:00:00+00:00",
          "2025-06-13T06:05:00+00:00",
          "2025-06-13T06:10:00+00:00",
          "2025-06-13T06:15:00+00:00",
          "2025-06-13T06:20:00+00:00",
          "2025-06-13T06:25:00+00:00",
          "2025-06-13T06:30:00+00:00",
          "2025-06-13T06:35:00+00:00",
          "2025-06-13T06:40:00+00:00",
          "2025-06-13T06:45:00+00:00",
          "2025-06-13T06:50:00+00:00",
          "2025-06-13T06:55:00+00:00",
          "2025-06-13T07:00:00+00:00",
          "2025-06-13T07:05:00+00:00",
          "2025-06-13T07:10:00+00:00",
          "2025-06-13T07:15:00+00:00",
          "2025-06-13T07:20:00+00:00",
          "2025-06-13T07:25:00+00:00",
          "2025-06-13T07:30:00+00:00",
          "2025-06-13T07:35:00+00:00",
          "2025-06-13T07:40:00+00:00",
          "2025-06-13T07:45:00+00:00",
          "2025-06-13T07:50:00+00:00",
          "2025-06-13T07:55:00+00:00",
          "2025-06-13T08:00:00+00:00",
          "2025-06-13T08:05:00+00:00",
          "2025-06-13T08:10:00+00:00",
          "2025-06-13T08:15:00+00:00",
          "2025-06-13T08:20:00+00:00",
          "2025-06-13T08:25:00+00:00",
          "2025-06-13T08:30:00+00:00",
          "2025-06-13T08:35:00+00:00",
          "2025-06-13T08:40:00+00:00",
          "2025-06-13T08:45:00+00:00",
          "2025-06-13T08:50:00+00:00",
          "2025-06-13T08:55:00+00:00",
          "2025-06-13T09:00:00+00:00",
          "2025-06-13T09:05:00+00:00",
          "2025-06-13T09:10:00+00:00",
          "2025-06-13T09:15:00+00:00",
          "2025-06-13T09:20:00+00:00",
          "2025-06-13T09:25:00+00:00",
          "2025-06-13T09:30:00+00:00",
          "2025-06-13T09:35:00+00:00",
          "2025-06-13T09:40:00+00:00",
          "2025-06-13T09:45:00+00:00",
          "2025-06-13T09:50:00+00:00",
          "2025-06-13T09:55:00+00:00",
          "2025-06-13T10:00:00+00:00",
          "2025-06-13T10:05:00+00:00",
          "2025-06-13T10:10:00+00:00",
          "2025-06-13T10:15:00+00:00",
          "2025-06-13T10:20:00+00:00",
          "2025-06-13T10:25:00+00:00",
          "2025-06-13T10:30:00+00:00",
          "2025-06-13T10:35:00+00:00",
          "2025-06-13T10:40:00+00:00",
          "2025-06-13T10:45:00+00:00",
          "2025-06-13T10:50:00+00:00",
          "2025-06-13T10:55:00+00:00",
          "2025-06-13T11:00:00+00:00",
          "2025-06-13T11:05:00+00:00",
          "2025-06-13T11:10:00+00:00",
          "2025-06-13T11:15:00+00:00",
          "2025-06-13T11:20:00+00:00",
          "2025-06-13T11:25:00+00:00",
          "2025-06-13T11:30:00+00:00",
          "2025-06-13T11:35:00+00:00",
          "2025-06-13T11:40:00+00:00",
          "2025-06-13T11:45:00+00:00",
          "2025-06-13T11:50:00+00:00",
          "2025-06-13T11:55:00+00:00",
          "2025-06-13T12:00:00+00:00",
          "2025-06-13T12:05:00+00:00",
          "2025-06-13T12:10:00+00:00",
          "2025-06-13T12:15:00+00:00",
          "2025-06-13T12:20:00+00:00",
          "2025-06-13T12:25:00+00:00",
          "2025-06-13T12:30:00+00:00",
          "2025-06-13T12:35:00+00:00",
          "2025-06-13T12:40:00+00:00",
          "2025-06-13T12:45:00+00:00",
          "2025-06-13T12:50:00+00:00",
          "2025-06-13T12:55:00+00:00",
          "2025-06-13T13:00:00+00:00",
          "2025-06-13T13:05:00+00:00",
          "2025-06-13T13:10:00+00:00",
          "2025-06-13T13:15:00+00:00",
          "2025-06-13T13:20:00+00:00",
          "2025-06-13T13:25:00+00:00",
          "2025-06-13T13:30:00+00:00",
          "2025-06-13T13:35:00+00:00",
          "2025-06-13T13:40:00+00:00",
          "2025-06-13T13:45:00+00:00",
          "2025-06-13T13:50:00+00:00",
          "2025-06-13T13:55:00+00:00",
          "2025-06-13T14:00:00+00:00",
          "2025-06-13T14:05:00+00:00",
          "2025-06-13T14:10:00+00:00",
          "2025-06-13T14:15:00+00:00",
          "2025-06-13T14:20:00+00:00",
          "2025-06-13T14:25:00+00:00",
          "2025-06-13T14:30:00+00:00",
          "2025-06-13T14:35:00+00:00",
          "2025-06-13T14:40:00+00:00",
          "2025-06-13T14:45:00+00:00",
          "2025-06-13T14:50:00+00:00",
          "2025-06-13T14:55:00+00:00",
          "2025-06-13T15:00:00+00:00",
          "2025-06-13T15:05:00+00:00",
          "2025-06-13T15:10:00+00:00",
          "2025-06-13T15:15:00+00:00",
          "2025-06-13T15:20:00+00:00",
          "2025-06-13T15:25:00+00:00",
          "2025-06-13T15:30:00+00:00",
          "2025-06-13T15:35:00+00:00",
          "2025-06-13T15:40:00+00:00",
          "2025-06-13T15:45:00+00:00",
          "2025-06-13T15:50:00+00:00",
          "2025-06-13T15:55:00+00:00",
          "2025-06-13T16:00:00+00:00",
          "2025-06-13T16:05:00+00:00",
          "2025-06-13T16:10:00+00:00",
          "2025-06-13T16:15:00+00:00",
          "2025-06-13T16:20:00+00:00",
          "2025-06-13T16:25:00+00:00",
          "2025-06-13T16:30:00+00:00",
          "2025-06-13T16:35:00+00:00",
          "2025-06-13T16:40:00+00:00",
          "2025-06-13T16:45:00+00:00",
          "2025-06-13T16:50:00+00:00",
          "2025-06-13T16:55:00+00:00",
          "2025-06-13T17:00:00+00:00",
          "2025-06-13T17:05:00+00:00",
          "2025-06-13T17:10:00+00:00",
          "2025-06-13T17:15:00+00:00",
          "2025-06-13T17:20:00+00:00",
          "2025-06-13T17:25:00+00:00",
          "2025-06-13T17:30:00+00:00",
          "2025-06-13T17:35:00+00:00",
          "2025-06-13T17:40:00+00:00",
          "2025-06-13T17:45:00+00:00",
          "2025-06-13T17:50:00+00:00",
          "2025-06-13T17:55:00+00:00",
          "2025-06-13T18:00:00+00:00",
          "2025-06-13T18:05:00+00:00",
          "2025-06-13T18:10:00+00:00",
          "2025-06-13T18:15:00+00:00",
          "2025-06-13T18:20:00+00:00",
          "2025-06-13T18:25:00+00:00",
          "2025-06-13T18:30:00+00:00",
          "2025-06-13T18:35:00+00:00",
          "2025-06-13T18:40:00+00:00",
          "2025-06-13T18:45:00+00:00",
          "2025-06-13T18:50:00+00:00",
          "2025-06-13T18:55:00+00:00",
          "2025-06-13T19:00:00+00:00",
          "2025-06-13T19:05:00+00:00",
          "2025-06-13T19:10:00+00:00",
          "2025-06-13T19:15:00+00:00",
          "2025-06-13T19:20:00+00:00",
          "2025-06-13T19:25:00+00:00",
          "2025-06-13T19:30:00+00:00",
          "2025-06-13T19:35:00+00:00",
          "2025-06-13T19:40:00+00:00",
          "2025-06-13T19:45:00+00:00",
          "2025-06-13T19:50:00+00:00",
          "2025-06-13T19:55:00+00:00",
          "2025-06-13T20:00:00+00:00",
          "2025-06-13T20:05:00+00:00",
          "2025-06-13T20:10:00+00:00",
          "2025-06-13T20:15:00+00:00",
          "2025-06-13T20:20:00+00:00",
          "2025-06-13T20:25:00+00:00",
          "2025-06-13T20:30:00+00:00",
          "2025-06-13T20:35:00+00:00",
          "2025-06-13T20:40:00+00:00",
          "2025-06-13T20:45:00+00:00",
          "2025-06-13T20:50:00+00:00",
          "2025-06-13T20:55:00+00:00"
         ],
         "y": {
          "bdata": "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",
          "dtype": "f8"
         }
        },
        {
         "line": {
          "color": "green",
          "dash": "dash",
          "width": 1
         },
         "name": "Lower Band",
         "type": "scatter",
         "x": [
          "2025-06-13T04:20:00+00:00",
          "2025-06-13T04:25:00+00:00",
          "2025-06-13T04:30:00+00:00",
          "2025-06-13T04:35:00+00:00",
          "2025-06-13T04:40:00+00:00",
          "2025-06-13T04:45:00+00:00",
          "2025-06-13T04:50:00+00:00",
          "2025-06-13T04:55:00+00:00",
          "2025-06-13T05:00:00+00:00",
          "2025-06-13T05:05:00+00:00",
          "2025-06-13T05:10:00+00:00",
          "2025-06-13T05:15:00+00:00",
          "2025-06-13T05:20:00+00:00",
          "2025-06-13T05:25:00+00:00",
          "2025-06-13T05:30:00+00:00",
          "2025-06-13T05:35:00+00:00",
          "2025-06-13T05:40:00+00:00",
          "2025-06-13T05:45:00+00:00",
          "2025-06-13T05:50:00+00:00",
          "2025-06-13T05:55:00+00:00",
          "2025-06-13T06:00:00+00:00",
          "2025-06-13T06:05:00+00:00",
          "2025-06-13T06:10:00+00:00",
          "2025-06-13T06:15:00+00:00",
          "2025-06-13T06:20:00+00:00",
          "2025-06-13T06:25:00+00:00",
          "2025-06-13T06:30:00+00:00",
          "2025-06-13T06:35:00+00:00",
          "2025-06-13T06:40:00+00:00",
          "2025-06-13T06:45:00+00:00",
          "2025-06-13T06:50:00+00:00",
          "2025-06-13T06:55:00+00:00",
          "2025-06-13T07:00:00+00:00",
          "2025-06-13T07:05:00+00:00",
          "2025-06-13T07:10:00+00:00",
          "2025-06-13T07:15:00+00:00",
          "2025-06-13T07:20:00+00:00",
          "2025-06-13T07:25:00+00:00",
          "2025-06-13T07:30:00+00:00",
          "2025-06-13T07:35:00+00:00",
          "2025-06-13T07:40:00+00:00",
          "2025-06-13T07:45:00+00:00",
          "2025-06-13T07:50:00+00:00",
          "2025-06-13T07:55:00+00:00",
          "2025-06-13T08:00:00+00:00",
          "2025-06-13T08:05:00+00:00",
          "2025-06-13T08:10:00+00:00",
          "2025-06-13T08:15:00+00:00",
          "2025-06-13T08:20:00+00:00",
          "2025-06-13T08:25:00+00:00",
          "2025-06-13T08:30:00+00:00",
          "2025-06-13T08:35:00+00:00",
          "2025-06-13T08:40:00+00:00",
          "2025-06-13T08:45:00+00:00",
          "2025-06-13T08:50:00+00:00",
          "2025-06-13T08:55:00+00:00",
          "2025-06-13T09:00:00+00:00",
          "2025-06-13T09:05:00+00:00",
          "2025-06-13T09:10:00+00:00",
          "2025-06-13T09:15:00+00:00",
          "2025-06-13T09:20:00+00:00",
          "2025-06-13T09:25:00+00:00",
          "2025-06-13T09:30:00+00:00",
          "2025-06-13T09:35:00+00:00",
          "2025-06-13T09:40:00+00:00",
          "2025-06-13T09:45:00+00:00",
          "2025-06-13T09:50:00+00:00",
          "2025-06-13T09:55:00+00:00",
          "2025-06-13T10:00:00+00:00",
          "2025-06-13T10:05:00+00:00",
          "2025-06-13T10:10:00+00:00",
          "2025-06-13T10:15:00+00:00",
          "2025-06-13T10:20:00+00:00",
          "2025-06-13T10:25:00+00:00",
          "2025-06-13T10:30:00+00:00",
          "2025-06-13T10:35:00+00:00",
          "2025-06-13T10:40:00+00:00",
          "2025-06-13T10:45:00+00:00",
          "2025-06-13T10:50:00+00:00",
          "2025-06-13T10:55:00+00:00",
          "2025-06-13T11:00:00+00:00",
          "2025-06-13T11:05:00+00:00",
          "2025-06-13T11:10:00+00:00",
          "2025-06-13T11:15:00+00:00",
          "2025-06-13T11:20:00+00:00",
          "2025-06-13T11:25:00+00:00",
          "2025-06-13T11:30:00+00:00",
          "2025-06-13T11:35:00+00:00",
          "2025-06-13T11:40:00+00:00",
          "2025-06-13T11:45:00+00:00",
          "2025-06-13T11:50:00+00:00",
          "2025-06-13T11:55:00+00:00",
          "2025-06-13T12:00:00+00:00",
          "2025-06-13T12:05:00+00:00",
          "2025-06-13T12:10:00+00:00",
          "2025-06-13T12:15:00+00:00",
          "2025-06-13T12:20:00+00:00",
          "2025-06-13T12:25:00+00:00",
          "2025-06-13T12:30:00+00:00",
          "2025-06-13T12:35:00+00:00",
          "2025-06-13T12:40:00+00:00",
          "2025-06-13T12:45:00+00:00",
          "2025-06-13T12:50:00+00:00",
          "2025-06-13T12:55:00+00:00",
          "2025-06-13T13:00:00+00:00",
          "2025-06-13T13:05:00+00:00",
          "2025-06-13T13:10:00+00:00",
          "2025-06-13T13:15:00+00:00",
          "2025-06-13T13:20:00+00:00",
          "2025-06-13T13:25:00+00:00",
          "2025-06-13T13:30:00+00:00",
          "2025-06-13T13:35:00+00:00",
          "2025-06-13T13:40:00+00:00",
          "2025-06-13T13:45:00+00:00",
          "2025-06-13T13:50:00+00:00",
          "2025-06-13T13:55:00+00:00",
          "2025-06-13T14:00:00+00:00",
          "2025-06-13T14:05:00+00:00",
          "2025-06-13T14:10:00+00:00",
          "2025-06-13T14:15:00+00:00",
          "2025-06-13T14:20:00+00:00",
          "2025-06-13T14:25:00+00:00",
          "2025-06-13T14:30:00+00:00",
          "2025-06-13T14:35:00+00:00",
          "2025-06-13T14:40:00+00:00",
          "2025-06-13T14:45:00+00:00",
          "2025-06-13T14:50:00+00:00",
          "2025-06-13T14:55:00+00:00",
          "2025-06-13T15:00:00+00:00",
          "2025-06-13T15:05:00+00:00",
          "2025-06-13T15:10:00+00:00",
          "2025-06-13T15:15:00+00:00",
          "2025-06-13T15:20:00+00:00",
          "2025-06-13T15:25:00+00:00",
          "2025-06-13T15:30:00+00:00",
          "2025-06-13T15:35:00+00:00",
          "2025-06-13T15:40:00+00:00",
          "2025-06-13T15:45:00+00:00",
          "2025-06-13T15:50:00+00:00",
          "2025-06-13T15:55:00+00:00",
          "2025-06-13T16:00:00+00:00",
          "2025-06-13T16:05:00+00:00",
          "2025-06-13T16:10:00+00:00",
          "2025-06-13T16:15:00+00:00",
          "2025-06-13T16:20:00+00:00",
          "2025-06-13T16:25:00+00:00",
          "2025-06-13T16:30:00+00:00",
          "2025-06-13T16:35:00+00:00",
          "2025-06-13T16:40:00+00:00",
          "2025-06-13T16:45:00+00:00",
          "2025-06-13T16:50:00+00:00",
          "2025-06-13T16:55:00+00:00",
          "2025-06-13T17:00:00+00:00",
          "2025-06-13T17:05:00+00:00",
          "2025-06-13T17:10:00+00:00",
          "2025-06-13T17:15:00+00:00",
          "2025-06-13T17:20:00+00:00",
          "2025-06-13T17:25:00+00:00",
          "2025-06-13T17:30:00+00:00",
          "2025-06-13T17:35:00+00:00",
          "2025-06-13T17:40:00+00:00",
          "2025-06-13T17:45:00+00:00",
          "2025-06-13T17:50:00+00:00",
          "2025-06-13T17:55:00+00:00",
          "2025-06-13T18:00:00+00:00",
          "2025-06-13T18:05:00+00:00",
          "2025-06-13T18:10:00+00:00",
          "2025-06-13T18:15:00+00:00",
          "2025-06-13T18:20:00+00:00",
          "2025-06-13T18:25:00+00:00",
          "2025-06-13T18:30:00+00:00",
          "2025-06-13T18:35:00+00:00",
          "2025-06-13T18:40:00+00:00",
          "2025-06-13T18:45:00+00:00",
          "2025-06-13T18:50:00+00:00",
          "2025-06-13T18:55:00+00:00",
          "2025-06-13T19:00:00+00:00",
          "2025-06-13T19:05:00+00:00",
          "2025-06-13T19:10:00+00:00",
          "2025-06-13T19:15:00+00:00",
          "2025-06-13T19:20:00+00:00",
          "2025-06-13T19:25:00+00:00",
          "2025-06-13T19:30:00+00:00",
          "2025-06-13T19:35:00+00:00",
          "2025-06-13T19:40:00+00:00",
          "2025-06-13T19:45:00+00:00",
          "2025-06-13T19:50:00+00:00",
          "2025-06-13T19:55:00+00:00",
          "2025-06-13T20:00:00+00:00",
          "2025-06-13T20:05:00+00:00",
          "2025-06-13T20:10:00+00:00",
          "2025-06-13T20:15:00+00:00",
          "2025-06-13T20:20:00+00:00",
          "2025-06-13T20:25:00+00:00",
          "2025-06-13T20:30:00+00:00",
          "2025-06-13T20:35:00+00:00",
          "2025-06-13T20:40:00+00:00",
          "2025-06-13T20:45:00+00:00",
          "2025-06-13T20:50:00+00:00",
          "2025-06-13T20:55:00+00:00"
         ],
         "y": {
          "bdata": "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",
          "dtype": "f8"
         }
        },
        {
         "hoverinfo": "skip",
         "line": {
          "width": 0
         },
         "mode": "lines",
         "showlegend": false,
         "type": "scatter",
         "x": [
          "2025-06-13T04:20:00+00:00",
          "2025-06-13T04:25:00+00:00",
          "2025-06-13T04:30:00+00:00",
          "2025-06-13T04:35:00+00:00",
          "2025-06-13T04:40:00+00:00",
          "2025-06-13T04:45:00+00:00",
          "2025-06-13T04:50:00+00:00",
          "2025-06-13T04:55:00+00:00",
          "2025-06-13T05:00:00+00:00",
          "2025-06-13T05:05:00+00:00",
          "2025-06-13T05:10:00+00:00",
          "2025-06-13T05:15:00+00:00",
          "2025-06-13T05:20:00+00:00",
          "2025-06-13T05:25:00+00:00",
          "2025-06-13T05:30:00+00:00",
          "2025-06-13T05:35:00+00:00",
          "2025-06-13T05:40:00+00:00",
          "2025-06-13T05:45:00+00:00",
          "2025-06-13T05:50:00+00:00",
          "2025-06-13T05:55:00+00:00",
          "2025-06-13T06:00:00+00:00",
          "2025-06-13T06:05:00+00:00",
          "2025-06-13T06:10:00+00:00",
          "2025-06-13T06:15:00+00:00",
          "2025-06-13T06:20:00+00:00",
          "2025-06-13T06:25:00+00:00",
          "2025-06-13T06:30:00+00:00",
          "2025-06-13T06:35:00+00:00",
          "2025-06-13T06:40:00+00:00",
          "2025-06-13T06:45:00+00:00",
          "2025-06-13T06:50:00+00:00",
          "2025-06-13T06:55:00+00:00",
          "2025-06-13T07:00:00+00:00",
          "2025-06-13T07:05:00+00:00",
          "2025-06-13T07:10:00+00:00",
          "2025-06-13T07:15:00+00:00",
          "2025-06-13T07:20:00+00:00",
          "2025-06-13T07:25:00+00:00",
          "2025-06-13T07:30:00+00:00",
          "2025-06-13T07:35:00+00:00",
          "2025-06-13T07:40:00+00:00",
          "2025-06-13T07:45:00+00:00",
          "2025-06-13T07:50:00+00:00",
          "2025-06-13T07:55:00+00:00",
          "2025-06-13T08:00:00+00:00",
          "2025-06-13T08:05:00+00:00",
          "2025-06-13T08:10:00+00:00",
          "2025-06-13T08:15:00+00:00",
          "2025-06-13T08:20:00+00:00",
          "2025-06-13T08:25:00+00:00",
          "2025-06-13T08:30:00+00:00",
          "2025-06-13T08:35:00+00:00",
          "2025-06-13T08:40:00+00:00",
          "2025-06-13T08:45:00+00:00",
          "2025-06-13T08:50:00+00:00",
          "2025-06-13T08:55:00+00:00",
          "2025-06-13T09:00:00+00:00",
          "2025-06-13T09:05:00+00:00",
          "2025-06-13T09:10:00+00:00",
          "2025-06-13T09:15:00+00:00",
          "2025-06-13T09:20:00+00:00",
          "2025-06-13T09:25:00+00:00",
          "2025-06-13T09:30:00+00:00",
          "2025-06-13T09:35:00+00:00",
          "2025-06-13T09:40:00+00:00",
          "2025-06-13T09:45:00+00:00",
          "2025-06-13T09:50:00+00:00",
          "2025-06-13T09:55:00+00:00",
          "2025-06-13T10:00:00+00:00",
          "2025-06-13T10:05:00+00:00",
          "2025-06-13T10:10:00+00:00",
          "2025-06-13T10:15:00+00:00",
          "2025-06-13T10:20:00+00:00",
          "2025-06-13T10:25:00+00:00",
          "2025-06-13T10:30:00+00:00",
          "2025-06-13T10:35:00+00:00",
          "2025-06-13T10:40:00+00:00",
          "2025-06-13T10:45:00+00:00",
          "2025-06-13T10:50:00+00:00",
          "2025-06-13T10:55:00+00:00",
          "2025-06-13T11:00:00+00:00",
          "2025-06-13T11:05:00+00:00",
          "2025-06-13T11:10:00+00:00",
          "2025-06-13T11:15:00+00:00",
          "2025-06-13T11:20:00+00:00",
          "2025-06-13T11:25:00+00:00",
          "2025-06-13T11:30:00+00:00",
          "2025-06-13T11:35:00+00:00",
          "2025-06-13T11:40:00+00:00",
          "2025-06-13T11:45:00+00:00",
          "2025-06-13T11:50:00+00:00",
          "2025-06-13T11:55:00+00:00",
          "2025-06-13T12:00:00+00:00",
          "2025-06-13T12:05:00+00:00",
          "2025-06-13T12:10:00+00:00",
          "2025-06-13T12:15:00+00:00",
          "2025-06-13T12:20:00+00:00",
          "2025-06-13T12:25:00+00:00",
          "2025-06-13T12:30:00+00:00",
          "2025-06-13T12:35:00+00:00",
          "2025-06-13T12:40:00+00:00",
          "2025-06-13T12:45:00+00:00",
          "2025-06-13T12:50:00+00:00",
          "2025-06-13T12:55:00+00:00",
          "2025-06-13T13:00:00+00:00",
          "2025-06-13T13:05:00+00:00",
          "2025-06-13T13:10:00+00:00",
          "2025-06-13T13:15:00+00:00",
          "2025-06-13T13:20:00+00:00",
          "2025-06-13T13:25:00+00:00",
          "2025-06-13T13:30:00+00:00",
          "2025-06-13T13:35:00+00:00",
          "2025-06-13T13:40:00+00:00",
          "2025-06-13T13:45:00+00:00",
          "2025-06-13T13:50:00+00:00",
          "2025-06-13T13:55:00+00:00",
          "2025-06-13T14:00:00+00:00",
          "2025-06-13T14:05:00+00:00",
          "2025-06-13T14:10:00+00:00",
          "2025-06-13T14:15:00+00:00",
          "2025-06-13T14:20:00+00:00",
          "2025-06-13T14:25:00+00:00",
          "2025-06-13T14:30:00+00:00",
          "2025-06-13T14:35:00+00:00",
          "2025-06-13T14:40:00+00:00",
          "2025-06-13T14:45:00+00:00",
          "2025-06-13T14:50:00+00:00",
          "2025-06-13T14:55:00+00:00",
          "2025-06-13T15:00:00+00:00",
          "2025-06-13T15:05:00+00:00",
          "2025-06-13T15:10:00+00:00",
          "2025-06-13T15:15:00+00:00",
          "2025-06-13T15:20:00+00:00",
          "2025-06-13T15:25:00+00:00",
          "2025-06-13T15:30:00+00:00",
          "2025-06-13T15:35:00+00:00",
          "2025-06-13T15:40:00+00:00",
          "2025-06-13T15:45:00+00:00",
          "2025-06-13T15:50:00+00:00",
          "2025-06-13T15:55:00+00:00",
          "2025-06-13T16:00:00+00:00",
          "2025-06-13T16:05:00+00:00",
          "2025-06-13T16:10:00+00:00",
          "2025-06-13T16:15:00+00:00",
          "2025-06-13T16:20:00+00:00",
          "2025-06-13T16:25:00+00:00",
          "2025-06-13T16:30:00+00:00",
          "2025-06-13T16:35:00+00:00",
          "2025-06-13T16:40:00+00:00",
          "2025-06-13T16:45:00+00:00",
          "2025-06-13T16:50:00+00:00",
          "2025-06-13T16:55:00+00:00",
          "2025-06-13T17:00:00+00:00",
          "2025-06-13T17:05:00+00:00",
          "2025-06-13T17:10:00+00:00",
          "2025-06-13T17:15:00+00:00",
          "2025-06-13T17:20:00+00:00",
          "2025-06-13T17:25:00+00:00",
          "2025-06-13T17:30:00+00:00",
          "2025-06-13T17:35:00+00:00",
          "2025-06-13T17:40:00+00:00",
          "2025-06-13T17:45:00+00:00",
          "2025-06-13T17:50:00+00:00",
          "2025-06-13T17:55:00+00:00",
          "2025-06-13T18:00:00+00:00",
          "2025-06-13T18:05:00+00:00",
          "2025-06-13T18:10:00+00:00",
          "2025-06-13T18:15:00+00:00",
          "2025-06-13T18:20:00+00:00",
          "2025-06-13T18:25:00+00:00",
          "2025-06-13T18:30:00+00:00",
          "2025-06-13T18:35:00+00:00",
          "2025-06-13T18:40:00+00:00",
          "2025-06-13T18:45:00+00:00",
          "2025-06-13T18:50:00+00:00",
          "2025-06-13T18:55:00+00:00",
          "2025-06-13T19:00:00+00:00",
          "2025-06-13T19:05:00+00:00",
          "2025-06-13T19:10:00+00:00",
          "2025-06-13T19:15:00+00:00",
          "2025-06-13T19:20:00+00:00",
          "2025-06-13T19:25:00+00:00",
          "2025-06-13T19:30:00+00:00",
          "2025-06-13T19:35:00+00:00",
          "2025-06-13T19:40:00+00:00",
          "2025-06-13T19:45:00+00:00",
          "2025-06-13T19:50:00+00:00",
          "2025-06-13T19:55:00+00:00",
          "2025-06-13T20:00:00+00:00",
          "2025-06-13T20:05:00+00:00",
          "2025-06-13T20:10:00+00:00",
          "2025-06-13T20:15:00+00:00",
          "2025-06-13T20:20:00+00:00",
          "2025-06-13T20:25:00+00:00",
          "2025-06-13T20:30:00+00:00",
          "2025-06-13T20:35:00+00:00",
          "2025-06-13T20:40:00+00:00",
          "2025-06-13T20:45:00+00:00",
          "2025-06-13T20:50:00+00:00",
          "2025-06-13T20:55:00+00:00"
         ],
         "y": {
          "bdata": "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",
          "dtype": "f8"
         }
        },
        {
         "fill": "tonexty",
         "fillcolor": "rgba(0,100,80,0.1)",
         "hoverinfo": "skip",
         "line": {
          "width": 0
         },
         "mode": "lines",
         "showlegend": false,
         "type": "scatter",
         "x": [
          "2025-06-13T04:20:00+00:00",
          "2025-06-13T04:25:00+00:00",
          "2025-06-13T04:30:00+00:00",
          "2025-06-13T04:35:00+00:00",
          "2025-06-13T04:40:00+00:00",
          "2025-06-13T04:45:00+00:00",
          "2025-06-13T04:50:00+00:00",
          "2025-06-13T04:55:00+00:00",
          "2025-06-13T05:00:00+00:00",
          "2025-06-13T05:05:00+00:00",
          "2025-06-13T05:10:00+00:00",
          "2025-06-13T05:15:00+00:00",
          "2025-06-13T05:20:00+00:00",
          "2025-06-13T05:25:00+00:00",
          "2025-06-13T05:30:00+00:00",
          "2025-06-13T05:35:00+00:00",
          "2025-06-13T05:40:00+00:00",
          "2025-06-13T05:45:00+00:00",
          "2025-06-13T05:50:00+00:00",
          "2025-06-13T05:55:00+00:00",
          "2025-06-13T06:00:00+00:00",
          "2025-06-13T06:05:00+00:00",
          "2025-06-13T06:10:00+00:00",
          "2025-06-13T06:15:00+00:00",
          "2025-06-13T06:20:00+00:00",
          "2025-06-13T06:25:00+00:00",
          "2025-06-13T06:30:00+00:00",
          "2025-06-13T06:35:00+00:00",
          "2025-06-13T06:40:00+00:00",
          "2025-06-13T06:45:00+00:00",
          "2025-06-13T06:50:00+00:00",
          "2025-06-13T06:55:00+00:00",
          "2025-06-13T07:00:00+00:00",
          "2025-06-13T07:05:00+00:00",
          "2025-06-13T07:10:00+00:00",
          "2025-06-13T07:15:00+00:00",
          "2025-06-13T07:20:00+00:00",
          "2025-06-13T07:25:00+00:00",
          "2025-06-13T07:30:00+00:00",
          "2025-06-13T07:35:00+00:00",
          "2025-06-13T07:40:00+00:00",
          "2025-06-13T07:45:00+00:00",
          "2025-06-13T07:50:00+00:00",
          "2025-06-13T07:55:00+00:00",
          "2025-06-13T08:00:00+00:00",
          "2025-06-13T08:05:00+00:00",
          "2025-06-13T08:10:00+00:00",
          "2025-06-13T08:15:00+00:00",
          "2025-06-13T08:20:00+00:00",
          "2025-06-13T08:25:00+00:00",
          "2025-06-13T08:30:00+00:00",
          "2025-06-13T08:35:00+00:00",
          "2025-06-13T08:40:00+00:00",
          "2025-06-13T08:45:00+00:00",
          "2025-06-13T08:50:00+00:00",
          "2025-06-13T08:55:00+00:00",
          "2025-06-13T09:00:00+00:00",
          "2025-06-13T09:05:00+00:00",
          "2025-06-13T09:10:00+00:00",
          "2025-06-13T09:15:00+00:00",
          "2025-06-13T09:20:00+00:00",
          "2025-06-13T09:25:00+00:00",
          "2025-06-13T09:30:00+00:00",
          "2025-06-13T09:35:00+00:00",
          "2025-06-13T09:40:00+00:00",
          "2025-06-13T09:45:00+00:00",
          "2025-06-13T09:50:00+00:00",
          "2025-06-13T09:55:00+00:00",
          "2025-06-13T10:00:00+00:00",
          "2025-06-13T10:05:00+00:00",
          "2025-06-13T10:10:00+00:00",
          "2025-06-13T10:15:00+00:00",
          "2025-06-13T10:20:00+00:00",
          "2025-06-13T10:25:00+00:00",
          "2025-06-13T10:30:00+00:00",
          "2025-06-13T10:35:00+00:00",
          "2025-06-13T10:40:00+00:00",
          "2025-06-13T10:45:00+00:00",
          "2025-06-13T10:50:00+00:00",
          "2025-06-13T10:55:00+00:00",
          "2025-06-13T11:00:00+00:00",
          "2025-06-13T11:05:00+00:00",
          "2025-06-13T11:10:00+00:00",
          "2025-06-13T11:15:00+00:00",
          "2025-06-13T11:20:00+00:00",
          "2025-06-13T11:25:00+00:00",
          "2025-06-13T11:30:00+00:00",
          "2025-06-13T11:35:00+00:00",
          "2025-06-13T11:40:00+00:00",
          "2025-06-13T11:45:00+00:00",
          "2025-06-13T11:50:00+00:00",
          "2025-06-13T11:55:00+00:00",
          "2025-06-13T12:00:00+00:00",
          "2025-06-13T12:05:00+00:00",
          "2025-06-13T12:10:00+00:00",
          "2025-06-13T12:15:00+00:00",
          "2025-06-13T12:20:00+00:00",
          "2025-06-13T12:25:00+00:00",
          "2025-06-13T12:30:00+00:00",
          "2025-06-13T12:35:00+00:00",
          "2025-06-13T12:40:00+00:00",
          "2025-06-13T12:45:00+00:00",
          "2025-06-13T12:50:00+00:00",
          "2025-06-13T12:55:00+00:00",
          "2025-06-13T13:00:00+00:00",
          "2025-06-13T13:05:00+00:00",
          "2025-06-13T13:10:00+00:00",
          "2025-06-13T13:15:00+00:00",
          "2025-06-13T13:20:00+00:00",
          "2025-06-13T13:25:00+00:00",
          "2025-06-13T13:30:00+00:00",
          "2025-06-13T13:35:00+00:00",
          "2025-06-13T13:40:00+00:00",
          "2025-06-13T13:45:00+00:00",
          "2025-06-13T13:50:00+00:00",
          "2025-06-13T13:55:00+00:00",
          "2025-06-13T14:00:00+00:00",
          "2025-06-13T14:05:00+00:00",
          "2025-06-13T14:10:00+00:00",
          "2025-06-13T14:15:00+00:00",
          "2025-06-13T14:20:00+00:00",
          "2025-06-13T14:25:00+00:00",
          "2025-06-13T14:30:00+00:00",
          "2025-06-13T14:35:00+00:00",
          "2025-06-13T14:40:00+00:00",
          "2025-06-13T14:45:00+00:00",
          "2025-06-13T14:50:00+00:00",
          "2025-06-13T14:55:00+00:00",
          "2025-06-13T15:00:00+00:00",
          "2025-06-13T15:05:00+00:00",
          "2025-06-13T15:10:00+00:00",
          "2025-06-13T15:15:00+00:00",
          "2025-06-13T15:20:00+00:00",
          "2025-06-13T15:25:00+00:00",
          "2025-06-13T15:30:00+00:00",
          "2025-06-13T15:35:00+00:00",
          "2025-06-13T15:40:00+00:00",
          "2025-06-13T15:45:00+00:00",
          "2025-06-13T15:50:00+00:00",
          "2025-06-13T15:55:00+00:00",
          "2025-06-13T16:00:00+00:00",
          "2025-06-13T16:05:00+00:00",
          "2025-06-13T16:10:00+00:00",
          "2025-06-13T16:15:00+00:00",
          "2025-06-13T16:20:00+00:00",
          "2025-06-13T16:25:00+00:00",
          "2025-06-13T16:30:00+00:00",
          "2025-06-13T16:35:00+00:00",
          "2025-06-13T16:40:00+00:00",
          "2025-06-13T16:45:00+00:00",
          "2025-06-13T16:50:00+00:00",
          "2025-06-13T16:55:00+00:00",
          "2025-06-13T17:00:00+00:00",
          "2025-06-13T17:05:00+00:00",
          "2025-06-13T17:10:00+00:00",
          "2025-06-13T17:15:00+00:00",
          "2025-06-13T17:20:00+00:00",
          "2025-06-13T17:25:00+00:00",
          "2025-06-13T17:30:00+00:00",
          "2025-06-13T17:35:00+00:00",
          "2025-06-13T17:40:00+00:00",
          "2025-06-13T17:45:00+00:00",
          "2025-06-13T17:50:00+00:00",
          "2025-06-13T17:55:00+00:00",
          "2025-06-13T18:00:00+00:00",
          "2025-06-13T18:05:00+00:00",
          "2025-06-13T18:10:00+00:00",
          "2025-06-13T18:15:00+00:00",
          "2025-06-13T18:20:00+00:00",
          "2025-06-13T18:25:00+00:00",
          "2025-06-13T18:30:00+00:00",
          "2025-06-13T18:35:00+00:00",
          "2025-06-13T18:40:00+00:00",
          "2025-06-13T18:45:00+00:00",
          "2025-06-13T18:50:00+00:00",
          "2025-06-13T18:55:00+00:00",
          "2025-06-13T19:00:00+00:00",
          "2025-06-13T19:05:00+00:00",
          "2025-06-13T19:10:00+00:00",
          "2025-06-13T19:15:00+00:00",
          "2025-06-13T19:20:00+00:00",
          "2025-06-13T19:25:00+00:00",
          "2025-06-13T19:30:00+00:00",
          "2025-06-13T19:35:00+00:00",
          "2025-06-13T19:40:00+00:00",
          "2025-06-13T19:45:00+00:00",
          "2025-06-13T19:50:00+00:00",
          "2025-06-13T19:55:00+00:00",
          "2025-06-13T20:00:00+00:00",
          "2025-06-13T20:05:00+00:00",
          "2025-06-13T20:10:00+00:00",
          "2025-06-13T20:15:00+00:00",
          "2025-06-13T20:20:00+00:00",
          "2025-06-13T20:25:00+00:00",
          "2025-06-13T20:30:00+00:00",
          "2025-06-13T20:35:00+00:00",
          "2025-06-13T20:40:00+00:00",
          "2025-06-13T20:45:00+00:00",
          "2025-06-13T20:50:00+00:00",
          "2025-06-13T20:55:00+00:00"
         ],
         "y": {
          "bdata": "+FxRSNVv8j96gEuZP2/yP6Z+ggjDbvI/3xWBnLdu8j8hsvjjfm7yP6tsPJVdbvI/Y06iVydu8j8UWkd68m3yP/4VtfDtbfI/jH2fT+Rt8j9VIkpi623yP4Jz27vqbfI/PWvuK3Vt8j/1Al05dGzyP7AHzuoQbPI/nwPXuz5s8j+j2GtAe2zyPyap2GOabPI/dnTYHZls8j/lqO4ZmGzyP3f0IhtXbPI/VLT8Wi1s8j+GmWJ0T2zyPxkUD/N/bPI/hUr84Yls8j9puPeKmmzyP7wjj46ybPI/0brJDeFs8j9I2ba23WzyP0Jg6vjhbPI/M9/HwuNs8j+8RRDdtGzyPye6fj66bPI/jcTRpYRt8j826aISRm7yPws0r7aNbvI/bDA9eztv8j8xIrXj2G/yPx9OE/IkcPI/it8PVZZw8j/UGv/9tXDyP5Oi9InHcPI/eCxyOBFx8j/DNKFMQ3HyP194n6dEcfI/5AALMaJx8j/c+9BKwnHyP5Tcfg/WcfI/3lH5NLVy8j8v9HyERHPyP4NK1KCec/I/5jtYB7Vy8j+zTvkZl3HyP9r2XtYmcfI/9qJE6u9w8j9I7kAKWnDyP7K+z7rnb/I/iTJyZMxv8j/1HV8Pw2/yP/O5i6UgcPI/I6sblCtw8j/RMkFOQHDyP25Y7iL5b/I/o/7tWZtv8j/B8A1zyW7yP9Rkt3MhbvI/YSqNQB1u8j+lsLyGw23yP6ED7/kfbvI/Cdmt0phu8j9IO3l+wm7yP9DJi9YYbvI/ARcKMxht8j+BQ09SdmzyP2WH1rzNa/I/DrU4ekFq8j+DDs9+qGnyPx4pGHzQZvI/ka98uKNl8j9xrOSREmXyP0DCCdNOZPI/1umje+9i8j9ixIngF2LyP8qfqjYyYfI/OBjJPJZg8j9UHZagIWDyP1iHJUUmYPI/J9sTMUFg8j9ntJmQv2DyPyPq4mENYfI/8M596W1h8j+8y1nTwWHyP/0DFcLZYfI/TVl2oAdi8j8ld9XJ/GHyP4dwOvfqYfI/41gf2tth8j/ewyWOdmLyP/jHbXlTYvI/VXGw4/lh8j95pKhFAWLyP6ATCNHfYvI/bEfQi4lj8j8P71PmlmTyP52PYXZuZfI/E++/mytm8j/jwSq2oWbyPxz9XVfkZvI/YUBex/Zm8j81/N6YUGfyP73SoJHdZ/I/fZ2xJv1n8j+HioSLDmjyP0y8pPoaaPI/lK3DtwZo8j9QMRsJ92fyPz+894PGZ/I/QwrqRG9n8j9vZg2NTWbyPwNEGprnZfI/fJKPBihl8j9VX3FSgmTyPxlShuBsZPI/8Im9xXdk8j/X2i+7u2TyP+7PcAR1ZfI/gOSW3lBm8j9GWhupJGfyPz87McQvaPI/sVe7qcpp8j9dhU6kyGvyP4Ag9aKVbPI/EqFu8m9t8j9VJv/hIG7yP45hxZcCb/I/i5jPN8hv8j9rVte7xHDyP0tN4hC/cfI/ya3fGBhy8j+V4yAt7nLyP8nTndNKc/I/gBRNzYdz8j8NyOwgLnTyPxJX9OvldPI/MLbHptJ18j9eAl0PAnfyP787KofPd/I/QKkpwJV48j/I3WOblXnyPxuWQm/eevI/CeW4cBN88j8J5bhwE3zyP+J/xFW0e/I/2KMhKQ578j+VjVOUYHryP6mfORaZefI/T28zEpp48j+rDjdC93fyPxFD4I5Kd/I/Dq5IW0V28j8q57mmPHXyP0DRyMZydPI/rfH7Pld08j/UT9uMUXTyPyQNZ09OdPI/yp9jA2B08j+jAFenuXTyP+B+97EjdfI/vcyur3x18j/nufVldnXyP2rfACW6dfI/KOV8rpp18j/xGDzZLnXyPxvUc7Q5dfI/7cm7QTl18j+uowITGnXyPyc30+jmdPI/8JHxZ6508j+1dV5jmnTyP7GS0GSodPI/E59ZiLV08j/jehYCvHTyP2zWv5vKdPI/yTD6l+J08j+5FRrW8XTyP6t7TlsLdfI/LQCwZx918j9if4OI8XTyP43GiKYCdfI/jcaIpgJ18j/whgKADnXyPwy6/ospdfI/IC9s/pZ18j+x1t9bk3XyP3nGYaV9dfI/4IieU3l18j/b46hYWnXyP4kV7kBvdfI/8H0sqYB18j/jVgqMg3XyPw==",
          "dtype": "f8"
         }
        }
       ],
       "layout": {
        "height": 600,
        "template": {
         "data": {
          "bar": [
           {
            "error_x": {
             "color": "#2a3f5f"
            },
            "error_y": {
             "color": "#2a3f5f"
            },
            "marker": {
             "line": {
              "color": "#E5ECF6",
              "width": 0.5
             },
             "pattern": {
              "fillmode": "overlay",
              "size": 10,
              "solidity": 0.2
             }
            },
            "type": "bar"
           }
          ],
          "barpolar": [
           {
            "marker": {
             "line": {
              "color": "#E5ECF6",
              "width": 0.5
             },
             "pattern": {
              "fillmode": "overlay",
              "size": 10,
              "solidity": 0.2
             }
            },
            "type": "barpolar"
           }
          ],
          "carpet": [
           {
            "aaxis": {
             "endlinecolor": "#2a3f5f",
             "gridcolor": "white",
             "linecolor": "white",
             "minorgridcolor": "white",
             "startlinecolor": "#2a3f5f"
            },
            "baxis": {
             "endlinecolor": "#2a3f5f",
             "gridcolor": "white",
             "linecolor": "white",
             "minorgridcolor": "white",
             "startlinecolor": "#2a3f5f"
            },
            "type": "carpet"
           }
          ],
          "choropleth": [
           {
            "colorbar": {
             "outlinewidth": 0,
             "ticks": ""
            },
            "type": "choropleth"
           }
          ],
          "contour": [
           {
            "colorbar": {
             "outlinewidth": 0,
             "ticks": ""
            },
            "colorscale": [
             [
              0,
              "#0d0887"
             ],
             [
              0.1111111111111111,
              "#46039f"
             ],
             [
              0.2222222222222222,
              "#7201a8"
             ],
             [
              0.3333333333333333,
              "#9c179e"
             ],
             [
              0.4444444444444444,
              "#bd3786"
             ],
             [
              0.5555555555555556,
              "#d8576b"
             ],
             [
              0.6666666666666666,
              "#ed7953"
             ],
             [
              0.7777777777777778,
              "#fb9f3a"
             ],
             [
              0.8888888888888888,
              "#fdca26"
             ],
             [
              1,
              "#f0f921"
             ]
            ],
            "type": "contour"
           }
          ],
          "contourcarpet": [
           {
            "colorbar": {
             "outlinewidth": 0,
             "ticks": ""
            },
            "type": "contourcarpet"
           }
          ],
          "heatmap": [
           {
            "colorbar": {
             "outlinewidth": 0,
             "ticks": ""
            },
            "colorscale": [
             [
              0,
              "#0d0887"
             ],
             [
              0.1111111111111111,
              "#46039f"
             ],
             [
              0.2222222222222222,
              "#7201a8"
             ],
             [
              0.3333333333333333,
              "#9c179e"
             ],
             [
              0.4444444444444444,
              "#bd3786"
             ],
             [
              0.5555555555555556,
              "#d8576b"
             ],
             [
              0.6666666666666666,
              "#ed7953"
             ],
             [
              0.7777777777777778,
              "#fb9f3a"
             ],
             [
              0.8888888888888888,
              "#fdca26"
             ],
             [
              1,
              "#f0f921"
             ]
            ],
            "type": "heatmap"
           }
          ],
          "histogram": [
           {
            "marker": {
             "pattern": {
              "fillmode": "overlay",
              "size": 10,
              "solidity": 0.2
             }
            },
            "type": "histogram"
           }
          ],
          "histogram2d": [
           {
            "colorbar": {
             "outlinewidth": 0,
             "ticks": ""
            },
            "colorscale": [
             [
              0,
              "#0d0887"
             ],
             [
              0.1111111111111111,
              "#46039f"
             ],
             [
              0.2222222222222222,
              "#7201a8"
             ],
             [
              0.3333333333333333,
              "#9c179e"
             ],
             [
              0.4444444444444444,
              "#bd3786"
             ],
             [
              0.5555555555555556,
              "#d8576b"
             ],
             [
              0.6666666666666666,
              "#ed7953"
             ],
             [
              0.7777777777777778,
              "#fb9f3a"
             ],
             [
              0.8888888888888888,
              "#fdca26"
             ],
             [
              1,
              "#f0f921"
             ]
            ],
            "type": "histogram2d"
           }
          ],
          "histogram2dcontour": [
           {
            "colorbar": {
             "outlinewidth": 0,
             "ticks": ""
            },
            "colorscale": [
             [
              0,
              "#0d0887"
             ],
             [
              0.1111111111111111,
              "#46039f"
             ],
             [
              0.2222222222222222,
              "#7201a8"
             ],
             [
              0.3333333333333333,
              "#9c179e"
             ],
             [
              0.4444444444444444,
              "#bd3786"
             ],
             [
              0.5555555555555556,
              "#d8576b"
             ],
             [
              0.6666666666666666,
              "#ed7953"
             ],
             [
              0.7777777777777778,
              "#fb9f3a"
             ],
             [
              0.8888888888888888,
              "#fdca26"
             ],
             [
              1,
              "#f0f921"
             ]
            ],
            "type": "histogram2dcontour"
           }
          ],
          "mesh3d": [
           {
            "colorbar": {
             "outlinewidth": 0,
             "ticks": ""
            },
            "type": "mesh3d"
           }
          ],
          "parcoords": [
           {
            "line": {
             "colorbar": {
              "outlinewidth": 0,
              "ticks": ""
             }
            },
            "type": "parcoords"
           }
          ],
          "pie": [
           {
            "automargin": true,
            "type": "pie"
           }
          ],
          "scatter": [
           {
            "fillpattern": {
             "fillmode": "overlay",
             "size": 10,
             "solidity": 0.2
            },
            "type": "scatter"
           }
          ],
          "scatter3d": [
           {
            "line": {
             "colorbar": {
              "outlinewidth": 0,
              "ticks": ""
             }
            },
            "marker": {
             "colorbar": {
              "outlinewidth": 0,
              "ticks": ""
             }
            },
            "type": "scatter3d"
           }
          ],
          "scattercarpet": [
           {
            "marker": {
             "colorbar": {
              "outlinewidth": 0,
              "ticks": ""
             }
            },
            "type": "scattercarpet"
           }
          ],
          "scattergeo": [
           {
            "marker": {
             "colorbar": {
              "outlinewidth": 0,
              "ticks": ""
             }
            },
            "type": "scattergeo"
           }
          ],
          "scattergl": [
           {
            "marker": {
             "colorbar": {
              "outlinewidth": 0,
              "ticks": ""
             }
            },
            "type": "scattergl"
           }
          ],
          "scattermap": [
           {
            "marker": {
             "colorbar": {
              "outlinewidth": 0,
              "ticks": ""
             }
            },
            "type": "scattermap"
           }
          ],
          "scattermapbox": [
           {
            "marker": {
             "colorbar": {
              "outlinewidth": 0,
              "ticks": ""
             }
            },
            "type": "scattermapbox"
           }
          ],
          "scatterpolar": [
           {
            "marker": {
             "colorbar": {
              "outlinewidth": 0,
              "ticks": ""
             }
            },
            "type": "scatterpolar"
           }
          ],
          "scatterpolargl": [
           {
            "marker": {
             "colorbar": {
              "outlinewidth": 0,
              "ticks": ""
             }
            },
            "type": "scatterpolargl"
           }
          ],
          "scatterternary": [
           {
            "marker": {
             "colorbar": {
              "outlinewidth": 0,
              "ticks": ""
             }
            },
            "type": "scatterternary"
           }
          ],
          "surface": [
           {
            "colorbar": {
             "outlinewidth": 0,
             "ticks": ""
            },
            "colorscale": [
             [
              0,
              "#0d0887"
             ],
             [
              0.1111111111111111,
              "#46039f"
             ],
             [
              0.2222222222222222,
              "#7201a8"
             ],
             [
              0.3333333333333333,
              "#9c179e"
             ],
             [
              0.4444444444444444,
              "#bd3786"
             ],
             [
              0.5555555555555556,
              "#d8576b"
             ],
             [
              0.6666666666666666,
              "#ed7953"
             ],
             [
              0.7777777777777778,
              "#fb9f3a"
             ],
             [
              0.8888888888888888,
              "#fdca26"
             ],
             [
              1,
              "#f0f921"
             ]
            ],
            "type": "surface"
           }
          ],
          "table": [
           {
            "cells": {
             "fill": {
              "color": "#EBF0F8"
             },
             "line": {
              "color": "white"
             }
            },
            "header": {
             "fill": {
              "color": "#C8D4E3"
             },
             "line": {
              "color": "white"
             }
            },
            "type": "table"
           }
          ]
         },
         "layout": {
          "annotationdefaults": {
           "arrowcolor": "#2a3f5f",
           "arrowhead": 0,
           "arrowwidth": 1
          },
          "autotypenumbers": "strict",
          "coloraxis": {
           "colorbar": {
            "outlinewidth": 0,
            "ticks": ""
           }
          },
          "colorscale": {
           "diverging": [
            [
             0,
             "#8e0152"
            ],
            [
             0.1,
             "#c51b7d"
            ],
            [
             0.2,
             "#de77ae"
            ],
            [
             0.3,
             "#f1b6da"
            ],
            [
             0.4,
             "#fde0ef"
            ],
            [
             0.5,
             "#f7f7f7"
            ],
            [
             0.6,
             "#e6f5d0"
            ],
            [
             0.7,
             "#b8e186"
            ],
            [
             0.8,
             "#7fbc41"
            ],
            [
             0.9,
             "#4d9221"
            ],
            [
             1,
             "#276419"
            ]
           ],
           "sequential": [
            [
             0,
             "#0d0887"
            ],
            [
             0.1111111111111111,
             "#46039f"
            ],
            [
             0.2222222222222222,
             "#7201a8"
            ],
            [
             0.3333333333333333,
             "#9c179e"
            ],
            [
             0.4444444444444444,
             "#bd3786"
            ],
            [
             0.5555555555555556,
             "#d8576b"
            ],
            [
             0.6666666666666666,
             "#ed7953"
            ],
            [
             0.7777777777777778,
             "#fb9f3a"
            ],
            [
             0.8888888888888888,
             "#fdca26"
            ],
            [
             1,
             "#f0f921"
            ]
           ],
           "sequentialminus": [
            [
             0,
             "#0d0887"
            ],
            [
             0.1111111111111111,
             "#46039f"
            ],
            [
             0.2222222222222222,
             "#7201a8"
            ],
            [
             0.3333333333333333,
             "#9c179e"
            ],
            [
             0.4444444444444444,
             "#bd3786"
            ],
            [
             0.5555555555555556,
             "#d8576b"
            ],
            [
             0.6666666666666666,
             "#ed7953"
            ],
            [
             0.7777777777777778,
             "#fb9f3a"
            ],
            [
             0.8888888888888888,
             "#fdca26"
            ],
            [
             1,
             "#f0f921"
            ]
           ]
          },
          "colorway": [
           "#636efa",
           "#EF553B",
           "#00cc96",
           "#ab63fa",
           "#FFA15A",
           "#19d3f3",
           "#FF6692",
           "#B6E880",
           "#FF97FF",
           "#FECB52"
          ],
          "font": {
           "color": "#2a3f5f"
          },
          "geo": {
           "bgcolor": "white",
           "lakecolor": "white",
           "landcolor": "#E5ECF6",
           "showlakes": true,
           "showland": true,
           "subunitcolor": "white"
          },
          "hoverlabel": {
           "align": "left"
          },
          "hovermode": "closest",
          "mapbox": {
           "style": "light"
          },
          "paper_bgcolor": "white",
          "plot_bgcolor": "#E5ECF6",
          "polar": {
           "angularaxis": {
            "gridcolor": "white",
            "linecolor": "white",
            "ticks": ""
           },
           "bgcolor": "#E5ECF6",
           "radialaxis": {
            "gridcolor": "white",
            "linecolor": "white",
            "ticks": ""
           }
          },
          "scene": {
           "xaxis": {
            "backgroundcolor": "#E5ECF6",
            "gridcolor": "white",
            "gridwidth": 2,
            "linecolor": "white",
            "showbackground": true,
            "ticks": "",
            "zerolinecolor": "white"
           },
           "yaxis": {
            "backgroundcolor": "#E5ECF6",
            "gridcolor": "white",
            "gridwidth": 2,
            "linecolor": "white",
            "showbackground": true,
            "ticks": "",
            "zerolinecolor": "white"
           },
           "zaxis": {
            "backgroundcolor": "#E5ECF6",
            "gridcolor": "white",
            "gridwidth": 2,
            "linecolor": "white",
            "showbackground": true,
            "ticks": "",
            "zerolinecolor": "white"
           }
          },
          "shapedefaults": {
           "line": {
            "color": "#2a3f5f"
           }
          },
          "ternary": {
           "aaxis": {
            "gridcolor": "white",
            "linecolor": "white",
            "ticks": ""
           },
           "baxis": {
            "gridcolor": "white",
            "linecolor": "white",
            "ticks": ""
           },
           "bgcolor": "#E5ECF6",
           "caxis": {
            "gridcolor": "white",
            "linecolor": "white",
            "ticks": ""
           }
          },
          "title": {
           "x": 0.05
          },
          "xaxis": {
           "automargin": true,
           "gridcolor": "white",
           "linecolor": "white",
           "ticks": "",
           "title": {
            "standoff": 15
           },
           "zerolinecolor": "white",
           "zerolinewidth": 2
          },
          "yaxis": {
           "automargin": true,
           "gridcolor": "white",
           "linecolor": "white",
           "ticks": "",
           "title": {
            "standoff": 15
           },
           "zerolinecolor": "white",
           "zerolinewidth": 2
          }
         }
        },
        "title": {
         "text": "Bollinger Bands (last 200 candles)"
        },
        "xaxis": {
         "rangeslider": {
          "visible": false
         },
         "title": {
          "text": "Time"
         }
        },
        "yaxis": {
         "title": {
          "text": "Price"
         }
        }
       }
      }
     },
     "metadata": {},
     "output_type": "display_data"
    }
   ],
   "source": [
    "import pandas as pd\n",
    "df = pd.read_csv('hist_data/EURUSD_5min_data.csv', parse_dates=['dt'])\n",
    "print(df.shape)\n",
    "df = df.drop_duplicates(subset='dt')\n",
    "print(df.shape)\n",
    "df = add_bollinger_bands(df)\n",
    "\n",
    "df.set_index('dt', inplace=True)\n",
    "\n",
    "plot_bollinger_bands(df)"
   ]
  },
  {
   "cell_type": "code",
   "execution_count": 149,
   "id": "e5eaa712",
   "metadata": {},
   "outputs": [
    {
     "name": "stdout",
     "output_type": "stream",
     "text": [
      "--- Creating Dataset: EMA Pullback (100/20), Capped ATR SL ---\n",
      "Created 49 training samples.\n",
      "Win Rate (target=1): 51.02%\n",
      "Overall Expectancy (incl. costs): 1.6959 pips/trade\n"
     ]
    }
   ],
   "source": [
    "import pandas as pd\n",
    "import numpy as np\n",
    "import ta\n",
    "from scipy.signal import find_peaks\n",
    "\n",
    "def add_technical_indicators(df: pd.DataFrame) -> pd.DataFrame:\n",
    "    \"\"\"Adds a suite of technical indicators for the ML model.\"\"\"\n",
    "    df = df.copy()\n",
    "    # --- NEW EMAs for Pullback Strategy ---\n",
    "    df['ema_40'] = ta.trend.EMAIndicator(close=df['close'], window=40).ema_indicator()\n",
    "    df['ema_100'] = ta.trend.EMAIndicator(close=df['close'], window=100).ema_indicator()\n",
    "    # ATR for dynamic SL\n",
    "    df['atr'] = ta.volatility.AverageTrueRange(high=df['high'], low=df['low'], close=df['close'], window=14).average_true_range()\n",
    "    # Stochastics\n",
    "    stoch = ta.momentum.StochasticOscillator(high=df['high'], low=df['low'], close=df['close'], window=14, smooth_window=3)\n",
    "    df['stoch_k'] = stoch.stoch()\n",
    "    # Other standard indicators\n",
    "    df['rsi'] = ta.momentum.RSIIndicator(close=df['close'], window=14).rsi()\n",
    "    adx = ta.trend.ADXIndicator(high=df['high'], low=df['low'], close=df['close'], window=14)\n",
    "    df['adx'] = adx.adx()\n",
    "    macd = ta.trend.MACD(close=df['close'])\n",
    "    df['macd'] = macd.macd()\n",
    "    df['macd_signal'] = macd.macd_signal()\n",
    "    df['hour'] = df.index.hour\n",
    "    df['day_of_week'] = df.index.dayofweek\n",
    "    return df\n",
    "\n",
    "def find_pivot_points(df: pd.DataFrame, lookback: int, prominence_pips: int, pip_size: float) -> pd.DataFrame:\n",
    "    \"\"\"\n",
    "    Identifies pivot highs and lows using scipy.signal.find_peaks.\n",
    "    A pivot is lagged by 'lookback' bars to prevent lookahead bias.\n",
    "    \"\"\"\n",
    "    prominence_price = prominence_pips * pip_size\n",
    "    high_peaks_indices, _ = find_peaks(df['high'], distance=lookback, prominence=prominence_price)\n",
    "    low_peaks_indices, _ = find_peaks(-df['low'], distance=lookback, prominence=prominence_price)\n",
    "    \n",
    "    df['pivot_high_raw'] = np.nan\n",
    "    df['pivot_low_raw'] = np.nan\n",
    "    df.iloc[high_peaks_indices, df.columns.get_loc('pivot_high_raw')] = df.iloc[high_peaks_indices]['high']\n",
    "    df.iloc[low_peaks_indices, df.columns.get_loc('pivot_low_raw')] = df.iloc[low_peaks_indices]['low']\n",
    "    \n",
    "    df['pivot_high'] = df['pivot_high_raw'].shift(lookback)\n",
    "    df['pivot_low'] = df['pivot_low_raw'].shift(lookback)\n",
    "    \n",
    "    df = df.drop(columns=['pivot_high_raw', 'pivot_low_raw'])\n",
    "    \n",
    "    return df\n",
    "\n",
    "def create_ml_dataset(df: pd.DataFrame,\n",
    "                      atr_multiplier_sl: float,\n",
    "                      rr_ratio: float,\n",
    "                      min_sl_pips: float,\n",
    "                      max_sl_pips: float,\n",
    "                      slippage_pips: float,\n",
    "                      spread_cost_pips: float,\n",
    "                      pip_size: float = 0.0001) -> pd.DataFrame:\n",
    "    \"\"\"\n",
    "    Creates a dataset based on a pullback to the 20 EMA within a 100 EMA trend.\n",
    "    \"\"\"\n",
    "    print(f\"--- Creating Dataset: EMA Pullback (100/20), Capped ATR SL ---\")\n",
    "\n",
    "    df_tech = add_technical_indicators(df.copy())\n",
    "    df_pivots = find_pivot_points(df_tech, lookback=5, prominence_pips=5, pip_size=pip_size)\n",
    "\n",
    "    # --- 1. Primary Trend Conditions ---\n",
    "    # Uptrend: Higher pivot lows AND price is above the long-term EMA\n",
    "    df_pivots['last_pl_val'] = df_pivots['pivot_low'].ffill()\n",
    "    df_pivots['prev_pl_val'] = df_pivots['last_pl_val'].where(df_pivots['pivot_low'].notna()).ffill().shift()\n",
    "    is_primary_uptrend = (df_pivots['last_pl_val'] > df_pivots['prev_pl_val']) & \\\n",
    "                         (df_pivots['close'] > df_pivots['ema_100'])\n",
    "    \n",
    "    # Downtrend: Lower pivot highs AND price is below the long-term EMA\n",
    "    df_pivots['last_ph_val'] = df_pivots['pivot_high'].ffill()\n",
    "    df_pivots['prev_ph_val'] = df_pivots['last_ph_val'].where(df_pivots['pivot_high'].notna()).ffill().shift()\n",
    "    is_primary_downtrend = (df_pivots['last_ph_val'] < df_pivots['prev_ph_val']) & \\\n",
    "                           (df_pivots['close'] < df_pivots['ema_100'])\n",
    "\n",
    "    # --- 2. Pullback Entry Trigger ---\n",
    "    # Buy Pullback: Price closes below the short-term EMA, after being above it on the previous candle.\n",
    "    buy_pullback_signal = (df_pivots['close'] < df_pivots['ema_40']) & \\\n",
    "                          (df_pivots['close'].shift(1) > df_pivots['ema_40'].shift(1))\n",
    "\n",
    "    # Sell Pullback: Price closes above the short-term EMA, after being below it on the previous candle.\n",
    "    sell_pullback_signal = (df_pivots['close'] > df_pivots['ema_40']) & \\\n",
    "                           (df_pivots['close'].shift(1) < df_pivots['ema_40'].shift(1))\n",
    "\n",
    "    # --- 3. Combine All Conditions for Final Signal ---\n",
    "    final_buy_signals = is_primary_uptrend & buy_pullback_signal\n",
    "    final_sell_signals = is_primary_downtrend & sell_pullback_signal\n",
    "    all_signals = final_buy_signals | final_sell_signals\n",
    "\n",
    "    # --- 4. Process Trades (Risk management logic is unchanged) ---\n",
    "    ml_data = []\n",
    "    loop_indices_iloc = np.where(all_signals.to_numpy())[0]\n",
    "    \n",
    "    slippage_price = slippage_pips * pip_size\n",
    "    spread_cost_price = spread_cost_pips * pip_size\n",
    "    min_sl_price = min_sl_pips * pip_size\n",
    "    max_sl_price = max_sl_pips * pip_size\n",
    "\n",
    "    for row_iloc in loop_indices_iloc:\n",
    "        if row_iloc < 1 or row_iloc >= len(df_pivots) - 50: continue\n",
    "        \n",
    "        signal_candle = df_pivots.iloc[row_iloc]\n",
    "        entry_candle = df_pivots.iloc[row_iloc + 1]\n",
    "        \n",
    "        entry_price = entry_candle['open']\n",
    "        is_buy_signal = final_buy_signals.iloc[row_iloc]\n",
    "        \n",
    "        atr_val = signal_candle['atr']\n",
    "        if pd.isna(atr_val) or atr_val == 0: continue\n",
    "        \n",
    "        sl_dist_price = atr_val * atr_multiplier_sl\n",
    "        sl_dist_price = np.clip(sl_dist_price, min_sl_price, max_sl_price)\n",
    "        \n",
    "        if is_buy_signal:\n",
    "            sl_price = entry_price - sl_dist_price\n",
    "            risk_price = entry_price - sl_price\n",
    "            tp_price = entry_price + (risk_price * rr_ratio)\n",
    "        else:\n",
    "            sl_price = entry_price + sl_dist_price\n",
    "            risk_price = sl_price - entry_price\n",
    "            tp_price = entry_price - (risk_price * rr_ratio)\n",
    "            \n",
    "        if risk_price <= (pip_size * 2): continue\n",
    "\n",
    "        target, pnl, outcome_determined = np.nan, np.nan, False\n",
    "        dt_of_exit, exit_price_val = pd.NaT, np.nan\n",
    "        \n",
    "        for k in range(row_iloc + 1, row_iloc + 50):\n",
    "            if k >= len(df_pivots): break\n",
    "            future_candle = df_pivots.iloc[k]\n",
    "            \n",
    "            if is_buy_signal:\n",
    "                if future_candle['low'] <= sl_price:\n",
    "                    target=0; pnl=-risk_price-slippage_price-spread_cost_price; outcome_determined=True; dt_of_exit=future_candle.name; exit_price_val=sl_price; break\n",
    "                if future_candle['high'] >= tp_price:\n",
    "                    target=1; pnl=(risk_price*rr_ratio)-spread_cost_price; outcome_determined=True; dt_of_exit=future_candle.name; exit_price_val=tp_price; break\n",
    "            else:\n",
    "                if future_candle['high'] >= sl_price:\n",
    "                    target=0; pnl=-risk_price-slippage_price-spread_cost_price; outcome_determined=True; dt_of_exit=future_candle.name; exit_price_val=sl_price; break\n",
    "                if future_candle['low'] <= tp_price:\n",
    "                    target=1; pnl=(risk_price*rr_ratio)-spread_cost_price; outcome_determined=True; dt_of_exit=future_candle.name; exit_price_val=tp_price; break\n",
    "        \n",
    "        if not outcome_determined: continue\n",
    "        \n",
    "        features_to_exclude = {col for col in signal_candle.index if 'pivot' in col or 'last_' in col or 'prev_' in col or 'ema_50' in col}\n",
    "        features = {k: v for k, v in signal_candle.to_dict().items() if k not in features_to_exclude}\n",
    "\n",
    "        features.update({\n",
    "            'dt_of_break': signal_candle.name,\n",
    "            'dt_of_entry': entry_candle.name,\n",
    "            'entry_price': entry_price,\n",
    "            'target': target,\n",
    "            'pnl': pnl,\n",
    "            'break_type': 1 if is_buy_signal else 0,\n",
    "            'dt_of_exit': dt_of_exit,\n",
    "            'exit_price': exit_price_val,\n",
    "            'tp_price': tp_price,\n",
    "            'sl_price': sl_price,\n",
    "        })\n",
    "        ml_data.append(features)\n",
    "\n",
    "    if not ml_data:\n",
    "        print(\"No training samples generated after processing.\")\n",
    "        return pd.DataFrame()\n",
    "        \n",
    "    ml_df = pd.DataFrame(ml_data)\n",
    "    ml_df = ml_df.drop_duplicates(subset='dt_of_break', keep='first')\n",
    "    ml_df = ml_df.dropna(subset=[col for col in ml_df.columns if col not in ['dt_of_break', 'volume_ratio', 'dt_of_exit']])\n",
    "    \n",
    "    if ml_df.empty:\n",
    "        print(\"No training samples generated after dropna.\")\n",
    "        return ml_df\n",
    "\n",
    "    ml_df['pnl'] = (ml_df['pnl'] / pip_size).astype(float)\n",
    "    ml_df['target'] = ml_df['target'].astype(int)\n",
    "    \n",
    "    ml_df = ml_df.set_index('dt_of_break')\n",
    "    \n",
    "    print(f\"Created {len(ml_df)} training samples.\")\n",
    "    if len(ml_df) > 0:\n",
    "        print(f\"Win Rate (target=1): {ml_df['target'].mean():.2%}\")\n",
    "        print(f\"Overall Expectancy (incl. costs): {ml_df['pnl'].mean():.4f} pips/trade\")\n",
    "    \n",
    "    return ml_df\n",
    "\n",
    "# --- USAGE EXAMPLE ---\n",
    "orig_dataset = create_ml_dataset(\n",
    "    df, \n",
    "    atr_multiplier_sl=2.0, \n",
    "    rr_ratio=1.5,\n",
    "    min_sl_pips=10.0,\n",
    "    max_sl_pips=25.0,\n",
    "    slippage_pips=0.5, \n",
    "    spread_cost_pips=1.0\n",
    ")"
   ]
  },
  {
   "cell_type": "code",
   "execution_count": 150,
   "id": "a90489f0",
   "metadata": {},
   "outputs": [
    {
     "name": "stdout",
     "output_type": "stream",
     "text": [
      "\n",
      "--- Starting Walk-Forward Validation with 5 Splits ---\n",
      "\n",
      "--- Fold 1/5 ---\n",
      "Train: 9 samples (2024-08-05 to 2024-11-14)\n",
      "Test:  8 samples (2024-11-25 to 2024-12-16)\n",
      "Fold Precision: 62.50%\n",
      "Fold Strategy PnL: 30.42 pips\n",
      "\n",
      "--- Fold 2/5 ---\n",
      "Train: 17 samples (2024-08-05 to 2024-12-16)\n",
      "Test:  8 samples (2024-12-19 to 2025-01-14)\n",
      "Fold Precision: 50.00%\n",
      "Fold Strategy PnL: 14.81 pips\n",
      "\n",
      "--- Fold 3/5 ---\n",
      "Train: 25 samples (2024-08-05 to 2025-01-14)\n",
      "Test:  8 samples (2025-01-16 to 2025-03-06)\n",
      "Fold Precision: 37.50%\n",
      "Fold Strategy PnL: -13.31 pips\n",
      "\n",
      "--- Fold 4/5 ---\n",
      "Train: 33 samples (2024-08-05 to 2025-03-06)\n",
      "Test:  8 samples (2025-03-31 to 2025-05-19)\n",
      "Fold Precision: 62.50%\n",
      "Fold Strategy PnL: 51.53 pips\n",
      "\n",
      "--- Fold 5/5 ---\n",
      "Train: 41 samples (2024-08-05 to 2025-05-19)\n",
      "Test:  8 samples (2025-05-23 to 2025-06-12)\n",
      "Fold Precision: 40.00%\n",
      "Fold Strategy PnL: -9.21 pips\n",
      "\n",
      "\n",
      "==================================================\n",
      "VALIDATION SUMMARY\n",
      "==================================================\n",
      "Total Strategy PnL: 74.23 pips\n",
      "Average PnL per fold: 14.85 pips\n",
      "Overall Precision: 51.35%\n"
     ]
    },
    {
     "data": {
      "image/png": "[encoded data removed]",
      "text/plain": [
       "<Figure size 1200x600 with 1 Axes>"
      ]
     },
     "metadata": {},
     "output_type": "display_data"
    },
    {
     "data": {
      "image/png": "[encoded data removed]",
      "text/plain": [
       "<Figure size 800x600 with 2 Axes>"
      ]
     },
     "metadata": {},
     "output_type": "display_data"
    }
   ],
   "source": [
    "import lightgbm as lgb\n",
    "from sklearn.model_selection import TimeSeriesSplit\n",
    "from sklearn.metrics import confusion_matrix, accuracy_score, precision_score\n",
    "import seaborn as sns\n",
    "import matplotlib.pyplot as plt\n",
    "import numpy as np\n",
    "import pandas as pd\n",
    "import warnings\n",
    "warnings.filterwarnings(\"ignore\")\n",
    "\n",
    "# --- 1. Prepare Data ---\n",
    "ml_dataset = orig_dataset.copy()#.set_index('dt_of_break').sort_index()\n",
    "\n",
    "# Now that 'dt_of_break' is the index, it won't be in the columns to drop.\n",
    "X = ml_dataset.drop(['dt_of_exit', 'exit_price', 'tp_price', 'sl_price', 'break_type', 'pnl', 'target','dt_of_entry', 'entry_price'], axis=1)\n",
    "# X = ml_dataset.drop(['break_type', 'pnl', 'target'], axis=1)\n",
    "y = ml_dataset['target']\n",
    "pnl = ml_dataset['pnl']\n",
    "X.columns = [str(col) for col in X.columns]\n",
    "\n",
    "# --- 2. Set up and Run Walk-Forward Cross-Validation ---\n",
    "n_splits = 5\n",
    "tscv = TimeSeriesSplit(n_splits=n_splits)\n",
    "\n",
    "print(f\"\\n--- Starting Walk-Forward Validation with {n_splits} Splits ---\")\n",
    "\n",
    "all_y_test, all_y_pred, fold_pnl = [], [], []\n",
    "equity_curve_pnl = []\n",
    "\n",
    "for fold, (train_index, test_index) in enumerate(tscv.split(X)):\n",
    "    X_train, X_test = X.iloc[train_index], X.iloc[test_index]\n",
    "    y_train, y_test = y.iloc[train_index], y.iloc[test_index]\n",
    "    pnl_test = pnl.iloc[test_index]\n",
    "    \n",
    "    print(f\"\\n--- Fold {fold + 1}/{n_splits} ---\")\n",
    "    # This print statement will now work correctly\n",
    "    print(f\"Train: {len(X_train)} samples ({X_train.index.min().date()} to {X_train.index.max().date()})\")\n",
    "    print(f\"Test:  {len(X_test)} samples ({X_test.index.min().date()} to {X_test.index.max().date()})\")\n",
    "\n",
    "    lgbm = lgb.LGBMClassifier(objective='binary', metric='binary_logloss', random_state=42, verbose=-1)\n",
    "    lgbm.fit(X_train, y_train)\n",
    "    y_pred = lgbm.predict(X_test)\n",
    "    \n",
    "    strategy_pnl_fold = pnl_test[y_pred == 1].sum()\n",
    "    fold_pnl.append(strategy_pnl_fold)\n",
    "    equity_curve_pnl.extend(pnl_test[y_pred == 1])\n",
    "    \n",
    "    all_y_test.extend(y_test)\n",
    "    all_y_pred.extend(y_pred)\n",
    "\n",
    "    print(f\"Fold Precision: {precision_score(y_test, y_pred, zero_division=0):.2%}\")\n",
    "    print(f\"Fold Strategy PnL: {strategy_pnl_fold:.2f} pips\")\n",
    "\n",
    "# --- 3. Final Aggregated Results ---\n",
    "print(f\"\\n\\n{'='*50}\\nVALIDATION SUMMARY\\n{'='*50}\")\n",
    "print(f\"Total Strategy PnL: {np.sum(fold_pnl):.2f} pips\")\n",
    "print(f\"Average PnL per fold: {np.mean(fold_pnl):.2f} pips\")\n",
    "print(f\"Overall Precision: {precision_score(all_y_test, all_y_pred, zero_division=0):.2%}\")\n",
    "\n",
    "# --- 4. Plot Equity Curve ---\n",
    "equity_curve = np.cumsum(equity_curve_pnl)\n",
    "plt.figure(figsize=(12, 6))\n",
    "plt.plot(equity_curve)\n",
    "plt.title('Strategy Equity Curve', fontsize=16)\n",
    "plt.xlabel('Number of Trades Taken'); plt.ylabel('Cumulative PnL (pips)')\n",
    "plt.grid(True); plt.show()\n",
    "\n",
    "# --- 5. Plot Confusion Matrix ---\n",
    "cm = confusion_matrix(all_y_test, all_y_pred)\n",
    "plt.figure(figsize=(8, 6))\n",
    "sns.heatmap(cm, annot=True, fmt='d', cmap='Blues', \n",
    "            xticklabels=['Predicted No Reversion', 'Predicted Reversion'], \n",
    "            yticklabels=['Actual No Reversion', 'Actual Reversion'])\n",
    "plt.title('Aggregated Confusion Matrix', fontsize=16)\n",
    "plt.ylabel('Actual Label'); plt.xlabel('Predicted Label'); plt.show()"
   ]
  },
  {
   "cell_type": "code",
   "execution_count": 98,
   "id": "9522f7fa",
   "metadata": {},
   "outputs": [],
   "source": [
    "# save lgbm model as joblib\n",
    "import joblib\n",
    "# Save the trained model to a file\n",
    "joblib.dump(lgbm, 'lgbm_model.joblib')\n",
    "\n",
    "# In your model training notebook, after creating X_train:\n",
    "import json\n",
    "\n",
    "# Get the list of feature names in the correct order\n",
    "model_features = X_train.columns.tolist()\n",
    "\n",
    "# Save the list to a JSON file\n",
    "with open('model_features.json', 'w') as f:\n",
    "    json.dump(model_features, f, indent=4)"
   ]
  },
  {
   "cell_type": "markdown",
   "id": "da654430",
   "metadata": {},
   "source": [
    "# Next Steps:\n",
    "1. adjust for multiple pairs\n",
    "1. Plot some sample trades\n",
    "1. Add slippage and commission to the backtest\n",
    "1. test calculated SL\n",
    "1. Check furthest back date that can get data on\n",
    "1. ~~Start testing on live data using API~~"
   ]
  },
  {
   "cell_type": "code",
   "execution_count": 151,
   "id": "c749361a",
   "metadata": {},
   "outputs": [
    {
     "name": "stdout",
     "output_type": "stream",
     "text": [
      "\n",
      "--- Plotting 5 Sample Trades using Plotly ---\n"
     ]
    },
    {
     "data": {
      "application/vnd.plotly.v1+json": {
       "config": {
        "plotlyServerURL": "https://plot.ly"
       },
       "data": [
        {
         "close": {
          "bdata": "wa27eapD8j8u4jsx60XyP0xxVdl3RfI/10y+2eZG8j/WHCCYo0fyP/TDCOHRRvI/FLNeDOVE8j/4a7JGPUTyPzS6g9iZQvI/bagY529C8j/8+4wLB0LyP1ABMJ5BQ/I/a0jcY+lD8j9MiSR6GUXyP0/pYP2fQ/I/UAEwnkFD8j/3OxQF+kTyP6Cmlq31RfI/DtsWZTZI8j/wMy4cCEnyP/TDCOHRRvI/Z7gBnx9G8j+9HeG04EXyP/c7FAX6RPI/3lSkwthC8j8WE5uPa0PyP75Nf/YjRfI/M4rlllZD8j8ziuWWVkPyP6neGtgqQfI//kP67etA8j9TkQpjC0HyP9z0Zz9SRPI/NLqD2JlC8j/2C3bDtkXyP0xxVdl3RfI/I0p7gy9M8j/LhF/q503yPwNDVrd6TvI/kq6ZfLNN8j8BE7h1N0/yP5BOXfksT/I/x/SEJR5Q8j+SlsrbEU7yPwNDVrd6TvI/sD2zJEBN8j+wVYLF4UzyP0DZlCu8S/I/QiECDqFK8j9798d71UryP3rf+NozS/I/6lvmdFlM8j+xbVFmg0zyP7PNjekJS/I/t0WZDTJJ8j9fmEwVjEryP3h/vFetTPI/CRueXilL8j9gyOpWz0nyPyfaVUj5SfI/t11ortNI8j9I4XoUrkfyP0ax3NJqSPI/KjqSy39I8j9jKCfaVUjyPy7KbJBJRvI/gv+tZMdG8j9nuAGfH0byPzJyFva0Q/I/29yYnrBE8j/c9Gc/UkTyP9vEyf0ORfI/EoPAyqFF8j+6vaQxWkfyP0jhehSuR/I/LJrOTgZH8j/129eBc0byPxSzXgzlRPI/gy9MpgpG8j+C/61kx0byP0pBt5c0RvI/u+1Cc51G8j9JERlW8UbyP592+GuyRvI/2ZQrvMtF8j+77UJznUbyP55eKcsQR/I/ZFjFG5lH8j8sms5OBkfyP0ax3NJqSPI/t0WZDTJJ8j+1FfvL7knyP0IJM23/SvI/63O1FftL8j8Ec/T4vU3yPx+6oL5lTvI/XDgQkgVM8j8H6/8c5kvyPz+RJ0nXTPI/WwhyUMJM8j8=",
          "dtype": "f8"
         },
         "high": {
          "bdata": "FLNeDOVE8j+DL0ymCkbyP2aIY13cRvI/LJrOTgZH8j+5jQbwFkjyP2MoJ9pVSPI/10y+2eZG8j8Us14M5UTyP6MG0zB8RPI/M4rlllZD8j/ePNUhN0PyP799HThnRPI/aOif4GJF8j+DF30FaUbyP0xxVdl3RfI/3SQGgZVD8j++TX/2I0XyPxFTIoleRvI/Yygn2lVI8j+3RZkNMknyP35XBP9bSfI/SREZVvFG8j+6vaQxWkfyP70d4bTgRfI/odY07zhF8j/Brbt5qkPyPy/6CtKMRfI/L/oK0oxF8j/3OxQF+kTyPzOK5ZZWQ/I/NuohGt1B8j+J78SsF0PyP4aPiCmRRPI/oKaWrfVF8j9KQbeXNEbyP2aIY13cRvI/zLT9KytN8j/IJCNnYU/yPwIrhxbZTvI/rd12oblO8j+OHr+36U/yP//KSpNSUPI//YLdsG1R8j/g88MI4VHyP3K/Q1GgT/I/5ssLsI9O8j91H4DUJk7yP7A9syRATfI/WwhyUMJM8j9dUN8yp0vyP0DBxYoaTPI/zeSbbW5M8j8iGt1B7EzyP5PGaB1VTfI/Xmiu00hL8j8JM23/ykryP3h/vFetTPI/eH+8V61M8j963/jaM0vyP0M50a5CSvI/0VynkZZK8j+3XWiu00jyP7h1N091SPI/fm/Tn/1I8j8oCvSJPEnyP4CfceFASPI/LJrOTgZH8j9JERlW8UbyP4MvTKYKRvI/aOif4GJF8j++TX/2I0XyP4Vf6udNRfI/Z7gBnx9G8j8O2xZlNkjyP9UEUfcBSPI/R8mrcwxI8j+71XPS+0byP/Xb14FzRvI/ZohjXdxG8j9miGNd3EbyP/OTap+OR/I/1QRR9wFI8j+Bzw8jhEfyP/J7m/7sR/I/Sino9pJG8j+6vaQxWkfyP2RYxRuZR/I/ZFjFG5lH8j8rajANw0fyP0ax3NJqSPI/RFGgT+RJ8j8LYwtBDkryP7PNjekJS/I/lQ7W/zlM8j92N091yE3yP3Tv4ZLjTvI/rd12oblO8j8H0zB8REzyPwWjkjoBTfI/6StIMxZN8j8=",
          "dtype": "f8"
         },
         "low": {
          "bdata": "wt1Zu+1C8j/ePNUhN0PyPxTLLa2GRPI/L/oK0oxF8j8uymyQSUbyP4L/rWTHRvI/owbTMHxE8j/6m1CIgEPyP1JhbCHIQfI//PuMCwdC8j+p3hrYKkHyP+CcEaW9QfI/NKK0N/hC8j+kNnFyv0PyP+CEQgQcQvI/NLqD2JlC8j9RMc7fhELyPxSzXgzlRPI/EmvxKQBG8j/WHCCYo0fyPxA7U+i8RvI/28TJ/Q5F8j9LWYY41kXyPxXj/E0oRPI/GEM50a5C8j/DDfj8MELyP1ABMJ5BQ/I/pn7eVKRC8j/eVKTC2ELyP8jNcAM+P/I/clDCTNs/8j9zgGCOHj/yP6n26XjMQPI/32xzY3pC8j/DDfj8MELyPxSzXgzlRPI/9dvXgXNG8j96xyk6kkvyP0HxY8xdS/I/P5EnSddM8j+wPbMkQE3yP3Y3T3XITfI/OwFNhA1P8j/LhF/q503yPwWjkjoBTfI/P5EnSddM8j8lehnFckvyPwgDz72HS/I/J9pVSPlJ8j/SjEXT2UnyP9OkFHR7SfI/C2MLQQ5K8j9798d71UryP0IJM23/SvI/RYE+kSdJ8j8rajANw0fyP1+YTBWMSvI/7bsi+N9K8j/wMy4cCEnyP0j5SbVPR/I/nUZaKm9H8j8tsp3vp0byP2aIY13cRvI/ur2kMVpH8j+cFrzoK0jyP/YLdsO2RfI/+FPjpZtE8j9pAG+BBEXyPzXSUnk7QvI/MnIW9rRD8j+HvyZr1EPyPzOK5ZZWQ/I/MlpHVRNE8j+hvmVOl0XyP4L/rWTHRvI/9gt2w7ZF8j/2C3bDtkXyPzFCeLRxRPI/FLNeDOVE8j8Uyy2thkTyP6Cmlq31RfI/Z7gBnx9G8j9KQbeXNEbyP592+GuyRvI/odY07zhF8j+9NbBVgkXyP9hkjXqIRvI/SkG3lzRG8j+fdvhrskbyPxA7U+i8RvI/gc8PI4RH8j8qOpLLf0jyP7YtymyQSfI/CTNt/8pK8j/ri4S2nEvyP3ZPHhZqTfI/et/42jNL8j8IA8+9h0vyP88UOq+xS/I/soUgByVM8j8=",
          "dtype": "f8"
         },
         "name": "Candles",
         "open": {
          "bdata": "pDZxcr9D8j9P6WD9n0PyP6Cmlq31RfI/L/oK0oxF8j9miGNd3EbyP0jhehSuR/I/9MMI4dFG8j8wKqkT0ETyP/hrskY9RPI/32xzY3pC8j/fbHNjekLyP/z7jAsHQvI/UAEwnkFD8j9rSNxj6UPyP75Nf/YjRfI/a2CrBItD8j9seHqlLEPyP/c7FAX6RPI/gy9MpgpG8j+An3HhQEjyP2L4iJgSSfI/gv+tZMdG8j9KQbeXNEbyP70d4bTgRfI/28TJ/Q5F8j/eVKTC2ELyPxYTm49rQ/I/E5uPa0NF8j+lTkATYUPyPzOK5ZZWQ/I/GqN1VDVB8j9wCFVq9kDyP3AIVWr2QPI/TrnCu1xE8j+mft5UpELyP9mUK7zLRfI/9dvXgXNG8j8H0zB8REzyP8uEX+rnTfI/H7qgvmVO8j8h6j4AqU3yP+WbbW5MT/I/kE5d+SxP8j/H9IQlHlDyPwNbJVgcTvI/A0NWt3pO8j+wPbMkQE3yPz+RJ0nXTPI/zxQ6r7FL8j9CIQIOoUryPwkzbf/KSvI/Xmiu00hL8j8H0zB8REzyP7FtUWaDTPI/s82N6QlL8j8oCvSJPEnyP9Fcp5GWSvI/eH+8V61M8j963/jaM0vyP2DI6lbPSfI/J9pVSPlJ8j+3XWiu00jyP9YcIJijR/I/RrHc0mpI8j+b/uxHikjyP4CfceFASPI/LspskElG8j+C/61kx0byP4MvTKYKRvI/FvvL7slD8j9qGD4ipkTyP9z0Zz9SRPI/9zsUBfpE8j8Sg8DKoUXyP7q9pDFaR/I/SOF6FK5H8j9JERlW8UbyPxFTIoleRvI/hXe5iO9E8j+DL0ymCkbyP/TDCOHRRvI/vAUSFD9G8j8tsp3vp0byP55eKcsQR/I/Sino9pJG8j/ZlCu8y0XyP592+GuyRvI/LJrOTgZH8j/WHCCYo0fyP7vVc9L7RvI/RrHc0mpI8j8oCvSJPEnyPyfaVUj5SfI/e/fHe9VK8j9cOBCSBUzyPwRz9Pi9TfI/H7qgvmVO8j95r1qZ8EvyPwfr/xzmS/I/sFWCxeFM8j8=",
          "dtype": "f8"
         },
         "type": "candlestick",
         "x": [
          "2025-06-02T11:00:00+00:00",
          "2025-06-02T11:05:00+00:00",
          "2025-06-02T11:10:00+00:00",
          "2025-06-02T11:15:00+00:00",
          "2025-06-02T11:20:00+00:00",
          "2025-06-02T11:25:00+00:00",
          "2025-06-02T11:30:00+00:00",
          "2025-06-02T11:35:00+00:00",
          "2025-06-02T11:40:00+00:00",
          "2025-06-02T11:45:00+00:00",
          "2025-06-02T11:50:00+00:00",
          "2025-06-02T11:55:00+00:00",
          "2025-06-02T12:00:00+00:00",
          "2025-06-02T12:05:00+00:00",
          "2025-06-02T12:10:00+00:00",
          "2025-06-02T12:15:00+00:00",
          "2025-06-02T12:20:00+00:00",
          "2025-06-02T12:25:00+00:00",
          "2025-06-02T12:30:00+00:00",
          "2025-06-02T12:35:00+00:00",
          "2025-06-02T12:40:00+00:00",
          "2025-06-02T12:45:00+00:00",
          "2025-06-02T12:50:00+00:00",
          "2025-06-02T12:55:00+00:00",
          "2025-06-02T13:00:00+00:00",
          "2025-06-02T13:05:00+00:00",
          "2025-06-02T13:10:00+00:00",
          "2025-06-02T13:15:00+00:00",
          "2025-06-02T13:20:00+00:00",
          "2025-06-02T13:25:00+00:00",
          "2025-06-02T13:30:00+00:00",
          "2025-06-02T13:35:00+00:00",
          "2025-06-02T13:40:00+00:00",
          "2025-06-02T13:45:00+00:00",
          "2025-06-02T13:50:00+00:00",
          "2025-06-02T13:55:00+00:00",
          "2025-06-02T14:00:00+00:00",
          "2025-06-02T14:05:00+00:00",
          "2025-06-02T14:10:00+00:00",
          "2025-06-02T14:15:00+00:00",
          "2025-06-02T14:20:00+00:00",
          "2025-06-02T14:25:00+00:00",
          "2025-06-02T14:30:00+00:00",
          "2025-06-02T14:35:00+00:00",
          "2025-06-02T14:40:00+00:00",
          "2025-06-02T14:45:00+00:00",
          "2025-06-02T14:50:00+00:00",
          "2025-06-02T14:55:00+00:00",
          "2025-06-02T15:00:00+00:00",
          "2025-06-02T15:05:00+00:00",
          "2025-06-02T15:10:00+00:00",
          "2025-06-02T15:15:00+00:00",
          "2025-06-02T15:20:00+00:00",
          "2025-06-02T15:25:00+00:00",
          "2025-06-02T15:30:00+00:00",
          "2025-06-02T15:35:00+00:00",
          "2025-06-02T15:40:00+00:00",
          "2025-06-02T15:45:00+00:00",
          "2025-06-02T15:50:00+00:00",
          "2025-06-02T15:55:00+00:00",
          "2025-06-02T16:00:00+00:00",
          "2025-06-02T16:05:00+00:00",
          "2025-06-02T16:10:00+00:00",
          "2025-06-02T16:15:00+00:00",
          "2025-06-02T16:20:00+00:00",
          "2025-06-02T16:25:00+00:00",
          "2025-06-02T16:30:00+00:00",
          "2025-06-02T16:35:00+00:00",
          "2025-06-02T16:40:00+00:00",
          "2025-06-02T16:45:00+00:00",
          "2025-06-02T16:50:00+00:00",
          "2025-06-02T16:55:00+00:00",
          "2025-06-02T17:00:00+00:00",
          "2025-06-02T17:05:00+00:00",
          "2025-06-02T17:10:00+00:00",
          "2025-06-02T17:15:00+00:00",
          "2025-06-02T17:20:00+00:00",
          "2025-06-02T17:25:00+00:00",
          "2025-06-02T17:30:00+00:00",
          "2025-06-02T17:35:00+00:00",
          "2025-06-02T17:40:00+00:00",
          "2025-06-02T17:45:00+00:00",
          "2025-06-02T17:50:00+00:00",
          "2025-06-02T17:55:00+00:00",
          "2025-06-02T18:00:00+00:00",
          "2025-06-02T18:05:00+00:00",
          "2025-06-02T18:10:00+00:00",
          "2025-06-02T18:15:00+00:00",
          "2025-06-02T18:20:00+00:00",
          "2025-06-02T18:25:00+00:00",
          "2025-06-02T18:30:00+00:00",
          "2025-06-02T18:35:00+00:00",
          "2025-06-02T18:40:00+00:00",
          "2025-06-02T18:45:00+00:00",
          "2025-06-02T18:50:00+00:00",
          "2025-06-02T18:55:00+00:00",
          "2025-06-02T19:00:00+00:00",
          "2025-06-02T19:05:00+00:00",
          "2025-06-02T19:10:00+00:00",
          "2025-06-02T19:15:00+00:00"
         ]
        },
        {
         "line": {
          "color": "blue",
          "width": 1
         },
         "mode": "lines",
         "name": "40 EMA",
         "type": "scatter",
         "x": [
          "2025-06-02T11:00:00+00:00",
          "2025-06-02T11:05:00+00:00",
          "2025-06-02T11:10:00+00:00",
          "2025-06-02T11:15:00+00:00",
          "2025-06-02T11:20:00+00:00",
          "2025-06-02T11:25:00+00:00",
          "2025-06-02T11:30:00+00:00",
          "2025-06-02T11:35:00+00:00",
          "2025-06-02T11:40:00+00:00",
          "2025-06-02T11:45:00+00:00",
          "2025-06-02T11:50:00+00:00",
          "2025-06-02T11:55:00+00:00",
          "2025-06-02T12:00:00+00:00",
          "2025-06-02T12:05:00+00:00",
          "2025-06-02T12:10:00+00:00",
          "2025-06-02T12:15:00+00:00",
          "2025-06-02T12:20:00+00:00",
          "2025-06-02T12:25:00+00:00",
          "2025-06-02T12:30:00+00:00",
          "2025-06-02T12:35:00+00:00",
          "2025-06-02T12:40:00+00:00",
          "2025-06-02T12:45:00+00:00",
          "2025-06-02T12:50:00+00:00",
          "2025-06-02T12:55:00+00:00",
          "2025-06-02T13:00:00+00:00",
          "2025-06-02T13:05:00+00:00",
          "2025-06-02T13:10:00+00:00",
          "2025-06-02T13:15:00+00:00",
          "2025-06-02T13:20:00+00:00",
          "2025-06-02T13:25:00+00:00",
          "2025-06-02T13:30:00+00:00",
          "2025-06-02T13:35:00+00:00",
          "2025-06-02T13:40:00+00:00",
          "2025-06-02T13:45:00+00:00",
          "2025-06-02T13:50:00+00:00",
          "2025-06-02T13:55:00+00:00",
          "2025-06-02T14:00:00+00:00",
          "2025-06-02T14:05:00+00:00",
          "2025-06-02T14:10:00+00:00",
          "2025-06-02T14:15:00+00:00",
          "2025-06-02T14:20:00+00:00",
          "2025-06-02T14:25:00+00:00",
          "2025-06-02T14:30:00+00:00",
          "2025-06-02T14:35:00+00:00",
          "2025-06-02T14:40:00+00:00",
          "2025-06-02T14:45:00+00:00",
          "2025-06-02T14:50:00+00:00",
          "2025-06-02T14:55:00+00:00",
          "2025-06-02T15:00:00+00:00",
          "2025-06-02T15:05:00+00:00",
          "2025-06-02T15:10:00+00:00",
          "2025-06-02T15:15:00+00:00",
          "2025-06-02T15:20:00+00:00",
          "2025-06-02T15:25:00+00:00",
          "2025-06-02T15:30:00+00:00",
          "2025-06-02T15:35:00+00:00",
          "2025-06-02T15:40:00+00:00",
          "2025-06-02T15:45:00+00:00",
          "2025-06-02T15:50:00+00:00",
          "2025-06-02T15:55:00+00:00",
          "2025-06-02T16:00:00+00:00",
          "2025-06-02T16:05:00+00:00",
          "2025-06-02T16:10:00+00:00",
          "2025-06-02T16:15:00+00:00",
          "2025-06-02T16:20:00+00:00",
          "2025-06-02T16:25:00+00:00",
          "2025-06-02T16:30:00+00:00",
          "2025-06-02T16:35:00+00:00",
          "2025-06-02T16:40:00+00:00",
          "2025-06-02T16:45:00+00:00",
          "2025-06-02T16:50:00+00:00",
          "2025-06-02T16:55:00+00:00",
          "2025-06-02T17:00:00+00:00",
          "2025-06-02T17:05:00+00:00",
          "2025-06-02T17:10:00+00:00",
          "2025-06-02T17:15:00+00:00",
          "2025-06-02T17:20:00+00:00",
          "2025-06-02T17:25:00+00:00",
          "2025-06-02T17:30:00+00:00",
          "2025-06-02T17:35:00+00:00",
          "2025-06-02T17:40:00+00:00",
          "2025-06-02T17:45:00+00:00",
          "2025-06-02T17:50:00+00:00",
          "2025-06-02T17:55:00+00:00",
          "2025-06-02T18:00:00+00:00",
          "2025-06-02T18:05:00+00:00",
          "2025-06-02T18:10:00+00:00",
          "2025-06-02T18:15:00+00:00",
          "2025-06-02T18:20:00+00:00",
          "2025-06-02T18:25:00+00:00",
          "2025-06-02T18:30:00+00:00",
          "2025-06-02T18:35:00+00:00",
          "2025-06-02T18:40:00+00:00",
          "2025-06-02T18:45:00+00:00",
          "2025-06-02T18:50:00+00:00",
          "2025-06-02T18:55:00+00:00",
          "2025-06-02T19:00:00+00:00",
          "2025-06-02T19:05:00+00:00",
          "2025-06-02T19:10:00+00:00",
          "2025-06-02T19:15:00+00:00"
         ],
         "y": {
          "bdata": "4IvvVOVE8j8Jwv8a8kTyP69mKaH4RPI/1rzlvBBF8j+qK5HgMEXyP5smAThFRfI/Q/ULh0BF8j/O9JDhM0XyP+UjP2QTRfI/wJrfcPJE8j9MZ4r7zUTyP7Dr0KW6RPI/gMSlcLBE8j9riVSQtUTyP642CgaoRPI/4ftWipZE8j+Xp55km0TyP8mt9UisRPI/zHdIfNhE8j8yoIXCDEXyP75p/NwiRfI/C5NgMS9F8j9rKSLaN0XyP9wE/NU0RfI/vSFoXhdF8j/gtgaAAkXyPyMi5yEERfI/XJHaLe9E8j9aM3c/20TyPx+T7y2tRPI/YhIJSn5E8j/YBYY4U0TyP78XXyxTRPI/SK8opT1E8j/zHYoKUETyPymMh3heRPI/gEopFcBE8j9kG31qMkXyP1kEQ1WmRfI/b+2L4ApG8j8lbDBxfUbyPxfbOOjpRvI/zgF72FxH8j9U9jOasEfyP5vUbWMFSPI/JjGKsUZI8j/JyKI1gEjyPzhADJmoSPI/7V2bNMFI8j9xTJcr20jyP+FA1Hj4SPI/lrKWqiJJ8j/7qDXZTEnyPxB/FI9iSfI/iWlZMWBJ8j8Ki1LSbknyP8VetVWXSfI/55k98qpJ8j92cLa4rEnyPw60ynSwSfI/eibMr6VJ8j/n6toejUnyP/5Lr/V+SfI/En09g3JJ8j8omHSgZEnyPyhc3tc9SfI/irvuFh9J8j+nqO+m+UjyP4KZv9y3SPI/pjLKjoVI8j9w94YaUUjyP0PJS2ooSPI/OjZk3whI8j94swlaAEjyP1wTpVb8R/I/6TJDVvBH8j++44jC3UfyP+i76qa4R/I/YHAhraNH8j/Yg0fumEfyP/3wZYyHR/I/LJMGIXxH8j8nSM9bdUfyP0bgedlrR/I/ZqQejVdH8j+JaSB5TkfyPwBp4nZLR/I/BBd9QE9H8j8+zJOxS0fyP4JzM7NZR/I/csLavXBH8j9cXMPdj0fyP4xeisW6R/I/+s8u3O9H8j9r5HZaOEjyP5nokX6FSPI/8xGYNLFI8j99Tu4/2UjyPx3b6hoLSfI/9VNugTlJ8j8=",
          "dtype": "f8"
         }
        },
        {
         "line": {
          "color": "purple",
          "width": 1.5
         },
         "mode": "lines",
         "name": "100 EMA",
         "type": "scatter",
         "x": [
          "2025-06-02T11:00:00+00:00",
          "2025-06-02T11:05:00+00:00",
          "2025-06-02T11:10:00+00:00",
          "2025-06-02T11:15:00+00:00",
          "2025-06-02T11:20:00+00:00",
          "2025-06-02T11:25:00+00:00",
          "2025-06-02T11:30:00+00:00",
          "2025-06-02T11:35:00+00:00",
          "2025-06-02T11:40:00+00:00",
          "2025-06-02T11:45:00+00:00",
          "2025-06-02T11:50:00+00:00",
          "2025-06-02T11:55:00+00:00",
          "2025-06-02T12:00:00+00:00",
          "2025-06-02T12:05:00+00:00",
          "2025-06-02T12:10:00+00:00",
          "2025-06-02T12:15:00+00:00",
          "2025-06-02T12:20:00+00:00",
          "2025-06-02T12:25:00+00:00",
          "2025-06-02T12:30:00+00:00",
          "2025-06-02T12:35:00+00:00",
          "2025-06-02T12:40:00+00:00",
          "2025-06-02T12:45:00+00:00",
          "2025-06-02T12:50:00+00:00",
          "2025-06-02T12:55:00+00:00",
          "2025-06-02T13:00:00+00:00",
          "2025-06-02T13:05:00+00:00",
          "2025-06-02T13:10:00+00:00",
          "2025-06-02T13:15:00+00:00",
          "2025-06-02T13:20:00+00:00",
          "2025-06-02T13:25:00+00:00",
          "2025-06-02T13:30:00+00:00",
          "2025-06-02T13:35:00+00:00",
          "2025-06-02T13:40:00+00:00",
          "2025-06-02T13:45:00+00:00",
          "2025-06-02T13:50:00+00:00",
          "2025-06-02T13:55:00+00:00",
          "2025-06-02T14:00:00+00:00",
          "2025-06-02T14:05:00+00:00",
          "2025-06-02T14:10:00+00:00",
          "2025-06-02T14:15:00+00:00",
          "2025-06-02T14:20:00+00:00",
          "2025-06-02T14:25:00+00:00",
          "2025-06-02T14:30:00+00:00",
          "2025-06-02T14:35:00+00:00",
          "2025-06-02T14:40:00+00:00",
          "2025-06-02T14:45:00+00:00",
          "2025-06-02T14:50:00+00:00",
          "2025-06-02T14:55:00+00:00",
          "2025-06-02T15:00:00+00:00",
          "2025-06-02T15:05:00+00:00",
          "2025-06-02T15:10:00+00:00",
          "2025-06-02T15:15:00+00:00",
          "2025-06-02T15:20:00+00:00",
          "2025-06-02T15:25:00+00:00",
          "2025-06-02T15:30:00+00:00",
          "2025-06-02T15:35:00+00:00",
          "2025-06-02T15:40:00+00:00",
          "2025-06-02T15:45:00+00:00",
          "2025-06-02T15:50:00+00:00",
          "2025-06-02T15:55:00+00:00",
          "2025-06-02T16:00:00+00:00",
          "2025-06-02T16:05:00+00:00",
          "2025-06-02T16:10:00+00:00",
          "2025-06-02T16:15:00+00:00",
          "2025-06-02T16:20:00+00:00",
          "2025-06-02T16:25:00+00:00",
          "2025-06-02T16:30:00+00:00",
          "2025-06-02T16:35:00+00:00",
          "2025-06-02T16:40:00+00:00",
          "2025-06-02T16:45:00+00:00",
          "2025-06-02T16:50:00+00:00",
          "2025-06-02T16:55:00+00:00",
          "2025-06-02T17:00:00+00:00",
          "2025-06-02T17:05:00+00:00",
          "2025-06-02T17:10:00+00:00",
          "2025-06-02T17:15:00+00:00",
          "2025-06-02T17:20:00+00:00",
          "2025-06-02T17:25:00+00:00",
          "2025-06-02T17:30:00+00:00",
          "2025-06-02T17:35:00+00:00",
          "2025-06-02T17:40:00+00:00",
          "2025-06-02T17:45:00+00:00",
          "2025-06-02T17:50:00+00:00",
          "2025-06-02T17:55:00+00:00",
          "2025-06-02T18:00:00+00:00",
          "2025-06-02T18:05:00+00:00",
          "2025-06-02T18:10:00+00:00",
          "2025-06-02T18:15:00+00:00",
          "2025-06-02T18:20:00+00:00",
          "2025-06-02T18:25:00+00:00",
          "2025-06-02T18:30:00+00:00",
          "2025-06-02T18:35:00+00:00",
          "2025-06-02T18:40:00+00:00",
          "2025-06-02T18:45:00+00:00",
          "2025-06-02T18:50:00+00:00",
          "2025-06-02T18:55:00+00:00",
          "2025-06-02T19:00:00+00:00",
          "2025-06-02T19:05:00+00:00",
          "2025-06-02T19:10:00+00:00",
          "2025-06-02T19:15:00+00:00"
         ],
         "y": {
          "bdata": "9USCY4Y+8j9yGrbeqz7yPwHsMlPOPvI/NpV3Xfc+8j9pdH1UIz/yPzzRh0VKP/I/jaXarmY/8j8Vsak1fz/yP0nX6vGOP/I/WUPIiZ0/8j94RB3EqT/yP1MsIPu7P/I/++pJKNE/8j880pzv6z/yP8qQlrX+P/I/ef3+PQ9A8j9+XCArKEDyP7RvoZVFQPI/1wSS1m1A8j/XCpBymUDyPyE8Fvu4QPI/wG4dXNRA8j//z2rz7UDyPwunkXcCQfI/9jqhxwtB8j9ftqjQF0HyP0DVNVUsQfI/FTToTjdB8j/PW/cQQkHyPzgIP5tBQfI/vY/s6D9B8j8yQavePkHyP/4MIXZOQfI/w5YEBlVB8j9AXHY8a0HyP4nlXsN/QfI/1rS677VB8j/53v/B80HyP0VBDkMzQvI/4Ro8kG1C8j9t4J5krkLyP0+oNbvtQvI/RYFLlzBD8j+7zau+Z0PyP5bSAuKfQ/I/4JcartBD8j+nwW2k/kPyPzXtZuElRPI/6fpDvEZE8j/23lr6Z0TyP3DcU26KRPI/dZUABLJE8j8t3qGl2UTyP8prwgT5RPI/6PPabA5F8j/bKZFCKkXyP4VyQ1dQRfI/glwp/G1F8j/Y2qYwhEXyPwIxM8maRfI/M//YHqtF8j+o3VVRtUXyP4oU7gzDRfI/DE047dBF8j/lmouy3UXyPyDWWtXfRfI/we0za+RF8j+wWVGX5UXyPxYvUH3aRfI/hJ9Rl9RF8j8rVdPwzEXyP4f06S3JRfI/EFA/ZshF8j+uKRFb0EXyPzJJzNDZRfI/NNYVxN9F8j+q7wex4kXyP+xYPKvdRfI/9LpBj95F8j/v6Y8r40XyP5ZTUcjkRfI/zIZ0cOhF8j8Yskyv7UXyP9mrnpTxRfI/XfLE1PBF8j9cHdQ/9EXyP+FTReL5RfI/QvsrGwJG8j8/zjZCB0byP5vIbF4TRvI/GF4zLyNG8j+ALJpsNkbyP7Lag65ORvI/XzExcWtG8j/6/8KPkEbyP6dwpkS4RvI/a4s7JdNG8j/UaRne7EbyP+9dJtsKR/I/PVze1SdH8j8=",
          "dtype": "f8"
         }
        },
        {
         "marker": {
          "color": "red",
          "size": 9,
          "symbol": "triangle-down"
         },
         "mode": "markers",
         "name": "Pivot High",
         "type": "scatter",
         "x": [
          "2025-06-02T11:00:00+00:00",
          "2025-06-02T11:05:00+00:00",
          "2025-06-02T11:10:00+00:00",
          "2025-06-02T11:15:00+00:00",
          "2025-06-02T11:20:00+00:00",
          "2025-06-02T11:25:00+00:00",
          "2025-06-02T11:30:00+00:00",
          "2025-06-02T11:35:00+00:00",
          "2025-06-02T11:40:00+00:00",
          "2025-06-02T11:45:00+00:00",
          "2025-06-02T11:50:00+00:00",
          "2025-06-02T11:55:00+00:00",
          "2025-06-02T12:00:00+00:00",
          "2025-06-02T12:05:00+00:00",
          "2025-06-02T12:10:00+00:00",
          "2025-06-02T12:15:00+00:00",
          "2025-06-02T12:20:00+00:00",
          "2025-06-02T12:25:00+00:00",
          "2025-06-02T12:30:00+00:00",
          "2025-06-02T12:35:00+00:00",
          "2025-06-02T12:40:00+00:00",
          "2025-06-02T12:45:00+00:00",
          "2025-06-02T12:50:00+00:00",
          "2025-06-02T12:55:00+00:00",
          "2025-06-02T13:00:00+00:00",
          "2025-06-02T13:05:00+00:00",
          "2025-06-02T13:10:00+00:00",
          "2025-06-02T13:15:00+00:00",
          "2025-06-02T13:20:00+00:00",
          "2025-06-02T13:25:00+00:00",
          "2025-06-02T13:30:00+00:00",
          "2025-06-02T13:35:00+00:00",
          "2025-06-02T13:40:00+00:00",
          "2025-06-02T13:45:00+00:00",
          "2025-06-02T13:50:00+00:00",
          "2025-06-02T13:55:00+00:00",
          "2025-06-02T14:00:00+00:00",
          "2025-06-02T14:05:00+00:00",
          "2025-06-02T14:10:00+00:00",
          "2025-06-02T14:15:00+00:00",
          "2025-06-02T14:20:00+00:00",
          "2025-06-02T14:25:00+00:00",
          "2025-06-02T14:30:00+00:00",
          "2025-06-02T14:35:00+00:00",
          "2025-06-02T14:40:00+00:00",
          "2025-06-02T14:45:00+00:00",
          "2025-06-02T14:50:00+00:00",
          "2025-06-02T14:55:00+00:00",
          "2025-06-02T15:00:00+00:00",
          "2025-06-02T15:05:00+00:00",
          "2025-06-02T15:10:00+00:00",
          "2025-06-02T15:15:00+00:00",
          "2025-06-02T15:20:00+00:00",
          "2025-06-02T15:25:00+00:00",
          "2025-06-02T15:30:00+00:00",
          "2025-06-02T15:35:00+00:00",
          "2025-06-02T15:40:00+00:00",
          "2025-06-02T15:45:00+00:00",
          "2025-06-02T15:50:00+00:00",
          "2025-06-02T15:55:00+00:00",
          "2025-06-02T16:00:00+00:00",
          "2025-06-02T16:05:00+00:00",
          "2025-06-02T16:10:00+00:00",
          "2025-06-02T16:15:00+00:00",
          "2025-06-02T16:20:00+00:00",
          "2025-06-02T16:25:00+00:00",
          "2025-06-02T16:30:00+00:00",
          "2025-06-02T16:35:00+00:00",
          "2025-06-02T16:40:00+00:00",
          "2025-06-02T16:45:00+00:00",
          "2025-06-02T16:50:00+00:00",
          "2025-06-02T16:55:00+00:00",
          "2025-06-02T17:00:00+00:00",
          "2025-06-02T17:05:00+00:00",
          "2025-06-02T17:10:00+00:00",
          "2025-06-02T17:15:00+00:00",
          "2025-06-02T17:20:00+00:00",
          "2025-06-02T17:25:00+00:00",
          "2025-06-02T17:30:00+00:00",
          "2025-06-02T17:35:00+00:00",
          "2025-06-02T17:40:00+00:00",
          "2025-06-02T17:45:00+00:00",
          "2025-06-02T17:50:00+00:00",
          "2025-06-02T17:55:00+00:00",
          "2025-06-02T18:00:00+00:00",
          "2025-06-02T18:05:00+00:00",
          "2025-06-02T18:10:00+00:00",
          "2025-06-02T18:15:00+00:00",
          "2025-06-02T18:20:00+00:00",
          "2025-06-02T18:25:00+00:00",
          "2025-06-02T18:30:00+00:00",
          "2025-06-02T18:35:00+00:00",
          "2025-06-02T18:40:00+00:00",
          "2025-06-02T18:45:00+00:00",
          "2025-06-02T18:50:00+00:00",
          "2025-06-02T18:55:00+00:00",
          "2025-06-02T19:00:00+00:00",
          "2025-06-02T19:05:00+00:00",
          "2025-06-02T19:10:00+00:00",
          "2025-06-02T19:15:00+00:00"
         ],
         "y": {
          "bdata": "AAAAAAAA+H8AAAAAAAD4fwAAAAAAAPh/AAAAAAAA+H8AAAAAAAD4fwAAAAAAAPh/AAAAAAAA+H8AAAAAAAD4fwAAAAAAAPh/AAAAAAAA+H9jKCfaVUjyPwAAAAAAAPh/AAAAAAAA+H8AAAAAAAD4fwAAAAAAAPh/AAAAAAAA+H8AAAAAAAD4fwAAAAAAAPh/gxd9BWlG8j8AAAAAAAD4fwAAAAAAAPh/AAAAAAAA+H8AAAAAAAD4fwAAAAAAAPh/AAAAAAAA+H9+VwT/W0nyPwAAAAAAAPh/AAAAAAAA+H8AAAAAAAD4fwAAAAAAAPh/AAAAAAAA+H8AAAAAAAD4fwAAAAAAAPh/AAAAAAAA+H8AAAAAAAD4fwAAAAAAAPh/AAAAAAAA+H8AAAAAAAD4fwAAAAAAAPh/AAAAAAAA+H8AAAAAAAD4fwAAAAAAAPh/AAAAAAAA+H8AAAAAAAD4fwAAAAAAAPh/AAAAAAAA+H8AAAAAAAD4fwAAAAAAAPh/4PPDCOFR8j8AAAAAAAD4fwAAAAAAAPh/AAAAAAAA+H8AAAAAAAD4fwAAAAAAAPh/AAAAAAAA+H8AAAAAAAD4fwAAAAAAAPh/AAAAAAAA+H8AAAAAAAD4fwAAAAAAAPh/AAAAAAAA+H8AAAAAAAD4fwAAAAAAAPh/AAAAAAAA+H8AAAAAAAD4fwAAAAAAAPh/AAAAAAAA+H8AAAAAAAD4fwAAAAAAAPh/AAAAAAAA+H8AAAAAAAD4fwAAAAAAAPh/AAAAAAAA+H8AAAAAAAD4fwAAAAAAAPh/AAAAAAAA+H8AAAAAAAD4fwAAAAAAAPh/AAAAAAAA+H8AAAAAAAD4fwAAAAAAAPh/AAAAAAAA+H8AAAAAAAD4fwAAAAAAAPh/AAAAAAAA+H8AAAAAAAD4fwAAAAAAAPh/AAAAAAAA+H8AAAAAAAD4fwAAAAAAAPh/AAAAAAAA+H8AAAAAAAD4fwAAAAAAAPh/AAAAAAAA+H8AAAAAAAD4fwAAAAAAAPh/AAAAAAAA+H8AAAAAAAD4fwAAAAAAAPh/AAAAAAAA+H8=",
          "dtype": "f8"
         }
        },
        {
         "marker": {
          "color": "lime",
          "size": 9,
          "symbol": "triangle-up"
         },
         "mode": "markers",
         "name": "Pivot Low",
         "type": "scatter",
         "x": [
          "2025-06-02T11:00:00+00:00",
          "2025-06-02T11:05:00+00:00",
          "2025-06-02T11:10:00+00:00",
          "2025-06-02T11:15:00+00:00",
          "2025-06-02T11:20:00+00:00",
          "2025-06-02T11:25:00+00:00",
          "2025-06-02T11:30:00+00:00",
          "2025-06-02T11:35:00+00:00",
          "2025-06-02T11:40:00+00:00",
          "2025-06-02T11:45:00+00:00",
          "2025-06-02T11:50:00+00:00",
          "2025-06-02T11:55:00+00:00",
          "2025-06-02T12:00:00+00:00",
          "2025-06-02T12:05:00+00:00",
          "2025-06-02T12:10:00+00:00",
          "2025-06-02T12:15:00+00:00",
          "2025-06-02T12:20:00+00:00",
          "2025-06-02T12:25:00+00:00",
          "2025-06-02T12:30:00+00:00",
          "2025-06-02T12:35:00+00:00",
          "2025-06-02T12:40:00+00:00",
          "2025-06-02T12:45:00+00:00",
          "2025-06-02T12:50:00+00:00",
          "2025-06-02T12:55:00+00:00",
          "2025-06-02T13:00:00+00:00",
          "2025-06-02T13:05:00+00:00",
          "2025-06-02T13:10:00+00:00",
          "2025-06-02T13:15:00+00:00",
          "2025-06-02T13:20:00+00:00",
          "2025-06-02T13:25:00+00:00",
          "2025-06-02T13:30:00+00:00",
          "2025-06-02T13:35:00+00:00",
          "2025-06-02T13:40:00+00:00",
          "2025-06-02T13:45:00+00:00",
          "2025-06-02T13:50:00+00:00",
          "2025-06-02T13:55:00+00:00",
          "2025-06-02T14:00:00+00:00",
          "2025-06-02T14:05:00+00:00",
          "2025-06-02T14:10:00+00:00",
          "2025-06-02T14:15:00+00:00",
          "2025-06-02T14:20:00+00:00",
          "2025-06-02T14:25:00+00:00",
          "2025-06-02T14:30:00+00:00",
          "2025-06-02T14:35:00+00:00",
          "2025-06-02T14:40:00+00:00",
          "2025-06-02T14:45:00+00:00",
          "2025-06-02T14:50:00+00:00",
          "2025-06-02T14:55:00+00:00",
          "2025-06-02T15:00:00+00:00",
          "2025-06-02T15:05:00+00:00",
          "2025-06-02T15:10:00+00:00",
          "2025-06-02T15:15:00+00:00",
          "2025-06-02T15:20:00+00:00",
          "2025-06-02T15:25:00+00:00",
          "2025-06-02T15:30:00+00:00",
          "2025-06-02T15:35:00+00:00",
          "2025-06-02T15:40:00+00:00",
          "2025-06-02T15:45:00+00:00",
          "2025-06-02T15:50:00+00:00",
          "2025-06-02T15:55:00+00:00",
          "2025-06-02T16:00:00+00:00",
          "2025-06-02T16:05:00+00:00",
          "2025-06-02T16:10:00+00:00",
          "2025-06-02T16:15:00+00:00",
          "2025-06-02T16:20:00+00:00",
          "2025-06-02T16:25:00+00:00",
          "2025-06-02T16:30:00+00:00",
          "2025-06-02T16:35:00+00:00",
          "2025-06-02T16:40:00+00:00",
          "2025-06-02T16:45:00+00:00",
          "2025-06-02T16:50:00+00:00",
          "2025-06-02T16:55:00+00:00",
          "2025-06-02T17:00:00+00:00",
          "2025-06-02T17:05:00+00:00",
          "2025-06-02T17:10:00+00:00",
          "2025-06-02T17:15:00+00:00",
          "2025-06-02T17:20:00+00:00",
          "2025-06-02T17:25:00+00:00",
          "2025-06-02T17:30:00+00:00",
          "2025-06-02T17:35:00+00:00",
          "2025-06-02T17:40:00+00:00",
          "2025-06-02T17:45:00+00:00",
          "2025-06-02T17:50:00+00:00",
          "2025-06-02T17:55:00+00:00",
          "2025-06-02T18:00:00+00:00",
          "2025-06-02T18:05:00+00:00",
          "2025-06-02T18:10:00+00:00",
          "2025-06-02T18:15:00+00:00",
          "2025-06-02T18:20:00+00:00",
          "2025-06-02T18:25:00+00:00",
          "2025-06-02T18:30:00+00:00",
          "2025-06-02T18:35:00+00:00",
          "2025-06-02T18:40:00+00:00",
          "2025-06-02T18:45:00+00:00",
          "2025-06-02T18:50:00+00:00",
          "2025-06-02T18:55:00+00:00",
          "2025-06-02T19:00:00+00:00",
          "2025-06-02T19:05:00+00:00",
          "2025-06-02T19:10:00+00:00",
          "2025-06-02T19:15:00+00:00"
         ],
         "y": {
          "bdata": "UBn/PuNC8j8AAAAAAAD4fwAAAAAAAPh/AAAAAAAA+H8AAAAAAAD4fwAAAAAAAPh/AAAAAAAA+H8AAAAAAAD4fwAAAAAAAPh/AAAAAAAA+H8AAAAAAAD4fwAAAAAAAPh/AAAAAAAA+H8AAAAAAAD4fwAAAAAAAPh/qd4a2CpB8j8AAAAAAAD4fwAAAAAAAPh/AAAAAAAA+H8AAAAAAAD4fwAAAAAAAPh/AAAAAAAA+H8AAAAAAAD4fwAAAAAAAPh/AAAAAAAA+H8AAAAAAAD4fwAAAAAAAPh/AAAAAAAA+H8AAAAAAAD4fwAAAAAAAPh/AAAAAAAA+H8AAAAAAAD4fwAAAAAAAPh/AAAAAAAA+H8AAAAAAAD4fwAAAAAAAPh/c4Bgjh4/8j8AAAAAAAD4fwAAAAAAAPh/AAAAAAAA+H8AAAAAAAD4fwAAAAAAAPh/AAAAAAAA+H8AAAAAAAD4fwAAAAAAAPh/AAAAAAAA+H8AAAAAAAD4fwAAAAAAAPh/AAAAAAAA+H8AAAAAAAD4fwAAAAAAAPh/AAAAAAAA+H8AAAAAAAD4fwAAAAAAAPh/AAAAAAAA+H8AAAAAAAD4fwAAAAAAAPh/AAAAAAAA+H8AAAAAAAD4fwAAAAAAAPh/K2owDcNH8j8AAAAAAAD4fwAAAAAAAPh/AAAAAAAA+H8AAAAAAAD4fwAAAAAAAPh/AAAAAAAA+H8AAAAAAAD4fwAAAAAAAPh/AAAAAAAA+H8AAAAAAAD4fwAAAAAAAPh/AAAAAAAA+H810lJ5O0LyPwAAAAAAAPh/AAAAAAAA+H8AAAAAAAD4fwAAAAAAAPh/AAAAAAAA+H8AAAAAAAD4fwAAAAAAAPh/AAAAAAAA+H8xQni0cUTyPwAAAAAAAPh/AAAAAAAA+H8AAAAAAAD4fwAAAAAAAPh/AAAAAAAA+H8AAAAAAAD4fwAAAAAAAPh/AAAAAAAA+H8AAAAAAAD4fwAAAAAAAPh/AAAAAAAA+H8AAAAAAAD4fwAAAAAAAPh/AAAAAAAA+H8AAAAAAAD4fwAAAAAAAPh/AAAAAAAA+H8=",
          "dtype": "f8"
         }
        },
        {
         "line": {
          "color": "red",
          "dash": "dash",
          "width": 2
         },
         "marker": {
          "color": "red",
          "size": [
           10,
           12
          ],
          "symbol": [
           "arrow-bar-up",
           "x"
          ]
         },
         "mode": "markers+lines",
         "name": "Trade Path",
         "type": "scatter",
         "x": [
          "2025-06-02T16:05:00+00:00",
          "2025-06-02T16:40:00+00:00"
         ],
         "y": [
          1.14278,
          1.1415265329413866
         ]
        }
       ],
       "layout": {
        "height": 600,
        "shapes": [
         {
          "line": {
           "color": "green",
           "dash": "dot",
           "width": 1
          },
          "type": "line",
          "x0": 0,
          "x1": 1,
          "xref": "x domain",
          "y0": 1.1446602005879198,
          "y1": 1.1446602005879198,
          "yref": "y"
         },
         {
          "line": {
           "color": "red",
           "dash": "dot",
           "width": 1
          },
          "type": "line",
          "x0": 0,
          "x1": 1,
          "xref": "x domain",
          "y0": 1.1415265329413866,
          "y1": 1.1415265329413866,
          "yref": "y"
         }
        ],
        "template": {
         "data": {
          "bar": [
           {
            "error_x": {
             "color": "#2a3f5f"
            },
            "error_y": {
             "color": "#2a3f5f"
            },
            "marker": {
             "line": {
              "color": "#E5ECF6",
              "width": 0.5
             },
             "pattern": {
              "fillmode": "overlay",
              "size": 10,
              "solidity": 0.2
             }
            },
            "type": "bar"
           }
          ],
          "barpolar": [
           {
            "marker": {
             "line": {
              "color": "#E5ECF6",
              "width": 0.5
             },
             "pattern": {
              "fillmode": "overlay",
              "size": 10,
              "solidity": 0.2
             }
            },
            "type": "barpolar"
           }
          ],
          "carpet": [
           {
            "aaxis": {
             "endlinecolor": "#2a3f5f",
             "gridcolor": "white",
             "linecolor": "white",
             "minorgridcolor": "white",
             "startlinecolor": "#2a3f5f"
            },
            "baxis": {
             "endlinecolor": "#2a3f5f",
             "gridcolor": "white",
             "linecolor": "white",
             "minorgridcolor": "white",
             "startlinecolor": "#2a3f5f"
            },
            "type": "carpet"
           }
          ],
          "choropleth": [
           {
            "colorbar": {
             "outlinewidth": 0,
             "ticks": ""
            },
            "type": "choropleth"
           }
          ],
          "contour": [
           {
            "colorbar": {
             "outlinewidth": 0,
             "ticks": ""
            },
            "colorscale": [
             [
              0,
              "#0d0887"
             ],
             [
              0.1111111111111111,
              "#46039f"
             ],
             [
              0.2222222222222222,
              "#7201a8"
             ],
             [
              0.3333333333333333,
              "#9c179e"
             ],
             [
              0.4444444444444444,
              "#bd3786"
             ],
             [
              0.5555555555555556,
              "#d8576b"
             ],
             [
              0.6666666666666666,
              "#ed7953"
             ],
             [
              0.7777777777777778,
              "#fb9f3a"
             ],
             [
              0.8888888888888888,
              "#fdca26"
             ],
             [
              1,
              "#f0f921"
             ]
            ],
            "type": "contour"
           }
          ],
          "contourcarpet": [
           {
            "colorbar": {
             "outlinewidth": 0,
             "ticks": ""
            },
            "type": "contourcarpet"
           }
          ],
          "heatmap": [
           {
            "colorbar": {
             "outlinewidth": 0,
             "ticks": ""
            },
            "colorscale": [
             [
              0,
              "#0d0887"
             ],
             [
              0.1111111111111111,
              "#46039f"
             ],
             [
              0.2222222222222222,
              "#7201a8"
             ],
             [
              0.3333333333333333,
              "#9c179e"
             ],
             [
              0.4444444444444444,
              "#bd3786"
             ],
             [
              0.5555555555555556,
              "#d8576b"
             ],
             [
              0.6666666666666666,
              "#ed7953"
             ],
             [
              0.7777777777777778,
              "#fb9f3a"
             ],
             [
              0.8888888888888888,
              "#fdca26"
             ],
             [
              1,
              "#f0f921"
             ]
            ],
            "type": "heatmap"
           }
          ],
          "histogram": [
           {
            "marker": {
             "pattern": {
              "fillmode": "overlay",
              "size": 10,
              "solidity": 0.2
             }
            },
            "type": "histogram"
           }
          ],
          "histogram2d": [
           {
            "colorbar": {
             "outlinewidth": 0,
             "ticks": ""
            },
            "colorscale": [
             [
              0,
              "#0d0887"
             ],
             [
              0.1111111111111111,
              "#46039f"
             ],
             [
              0.2222222222222222,
              "#7201a8"
             ],
             [
              0.3333333333333333,
              "#9c179e"
             ],
             [
              0.4444444444444444,
              "#bd3786"
             ],
             [
              0.5555555555555556,
              "#d8576b"
             ],
             [
              0.6666666666666666,
              "#ed7953"
             ],
             [
              0.7777777777777778,
              "#fb9f3a"
             ],
             [
              0.8888888888888888,
              "#fdca26"
             ],
             [
              1,
              "#f0f921"
             ]
            ],
            "type": "histogram2d"
           }
          ],
          "histogram2dcontour": [
           {
            "colorbar": {
             "outlinewidth": 0,
             "ticks": ""
            },
            "colorscale": [
             [
              0,
              "#0d0887"
             ],
             [
              0.1111111111111111,
              "#46039f"
             ],
             [
              0.2222222222222222,
              "#7201a8"
             ],
             [
              0.3333333333333333,
              "#9c179e"
             ],
             [
              0.4444444444444444,
              "#bd3786"
             ],
             [
              0.5555555555555556,
              "#d8576b"
             ],
             [
              0.6666666666666666,
              "#ed7953"
             ],
             [
              0.7777777777777778,
              "#fb9f3a"
             ],
             [
              0.8888888888888888,
              "#fdca26"
             ],
             [
              1,
              "#f0f921"
             ]
            ],
            "type": "histogram2dcontour"
           }
          ],
          "mesh3d": [
           {
            "colorbar": {
             "outlinewidth": 0,
             "ticks": ""
            },
            "type": "mesh3d"
           }
          ],
          "parcoords": [
           {
            "line": {
             "colorbar": {
              "outlinewidth": 0,
              "ticks": ""
             }
            },
            "type": "parcoords"
           }
          ],
          "pie": [
           {
            "automargin": true,
            "type": "pie"
           }
          ],
          "scatter": [
           {
            "fillpattern": {
             "fillmode": "overlay",
             "size": 10,
             "solidity": 0.2
            },
            "type": "scatter"
           }
          ],
          "scatter3d": [
           {
            "line": {
             "colorbar": {
              "outlinewidth": 0,
              "ticks": ""
             }
            },
            "marker": {
             "colorbar": {
              "outlinewidth": 0,
              "ticks": ""
             }
            },
            "type": "scatter3d"
           }
          ],
          "scattercarpet": [
           {
            "marker": {
             "colorbar": {
              "outlinewidth": 0,
              "ticks": ""
             }
            },
            "type": "scattercarpet"
           }
          ],
          "scattergeo": [
           {
            "marker": {
             "colorbar": {
              "outlinewidth": 0,
              "ticks": ""
             }
            },
            "type": "scattergeo"
           }
          ],
          "scattergl": [
           {
            "marker": {
             "colorbar": {
              "outlinewidth": 0,
              "ticks": ""
             }
            },
            "type": "scattergl"
           }
          ],
          "scattermap": [
           {
            "marker": {
             "colorbar": {
              "outlinewidth": 0,
              "ticks": ""
             }
            },
            "type": "scattermap"
           }
          ],
          "scattermapbox": [
           {
            "marker": {
             "colorbar": {
              "outlinewidth": 0,
              "ticks": ""
             }
            },
            "type": "scattermapbox"
           }
          ],
          "scatterpolar": [
           {
            "marker": {
             "colorbar": {
              "outlinewidth": 0,
              "ticks": ""
             }
            },
            "type": "scatterpolar"
           }
          ],
          "scatterpolargl": [
           {
            "marker": {
             "colorbar": {
              "outlinewidth": 0,
              "ticks": ""
             }
            },
            "type": "scatterpolargl"
           }
          ],
          "scatterternary": [
           {
            "marker": {
             "colorbar": {
              "outlinewidth": 0,
              "ticks": ""
             }
            },
            "type": "scatterternary"
           }
          ],
          "surface": [
           {
            "colorbar": {
             "outlinewidth": 0,
             "ticks": ""
            },
            "colorscale": [
             [
              0,
              "#0d0887"
             ],
             [
              0.1111111111111111,
              "#46039f"
             ],
             [
              0.2222222222222222,
              "#7201a8"
             ],
             [
              0.3333333333333333,
              "#9c179e"
             ],
             [
              0.4444444444444444,
              "#bd3786"
             ],
             [
              0.5555555555555556,
              "#d8576b"
             ],
             [
              0.6666666666666666,
              "#ed7953"
             ],
             [
              0.7777777777777778,
              "#fb9f3a"
             ],
             [
              0.8888888888888888,
              "#fdca26"
             ],
             [
              1,
              "#f0f921"
             ]
            ],
            "type": "surface"
           }
          ],
          "table": [
           {
            "cells": {
             "fill": {
              "color": "#EBF0F8"
             },
             "line": {
              "color": "white"
             }
            },
            "header": {
             "fill": {
              "color": "#C8D4E3"
             },
             "line": {
              "color": "white"
             }
            },
            "type": "table"
           }
          ]
         },
         "layout": {
          "annotationdefaults": {
           "arrowcolor": "#2a3f5f",
           "arrowhead": 0,
           "arrowwidth": 1
          },
          "autotypenumbers": "strict",
          "coloraxis": {
           "colorbar": {
            "outlinewidth": 0,
            "ticks": ""
           }
          },
          "colorscale": {
           "diverging": [
            [
             0,
             "#8e0152"
            ],
            [
             0.1,
             "#c51b7d"
            ],
            [
             0.2,
             "#de77ae"
            ],
            [
             0.3,
             "#f1b6da"
            ],
            [
             0.4,
             "#fde0ef"
            ],
            [
             0.5,
             "#f7f7f7"
            ],
            [
             0.6,
             "#e6f5d0"
            ],
            [
             0.7,
             "#b8e186"
            ],
            [
             0.8,
             "#7fbc41"
            ],
            [
             0.9,
             "#4d9221"
            ],
            [
             1,
             "#276419"
            ]
           ],
           "sequential": [
            [
             0,
             "#0d0887"
            ],
            [
             0.1111111111111111,
             "#46039f"
            ],
            [
             0.2222222222222222,
             "#7201a8"
            ],
            [
             0.3333333333333333,
             "#9c179e"
            ],
            [
             0.4444444444444444,
             "#bd3786"
            ],
            [
             0.5555555555555556,
             "#d8576b"
            ],
            [
             0.6666666666666666,
             "#ed7953"
            ],
            [
             0.7777777777777778,
             "#fb9f3a"
            ],
            [
             0.8888888888888888,
             "#fdca26"
            ],
            [
             1,
             "#f0f921"
            ]
           ],
           "sequentialminus": [
            [
             0,
             "#0d0887"
            ],
            [
             0.1111111111111111,
             "#46039f"
            ],
            [
             0.2222222222222222,
             "#7201a8"
            ],
            [
             0.3333333333333333,
             "#9c179e"
            ],
            [
             0.4444444444444444,
             "#bd3786"
            ],
            [
             0.5555555555555556,
             "#d8576b"
            ],
            [
             0.6666666666666666,
             "#ed7953"
            ],
            [
             0.7777777777777778,
             "#fb9f3a"
            ],
            [
             0.8888888888888888,
             "#fdca26"
            ],
            [
             1,
             "#f0f921"
            ]
           ]
          },
          "colorway": [
           "#636efa",
           "#EF553B",
           "#00cc96",
           "#ab63fa",
           "#FFA15A",
           "#19d3f3",
           "#FF6692",
           "#B6E880",
           "#FF97FF",
           "#FECB52"
          ],
          "font": {
           "color": "#2a3f5f"
          },
          "geo": {
           "bgcolor": "white",
           "lakecolor": "white",
           "landcolor": "#E5ECF6",
           "showlakes": true,
           "showland": true,
           "subunitcolor": "white"
          },
          "hoverlabel": {
           "align": "left"
          },
          "hovermode": "closest",
          "mapbox": {
           "style": "light"
          },
          "paper_bgcolor": "white",
          "plot_bgcolor": "#E5ECF6",
          "polar": {
           "angularaxis": {
            "gridcolor": "white",
            "linecolor": "white",
            "ticks": ""
           },
           "bgcolor": "#E5ECF6",
           "radialaxis": {
            "gridcolor": "white",
            "linecolor": "white",
            "ticks": ""
           }
          },
          "scene": {
           "xaxis": {
            "backgroundcolor": "#E5ECF6",
            "gridcolor": "white",
            "gridwidth": 2,
            "linecolor": "white",
            "showbackground": true,
            "ticks": "",
            "zerolinecolor": "white"
           },
           "yaxis": {
            "backgroundcolor": "#E5ECF6",
            "gridcolor": "white",
            "gridwidth": 2,
            "linecolor": "white",
            "showbackground": true,
            "ticks": "",
            "zerolinecolor": "white"
           },
           "zaxis": {
            "backgroundcolor": "#E5ECF6",
            "gridcolor": "white",
            "gridwidth": 2,
            "linecolor": "white",
            "showbackground": true,
            "ticks": "",
            "zerolinecolor": "white"
           }
          },
          "shapedefaults": {
           "line": {
            "color": "#2a3f5f"
           }
          },
          "ternary": {
           "aaxis": {
            "gridcolor": "white",
            "linecolor": "white",
            "ticks": ""
           },
           "baxis": {
            "gridcolor": "white",
            "linecolor": "white",
            "ticks": ""
           },
           "bgcolor": "#E5ECF6",
           "caxis": {
            "gridcolor": "white",
            "linecolor": "white",
            "ticks": ""
           }
          },
          "title": {
           "x": 0.05
          },
          "xaxis": {
           "automargin": true,
           "gridcolor": "white",
           "linecolor": "white",
           "ticks": "",
           "title": {
            "standoff": 15
           },
           "zerolinecolor": "white",
           "zerolinewidth": 2
          },
          "yaxis": {
           "automargin": true,
           "gridcolor": "white",
           "linecolor": "white",
           "ticks": "",
           "title": {
            "standoff": 15
           },
           "zerolinecolor": "white",
           "zerolinewidth": 2
          }
         }
        },
        "title": {
         "text": "Trade Setup on 2025-06-02: BUY | PnL: -14.03 pips"
        },
        "xaxis": {
         "rangeslider": {
          "visible": false
         }
        },
        "yaxis": {
         "title": {
          "text": "Price"
         }
        }
       }
      }
     },
     "metadata": {},
     "output_type": "display_data"
    },
    {
     "data": {
      "application/vnd.plotly.v1+json": {
       "config": {
        "plotlyServerURL": "https://plot.ly"
       },
       "data": [
        {
         "close": {
          "bdata": "nYAmwoYn8j9N845TdCTyPxnFckurIfI//B2KAn0i8j+N0TqqmiDyP6bQeY1dIvI/Ga2jqgki8j8z3IDPDyPyP952oblOI/I/FjWYhuEj8j/a/pWVJiXyPzBMpgpGJfI/+b1Nf/Yj8j9pOjsZHCXyP/rt68A5I/I/N2xblNkg8j/edqG5TiPyP6SIDKt4I/I/o1huaTUk8j8Spb3BFybyP2gibHh6JfI/2ubG9IQl8j/5vU1/9iPyP8a/z7hwIPI/rthfdk8e8j+N0TqqmiDyP1TjpZvEIPI/N2xblNkg8j+OAdnr3R/yP5BJRs7CHvI/HCWvzjEg8j+QMXctIR/yP+RO6WD9H/I/VOOlm8Qg8j/+fcaFAyHyP1UTRN0HIPI/yR8MPPce8j8B3gIJih/yPwHeAgmKH/I/priq7Lsi8j/8NVmjHiLyP6gAGM+gIfI/AK5kx0Yg8j+MuWsJ+SDyP276sx8pIvI/G/UQje4g8j/kZrgBnx/yP43ROqqaIPI/q3gj88gf8j/Ed2LWiyHyP28qUmFsIfI/xr/PuHAg8j/9TShEwCHyP+HurN12IfI/Njy9UpYh8j/+ZffkYSHyP1TjpZvEIPI/xY8xdy0h8j9zol2FlB/yP/+VlSalIPI/Tgte9BUk8j8XZTbIJCPyP2pq2VpfJPI/DhXj/E0o8j+EgefewyXyP2JKJNHLKPI/71UrE34p8j+g4GJFDSbyP+utga0SLPI/CD2bVZ8r8j+g4GJFDSbyP4NRSZ2AJvI/1m670Fwn8j+h+DHmriXyP9eGinH+JvI/9S1zuiwm8j+muKrsuyLyP6pgVFInIPI/N2xblNkg8j81JO6x9CHyP8Iv9fOmIvI/PSzUmuYd8j/Mf0i/fR3yP3Tqymd5HvI/QbyuX7Ab8j8Fbt3NUx3yP44B2evdH/I//n3GhQMh8j86zJcXYB/yP6a4quy7IvI/VOOlm8Qg8j/FjzF3LSHyP1TjpZvEIPI/wi/186Yi8j+N0TqqmiDyP0gzFk1nJ/I/7j1cctwp8j+YwK27eSryP0W7Cik/KfI/KETAIVQp8j8=",
          "dtype": "f8"
         },
         "high": {
          "bdata": "0/avrDQp8j/VPh2PGSjyP/ZFQlvOJfI/+u3rwDkj8j/CL/XzpiLyPxiV1AloIvI//B2KAn0i8j8WTWcngyPyP6SIDKt4I/I/FAX6RJ4k8j/a/pWVJiXyP2cKndfYJfI/g2kYPiIm8j8QdR+A1CbyP/Utc7osJvI/iBHCo40j8j+kiAyreCPyP2uad5yiI/I/FAX6RJ4k8j/0FaQZiybyP2ba/pWVJvI/LzTXaaQl8j9LqyFxjyXyP9xGA3gLJPI/qkiFsYUg8j8a3UHsTCHyP28qUmFsIfI/GcVyS6sh8j9Ty9b6IiHyP3Fyv0NRIPI/4gZ8fhgh8j+O6QlLPCDyP8fXnlkSIPI/U7MHWoEh8j/FjzF3LSHyP3BCIQIOIfI/VRNE3Qcg8j+O6QlLPCDyPxv1EI3uIPI/priq7Lsi8j+muKrsuyLyPzUMHxFTIvI/Njy9UpYh8j/+ZffkYSHyPxiV1AloIvI//B2KAn0i8j/+ZffkYSHyP1TjpZvEIPI/cVrwoq8g8j81DB8RUyLyP4tx/iYUIvI/4e6s3XYh8j/8HYoCfSLyP9+mP/uRIvI/xF+TNeoh8j8XZTbIJCPyPzUMHxFTIvI/bvqzHyki8j82PL1SliHyP/59xoUDIfI/amrZWl8k8j++nxov3STyP4EJ3LqbJ/I/tU/HYwYq8j+3lzRG6yjyP2Eaho+IKfI/0ZZzKa4q8j/RlnMpriryP5VIopdRLPI/XFoNiXss8j/ONjemJyzyP9ZW7C+7J/I/KnReY5co8j8qjC0EOSjyP/LNNjemJ/I/8s02N6Yn8j+7D0BqEyfyP2uCqPsAJPI/wi/186Yi8j81JO6x9CHyP/m9TX/2I/I/UFPL1voi8j+reCPzyB/yPwHeAgmKH/I/WHOAYI4e8j89LNSa5h3yP3KKjuTyH/I/UFPL1voi8j+oGOdvQiHyP23KFd7lIvI/+b1Nf/Yj8j8YldQJaCLyP4gRwqONI/I/NPRPcLEi8j8z3IDPDyPyPw9FgT6RJ/I/ezGUE+0q8j/s3R/vVSvyP1xaDYl7LPI/zjY3pics8j8=",
          "dtype": "f8"
         },
         "low": {
          "bdata": "ZapgVFIn8j/A54cRwiPyP8R3YtaLIfI//n3GhQMh8j8AxjNo6B/yP44B2evdH/I/VOOlm8Qg8j82PL1SliHyP8WPMXctIfI/Ga2jqgki8j/fpj/7kSLyPxY1mIbhI/I/4L4OnDMi8j9tyhXe5SLyP23KFd7lIvI/HCWvzjEg8j9yio7k8h/yP4tx/iYUIvI/UFPL1voi8j/cRgN4CyTyPxQF+kSeJPI/vp8aL90k8j/ejnBa8CLyP1UTRN0HIPI/Az4/jBAe8j+u8C4X8R3yP3KKjuTyH/I/HCWvzjEg8j9XW7G/7B7yP1hzgGCOHvI/rcCQ1a0e8j8gtYmT+x3yP8kfDDz3HvI/q3gj88gf8j9VE0TdByDyP8jvbfqzH/I/58b0hCUe8j/mllZD4h7yPwHeAgmKH/I/rJDyk2of8j+MuWsJ+SDyP+IGfH4YIfI/kDF3LSEf8j/mllZD4h7yP3Fa8KKvIPI/cVrwoq8g8j9zol2FlB/yP1hzgGCOHvI/Hm0csRYf8j8dVU0QdR/yP+IGfH4YIfI/c6JdhZQf8j/Gv8+4cCDyP1PL1voiIfI/cVrwoq8g8j+MuWsJ+SDyP1TjpZvEIPI/qkiFsYUg8j8B3gIJih/yPyC1iZP7HfI//5WVJqUg8j/ejnBa8CLyP6a4quy7IvI/3C4012kk8j8wTKYKRiXyPy8012mkJfI/1A5/TdYo8j9N27+y0iTyPy4cCMkCJvI/JxQi4BAq8j+EgefewyXyP/iNrz2zJPI/S5NS0O0l8j9Mw/ARMSXyPxTtKqT8JPI/S5NS0O0l8j/8HYoCfSLyP8gHPZtVH/I/jgHZ690f8j8dVU0QdR/yP4yhnGhXIfI/dhppqbwd8j8LXvQVpBnyPwVu3c1THfI/Cf63kh0b8j98CoDxDBryP+kmMQisHPI/5Ga4AZ8f8j8CDqFKzR7yPzrMlxdgH/I/Vft0PGYg8j/I7236sx/yPzrMlxdgH/I/rKjBNAwf8j+RYRVvZB7yPzmc+dUcIPI/9S1zuiwm8j8QXVDfMifyP9P2r6w0KfI/0/avrDQp8j8=",
          "dtype": "f8"
         },
         "name": "Candles",
         "open": {
          "bdata": "DOVEuwop8j8PRYE+kSfyP9wuNNdpJPI//U0oRMAh8j/8HYoCfSLyP/+VlSalIPI/NQwfEVMi8j+Lcf4mFCLyP1BTy9b6IvI/wf9WsmMj8j8WNZiG4SPyP2k6OxkcJfI/E9VbA1sl8j/cRgN4CyTyPxTtKqT8JPI/3nahuU4j8j83bFuU2SDyP087/DVZI/I/M8SxLm4j8j8VHcnlPyTyPxKlvcEXJvI/9l0R/G8l8j/a5sb0hCXyPxY1mIbhI/I/xr/PuHAg8j8fnbryWR7yP43ROqqaIPI/xqcAGM8g8j/+fcaFAyHyPzm0yHa+H/I/Ag6hSs0e8j+qYFRSJyDyP6yowTQMH/I/VRNE3Qcg8j9xWvCiryDyP/59xoUDIfI/coqO5PIf8j/JHww89x7yP+RmuAGfH/I/Ad4CCYof8j+muKrsuyLyP276sx8pIvI/Njy9UpYh8j9xcr9DUSDyP/59xoUDIfI/4L4OnDMi8j8b9RCN7iDyP3OiXYWUH/I/jdE6qpog8j/I7236sx/yP1OzB1qBIfI/4e6s3XYh8j/Gv8+4cCDyP/1NKETAIfI/bypSYWwh8j9TswdagSHyP1OzB1qBIfI/VOOlm8Qg8j9Ty9b6IiHyP+RmuAGfH/I/cVrwoq8g8j+jWG5pNSTyPxdlNsgkI/I/3C4012kk8j8qjC0EOSjyP2cKndfYJfI/RtPZyeAo8j9hGoaPiCnyP2fyzTY3JvI/662BrRIs8j+WeEDZlCvyPy4cCMkCJvI/g1FJnYAm8j9IMxZNZyfyPxK9jGK5JfI/npj1Yign8j/YtiizQSbyP4lBYOXQIvI/OZz51Rwg8j+pMLYQ5CDyP4tx/iYUIvI/36Y/+5Ei8j89LNSa5h3yP68I/reSHfI/WHOAYI4e8j9BvK5fsBvyPwVu3c1THfI/jgHZ690f8j/+fcaFAyHyPzrMlxdgH/I/priq7Lsi8j83bFuU2SDyP8WPMXctIfI/xqcAGM8g8j/CL/XzpiLyP43ROqqaIPI/ZapgVFIn8j8oLPGAsinyP3tJY7SOKvI/t39lpUkp8j8=",
          "dtype": "f8"
         },
         "type": "candlestick",
         "x": [
          "2025-05-30T06:55:00+00:00",
          "2025-05-30T07:00:00+00:00",
          "2025-05-30T07:05:00+00:00",
          "2025-05-30T07:10:00+00:00",
          "2025-05-30T07:15:00+00:00",
          "2025-05-30T07:20:00+00:00",
          "2025-05-30T07:25:00+00:00",
          "2025-05-30T07:30:00+00:00",
          "2025-05-30T07:35:00+00:00",
          "2025-05-30T07:40:00+00:00",
          "2025-05-30T07:45:00+00:00",
          "2025-05-30T07:50:00+00:00",
          "2025-05-30T07:55:00+00:00",
          "2025-05-30T08:00:00+00:00",
          "2025-05-30T08:05:00+00:00",
          "2025-05-30T08:10:00+00:00",
          "2025-05-30T08:15:00+00:00",
          "2025-05-30T08:20:00+00:00",
          "2025-05-30T08:25:00+00:00",
          "2025-05-30T08:30:00+00:00",
          "2025-05-30T08:35:00+00:00",
          "2025-05-30T08:40:00+00:00",
          "2025-05-30T08:45:00+00:00",
          "2025-05-30T08:50:00+00:00",
          "2025-05-30T08:55:00+00:00",
          "2025-05-30T09:00:00+00:00",
          "2025-05-30T09:05:00+00:00",
          "2025-05-30T09:10:00+00:00",
          "2025-05-30T09:15:00+00:00",
          "2025-05-30T09:20:00+00:00",
          "2025-05-30T09:25:00+00:00",
          "2025-05-30T09:30:00+00:00",
          "2025-05-30T09:35:00+00:00",
          "2025-05-30T09:40:00+00:00",
          "2025-05-30T09:45:00+00:00",
          "2025-05-30T09:50:00+00:00",
          "2025-05-30T09:55:00+00:00",
          "2025-05-30T10:00:00+00:00",
          "2025-05-30T10:05:00+00:00",
          "2025-05-30T10:10:00+00:00",
          "2025-05-30T10:15:00+00:00",
          "2025-05-30T10:20:00+00:00",
          "2025-05-30T10:25:00+00:00",
          "2025-05-30T10:30:00+00:00",
          "2025-05-30T10:35:00+00:00",
          "2025-05-30T10:40:00+00:00",
          "2025-05-30T10:45:00+00:00",
          "2025-05-30T10:50:00+00:00",
          "2025-05-30T10:55:00+00:00",
          "2025-05-30T11:00:00+00:00",
          "2025-05-30T11:05:00+00:00",
          "2025-05-30T11:10:00+00:00",
          "2025-05-30T11:15:00+00:00",
          "2025-05-30T11:20:00+00:00",
          "2025-05-30T11:25:00+00:00",
          "2025-05-30T11:30:00+00:00",
          "2025-05-30T11:35:00+00:00",
          "2025-05-30T11:40:00+00:00",
          "2025-05-30T11:45:00+00:00",
          "2025-05-30T11:50:00+00:00",
          "2025-05-30T11:55:00+00:00",
          "2025-05-30T12:00:00+00:00",
          "2025-05-30T12:05:00+00:00",
          "2025-05-30T12:10:00+00:00",
          "2025-05-30T12:15:00+00:00",
          "2025-05-30T12:20:00+00:00",
          "2025-05-30T12:25:00+00:00",
          "2025-05-30T12:30:00+00:00",
          "2025-05-30T12:35:00+00:00",
          "2025-05-30T12:40:00+00:00",
          "2025-05-30T12:45:00+00:00",
          "2025-05-30T12:50:00+00:00",
          "2025-05-30T12:55:00+00:00",
          "2025-05-30T13:00:00+00:00",
          "2025-05-30T13:05:00+00:00",
          "2025-05-30T13:10:00+00:00",
          "2025-05-30T13:15:00+00:00",
          "2025-05-30T13:20:00+00:00",
          "2025-05-30T13:25:00+00:00",
          "2025-05-30T13:30:00+00:00",
          "2025-05-30T13:35:00+00:00",
          "2025-05-30T13:40:00+00:00",
          "2025-05-30T13:45:00+00:00",
          "2025-05-30T13:50:00+00:00",
          "2025-05-30T13:55:00+00:00",
          "2025-05-30T14:00:00+00:00",
          "2025-05-30T14:05:00+00:00",
          "2025-05-30T14:10:00+00:00",
          "2025-05-30T14:15:00+00:00",
          "2025-05-30T14:20:00+00:00",
          "2025-05-30T14:25:00+00:00",
          "2025-05-30T14:30:00+00:00",
          "2025-05-30T14:35:00+00:00",
          "2025-05-30T14:40:00+00:00",
          "2025-05-30T14:45:00+00:00",
          "2025-05-30T14:50:00+00:00",
          "2025-05-30T14:55:00+00:00",
          "2025-05-30T15:00:00+00:00",
          "2025-05-30T15:05:00+00:00",
          "2025-05-30T15:10:00+00:00"
         ]
        },
        {
         "line": {
          "color": "blue",
          "width": 1
         },
         "mode": "lines",
         "name": "40 EMA",
         "type": "scatter",
         "x": [
          "2025-05-30T06:55:00+00:00",
          "2025-05-30T07:00:00+00:00",
          "2025-05-30T07:05:00+00:00",
          "2025-05-30T07:10:00+00:00",
          "2025-05-30T07:15:00+00:00",
          "2025-05-30T07:20:00+00:00",
          "2025-05-30T07:25:00+00:00",
          "2025-05-30T07:30:00+00:00",
          "2025-05-30T07:35:00+00:00",
          "2025-05-30T07:40:00+00:00",
          "2025-05-30T07:45:00+00:00",
          "2025-05-30T07:50:00+00:00",
          "2025-05-30T07:55:00+00:00",
          "2025-05-30T08:00:00+00:00",
          "2025-05-30T08:05:00+00:00",
          "2025-05-30T08:10:00+00:00",
          "2025-05-30T08:15:00+00:00",
          "2025-05-30T08:20:00+00:00",
          "2025-05-30T08:25:00+00:00",
          "2025-05-30T08:30:00+00:00",
          "2025-05-30T08:35:00+00:00",
          "2025-05-30T08:40:00+00:00",
          "2025-05-30T08:45:00+00:00",
          "2025-05-30T08:50:00+00:00",
          "2025-05-30T08:55:00+00:00",
          "2025-05-30T09:00:00+00:00",
          "2025-05-30T09:05:00+00:00",
          "2025-05-30T09:10:00+00:00",
          "2025-05-30T09:15:00+00:00",
          "2025-05-30T09:20:00+00:00",
          "2025-05-30T09:25:00+00:00",
          "2025-05-30T09:30:00+00:00",
          "2025-05-30T09:35:00+00:00",
          "2025-05-30T09:40:00+00:00",
          "2025-05-30T09:45:00+00:00",
          "2025-05-30T09:50:00+00:00",
          "2025-05-30T09:55:00+00:00",
          "2025-05-30T10:00:00+00:00",
          "2025-05-30T10:05:00+00:00",
          "2025-05-30T10:10:00+00:00",
          "2025-05-30T10:15:00+00:00",
          "2025-05-30T10:20:00+00:00",
          "2025-05-30T10:25:00+00:00",
          "2025-05-30T10:30:00+00:00",
          "2025-05-30T10:35:00+00:00",
          "2025-05-30T10:40:00+00:00",
          "2025-05-30T10:45:00+00:00",
          "2025-05-30T10:50:00+00:00",
          "2025-05-30T10:55:00+00:00",
          "2025-05-30T11:00:00+00:00",
          "2025-05-30T11:05:00+00:00",
          "2025-05-30T11:10:00+00:00",
          "2025-05-30T11:15:00+00:00",
          "2025-05-30T11:20:00+00:00",
          "2025-05-30T11:25:00+00:00",
          "2025-05-30T11:30:00+00:00",
          "2025-05-30T11:35:00+00:00",
          "2025-05-30T11:40:00+00:00",
          "2025-05-30T11:45:00+00:00",
          "2025-05-30T11:50:00+00:00",
          "2025-05-30T11:55:00+00:00",
          "2025-05-30T12:00:00+00:00",
          "2025-05-30T12:05:00+00:00",
          "2025-05-30T12:10:00+00:00",
          "2025-05-30T12:15:00+00:00",
          "2025-05-30T12:20:00+00:00",
          "2025-05-30T12:25:00+00:00",
          "2025-05-30T12:30:00+00:00",
          "2025-05-30T12:35:00+00:00",
          "2025-05-30T12:40:00+00:00",
          "2025-05-30T12:45:00+00:00",
          "2025-05-30T12:50:00+00:00",
          "2025-05-30T12:55:00+00:00",
          "2025-05-30T13:00:00+00:00",
          "2025-05-30T13:05:00+00:00",
          "2025-05-30T13:10:00+00:00",
          "2025-05-30T13:15:00+00:00",
          "2025-05-30T13:20:00+00:00",
          "2025-05-30T13:25:00+00:00",
          "2025-05-30T13:30:00+00:00",
          "2025-05-30T13:35:00+00:00",
          "2025-05-30T13:40:00+00:00",
          "2025-05-30T13:45:00+00:00",
          "2025-05-30T13:50:00+00:00",
          "2025-05-30T13:55:00+00:00",
          "2025-05-30T14:00:00+00:00",
          "2025-05-30T14:05:00+00:00",
          "2025-05-30T14:10:00+00:00",
          "2025-05-30T14:15:00+00:00",
          "2025-05-30T14:20:00+00:00",
          "2025-05-30T14:25:00+00:00",
          "2025-05-30T14:30:00+00:00",
          "2025-05-30T14:35:00+00:00",
          "2025-05-30T14:40:00+00:00",
          "2025-05-30T14:45:00+00:00",
          "2025-05-30T14:50:00+00:00",
          "2025-05-30T14:55:00+00:00",
          "2025-05-30T15:00:00+00:00",
          "2025-05-30T15:05:00+00:00",
          "2025-05-30T15:10:00+00:00"
         ],
         "y": {
          "bdata": "hAE1e0Io8j9oqSb2EijyP3fWT/rCJ/I/nDctIIEn8j+Cr/X0KifyP/pGZvzuJvI/wxMx2bEm8j9xgQ97hCbyPwUdI2VcJvI/olwDbT0m8j8iDeXSLybyPwPYd2skJvI/Tpg9NAkm8j8RNlCj/SXyP4ZLZBvbJfI/Yzrtl5wl8j+hEcTRfyXyPz3ftH5mJfI/CmLjnFcl8j8dLVj8YCXyP72WlzpiJfI/bXtC7GMl8j90X+UYUiXyP0zO8CYVJfI/8zj2lMAk8j8gU/PHjCTyP/chmI1dJPI/ilfmpjEk8j/PeMad+yPyP5Mr8me6I/I/rYJ+R44j8j8upIoBVyPyPx48qCstI/I/l/8kGA8j8j8G8+GN9SLyP2i85vvQIvI/7wUO5qAi8j/8A+hReiLyP0ZshZ9VIvI/RF0KnVoi8j9TdBSwVyLyPwYRU8ROIvI/wc3QZjUi8j81Cx34JSLyP6IQgh8mIvI/PkGo7BYi8j8OXGQZ+CHyP3K/uQ3nIfI/+NQJnMwh8j8IYC1zySHyPxO78OjEIfI/siu9ULQh8j+Dl/rltCHyP092VN+xIfI/0RVNh7Ah8j+nZFWxrCHyP3fhGl+hIfI/PNext5sh8j+2ohFkgiHyP47HQ5l3IfI/X76JTJgh8j96372jqyHyP203v2HNIfI/JKYFlR4i8j/kfr8bTCLyP3rm0EOdIvI/O6d3KPMi8j/19DHlGSPyPyBo9+6JI/I/adY94e4j8j/JU4RWCSTyP7khxiEoJPI/xvlOKlAk8j/QlTRGYSTyP+8qqeqBJPI/3AuavJYk8j+BMz2TfyTyP/Q7olFJJPI/rMeeZx4k8j9PTwBlAyTyP5MVu2XyI/I/N/Ey5aYj8j84xhT2WSPyPygZXA4dI/I/h3gCV8Ai8j9bGj+bfCLyP8523ONbIvI/Zn13F0si8j/UKRWnJiLyP1vyKO8tIvI/Fhf9Thwi8j/sTl2oECLyP7/+ynUAIvI/0UXslAgi8j92+2y79iHyP2A2jqk6IvI/IqcI+Jki8j/DGIFM/CLyPwjDuXxKI/I//SZv4pUj8j8=",
          "dtype": "f8"
         }
        },
        {
         "line": {
          "color": "purple",
          "width": 1.5
         },
         "mode": "lines",
         "name": "100 EMA",
         "type": "scatter",
         "x": [
          "2025-05-30T06:55:00+00:00",
          "2025-05-30T07:00:00+00:00",
          "2025-05-30T07:05:00+00:00",
          "2025-05-30T07:10:00+00:00",
          "2025-05-30T07:15:00+00:00",
          "2025-05-30T07:20:00+00:00",
          "2025-05-30T07:25:00+00:00",
          "2025-05-30T07:30:00+00:00",
          "2025-05-30T07:35:00+00:00",
          "2025-05-30T07:40:00+00:00",
          "2025-05-30T07:45:00+00:00",
          "2025-05-30T07:50:00+00:00",
          "2025-05-30T07:55:00+00:00",
          "2025-05-30T08:00:00+00:00",
          "2025-05-30T08:05:00+00:00",
          "2025-05-30T08:10:00+00:00",
          "2025-05-30T08:15:00+00:00",
          "2025-05-30T08:20:00+00:00",
          "2025-05-30T08:25:00+00:00",
          "2025-05-30T08:30:00+00:00",
          "2025-05-30T08:35:00+00:00",
          "2025-05-30T08:40:00+00:00",
          "2025-05-30T08:45:00+00:00",
          "2025-05-30T08:50:00+00:00",
          "2025-05-30T08:55:00+00:00",
          "2025-05-30T09:00:00+00:00",
          "2025-05-30T09:05:00+00:00",
          "2025-05-30T09:10:00+00:00",
          "2025-05-30T09:15:00+00:00",
          "2025-05-30T09:20:00+00:00",
          "2025-05-30T09:25:00+00:00",
          "2025-05-30T09:30:00+00:00",
          "2025-05-30T09:35:00+00:00",
          "2025-05-30T09:40:00+00:00",
          "2025-05-30T09:45:00+00:00",
          "2025-05-30T09:50:00+00:00",
          "2025-05-30T09:55:00+00:00",
          "2025-05-30T10:00:00+00:00",
          "2025-05-30T10:05:00+00:00",
          "2025-05-30T10:10:00+00:00",
          "2025-05-30T10:15:00+00:00",
          "2025-05-30T10:20:00+00:00",
          "2025-05-30T10:25:00+00:00",
          "2025-05-30T10:30:00+00:00",
          "2025-05-30T10:35:00+00:00",
          "2025-05-30T10:40:00+00:00",
          "2025-05-30T10:45:00+00:00",
          "2025-05-30T10:50:00+00:00",
          "2025-05-30T10:55:00+00:00",
          "2025-05-30T11:00:00+00:00",
          "2025-05-30T11:05:00+00:00",
          "2025-05-30T11:10:00+00:00",
          "2025-05-30T11:15:00+00:00",
          "2025-05-30T11:20:00+00:00",
          "2025-05-30T11:25:00+00:00",
          "2025-05-30T11:30:00+00:00",
          "2025-05-30T11:35:00+00:00",
          "2025-05-30T11:40:00+00:00",
          "2025-05-30T11:45:00+00:00",
          "2025-05-30T11:50:00+00:00",
          "2025-05-30T11:55:00+00:00",
          "2025-05-30T12:00:00+00:00",
          "2025-05-30T12:05:00+00:00",
          "2025-05-30T12:10:00+00:00",
          "2025-05-30T12:15:00+00:00",
          "2025-05-30T12:20:00+00:00",
          "2025-05-30T12:25:00+00:00",
          "2025-05-30T12:30:00+00:00",
          "2025-05-30T12:35:00+00:00",
          "2025-05-30T12:40:00+00:00",
          "2025-05-30T12:45:00+00:00",
          "2025-05-30T12:50:00+00:00",
          "2025-05-30T12:55:00+00:00",
          "2025-05-30T13:00:00+00:00",
          "2025-05-30T13:05:00+00:00",
          "2025-05-30T13:10:00+00:00",
          "2025-05-30T13:15:00+00:00",
          "2025-05-30T13:20:00+00:00",
          "2025-05-30T13:25:00+00:00",
          "2025-05-30T13:30:00+00:00",
          "2025-05-30T13:35:00+00:00",
          "2025-05-30T13:40:00+00:00",
          "2025-05-30T13:45:00+00:00",
          "2025-05-30T13:50:00+00:00",
          "2025-05-30T13:55:00+00:00",
          "2025-05-30T14:00:00+00:00",
          "2025-05-30T14:05:00+00:00",
          "2025-05-30T14:10:00+00:00",
          "2025-05-30T14:15:00+00:00",
          "2025-05-30T14:20:00+00:00",
          "2025-05-30T14:25:00+00:00",
          "2025-05-30T14:30:00+00:00",
          "2025-05-30T14:35:00+00:00",
          "2025-05-30T14:40:00+00:00",
          "2025-05-30T14:45:00+00:00",
          "2025-05-30T14:50:00+00:00",
          "2025-05-30T14:55:00+00:00",
          "2025-05-30T15:00:00+00:00",
          "2025-05-30T15:05:00+00:00",
          "2025-05-30T15:10:00+00:00"
         ],
         "y": {
          "bdata": "422nAqsq8j9sH/2CiyryP0dxbIReKvI/eD8PkTYq8j9XHBDbBSryPzVarwnfKfI/9azXU7cp8j87NDGYlSnyP7VlesZ1KfI/6Sc+flkp8j/XODM1RCnyPxOchvcvKfI/T1h7exUp8j/QFQ1WASnyP6jVlwnkKPI/xE+jRrso8j9Fz6XHnyjyP+FgqqiFKPI/dwXmym8o8j+yDSLpYyjyP494RCZVKPI/Vu9i40Yo8j9XyOMEMSjyP+rZ4LkJKPI/qaT3adgn8j8nrb60syfyPy9iOo6QJ/I/7fc1hG4n8j8e+AMrSCfyP05IBfkcJ/I/HZFw5vkm8j+FyZsf0ibyP5gQr36vJvI/nORBf5Em8j91/tRWdSbyPxo0asFUJvI/yl4hay8m8j/52ku6DSbyP31FQLTsJfI/z5O+h9wl8j/kH+WPySXyPyWoVXq0JfI/2xyG9Zgl8j+2xNuDgSXyP/5njI5wJfI/MvaJtFkl8j+L3GSpPCXyP7tnNi0lJfI/1jL5AAol8j8JcStM+CTyPwhoqFHmJPI/402Nts8k8j+29wQzwCTyPw3UCoqvJPI/Wp781J8k8j+XScdljyTyPz1UjCx8JPI/8cRSaGsk8j/i8QbgUiTyP7AdIzpAJPI/Rj7YYz8k8j/M4zfLOSTyP3l5oIk6JPI/ykQyM08k8j9Z8mCUViTyPyFAqS1tJPI/8BIH3IYk8j/nxSSXjiTyP7TZ7rC0JPI/n/zdwNck8j/mOOjh3STyP1uAlizmJPI/u2uAqfIk8j/1srtj9iTyP5HVC7AAJfI/lVgLoQYl8j8Uz9sC+yTyP5HZxIriJPI/RmBdFs4k8j/159mkvyTyP78oMwS1JPI/yW9hg5Ik8j9r0OmdbiTyP7IIJmpQJPI/5V/psCQk8j8aW4sjAiTyPzPi+STtI/I/2aAwYd4j8j8IlQeaxyPyP2R8F03CI/I/WuaOI7Mj8j+bK3FapiPyPwyzlb6XI/I/mU3w+ZIj8j+v4K/rgyPyP+58k6GXI/I/4ffgaLcj8j8rXGus2SPyP+KamQf1I/I/UTZqQhAk8j8=",
          "dtype": "f8"
         }
        },
        {
         "marker": {
          "color": "red",
          "size": 9,
          "symbol": "triangle-down"
         },
         "mode": "markers",
         "name": "Pivot High",
         "type": "scatter",
         "x": [
          "2025-05-30T06:55:00+00:00",
          "2025-05-30T07:00:00+00:00",
          "2025-05-30T07:05:00+00:00",
          "2025-05-30T07:10:00+00:00",
          "2025-05-30T07:15:00+00:00",
          "2025-05-30T07:20:00+00:00",
          "2025-05-30T07:25:00+00:00",
          "2025-05-30T07:30:00+00:00",
          "2025-05-30T07:35:00+00:00",
          "2025-05-30T07:40:00+00:00",
          "2025-05-30T07:45:00+00:00",
          "2025-05-30T07:50:00+00:00",
          "2025-05-30T07:55:00+00:00",
          "2025-05-30T08:00:00+00:00",
          "2025-05-30T08:05:00+00:00",
          "2025-05-30T08:10:00+00:00",
          "2025-05-30T08:15:00+00:00",
          "2025-05-30T08:20:00+00:00",
          "2025-05-30T08:25:00+00:00",
          "2025-05-30T08:30:00+00:00",
          "2025-05-30T08:35:00+00:00",
          "2025-05-30T08:40:00+00:00",
          "2025-05-30T08:45:00+00:00",
          "2025-05-30T08:50:00+00:00",
          "2025-05-30T08:55:00+00:00",
          "2025-05-30T09:00:00+00:00",
          "2025-05-30T09:05:00+00:00",
          "2025-05-30T09:10:00+00:00",
          "2025-05-30T09:15:00+00:00",
          "2025-05-30T09:20:00+00:00",
          "2025-05-30T09:25:00+00:00",
          "2025-05-30T09:30:00+00:00",
          "2025-05-30T09:35:00+00:00",
          "2025-05-30T09:40:00+00:00",
          "2025-05-30T09:45:00+00:00",
          "2025-05-30T09:50:00+00:00",
          "2025-05-30T09:55:00+00:00",
          "2025-05-30T10:00:00+00:00",
          "2025-05-30T10:05:00+00:00",
          "2025-05-30T10:10:00+00:00",
          "2025-05-30T10:15:00+00:00",
          "2025-05-30T10:20:00+00:00",
          "2025-05-30T10:25:00+00:00",
          "2025-05-30T10:30:00+00:00",
          "2025-05-30T10:35:00+00:00",
          "2025-05-30T10:40:00+00:00",
          "2025-05-30T10:45:00+00:00",
          "2025-05-30T10:50:00+00:00",
          "2025-05-30T10:55:00+00:00",
          "2025-05-30T11:00:00+00:00",
          "2025-05-30T11:05:00+00:00",
          "2025-05-30T11:10:00+00:00",
          "2025-05-30T11:15:00+00:00",
          "2025-05-30T11:20:00+00:00",
          "2025-05-30T11:25:00+00:00",
          "2025-05-30T11:30:00+00:00",
          "2025-05-30T11:35:00+00:00",
          "2025-05-30T11:40:00+00:00",
          "2025-05-30T11:45:00+00:00",
          "2025-05-30T11:50:00+00:00",
          "2025-05-30T11:55:00+00:00",
          "2025-05-30T12:00:00+00:00",
          "2025-05-30T12:05:00+00:00",
          "2025-05-30T12:10:00+00:00",
          "2025-05-30T12:15:00+00:00",
          "2025-05-30T12:20:00+00:00",
          "2025-05-30T12:25:00+00:00",
          "2025-05-30T12:30:00+00:00",
          "2025-05-30T12:35:00+00:00",
          "2025-05-30T12:40:00+00:00",
          "2025-05-30T12:45:00+00:00",
          "2025-05-30T12:50:00+00:00",
          "2025-05-30T12:55:00+00:00",
          "2025-05-30T13:00:00+00:00",
          "2025-05-30T13:05:00+00:00",
          "2025-05-30T13:10:00+00:00",
          "2025-05-30T13:15:00+00:00",
          "2025-05-30T13:20:00+00:00",
          "2025-05-30T13:25:00+00:00",
          "2025-05-30T13:30:00+00:00",
          "2025-05-30T13:35:00+00:00",
          "2025-05-30T13:40:00+00:00",
          "2025-05-30T13:45:00+00:00",
          "2025-05-30T13:50:00+00:00",
          "2025-05-30T13:55:00+00:00",
          "2025-05-30T14:00:00+00:00",
          "2025-05-30T14:05:00+00:00",
          "2025-05-30T14:10:00+00:00",
          "2025-05-30T14:15:00+00:00",
          "2025-05-30T14:20:00+00:00",
          "2025-05-30T14:25:00+00:00",
          "2025-05-30T14:30:00+00:00",
          "2025-05-30T14:35:00+00:00",
          "2025-05-30T14:40:00+00:00",
          "2025-05-30T14:45:00+00:00",
          "2025-05-30T14:50:00+00:00",
          "2025-05-30T14:55:00+00:00",
          "2025-05-30T15:00:00+00:00",
          "2025-05-30T15:05:00+00:00",
          "2025-05-30T15:10:00+00:00"
         ],
         "y": {
          "bdata": "AAAAAAAA+H8AAAAAAAD4fwAAAAAAAPh/AAAAAAAA+H99eQH20SnyPwAAAAAAAPh/AAAAAAAA+H8AAAAAAAD4fwAAAAAAAPh/AAAAAAAA+H8AAAAAAAD4fwAAAAAAAPh/AAAAAAAA+H8AAAAAAAD4fwAAAAAAAPh/AAAAAAAA+H8AAAAAAAD4fwAAAAAAAPh/EHUfgNQm8j8AAAAAAAD4fwAAAAAAAPh/AAAAAAAA+H8AAAAAAAD4fwAAAAAAAPh/AAAAAAAA+H9m2v6VlSbyPwAAAAAAAPh/AAAAAAAA+H8AAAAAAAD4fwAAAAAAAPh/AAAAAAAA+H8AAAAAAAD4fwAAAAAAAPh/AAAAAAAA+H8AAAAAAAD4fwAAAAAAAPh/AAAAAAAA+H8AAAAAAAD4fwAAAAAAAPh/AAAAAAAA+H8AAAAAAAD4fwAAAAAAAPh/AAAAAAAA+H8AAAAAAAD4fwAAAAAAAPh/AAAAAAAA+H8AAAAAAAD4fwAAAAAAAPh/AAAAAAAA+H8AAAAAAAD4fwAAAAAAAPh/AAAAAAAA+H8AAAAAAAD4fwAAAAAAAPh/AAAAAAAA+H8AAAAAAAD4fwAAAAAAAPh/AAAAAAAA+H8AAAAAAAD4fwAAAAAAAPh/F2U2yCQj8j8AAAAAAAD4fwAAAAAAAPh/AAAAAAAA+H8AAAAAAAD4fwAAAAAAAPh/AAAAAAAA+H8AAAAAAAD4fwAAAAAAAPh/AAAAAAAA+H8AAAAAAAD4fwAAAAAAAPh/AAAAAAAA+H8AAAAAAAD4f1xaDYl7LPI/AAAAAAAA+H8AAAAAAAD4fwAAAAAAAPh/AAAAAAAA+H8AAAAAAAD4fwAAAAAAAPh/AAAAAAAA+H8AAAAAAAD4fwAAAAAAAPh/AAAAAAAA+H8AAAAAAAD4fwAAAAAAAPh/AAAAAAAA+H8AAAAAAAD4fwAAAAAAAPh/AAAAAAAA+H8AAAAAAAD4fwAAAAAAAPh/AAAAAAAA+H8AAAAAAAD4fwAAAAAAAPh/AAAAAAAA+H8AAAAAAAD4fwAAAAAAAPh/AAAAAAAA+H8=",
          "dtype": "f8"
         }
        },
        {
         "marker": {
          "color": "lime",
          "size": 9,
          "symbol": "triangle-up"
         },
         "mode": "markers",
         "name": "Pivot Low",
         "type": "scatter",
         "x": [
          "2025-05-30T06:55:00+00:00",
          "2025-05-30T07:00:00+00:00",
          "2025-05-30T07:05:00+00:00",
          "2025-05-30T07:10:00+00:00",
          "2025-05-30T07:15:00+00:00",
          "2025-05-30T07:20:00+00:00",
          "2025-05-30T07:25:00+00:00",
          "2025-05-30T07:30:00+00:00",
          "2025-05-30T07:35:00+00:00",
          "2025-05-30T07:40:00+00:00",
          "2025-05-30T07:45:00+00:00",
          "2025-05-30T07:50:00+00:00",
          "2025-05-30T07:55:00+00:00",
          "2025-05-30T08:00:00+00:00",
          "2025-05-30T08:05:00+00:00",
          "2025-05-30T08:10:00+00:00",
          "2025-05-30T08:15:00+00:00",
          "2025-05-30T08:20:00+00:00",
          "2025-05-30T08:25:00+00:00",
          "2025-05-30T08:30:00+00:00",
          "2025-05-30T08:35:00+00:00",
          "2025-05-30T08:40:00+00:00",
          "2025-05-30T08:45:00+00:00",
          "2025-05-30T08:50:00+00:00",
          "2025-05-30T08:55:00+00:00",
          "2025-05-30T09:00:00+00:00",
          "2025-05-30T09:05:00+00:00",
          "2025-05-30T09:10:00+00:00",
          "2025-05-30T09:15:00+00:00",
          "2025-05-30T09:20:00+00:00",
          "2025-05-30T09:25:00+00:00",
          "2025-05-30T09:30:00+00:00",
          "2025-05-30T09:35:00+00:00",
          "2025-05-30T09:40:00+00:00",
          "2025-05-30T09:45:00+00:00",
          "2025-05-30T09:50:00+00:00",
          "2025-05-30T09:55:00+00:00",
          "2025-05-30T10:00:00+00:00",
          "2025-05-30T10:05:00+00:00",
          "2025-05-30T10:10:00+00:00",
          "2025-05-30T10:15:00+00:00",
          "2025-05-30T10:20:00+00:00",
          "2025-05-30T10:25:00+00:00",
          "2025-05-30T10:30:00+00:00",
          "2025-05-30T10:35:00+00:00",
          "2025-05-30T10:40:00+00:00",
          "2025-05-30T10:45:00+00:00",
          "2025-05-30T10:50:00+00:00",
          "2025-05-30T10:55:00+00:00",
          "2025-05-30T11:00:00+00:00",
          "2025-05-30T11:05:00+00:00",
          "2025-05-30T11:10:00+00:00",
          "2025-05-30T11:15:00+00:00",
          "2025-05-30T11:20:00+00:00",
          "2025-05-30T11:25:00+00:00",
          "2025-05-30T11:30:00+00:00",
          "2025-05-30T11:35:00+00:00",
          "2025-05-30T11:40:00+00:00",
          "2025-05-30T11:45:00+00:00",
          "2025-05-30T11:50:00+00:00",
          "2025-05-30T11:55:00+00:00",
          "2025-05-30T12:00:00+00:00",
          "2025-05-30T12:05:00+00:00",
          "2025-05-30T12:10:00+00:00",
          "2025-05-30T12:15:00+00:00",
          "2025-05-30T12:20:00+00:00",
          "2025-05-30T12:25:00+00:00",
          "2025-05-30T12:30:00+00:00",
          "2025-05-30T12:35:00+00:00",
          "2025-05-30T12:40:00+00:00",
          "2025-05-30T12:45:00+00:00",
          "2025-05-30T12:50:00+00:00",
          "2025-05-30T12:55:00+00:00",
          "2025-05-30T13:00:00+00:00",
          "2025-05-30T13:05:00+00:00",
          "2025-05-30T13:10:00+00:00",
          "2025-05-30T13:15:00+00:00",
          "2025-05-30T13:20:00+00:00",
          "2025-05-30T13:25:00+00:00",
          "2025-05-30T13:30:00+00:00",
          "2025-05-30T13:35:00+00:00",
          "2025-05-30T13:40:00+00:00",
          "2025-05-30T13:45:00+00:00",
          "2025-05-30T13:50:00+00:00",
          "2025-05-30T13:55:00+00:00",
          "2025-05-30T14:00:00+00:00",
          "2025-05-30T14:05:00+00:00",
          "2025-05-30T14:10:00+00:00",
          "2025-05-30T14:15:00+00:00",
          "2025-05-30T14:20:00+00:00",
          "2025-05-30T14:25:00+00:00",
          "2025-05-30T14:30:00+00:00",
          "2025-05-30T14:35:00+00:00",
          "2025-05-30T14:40:00+00:00",
          "2025-05-30T14:45:00+00:00",
          "2025-05-30T14:50:00+00:00",
          "2025-05-30T14:55:00+00:00",
          "2025-05-30T15:00:00+00:00",
          "2025-05-30T15:05:00+00:00",
          "2025-05-30T15:10:00+00:00"
         ],
         "y": {
          "bdata": "AAAAAAAA+H8AAAAAAAD4fwAAAAAAAPh/AAAAAAAA+H8AAAAAAAD4fwAAAAAAAPh/AAAAAAAA+H8AAAAAAAD4fwAAAAAAAPh/AAAAAAAA+H+OAdnr3R/yPwAAAAAAAPh/AAAAAAAA+H8AAAAAAAD4fwAAAAAAAPh/AAAAAAAA+H8AAAAAAAD4fwAAAAAAAPh/AAAAAAAA+H8AAAAAAAD4fwAAAAAAAPh/coqO5PIf8j8AAAAAAAD4fwAAAAAAAPh/AAAAAAAA+H8AAAAAAAD4fwAAAAAAAPh/AAAAAAAA+H8AAAAAAAD4fwAAAAAAAPh/rvAuF/Ed8j8AAAAAAAD4fwAAAAAAAPh/AAAAAAAA+H8AAAAAAAD4fwAAAAAAAPh/ILWJk/sd8j8AAAAAAAD4fwAAAAAAAPh/AAAAAAAA+H8AAAAAAAD4fwAAAAAAAPh/AAAAAAAA+H8AAAAAAAD4fwAAAAAAAPh/AAAAAAAA+H8AAAAAAAD4fwAAAAAAAPh/AAAAAAAA+H8AAAAAAAD4fwAAAAAAAPh/AAAAAAAA+H9Yc4Bgjh7yPwAAAAAAAPh/AAAAAAAA+H8AAAAAAAD4fwAAAAAAAPh/AAAAAAAA+H8AAAAAAAD4fwAAAAAAAPh/AAAAAAAA+H8AAAAAAAD4fwAAAAAAAPh/AAAAAAAA+H8gtYmT+x3yPwAAAAAAAPh/AAAAAAAA+H8AAAAAAAD4fwAAAAAAAPh/AAAAAAAA+H8AAAAAAAD4fwAAAAAAAPh/AAAAAAAA+H8AAAAAAAD4fwAAAAAAAPh/AAAAAAAA+H8AAAAAAAD4fwAAAAAAAPh/AAAAAAAA+H8AAAAAAAD4fwAAAAAAAPh/AAAAAAAA+H8AAAAAAAD4fwAAAAAAAPh/AAAAAAAA+H8AAAAAAAD4fwAAAAAAAPh/C170FaQZ8j8AAAAAAAD4fwAAAAAAAPh/AAAAAAAA+H8AAAAAAAD4fwAAAAAAAPh/AAAAAAAA+H8AAAAAAAD4fwAAAAAAAPh/AAAAAAAA+H8AAAAAAAD4fwAAAAAAAPh/AAAAAAAA+H8=",
          "dtype": "f8"
         }
        },
        {
         "line": {
          "color": "red",
          "dash": "dash",
          "width": 2
         },
         "marker": {
          "color": "red",
          "size": [
           10,
           12
          ],
          "symbol": [
           "arrow-bar-down",
           "x"
          ]
         },
         "mode": "markers+lines",
         "name": "Trade Path",
         "type": "scatter",
         "x": [
          "2025-05-30T12:00:00+00:00",
          "2025-05-30T12:10:00+00:00"
         ],
         "y": [
          1.13384,
          1.1348575814004098
         ]
        }
       ],
       "layout": {
        "height": 600,
        "shapes": [
         {
          "line": {
           "color": "green",
           "dash": "dot",
           "width": 1
          },
          "type": "line",
          "x0": 0,
          "x1": 1,
          "xref": "x domain",
          "y0": 1.1323136278993853,
          "y1": 1.1323136278993853,
          "yref": "y"
         },
         {
          "line": {
           "color": "red",
           "dash": "dot",
           "width": 1
          },
          "type": "line",
          "x0": 0,
          "x1": 1,
          "xref": "x domain",
          "y0": 1.1348575814004098,
          "y1": 1.1348575814004098,
          "yref": "y"
         }
        ],
        "template": {
         "data": {
          "bar": [
           {
            "error_x": {
             "color": "#2a3f5f"
            },
            "error_y": {
             "color": "#2a3f5f"
            },
            "marker": {
             "line": {
              "color": "#E5ECF6",
              "width": 0.5
             },
             "pattern": {
              "fillmode": "overlay",
              "size": 10,
              "solidity": 0.2
             }
            },
            "type": "bar"
           }
          ],
          "barpolar": [
           {
            "marker": {
             "line": {
              "color": "#E5ECF6",
              "width": 0.5
             },
             "pattern": {
              "fillmode": "overlay",
              "size": 10,
              "solidity": 0.2
             }
            },
            "type": "barpolar"
           }
          ],
          "carpet": [
           {
            "aaxis": {
             "endlinecolor": "#2a3f5f",
             "gridcolor": "white",
             "linecolor": "white",
             "minorgridcolor": "white",
             "startlinecolor": "#2a3f5f"
            },
            "baxis": {
             "endlinecolor": "#2a3f5f",
             "gridcolor": "white",
             "linecolor": "white",
             "minorgridcolor": "white",
             "startlinecolor": "#2a3f5f"
            },
            "type": "carpet"
           }
          ],
          "choropleth": [
           {
            "colorbar": {
             "outlinewidth": 0,
             "ticks": ""
            },
            "type": "choropleth"
           }
          ],
          "contour": [
           {
            "colorbar": {
             "outlinewidth": 0,
             "ticks": ""
            },
            "colorscale": [
             [
              0,
              "#0d0887"
             ],
             [
              0.1111111111111111,
              "#46039f"
             ],
             [
              0.2222222222222222,
              "#7201a8"
             ],
             [
              0.3333333333333333,
              "#9c179e"
             ],
             [
              0.4444444444444444,
              "#bd3786"
             ],
             [
              0.5555555555555556,
              "#d8576b"
             ],
             [
              0.6666666666666666,
              "#ed7953"
             ],
             [
              0.7777777777777778,
              "#fb9f3a"
             ],
             [
              0.8888888888888888,
              "#fdca26"
             ],
             [
              1,
              "#f0f921"
             ]
            ],
            "type": "contour"
           }
          ],
          "contourcarpet": [
           {
            "colorbar": {
             "outlinewidth": 0,
             "ticks": ""
            },
            "type": "contourcarpet"
           }
          ],
          "heatmap": [
           {
            "colorbar": {
             "outlinewidth": 0,
             "ticks": ""
            },
            "colorscale": [
             [
              0,
              "#0d0887"
             ],
             [
              0.1111111111111111,
              "#46039f"
             ],
             [
              0.2222222222222222,
              "#7201a8"
             ],
             [
              0.3333333333333333,
              "#9c179e"
             ],
             [
              0.4444444444444444,
              "#bd3786"
             ],
             [
              0.5555555555555556,
              "#d8576b"
             ],
             [
              0.6666666666666666,
              "#ed7953"
             ],
             [
              0.7777777777777778,
              "#fb9f3a"
             ],
             [
              0.8888888888888888,
              "#fdca26"
             ],
             [
              1,
              "#f0f921"
             ]
            ],
            "type": "heatmap"
           }
          ],
          "histogram": [
           {
            "marker": {
             "pattern": {
              "fillmode": "overlay",
              "size": 10,
              "solidity": 0.2
             }
            },
            "type": "histogram"
           }
          ],
          "histogram2d": [
           {
            "colorbar": {
             "outlinewidth": 0,
             "ticks": ""
            },
            "colorscale": [
             [
              0,
              "#0d0887"
             ],
             [
              0.1111111111111111,
              "#46039f"
             ],
             [
              0.2222222222222222,
              "#7201a8"
             ],
             [
              0.3333333333333333,
              "#9c179e"
             ],
             [
              0.4444444444444444,
              "#bd3786"
             ],
             [
              0.5555555555555556,
              "#d8576b"
             ],
             [
              0.6666666666666666,
              "#ed7953"
             ],
             [
              0.7777777777777778,
              "#fb9f3a"
             ],
             [
              0.8888888888888888,
              "#fdca26"
             ],
             [
              1,
              "#f0f921"
             ]
            ],
            "type": "histogram2d"
           }
          ],
          "histogram2dcontour": [
           {
            "colorbar": {
             "outlinewidth": 0,
             "ticks": ""
            },
            "colorscale": [
             [
              0,
              "#0d0887"
             ],
             [
              0.1111111111111111,
              "#46039f"
             ],
             [
              0.2222222222222222,
              "#7201a8"
             ],
             [
              0.3333333333333333,
              "#9c179e"
             ],
             [
              0.4444444444444444,
              "#bd3786"
             ],
             [
              0.5555555555555556,
              "#d8576b"
             ],
             [
              0.6666666666666666,
              "#ed7953"
             ],
             [
              0.7777777777777778,
              "#fb9f3a"
             ],
             [
              0.8888888888888888,
              "#fdca26"
             ],
             [
              1,
              "#f0f921"
             ]
            ],
            "type": "histogram2dcontour"
           }
          ],
          "mesh3d": [
           {
            "colorbar": {
             "outlinewidth": 0,
             "ticks": ""
            },
            "type": "mesh3d"
           }
          ],
          "parcoords": [
           {
            "line": {
             "colorbar": {
              "outlinewidth": 0,
              "ticks": ""
             }
            },
            "type": "parcoords"
           }
          ],
          "pie": [
           {
            "automargin": true,
            "type": "pie"
           }
          ],
          "scatter": [
           {
            "fillpattern": {
             "fillmode": "overlay",
             "size": 10,
             "solidity": 0.2
            },
            "type": "scatter"
           }
          ],
          "scatter3d": [
           {
            "line": {
             "colorbar": {
              "outlinewidth": 0,
              "ticks": ""
             }
            },
            "marker": {
             "colorbar": {
              "outlinewidth": 0,
              "ticks": ""
             }
            },
            "type": "scatter3d"
           }
          ],
          "scattercarpet": [
           {
            "marker": {
             "colorbar": {
              "outlinewidth": 0,
              "ticks": ""
             }
            },
            "type": "scattercarpet"
           }
          ],
          "scattergeo": [
           {
            "marker": {
             "colorbar": {
              "outlinewidth": 0,
              "ticks": ""
             }
            },
            "type": "scattergeo"
           }
          ],
          "scattergl": [
           {
            "marker": {
             "colorbar": {
              "outlinewidth": 0,
              "ticks": ""
             }
            },
            "type": "scattergl"
           }
          ],
          "scattermap": [
           {
            "marker": {
             "colorbar": {
              "outlinewidth": 0,
              "ticks": ""
             }
            },
            "type": "scattermap"
           }
          ],
          "scattermapbox": [
           {
            "marker": {
             "colorbar": {
              "outlinewidth": 0,
              "ticks": ""
             }
            },
            "type": "scattermapbox"
           }
          ],
          "scatterpolar": [
           {
            "marker": {
             "colorbar": {
              "outlinewidth": 0,
              "ticks": ""
             }
            },
            "type": "scatterpolar"
           }
          ],
          "scatterpolargl": [
           {
            "marker": {
             "colorbar": {
              "outlinewidth": 0,
              "ticks": ""
             }
            },
            "type": "scatterpolargl"
           }
          ],
          "scatterternary": [
           {
            "marker": {
             "colorbar": {
              "outlinewidth": 0,
              "ticks": ""
             }
            },
            "type": "scatterternary"
           }
          ],
          "surface": [
           {
            "colorbar": {
             "outlinewidth": 0,
             "ticks": ""
            },
            "colorscale": [
             [
              0,
              "#0d0887"
             ],
             [
              0.1111111111111111,
              "#46039f"
             ],
             [
              0.2222222222222222,
              "#7201a8"
             ],
             [
              0.3333333333333333,
              "#9c179e"
             ],
             [
              0.4444444444444444,
              "#bd3786"
             ],
             [
              0.5555555555555556,
              "#d8576b"
             ],
             [
              0.6666666666666666,
              "#ed7953"
             ],
             [
              0.7777777777777778,
              "#fb9f3a"
             ],
             [
              0.8888888888888888,
              "#fdca26"
             ],
             [
              1,
              "#f0f921"
             ]
            ],
            "type": "surface"
           }
          ],
          "table": [
           {
            "cells": {
             "fill": {
              "color": "#EBF0F8"
             },
             "line": {
              "color": "white"
             }
            },
            "header": {
             "fill": {
              "color": "#C8D4E3"
             },
             "line": {
              "color": "white"
             }
            },
            "type": "table"
           }
          ]
         },
         "layout": {
          "annotationdefaults": {
           "arrowcolor": "#2a3f5f",
           "arrowhead": 0,
           "arrowwidth": 1
          },
          "autotypenumbers": "strict",
          "coloraxis": {
           "colorbar": {
            "outlinewidth": 0,
            "ticks": ""
           }
          },
          "colorscale": {
           "diverging": [
            [
             0,
             "#8e0152"
            ],
            [
             0.1,
             "#c51b7d"
            ],
            [
             0.2,
             "#de77ae"
            ],
            [
             0.3,
             "#f1b6da"
            ],
            [
             0.4,
             "#fde0ef"
            ],
            [
             0.5,
             "#f7f7f7"
            ],
            [
             0.6,
             "#e6f5d0"
            ],
            [
             0.7,
             "#b8e186"
            ],
            [
             0.8,
             "#7fbc41"
            ],
            [
             0.9,
             "#4d9221"
            ],
            [
             1,
             "#276419"
            ]
           ],
           "sequential": [
            [
             0,
             "#0d0887"
            ],
            [
             0.1111111111111111,
             "#46039f"
            ],
            [
             0.2222222222222222,
             "#7201a8"
            ],
            [
             0.3333333333333333,
             "#9c179e"
            ],
            [
             0.4444444444444444,
             "#bd3786"
            ],
            [
             0.5555555555555556,
             "#d8576b"
            ],
            [
             0.6666666666666666,
             "#ed7953"
            ],
            [
             0.7777777777777778,
             "#fb9f3a"
            ],
            [
             0.8888888888888888,
             "#fdca26"
            ],
            [
             1,
             "#f0f921"
            ]
           ],
           "sequentialminus": [
            [
             0,
             "#0d0887"
            ],
            [
             0.1111111111111111,
             "#46039f"
            ],
            [
             0.2222222222222222,
             "#7201a8"
            ],
            [
             0.3333333333333333,
             "#9c179e"
            ],
            [
             0.4444444444444444,
             "#bd3786"
            ],
            [
             0.5555555555555556,
             "#d8576b"
            ],
            [
             0.6666666666666666,
             "#ed7953"
            ],
            [
             0.7777777777777778,
             "#fb9f3a"
            ],
            [
             0.8888888888888888,
             "#fdca26"
            ],
            [
             1,
             "#f0f921"
            ]
           ]
          },
          "colorway": [
           "#636efa",
           "#EF553B",
           "#00cc96",
           "#ab63fa",
           "#FFA15A",
           "#19d3f3",
           "#FF6692",
           "#B6E880",
           "#FF97FF",
           "#FECB52"
          ],
          "font": {
           "color": "#2a3f5f"
          },
          "geo": {
           "bgcolor": "white",
           "lakecolor": "white",
           "landcolor": "#E5ECF6",
           "showlakes": true,
           "showland": true,
           "subunitcolor": "white"
          },
          "hoverlabel": {
           "align": "left"
          },
          "hovermode": "closest",
          "mapbox": {
           "style": "light"
          },
          "paper_bgcolor": "white",
          "plot_bgcolor": "#E5ECF6",
          "polar": {
           "angularaxis": {
            "gridcolor": "white",
            "linecolor": "white",
            "ticks": ""
           },
           "bgcolor": "#E5ECF6",
           "radialaxis": {
            "gridcolor": "white",
            "linecolor": "white",
            "ticks": ""
           }
          },
          "scene": {
           "xaxis": {
            "backgroundcolor": "#E5ECF6",
            "gridcolor": "white",
            "gridwidth": 2,
            "linecolor": "white",
            "showbackground": true,
            "ticks": "",
            "zerolinecolor": "white"
           },
           "yaxis": {
            "backgroundcolor": "#E5ECF6",
            "gridcolor": "white",
            "gridwidth": 2,
            "linecolor": "white",
            "showbackground": true,
            "ticks": "",
            "zerolinecolor": "white"
           },
           "zaxis": {
            "backgroundcolor": "#E5ECF6",
            "gridcolor": "white",
            "gridwidth": 2,
            "linecolor": "white",
            "showbackground": true,
            "ticks": "",
            "zerolinecolor": "white"
           }
          },
          "shapedefaults": {
           "line": {
            "color": "#2a3f5f"
           }
          },
          "ternary": {
           "aaxis": {
            "gridcolor": "white",
            "linecolor": "white",
            "ticks": ""
           },
           "baxis": {
            "gridcolor": "white",
            "linecolor": "white",
            "ticks": ""
           },
           "bgcolor": "#E5ECF6",
           "caxis": {
            "gridcolor": "white",
            "linecolor": "white",
            "ticks": ""
           }
          },
          "title": {
           "x": 0.05
          },
          "xaxis": {
           "automargin": true,
           "gridcolor": "white",
           "linecolor": "white",
           "ticks": "",
           "title": {
            "standoff": 15
           },
           "zerolinecolor": "white",
           "zerolinewidth": 2
          },
          "yaxis": {
           "automargin": true,
           "gridcolor": "white",
           "linecolor": "white",
           "ticks": "",
           "title": {
            "standoff": 15
           },
           "zerolinecolor": "white",
           "zerolinewidth": 2
          }
         }
        },
        "title": {
         "text": "Trade Setup on 2025-05-30: SELL | PnL: -11.68 pips"
        },
        "xaxis": {
         "rangeslider": {
          "visible": false
         }
        },
        "yaxis": {
         "title": {
          "text": "Price"
         }
        }
       }
      }
     },
     "metadata": {},
     "output_type": "display_data"
    },
    {
     "data": {
      "application/vnd.plotly.v1+json": {
       "config": {
        "plotlyServerURL": "https://plot.ly"
       },
       "data": [
        {
         "close": {
          "bdata": "lrIMcawL8j/USEvl7QjyP2TMXUvIB/I/8u8zLhwI8j+/8bVnlgTyP2fV52or9vE/AKlNnNzv8T8OEMzR4/fxPwbYR6eu/PE/SP5g4Ln38T/rqGqCqPvxPz6WPnRB/fE/JJf/kH778T+Zu5aQD/rxPwXAeAYN/fE/HqfoSC7/8T8DYDyDhv7xPwNgPIOG/vE/s+pztRX78T8n9zsUBfrxPwfwFkhQ/PE/mdNlMbH58T9KXp1jQPbxP2ItPgXA+PE/J/c7FAX68T9lpUkp6PbxPyI3ww34/PE/zQGCOXr88T/qeMxAZfzxPwEwnkFD//E/y6FFtvP98T+t+lxtxf7xP8hBCTNt//E/cJS8OscA8j/nGJC93v3xP69amfBL/fE/BJDaxMn98T9a9bnaiv3xP8lZ2NMO//E/dAzIXu/+8T9xrIvbaADyP+W4UzpY//E/UwWjkjoB8j83jliLTwHyPx13Sgfr//E/PE7RkVz+8T+T407pYP3xP8uhRbbz/fE/A2A8g4b+8T8bR6zFpwDyP1QdcjPcAPI//+cwX14A8j+M8zehEAHyP1Zl3xXB//E/xLEubqMB8j9wlLw6xwDyP3LcKR2s//E/OgZkr3f/8T/LoUW28/3xP1jFG5lH/vE/OdbFbTQA8j+paoKo+wDyP+EoeXWOAfI/4Sh5dY4B8j+paoKo+wDyP//nMF9eAPI/cJS8OscA8j/jiLX4FADyPzxO0ZFc/vE/rOKNzCP/8T+t+lxtxf7xP49TdCSX//E/r0LKT6r98T8ep+hILv/xP69Cyk+q/fE/WMUbmUf+8T88TtGRXP7xPyI3ww34/PE/B/AWSFD88T/vOEVHcvnxP5dzKa4q+/E/dmwE4nX98T9YxRuZR/7xP49TdCSX//E/NnaJ6q0B8j+kqgmi7gPyP4Oj5NU5BvI/8ddkjXoI8j8MHxFTIgnyP4JzRpT2BvI/8u8zLhwI8j9HVRNE3QfyPyveyDzyB/I/DTfg88MI8j/MKJZbWg3yPyh+jLlrCfI/eSPzyB8M8j+zQSYZOQvyP7NBJhk5C/I/s0EmGTkL8j8=",
          "dtype": "f8"
         },
         "high": {
          "bdata": "Arfu5qkO8j+yEYjX9QvyPwwHQrKACfI/0hito6oJ8j8plltaDQnyP7/xtWeWBPI/09nJ4Cj58T+cM6K0N/jxP1slWBzO/PE/r0LKT6r98T8jZ2FPO/zxP8hBCTNt//E/6DBfXoD98T8HCObo8fvxP8hBCTNt//E/cayL22gA8j8dd0oH6//xP1Z9rrZi//E/dAzIXu/+8T/nGJC93v3xP69amfBL/fE/Pq4NFeP88T+Yo8fvbfrxP16FlJ9U+/E/sYo3Mo/88T8JOIQqNfvxPyI3ww34/PE/r1qZ8Ev98T+Ss7CnHf7xP8hBCTNt//E/5bhTOlj/8T8ep+hILv/xP8cRa/EpAPI/GhcOhGQB8j8aFw6EZAHyPx+/t+nP/vE/krOwpx3+8T8f14aKcf7xP8lZ2NMO//E/kGtDxTj/8T84vvbMkgDyPzi+9sySAPI/4Sh5dY4B8j+Jeyx96ALyP6hSswdaAfI/qpog6j4A8j8f14aKcf7xP5CDEmba/vE/V5V9VwT/8T9UHXIz3ADyP8SZX80BAvI/N45Yi08B8j/9n8N8eQHyP3B87ZklAfI/xLEubqMB8j9RpWYPtALyPxoXDoRkAfI/5KCEmbb/8T/IQQkzbf/xPx+/t+nP/vE/HF97ZkkA8j+oUrMHWgHyP25MT1jiAfI/Uu3T8ZgB8j81XrpJDALyPxoXDoRkAfI/N6YnLPEA8j/9n8N8eQHyP1VNEHUfAPI/5bhTOlj/8T+OI9biUwDyP49TdCSX//E/ctwpHaz/8T/IQQkzbf/xP3LEWnwKAPI/yXGndLD+8T8DYDyDhv7xP+bo8Xub/vE/BJDaxMn98T8iT5KumfzxP88xIHu9+/E/y7kUV5X98T86HjNQGf/xP6qaIOo+API/NV66SQwC8j+kqgmi7gPyP0q1T8djBvI/fuNrzywJ8j/vj/eqlQnyP5tattYXCfI/t9EA3gIJ8j/SGK2jqgnyP5kqGJXUCfI/RfXWwFYJ8j8+7fDXZA3yP1pkO99PDfI/XKyowTQM8j/NWDSdnQzyP+rPfqSIDPI/XKyowTQM8j8=",
          "dtype": "f8"
         },
         "low": {
          "bdata": "l+Kqsu8K8j8qxvmbUAjyP9aoh2h0B/I/SG3i5H4H8j9QjZduEgPyP8HicOZX8/E/j+TyH9Lv8T8AqU2c3O/xP4DUJk7u9/E/12mkpfL28T9MpgpGJfXxP+3YCMTr+vE/CVBTy9b68T8N4C2QoPjxPwqA8Qwa+vE/IjfDDfj88T8EkNrEyf3xP1xV9l0R/PE/7dgIxOv68T9FniRdM/nxP36MuWsJ+fE/RZ4kXTP58T++amXCL/XxP7wi+N9K9vE/nDOitDf48T/YgXNGlPbxP2WlSSno9vE/l3Mprir78T+yutVz0vvxP+uoaoKo+/E/5xiQvd798T/LoUW28/3xPx/Xhopx/vE/rfpcbcX+8T8EkNrEyf3xPwXAeAYN/fE/6WD9n8P88T+xijcyj/zxP3ZsBOJ1/fE/IQclzLT98T8fv7fpz/7xP+bo8Xub/vE/HqfoSC7/8T/hQEgWMAHyP3QMyF7v/vE/rir7rgj+8T8FwHgGDf3xP+lILv8h/fE/BaipZWv98T+uKvuuCP7xP1Q1QdR9API/jjulg/X/8T+qmiDqPgDyPwEwnkFD//E/VmXfFcH/8T/HEWvxKQDyP3QMyF7v/vE/Akht4uT+8T89fm/Tn/3xPz1+b9Of/fE/A3gLJCj+8T8AAAAAAADyP3CUvDrHAPI/Gy/dJAYB8j/G4cyv5gDyP8cRa/EpAPI/VU0QdR8A8j857pQO1v/xP1jFG5lH/vE/5xiQvd798T/m6PF7m/7xP1itTPil/vE/PX5v05/98T92bATidf3xP1r1udqK/fE/PX5v05/98T94nKIjufzxP3nMQGX8+/E/lkOLbOf78T/vOEVHcvnxP5wzorQ3+PE/Qj7o2az68T8iN8MN+PzxP3ZUNUHU/fE/yVnY0w7/8T+M22gAbwHyP6TC2EKQA/I/S+XtCKcF8j9jtI6qJgjyP4Oj5NU5BvI/oBov3SQG8j/WqIdodAfyP9fAVgkWB/I/1qiHaHQH8j8prir7rgjyP37ja88sCfI/YWwhyEEJ8j9F9dbAVgnyP32zzY3pCfI/Q8U4fxMK8j8=",
          "dtype": "f8"
         },
         "name": "Candles",
         "open": {
          "bdata": "PL1SliEO8j8Id2fttgvyP0UNpmH4CPI/gUOoUrMH8j9jtI6qJgjyP9xoAG+BBPI/2ZlC5zX28T8AqU2c3O/xP/KYgcr49/E/sYo3Mo/88T9kdavnpPfxP3rkDwae+/E/6Ugu/yH98T8IILWJk/vxPwqA8Qwa+vE/BcB4Bg398T8ep+hILv/xPwNgPIOG/vE/dCSX/5D+8T+z6nO1FfvxPyf3OxQF+vE/XFX2XRH88T+Z02UxsfnxPy7nUlxV9vE/8WjjiLX48T+1MuGX+vnxP0ku/yH99vE/Pq4NFeP88T/qeMxAZfzxP5UrvMtF/PE/HqfoSC7/8T/LoUW28/3xP636XG3F/vE/ATCeQUP/8T/iWBe30QDyP+cYkL3e/fE/r1qZ8Ev98T/nGJC93v3xPyEHJcy0/fE/V5V9VwT/8T/l0CLb+f7xP44j1uJTAPI/Vn2utmL/8T83jliLTwHyPzeOWItPAfI/HXdKB+v/8T9YxRuZR/7xP5PjTulg/fE/y6FFtvP98T90JJf/kP7xPxtHrMWnAPI/4lgXt9EA8j+OI9biUwDyP6lqgqj7API/Oe6UDtb/8T9S7dPxmAHyP//PYb68API/5KCEmbb/8T/IQQkzbf/xP8uhRbbz/fE/H9eGinH+8T851sVtNADyP8bhzK/mAPI/4Sh5dY4B8j/hKHl1jgHyP4zzN6EQAfI/jiPW4lMA8j//z2G+vADyP1VNEHUfAPI/WMUbmUf+8T8ep+hILv/xPx+/t+nP/vE/rMq+K4L/8T8hByXMtP3xPwEwnkFD//E/IQclzLT98T88TtGRXP7xPzxO0ZFc/vE/IjfDDfj88T94tHHEWvzxP2H9n8N8+fE/l3Mprir78T92bATidf3xP3U8ZqAy/vE/j1N0JJf/8T/EsS5uowHyPzLmriXkA/I/g6Pk1TkG8j9/EwoRcAjyP5tattYXCfI/gnNGlPYG8j8OZ341BwjyP0dVE0TdB/I/K97IPPIH8j+bcoV3uQjyP1pkO99PDfI/trkxPWEJ8j+Vmj3QCgzyP7NBJhk5C/I/s0EmGTkL8j8=",
          "dtype": "f8"
         },
         "type": "candlestick",
         "x": [
          "2025-05-28T23:10:00+00:00",
          "2025-05-28T23:15:00+00:00",
          "2025-05-28T23:20:00+00:00",
          "2025-05-28T23:25:00+00:00",
          "2025-05-28T23:30:00+00:00",
          "2025-05-28T23:35:00+00:00",
          "2025-05-28T23:40:00+00:00",
          "2025-05-28T23:45:00+00:00",
          "2025-05-28T23:50:00+00:00",
          "2025-05-28T23:55:00+00:00",
          "2025-05-29T00:00:00+00:00",
          "2025-05-29T00:05:00+00:00",
          "2025-05-29T00:10:00+00:00",
          "2025-05-29T00:15:00+00:00",
          "2025-05-29T00:20:00+00:00",
          "2025-05-29T00:25:00+00:00",
          "2025-05-29T00:30:00+00:00",
          "2025-05-29T00:35:00+00:00",
          "2025-05-29T00:40:00+00:00",
          "2025-05-29T00:45:00+00:00",
          "2025-05-29T00:50:00+00:00",
          "2025-05-29T00:55:00+00:00",
          "2025-05-29T01:00:00+00:00",
          "2025-05-29T01:05:00+00:00",
          "2025-05-29T01:10:00+00:00",
          "2025-05-29T01:15:00+00:00",
          "2025-05-29T01:20:00+00:00",
          "2025-05-29T01:25:00+00:00",
          "2025-05-29T01:30:00+00:00",
          "2025-05-29T01:35:00+00:00",
          "2025-05-29T01:40:00+00:00",
          "2025-05-29T01:45:00+00:00",
          "2025-05-29T01:50:00+00:00",
          "2025-05-29T01:55:00+00:00",
          "2025-05-29T02:00:00+00:00",
          "2025-05-29T02:05:00+00:00",
          "2025-05-29T02:10:00+00:00",
          "2025-05-29T02:15:00+00:00",
          "2025-05-29T02:20:00+00:00",
          "2025-05-29T02:25:00+00:00",
          "2025-05-29T02:30:00+00:00",
          "2025-05-29T02:35:00+00:00",
          "2025-05-29T02:40:00+00:00",
          "2025-05-29T02:45:00+00:00",
          "2025-05-29T02:50:00+00:00",
          "2025-05-29T02:55:00+00:00",
          "2025-05-29T03:00:00+00:00",
          "2025-05-29T03:05:00+00:00",
          "2025-05-29T03:10:00+00:00",
          "2025-05-29T03:15:00+00:00",
          "2025-05-29T03:20:00+00:00",
          "2025-05-29T03:25:00+00:00",
          "2025-05-29T03:30:00+00:00",
          "2025-05-29T03:35:00+00:00",
          "2025-05-29T03:40:00+00:00",
          "2025-05-29T03:45:00+00:00",
          "2025-05-29T03:50:00+00:00",
          "2025-05-29T03:55:00+00:00",
          "2025-05-29T04:00:00+00:00",
          "2025-05-29T04:05:00+00:00",
          "2025-05-29T04:10:00+00:00",
          "2025-05-29T04:15:00+00:00",
          "2025-05-29T04:20:00+00:00",
          "2025-05-29T04:25:00+00:00",
          "2025-05-29T04:30:00+00:00",
          "2025-05-29T04:35:00+00:00",
          "2025-05-29T04:40:00+00:00",
          "2025-05-29T04:45:00+00:00",
          "2025-05-29T04:50:00+00:00",
          "2025-05-29T04:55:00+00:00",
          "2025-05-29T05:00:00+00:00",
          "2025-05-29T05:05:00+00:00",
          "2025-05-29T05:10:00+00:00",
          "2025-05-29T05:15:00+00:00",
          "2025-05-29T05:20:00+00:00",
          "2025-05-29T05:25:00+00:00",
          "2025-05-29T05:30:00+00:00",
          "2025-05-29T05:35:00+00:00",
          "2025-05-29T05:40:00+00:00",
          "2025-05-29T05:45:00+00:00",
          "2025-05-29T05:50:00+00:00",
          "2025-05-29T05:55:00+00:00",
          "2025-05-29T06:00:00+00:00",
          "2025-05-29T06:05:00+00:00",
          "2025-05-29T06:10:00+00:00",
          "2025-05-29T06:15:00+00:00",
          "2025-05-29T06:20:00+00:00",
          "2025-05-29T06:25:00+00:00",
          "2025-05-29T06:30:00+00:00",
          "2025-05-29T06:35:00+00:00",
          "2025-05-29T06:40:00+00:00",
          "2025-05-29T06:45:00+00:00",
          "2025-05-29T06:50:00+00:00",
          "2025-05-29T06:55:00+00:00",
          "2025-05-29T07:00:00+00:00",
          "2025-05-29T07:05:00+00:00",
          "2025-05-29T07:10:00+00:00",
          "2025-05-29T07:15:00+00:00",
          "2025-05-29T07:20:00+00:00",
          "2025-05-29T07:25:00+00:00"
         ]
        },
        {
         "line": {
          "color": "blue",
          "width": 1
         },
         "mode": "lines",
         "name": "40 EMA",
         "type": "scatter",
         "x": [
          "2025-05-28T23:10:00+00:00",
          "2025-05-28T23:15:00+00:00",
          "2025-05-28T23:20:00+00:00",
          "2025-05-28T23:25:00+00:00",
          "2025-05-28T23:30:00+00:00",
          "2025-05-28T23:35:00+00:00",
          "2025-05-28T23:40:00+00:00",
          "2025-05-28T23:45:00+00:00",
          "2025-05-28T23:50:00+00:00",
          "2025-05-28T23:55:00+00:00",
          "2025-05-29T00:00:00+00:00",
          "2025-05-29T00:05:00+00:00",
          "2025-05-29T00:10:00+00:00",
          "2025-05-29T00:15:00+00:00",
          "2025-05-29T00:20:00+00:00",
          "2025-05-29T00:25:00+00:00",
          "2025-05-29T00:30:00+00:00",
          "2025-05-29T00:35:00+00:00",
          "2025-05-29T00:40:00+00:00",
          "2025-05-29T00:45:00+00:00",
          "2025-05-29T00:50:00+00:00",
          "2025-05-29T00:55:00+00:00",
          "2025-05-29T01:00:00+00:00",
          "2025-05-29T01:05:00+00:00",
          "2025-05-29T01:10:00+00:00",
          "2025-05-29T01:15:00+00:00",
          "2025-05-29T01:20:00+00:00",
          "2025-05-29T01:25:00+00:00",
          "2025-05-29T01:30:00+00:00",
          "2025-05-29T01:35:00+00:00",
          "2025-05-29T01:40:00+00:00",
          "2025-05-29T01:45:00+00:00",
          "2025-05-29T01:50:00+00:00",
          "2025-05-29T01:55:00+00:00",
          "2025-05-29T02:00:00+00:00",
          "2025-05-29T02:05:00+00:00",
          "2025-05-29T02:10:00+00:00",
          "2025-05-29T02:15:00+00:00",
          "2025-05-29T02:20:00+00:00",
          "2025-05-29T02:25:00+00:00",
          "2025-05-29T02:30:00+00:00",
          "2025-05-29T02:35:00+00:00",
          "2025-05-29T02:40:00+00:00",
          "2025-05-29T02:45:00+00:00",
          "2025-05-29T02:50:00+00:00",
          "2025-05-29T02:55:00+00:00",
          "2025-05-29T03:00:00+00:00",
          "2025-05-29T03:05:00+00:00",
          "2025-05-29T03:10:00+00:00",
          "2025-05-29T03:15:00+00:00",
          "2025-05-29T03:20:00+00:00",
          "2025-05-29T03:25:00+00:00",
          "2025-05-29T03:30:00+00:00",
          "2025-05-29T03:35:00+00:00",
          "2025-05-29T03:40:00+00:00",
          "2025-05-29T03:45:00+00:00",
          "2025-05-29T03:50:00+00:00",
          "2025-05-29T03:55:00+00:00",
          "2025-05-29T04:00:00+00:00",
          "2025-05-29T04:05:00+00:00",
          "2025-05-29T04:10:00+00:00",
          "2025-05-29T04:15:00+00:00",
          "2025-05-29T04:20:00+00:00",
          "2025-05-29T04:25:00+00:00",
          "2025-05-29T04:30:00+00:00",
          "2025-05-29T04:35:00+00:00",
          "2025-05-29T04:40:00+00:00",
          "2025-05-29T04:45:00+00:00",
          "2025-05-29T04:50:00+00:00",
          "2025-05-29T04:55:00+00:00",
          "2025-05-29T05:00:00+00:00",
          "2025-05-29T05:05:00+00:00",
          "2025-05-29T05:10:00+00:00",
          "2025-05-29T05:15:00+00:00",
          "2025-05-29T05:20:00+00:00",
          "2025-05-29T05:25:00+00:00",
          "2025-05-29T05:30:00+00:00",
          "2025-05-29T05:35:00+00:00",
          "2025-05-29T05:40:00+00:00",
          "2025-05-29T05:45:00+00:00",
          "2025-05-29T05:50:00+00:00",
          "2025-05-29T05:55:00+00:00",
          "2025-05-29T06:00:00+00:00",
          "2025-05-29T06:05:00+00:00",
          "2025-05-29T06:10:00+00:00",
          "2025-05-29T06:15:00+00:00",
          "2025-05-29T06:20:00+00:00",
          "2025-05-29T06:25:00+00:00",
          "2025-05-29T06:30:00+00:00",
          "2025-05-29T06:35:00+00:00",
          "2025-05-29T06:40:00+00:00",
          "2025-05-29T06:45:00+00:00",
          "2025-05-29T06:50:00+00:00",
          "2025-05-29T06:55:00+00:00",
          "2025-05-29T07:00:00+00:00",
          "2025-05-29T07:05:00+00:00",
          "2025-05-29T07:10:00+00:00",
          "2025-05-29T07:15:00+00:00",
          "2025-05-29T07:20:00+00:00",
          "2025-05-29T07:25:00+00:00"
         ],
         "y": {
          "bdata": "dCibm2wR8j9smjmGAhHyPxujKEuPEPI/kNKfxiUQ8j/waZRqlQ/yP9Dl7wxYDvI/Ve8ZZdsM8j/u8N2P1QvyPxtg0FgYC/I/KgpneCYK8j+LiCJ/cQnyPxcGp0zZCPI/UHcuiDII8j/Qyzn/gQfyP8C+uWn/BvI/y/UGzJ0G8j9WhDvCOAbyPywSL6bYBfI/1bgGQ1IF8j+BMoYhxQTyP5rRTodbBPI/rOpoV9YD8j+teWuvLAPyP2S0p4GqAvI/CSjOiD4C8j/iQIn0sAHyPwq3Avx1AfI/TEqSwDcB8j9aLWOI+wDyP4IUTQ7mAPI/vb0zQsEA8j/6rYB8qADyP7OoQhuZAPI/WB48W5sA8j/7gRQueQDyP/fjfoJRAPI/8ZSi6TEA8j++NbDJEADyP26CVDQEAPI/8mlHs/b/8T91WtpE/P/xP27oVkT0//E/1+kuLwQA8j/7dCRZFADyP59PJlUSAPI/zFVz+vz/8T9fusJj3P/xP2q/P43E//E/UnyjCbX/8T8RHNzgwP/xPy3q77LO//E/aYwYtdX/8T/b6MgR5f/xPxNZbFDj//E/KFdpLPn/8T+1G5k5AwDyP/2hxfn+//E/uzxKYPj/8T84A0os3//xPwevkkrL//E/gHKCa9D/8T8LvVYE3//xP3/6GRD0//E/yOMLFQgA8j+nvsb2EwDyP3Oh95cXAPI/vutFKSAA8j/yzYmdHwDyP0xw95wJAPI/zsAXZ/7/8T9COrci7//xP+Kr39fq//E/iIdCuM7/8T/Ugsfkxv/xP97QGIas//E/0cPgHJv/8T+E/PiSi//xP+nZAmdr//E/CqmynUT/8T/2E6fq+/7xP/LTHT/M/vE/Hu6+i7v+8T9f8s/jtf7xP+u+uODA/vE/z/mQauX+8T9Qfw1OJP/xP4S/EcV8//E/tcBHDe3/8T+Ny3AKYADyP9hvmk+yAPI/PeDT4w4B8j+VXEfiYwHyP4PyOsG1AfI/ziet3A0C8j9RTZn1mgLyP6Ca4xHwAvI/OuylyWID8j/cFRCoxAPyPx+bT8AhBPI/fqkCTnoE8j8=",
          "dtype": "f8"
         }
        },
        {
         "line": {
          "color": "purple",
          "width": 1.5
         },
         "mode": "lines",
         "name": "100 EMA",
         "type": "scatter",
         "x": [
          "2025-05-28T23:10:00+00:00",
          "2025-05-28T23:15:00+00:00",
          "2025-05-28T23:20:00+00:00",
          "2025-05-28T23:25:00+00:00",
          "2025-05-28T23:30:00+00:00",
          "2025-05-28T23:35:00+00:00",
          "2025-05-28T23:40:00+00:00",
          "2025-05-28T23:45:00+00:00",
          "2025-05-28T23:50:00+00:00",
          "2025-05-28T23:55:00+00:00",
          "2025-05-29T00:00:00+00:00",
          "2025-05-29T00:05:00+00:00",
          "2025-05-29T00:10:00+00:00",
          "2025-05-29T00:15:00+00:00",
          "2025-05-29T00:20:00+00:00",
          "2025-05-29T00:25:00+00:00",
          "2025-05-29T00:30:00+00:00",
          "2025-05-29T00:35:00+00:00",
          "2025-05-29T00:40:00+00:00",
          "2025-05-29T00:45:00+00:00",
          "2025-05-29T00:50:00+00:00",
          "2025-05-29T00:55:00+00:00",
          "2025-05-29T01:00:00+00:00",
          "2025-05-29T01:05:00+00:00",
          "2025-05-29T01:10:00+00:00",
          "2025-05-29T01:15:00+00:00",
          "2025-05-29T01:20:00+00:00",
          "2025-05-29T01:25:00+00:00",
          "2025-05-29T01:30:00+00:00",
          "2025-05-29T01:35:00+00:00",
          "2025-05-29T01:40:00+00:00",
          "2025-05-29T01:45:00+00:00",
          "2025-05-29T01:50:00+00:00",
          "2025-05-29T01:55:00+00:00",
          "2025-05-29T02:00:00+00:00",
          "2025-05-29T02:05:00+00:00",
          "2025-05-29T02:10:00+00:00",
          "2025-05-29T02:15:00+00:00",
          "2025-05-29T02:20:00+00:00",
          "2025-05-29T02:25:00+00:00",
          "2025-05-29T02:30:00+00:00",
          "2025-05-29T02:35:00+00:00",
          "2025-05-29T02:40:00+00:00",
          "2025-05-29T02:45:00+00:00",
          "2025-05-29T02:50:00+00:00",
          "2025-05-29T02:55:00+00:00",
          "2025-05-29T03:00:00+00:00",
          "2025-05-29T03:05:00+00:00",
          "2025-05-29T03:10:00+00:00",
          "2025-05-29T03:15:00+00:00",
          "2025-05-29T03:20:00+00:00",
          "2025-05-29T03:25:00+00:00",
          "2025-05-29T03:30:00+00:00",
          "2025-05-29T03:35:00+00:00",
          "2025-05-29T03:40:00+00:00",
          "2025-05-29T03:45:00+00:00",
          "2025-05-29T03:50:00+00:00",
          "2025-05-29T03:55:00+00:00",
          "2025-05-29T04:00:00+00:00",
          "2025-05-29T04:05:00+00:00",
          "2025-05-29T04:10:00+00:00",
          "2025-05-29T04:15:00+00:00",
          "2025-05-29T04:20:00+00:00",
          "2025-05-29T04:25:00+00:00",
          "2025-05-29T04:30:00+00:00",
          "2025-05-29T04:35:00+00:00",
          "2025-05-29T04:40:00+00:00",
          "2025-05-29T04:45:00+00:00",
          "2025-05-29T04:50:00+00:00",
          "2025-05-29T04:55:00+00:00",
          "2025-05-29T05:00:00+00:00",
          "2025-05-29T05:05:00+00:00",
          "2025-05-29T05:10:00+00:00",
          "2025-05-29T05:15:00+00:00",
          "2025-05-29T05:20:00+00:00",
          "2025-05-29T05:25:00+00:00",
          "2025-05-29T05:30:00+00:00",
          "2025-05-29T05:35:00+00:00",
          "2025-05-29T05:40:00+00:00",
          "2025-05-29T05:45:00+00:00",
          "2025-05-29T05:50:00+00:00",
          "2025-05-29T05:55:00+00:00",
          "2025-05-29T06:00:00+00:00",
          "2025-05-29T06:05:00+00:00",
          "2025-05-29T06:10:00+00:00",
          "2025-05-29T06:15:00+00:00",
          "2025-05-29T06:20:00+00:00",
          "2025-05-29T06:25:00+00:00",
          "2025-05-29T06:30:00+00:00",
          "2025-05-29T06:35:00+00:00",
          "2025-05-29T06:40:00+00:00",
          "2025-05-29T06:45:00+00:00",
          "2025-05-29T06:50:00+00:00",
          "2025-05-29T06:55:00+00:00",
          "2025-05-29T07:00:00+00:00",
          "2025-05-29T07:05:00+00:00",
          "2025-05-29T07:10:00+00:00",
          "2025-05-29T07:15:00+00:00",
          "2025-05-29T07:20:00+00:00",
          "2025-05-29T07:25:00+00:00"
         ],
         "y": {
          "bdata": "acc6UfQS8j/TLEB/wRLyP0NEit6JEvI/rm0RAVUS8j/9ojVUDxLyP7u1zvGBEfI/pXgsYtcQ8j+dwqblWBDyPwB3hjX1D/I/xKTtXnoP8j8fufflFQ/yP9EdZoO7DvI/2uBU/VkO8j99sjIh8w3yPz3W2HadDfI/aibZSlQN8j/Ao0o/CQ3yPxxoKbC/DPI/0U7cJGYM8j9FNnH5CAzyP8oJCke5C/I/upuw3l0L8j+1FqbU8gryPwzGtZOWCvI/W01BlkIK8j84M8B64AnyP3A9mgufCfI/li9LalwJ8j8tO3GwGgnyPz7iqczoCPI/+XPQQLEI8j+IJaj1fgjyPzUK8ftQCPI/9zJsxSoI8j8E7pKS9gfyP/2ZKIDAB/I/DIi3/Y0H8j+Z72M8WwfyP3i8HCsxB/I/eNyeTwcH8j9XherB5QbyP0PIQni/BvI/hzvafaMG8j+Aw5V7iAbyPwcO8vJmBvI/OXdjMD4G8j+KPLlAEQbyP2IOCB3oBfI/N7IQssIF8j+bjN7QqAXyP8CjpHyQBfI/2LbhJXYF8j/czkjcXwXyPxYtsV5DBfI/opeu/jAF8j83642fGgXyP9a/ohb/BPI/SKCFD+ME8j8LH7znvwTyP0zWZxufBPI/uYemt4gE8j+Exlm3dgTyP/BYe/pnBPI/6L9SiFkE8j/2zzd3SATyP+zzS580BPI/CPKFPyME8j/ILC6wDgTyP16Vh9DxA/I/jxA0ddkD8j9R+fK2vwPyP4o/TqKqA/I/fFs3NowD8j/s6hkTdgPyP3yWc7FYA/I/FBEUAj8D8j+3wzg/JgPyP85JmeoGA/I/n7xP4uQC8j/QPaj9tALyP1MWUsSOAvI/sZF27XQC8j8xI7TAXwLyP2FZQ6RRAvI/i85JZk4C8j8jm02kVgLyP6vaPllqAvI/hq/XFYkC8j81Qh2JqgLyPxurklHAAvI/vC32e9sC8j/g2rTd9ALyP04aGCkOA/I/ZPddGysD8j/lZ1K8XgPyP36Yn2h9A/I/GP6yLakD8j9+cXiDzwPyPxLg6Bb1A/I/4Grd6xkE8j8=",
          "dtype": "f8"
         }
        },
        {
         "marker": {
          "color": "red",
          "size": 9,
          "symbol": "triangle-down"
         },
         "mode": "markers",
         "name": "Pivot High",
         "type": "scatter",
         "x": [
          "2025-05-28T23:10:00+00:00",
          "2025-05-28T23:15:00+00:00",
          "2025-05-28T23:20:00+00:00",
          "2025-05-28T23:25:00+00:00",
          "2025-05-28T23:30:00+00:00",
          "2025-05-28T23:35:00+00:00",
          "2025-05-28T23:40:00+00:00",
          "2025-05-28T23:45:00+00:00",
          "2025-05-28T23:50:00+00:00",
          "2025-05-28T23:55:00+00:00",
          "2025-05-29T00:00:00+00:00",
          "2025-05-29T00:05:00+00:00",
          "2025-05-29T00:10:00+00:00",
          "2025-05-29T00:15:00+00:00",
          "2025-05-29T00:20:00+00:00",
          "2025-05-29T00:25:00+00:00",
          "2025-05-29T00:30:00+00:00",
          "2025-05-29T00:35:00+00:00",
          "2025-05-29T00:40:00+00:00",
          "2025-05-29T00:45:00+00:00",
          "2025-05-29T00:50:00+00:00",
          "2025-05-29T00:55:00+00:00",
          "2025-05-29T01:00:00+00:00",
          "2025-05-29T01:05:00+00:00",
          "2025-05-29T01:10:00+00:00",
          "2025-05-29T01:15:00+00:00",
          "2025-05-29T01:20:00+00:00",
          "2025-05-29T01:25:00+00:00",
          "2025-05-29T01:30:00+00:00",
          "2025-05-29T01:35:00+00:00",
          "2025-05-29T01:40:00+00:00",
          "2025-05-29T01:45:00+00:00",
          "2025-05-29T01:50:00+00:00",
          "2025-05-29T01:55:00+00:00",
          "2025-05-29T02:00:00+00:00",
          "2025-05-29T02:05:00+00:00",
          "2025-05-29T02:10:00+00:00",
          "2025-05-29T02:15:00+00:00",
          "2025-05-29T02:20:00+00:00",
          "2025-05-29T02:25:00+00:00",
          "2025-05-29T02:30:00+00:00",
          "2025-05-29T02:35:00+00:00",
          "2025-05-29T02:40:00+00:00",
          "2025-05-29T02:45:00+00:00",
          "2025-05-29T02:50:00+00:00",
          "2025-05-29T02:55:00+00:00",
          "2025-05-29T03:00:00+00:00",
          "2025-05-29T03:05:00+00:00",
          "2025-05-29T03:10:00+00:00",
          "2025-05-29T03:15:00+00:00",
          "2025-05-29T03:20:00+00:00",
          "2025-05-29T03:25:00+00:00",
          "2025-05-29T03:30:00+00:00",
          "2025-05-29T03:35:00+00:00",
          "2025-05-29T03:40:00+00:00",
          "2025-05-29T03:45:00+00:00",
          "2025-05-29T03:50:00+00:00",
          "2025-05-29T03:55:00+00:00",
          "2025-05-29T04:00:00+00:00",
          "2025-05-29T04:05:00+00:00",
          "2025-05-29T04:10:00+00:00",
          "2025-05-29T04:15:00+00:00",
          "2025-05-29T04:20:00+00:00",
          "2025-05-29T04:25:00+00:00",
          "2025-05-29T04:30:00+00:00",
          "2025-05-29T04:35:00+00:00",
          "2025-05-29T04:40:00+00:00",
          "2025-05-29T04:45:00+00:00",
          "2025-05-29T04:50:00+00:00",
          "2025-05-29T04:55:00+00:00",
          "2025-05-29T05:00:00+00:00",
          "2025-05-29T05:05:00+00:00",
          "2025-05-29T05:10:00+00:00",
          "2025-05-29T05:15:00+00:00",
          "2025-05-29T05:20:00+00:00",
          "2025-05-29T05:25:00+00:00",
          "2025-05-29T05:30:00+00:00",
          "2025-05-29T05:35:00+00:00",
          "2025-05-29T05:40:00+00:00",
          "2025-05-29T05:45:00+00:00",
          "2025-05-29T05:50:00+00:00",
          "2025-05-29T05:55:00+00:00",
          "2025-05-29T06:00:00+00:00",
          "2025-05-29T06:05:00+00:00",
          "2025-05-29T06:10:00+00:00",
          "2025-05-29T06:15:00+00:00",
          "2025-05-29T06:20:00+00:00",
          "2025-05-29T06:25:00+00:00",
          "2025-05-29T06:30:00+00:00",
          "2025-05-29T06:35:00+00:00",
          "2025-05-29T06:40:00+00:00",
          "2025-05-29T06:45:00+00:00",
          "2025-05-29T06:50:00+00:00",
          "2025-05-29T06:55:00+00:00",
          "2025-05-29T07:00:00+00:00",
          "2025-05-29T07:05:00+00:00",
          "2025-05-29T07:10:00+00:00",
          "2025-05-29T07:15:00+00:00",
          "2025-05-29T07:20:00+00:00",
          "2025-05-29T07:25:00+00:00"
         ],
         "y": {
          "bdata": "AAAAAAAA+H8AAAAAAAD4fwAAAAAAAPh/AAAAAAAA+H8AAAAAAAD4fwAAAAAAAPh/AAAAAAAA+H8AAAAAAAD4fwAAAAAAAPh/AAAAAAAA+H8AAAAAAAD4fwAAAAAAAPh/AAAAAAAA+H8AAAAAAAD4fwAAAAAAAPh/AAAAAAAA+H8AAAAAAAD4fwAAAAAAAPh/AAAAAAAA+H8AAAAAAAD4f3Gsi9toAPI/AAAAAAAA+H8AAAAAAAD4fwAAAAAAAPh/AAAAAAAA+H8AAAAAAAD4fwAAAAAAAPh/AAAAAAAA+H8AAAAAAAD4fwAAAAAAAPh/AAAAAAAA+H8AAAAAAAD4fwAAAAAAAPh/AAAAAAAA+H8AAAAAAAD4fwAAAAAAAPh/AAAAAAAA+H8AAAAAAAD4fxoXDoRkAfI/AAAAAAAA+H8AAAAAAAD4fwAAAAAAAPh/AAAAAAAA+H8AAAAAAAD4fwAAAAAAAPh/AAAAAAAA+H8AAAAAAAD4fwAAAAAAAPh/iXssfegC8j8AAAAAAAD4fwAAAAAAAPh/AAAAAAAA+H8AAAAAAAD4fwAAAAAAAPh/AAAAAAAA+H8AAAAAAAD4fwAAAAAAAPh/AAAAAAAA+H8AAAAAAAD4fwAAAAAAAPh/UaVmD7QC8j8AAAAAAAD4fwAAAAAAAPh/AAAAAAAA+H8AAAAAAAD4fwAAAAAAAPh/AAAAAAAA+H8AAAAAAAD4fwAAAAAAAPh/NV66SQwC8j8AAAAAAAD4fwAAAAAAAPh/AAAAAAAA+H8AAAAAAAD4fwAAAAAAAPh/AAAAAAAA+H8AAAAAAAD4fwAAAAAAAPh/AAAAAAAA+H8AAAAAAAD4fwAAAAAAAPh/AAAAAAAA+H8AAAAAAAD4fwAAAAAAAPh/AAAAAAAA+H8AAAAAAAD4fwAAAAAAAPh/AAAAAAAA+H8AAAAAAAD4fwAAAAAAAPh/AAAAAAAA+H8AAAAAAAD4fwAAAAAAAPh/AAAAAAAA+H8AAAAAAAD4fwAAAAAAAPh/AAAAAAAA+H8AAAAAAAD4fwAAAAAAAPh/Pu3w12QN8j8=",
          "dtype": "f8"
         }
        },
        {
         "marker": {
          "color": "lime",
          "size": 9,
          "symbol": "triangle-up"
         },
         "mode": "markers",
         "name": "Pivot Low",
         "type": "scatter",
         "x": [
          "2025-05-28T23:10:00+00:00",
          "2025-05-28T23:15:00+00:00",
          "2025-05-28T23:20:00+00:00",
          "2025-05-28T23:25:00+00:00",
          "2025-05-28T23:30:00+00:00",
          "2025-05-28T23:35:00+00:00",
          "2025-05-28T23:40:00+00:00",
          "2025-05-28T23:45:00+00:00",
          "2025-05-28T23:50:00+00:00",
          "2025-05-28T23:55:00+00:00",
          "2025-05-29T00:00:00+00:00",
          "2025-05-29T00:05:00+00:00",
          "2025-05-29T00:10:00+00:00",
          "2025-05-29T00:15:00+00:00",
          "2025-05-29T00:20:00+00:00",
          "2025-05-29T00:25:00+00:00",
          "2025-05-29T00:30:00+00:00",
          "2025-05-29T00:35:00+00:00",
          "2025-05-29T00:40:00+00:00",
          "2025-05-29T00:45:00+00:00",
          "2025-05-29T00:50:00+00:00",
          "2025-05-29T00:55:00+00:00",
          "2025-05-29T01:00:00+00:00",
          "2025-05-29T01:05:00+00:00",
          "2025-05-29T01:10:00+00:00",
          "2025-05-29T01:15:00+00:00",
          "2025-05-29T01:20:00+00:00",
          "2025-05-29T01:25:00+00:00",
          "2025-05-29T01:30:00+00:00",
          "2025-05-29T01:35:00+00:00",
          "2025-05-29T01:40:00+00:00",
          "2025-05-29T01:45:00+00:00",
          "2025-05-29T01:50:00+00:00",
          "2025-05-29T01:55:00+00:00",
          "2025-05-29T02:00:00+00:00",
          "2025-05-29T02:05:00+00:00",
          "2025-05-29T02:10:00+00:00",
          "2025-05-29T02:15:00+00:00",
          "2025-05-29T02:20:00+00:00",
          "2025-05-29T02:25:00+00:00",
          "2025-05-29T02:30:00+00:00",
          "2025-05-29T02:35:00+00:00",
          "2025-05-29T02:40:00+00:00",
          "2025-05-29T02:45:00+00:00",
          "2025-05-29T02:50:00+00:00",
          "2025-05-29T02:55:00+00:00",
          "2025-05-29T03:00:00+00:00",
          "2025-05-29T03:05:00+00:00",
          "2025-05-29T03:10:00+00:00",
          "2025-05-29T03:15:00+00:00",
          "2025-05-29T03:20:00+00:00",
          "2025-05-29T03:25:00+00:00",
          "2025-05-29T03:30:00+00:00",
          "2025-05-29T03:35:00+00:00",
          "2025-05-29T03:40:00+00:00",
          "2025-05-29T03:45:00+00:00",
          "2025-05-29T03:50:00+00:00",
          "2025-05-29T03:55:00+00:00",
          "2025-05-29T04:00:00+00:00",
          "2025-05-29T04:05:00+00:00",
          "2025-05-29T04:10:00+00:00",
          "2025-05-29T04:15:00+00:00",
          "2025-05-29T04:20:00+00:00",
          "2025-05-29T04:25:00+00:00",
          "2025-05-29T04:30:00+00:00",
          "2025-05-29T04:35:00+00:00",
          "2025-05-29T04:40:00+00:00",
          "2025-05-29T04:45:00+00:00",
          "2025-05-29T04:50:00+00:00",
          "2025-05-29T04:55:00+00:00",
          "2025-05-29T05:00:00+00:00",
          "2025-05-29T05:05:00+00:00",
          "2025-05-29T05:10:00+00:00",
          "2025-05-29T05:15:00+00:00",
          "2025-05-29T05:20:00+00:00",
          "2025-05-29T05:25:00+00:00",
          "2025-05-29T05:30:00+00:00",
          "2025-05-29T05:35:00+00:00",
          "2025-05-29T05:40:00+00:00",
          "2025-05-29T05:45:00+00:00",
          "2025-05-29T05:50:00+00:00",
          "2025-05-29T05:55:00+00:00",
          "2025-05-29T06:00:00+00:00",
          "2025-05-29T06:05:00+00:00",
          "2025-05-29T06:10:00+00:00",
          "2025-05-29T06:15:00+00:00",
          "2025-05-29T06:20:00+00:00",
          "2025-05-29T06:25:00+00:00",
          "2025-05-29T06:30:00+00:00",
          "2025-05-29T06:35:00+00:00",
          "2025-05-29T06:40:00+00:00",
          "2025-05-29T06:45:00+00:00",
          "2025-05-29T06:50:00+00:00",
          "2025-05-29T06:55:00+00:00",
          "2025-05-29T07:00:00+00:00",
          "2025-05-29T07:05:00+00:00",
          "2025-05-29T07:10:00+00:00",
          "2025-05-29T07:15:00+00:00",
          "2025-05-29T07:20:00+00:00",
          "2025-05-29T07:25:00+00:00"
         ],
         "y": {
          "bdata": "AAAAAAAA+H8AAAAAAAD4fwAAAAAAAPh/AAAAAAAA+H8AAAAAAAD4fwAAAAAAAPh/AAAAAAAA+H8AAAAAAAD4fwAAAAAAAPh/AAAAAAAA+H8AAAAAAAD4f4/k8h/S7/E/AAAAAAAA+H8AAAAAAAD4fwAAAAAAAPh/AAAAAAAA+H8AAAAAAAD4fwAAAAAAAPh/DeAtkKD48T8AAAAAAAD4fwAAAAAAAPh/AAAAAAAA+H8AAAAAAAD4fwAAAAAAAPh/AAAAAAAA+H8AAAAAAAD4fwAAAAAAAPh/vmplwi/18T8AAAAAAAD4fwAAAAAAAPh/AAAAAAAA+H8AAAAAAAD4fwAAAAAAAPh/AAAAAAAA+H8AAAAAAAD4fwAAAAAAAPh/AAAAAAAA+H8AAAAAAAD4fwAAAAAAAPh/AAAAAAAA+H8AAAAAAAD4fwAAAAAAAPh/sYo3Mo/88T8AAAAAAAD4fwAAAAAAAPh/AAAAAAAA+H8AAAAAAAD4fwAAAAAAAPh/AAAAAAAA+H8AAAAAAAD4fwAAAAAAAPh/BcB4Bg398T8AAAAAAAD4fwAAAAAAAPh/AAAAAAAA+H8AAAAAAAD4fwAAAAAAAPh/AAAAAAAA+H8AAAAAAAD4fwAAAAAAAPh/AAAAAAAA+H8AAAAAAAD4fwAAAAAAAPh/PX5v05/98T8AAAAAAAD4fwAAAAAAAPh/AAAAAAAA+H8AAAAAAAD4fwAAAAAAAPh/AAAAAAAA+H8AAAAAAAD4fwAAAAAAAPh/AAAAAAAA+H8AAAAAAAD4fwAAAAAAAPh/AAAAAAAA+H8AAAAAAAD4fwAAAAAAAPh/AAAAAAAA+H8AAAAAAAD4fwAAAAAAAPh/AAAAAAAA+H8AAAAAAAD4fwAAAAAAAPh/AAAAAAAA+H+cM6K0N/jxPwAAAAAAAPh/AAAAAAAA+H8AAAAAAAD4fwAAAAAAAPh/AAAAAAAA+H8AAAAAAAD4fwAAAAAAAPh/AAAAAAAA+H8AAAAAAAD4fwAAAAAAAPh/AAAAAAAA+H8AAAAAAAD4fwAAAAAAAPh/AAAAAAAA+H8=",
          "dtype": "f8"
         }
        },
        {
         "line": {
          "color": "green",
          "dash": "dash",
          "width": 2
         },
         "marker": {
          "color": "green",
          "size": [
           10,
           12
          ],
          "symbol": [
           "arrow-bar-down",
           "x"
          ]
         },
         "mode": "markers+lines",
         "name": "Trade Path",
         "type": "scatter",
         "x": [
          "2025-05-29T04:15:00+00:00",
          "2025-05-29T05:45:00+00:00"
         ],
         "y": [
          1.12505,
          1.1235500000000003
         ]
        }
       ],
       "layout": {
        "height": 600,
        "shapes": [
         {
          "line": {
           "color": "green",
           "dash": "dot",
           "width": 1
          },
          "type": "line",
          "x0": 0,
          "x1": 1,
          "xref": "x domain",
          "y0": 1.1235500000000003,
          "y1": 1.1235500000000003,
          "yref": "y"
         },
         {
          "line": {
           "color": "red",
           "dash": "dot",
           "width": 1
          },
          "type": "line",
          "x0": 0,
          "x1": 1,
          "xref": "x domain",
          "y0": 1.12605,
          "y1": 1.12605,
          "yref": "y"
         }
        ],
        "template": {
         "data": {
          "bar": [
           {
            "error_x": {
             "color": "#2a3f5f"
            },
            "error_y": {
             "color": "#2a3f5f"
            },
            "marker": {
             "line": {
              "color": "#E5ECF6",
              "width": 0.5
             },
             "pattern": {
              "fillmode": "overlay",
              "size": 10,
              "solidity": 0.2
             }
            },
            "type": "bar"
           }
          ],
          "barpolar": [
           {
            "marker": {
             "line": {
              "color": "#E5ECF6",
              "width": 0.5
             },
             "pattern": {
              "fillmode": "overlay",
              "size": 10,
              "solidity": 0.2
             }
            },
            "type": "barpolar"
           }
          ],
          "carpet": [
           {
            "aaxis": {
             "endlinecolor": "#2a3f5f",
             "gridcolor": "white",
             "linecolor": "white",
             "minorgridcolor": "white",
             "startlinecolor": "#2a3f5f"
            },
            "baxis": {
             "endlinecolor": "#2a3f5f",
             "gridcolor": "white",
             "linecolor": "white",
             "minorgridcolor": "white",
             "startlinecolor": "#2a3f5f"
            },
            "type": "carpet"
           }
          ],
          "choropleth": [
           {
            "colorbar": {
             "outlinewidth": 0,
             "ticks": ""
            },
            "type": "choropleth"
           }
          ],
          "contour": [
           {
            "colorbar": {
             "outlinewidth": 0,
             "ticks": ""
            },
            "colorscale": [
             [
              0,
              "#0d0887"
             ],
             [
              0.1111111111111111,
              "#46039f"
             ],
             [
              0.2222222222222222,
              "#7201a8"
             ],
             [
              0.3333333333333333,
              "#9c179e"
             ],
             [
              0.4444444444444444,
              "#bd3786"
             ],
             [
              0.5555555555555556,
              "#d8576b"
             ],
             [
              0.6666666666666666,
              "#ed7953"
             ],
             [
              0.7777777777777778,
              "#fb9f3a"
             ],
             [
              0.8888888888888888,
              "#fdca26"
             ],
             [
              1,
              "#f0f921"
             ]
            ],
            "type": "contour"
           }
          ],
          "contourcarpet": [
           {
            "colorbar": {
             "outlinewidth": 0,
             "ticks": ""
            },
            "type": "contourcarpet"
           }
          ],
          "heatmap": [
           {
            "colorbar": {
             "outlinewidth": 0,
             "ticks": ""
            },
            "colorscale": [
             [
              0,
              "#0d0887"
             ],
             [
              0.1111111111111111,
              "#46039f"
             ],
             [
              0.2222222222222222,
              "#7201a8"
             ],
             [
              0.3333333333333333,
              "#9c179e"
             ],
             [
              0.4444444444444444,
              "#bd3786"
             ],
             [
              0.5555555555555556,
              "#d8576b"
             ],
             [
              0.6666666666666666,
              "#ed7953"
             ],
             [
              0.7777777777777778,
              "#fb9f3a"
             ],
             [
              0.8888888888888888,
              "#fdca26"
             ],
             [
              1,
              "#f0f921"
             ]
            ],
            "type": "heatmap"
           }
          ],
          "histogram": [
           {
            "marker": {
             "pattern": {
              "fillmode": "overlay",
              "size": 10,
              "solidity": 0.2
             }
            },
            "type": "histogram"
           }
          ],
          "histogram2d": [
           {
            "colorbar": {
             "outlinewidth": 0,
             "ticks": ""
            },
            "colorscale": [
             [
              0,
              "#0d0887"
             ],
             [
              0.1111111111111111,
              "#46039f"
             ],
             [
              0.2222222222222222,
              "#7201a8"
             ],
             [
              0.3333333333333333,
              "#9c179e"
             ],
             [
              0.4444444444444444,
              "#bd3786"
             ],
             [
              0.5555555555555556,
              "#d8576b"
             ],
             [
              0.6666666666666666,
              "#ed7953"
             ],
             [
              0.7777777777777778,
              "#fb9f3a"
             ],
             [
              0.8888888888888888,
              "#fdca26"
             ],
             [
              1,
              "#f0f921"
             ]
            ],
            "type": "histogram2d"
           }
          ],
          "histogram2dcontour": [
           {
            "colorbar": {
             "outlinewidth": 0,
             "ticks": ""
            },
            "colorscale": [
             [
              0,
              "#0d0887"
             ],
             [
              0.1111111111111111,
              "#46039f"
             ],
             [
              0.2222222222222222,
              "#7201a8"
             ],
             [
              0.3333333333333333,
              "#9c179e"
             ],
             [
              0.4444444444444444,
              "#bd3786"
             ],
             [
              0.5555555555555556,
              "#d8576b"
             ],
             [
              0.6666666666666666,
              "#ed7953"
             ],
             [
              0.7777777777777778,
              "#fb9f3a"
             ],
             [
              0.8888888888888888,
              "#fdca26"
             ],
             [
              1,
              "#f0f921"
             ]
            ],
            "type": "histogram2dcontour"
           }
          ],
          "mesh3d": [
           {
            "colorbar": {
             "outlinewidth": 0,
             "ticks": ""
            },
            "type": "mesh3d"
           }
          ],
          "parcoords": [
           {
            "line": {
             "colorbar": {
              "outlinewidth": 0,
              "ticks": ""
             }
            },
            "type": "parcoords"
           }
          ],
          "pie": [
           {
            "automargin": true,
            "type": "pie"
           }
          ],
          "scatter": [
           {
            "fillpattern": {
             "fillmode": "overlay",
             "size": 10,
             "solidity": 0.2
            },
            "type": "scatter"
           }
          ],
          "scatter3d": [
           {
            "line": {
             "colorbar": {
              "outlinewidth": 0,
              "ticks": ""
             }
            },
            "marker": {
             "colorbar": {
              "outlinewidth": 0,
              "ticks": ""
             }
            },
            "type": "scatter3d"
           }
          ],
          "scattercarpet": [
           {
            "marker": {
             "colorbar": {
              "outlinewidth": 0,
              "ticks": ""
             }
            },
            "type": "scattercarpet"
           }
          ],
          "scattergeo": [
           {
            "marker": {
             "colorbar": {
              "outlinewidth": 0,
              "ticks": ""
             }
            },
            "type": "scattergeo"
           }
          ],
          "scattergl": [
           {
            "marker": {
             "colorbar": {
              "outlinewidth": 0,
              "ticks": ""
             }
            },
            "type": "scattergl"
           }
          ],
          "scattermap": [
           {
            "marker": {
             "colorbar": {
              "outlinewidth": 0,
              "ticks": ""
             }
            },
            "type": "scattermap"
           }
          ],
          "scattermapbox": [
           {
            "marker": {
             "colorbar": {
              "outlinewidth": 0,
              "ticks": ""
             }
            },
            "type": "scattermapbox"
           }
          ],
          "scatterpolar": [
           {
            "marker": {
             "colorbar": {
              "outlinewidth": 0,
              "ticks": ""
             }
            },
            "type": "scatterpolar"
           }
          ],
          "scatterpolargl": [
           {
            "marker": {
             "colorbar": {
              "outlinewidth": 0,
              "ticks": ""
             }
            },
            "type": "scatterpolargl"
           }
          ],
          "scatterternary": [
           {
            "marker": {
             "colorbar": {
              "outlinewidth": 0,
              "ticks": ""
             }
            },
            "type": "scatterternary"
           }
          ],
          "surface": [
           {
            "colorbar": {
             "outlinewidth": 0,
             "ticks": ""
            },
            "colorscale": [
             [
              0,
              "#0d0887"
             ],
             [
              0.1111111111111111,
              "#46039f"
             ],
             [
              0.2222222222222222,
              "#7201a8"
             ],
             [
              0.3333333333333333,
              "#9c179e"
             ],
             [
              0.4444444444444444,
              "#bd3786"
             ],
             [
              0.5555555555555556,
              "#d8576b"
             ],
             [
              0.6666666666666666,
              "#ed7953"
             ],
             [
              0.7777777777777778,
              "#fb9f3a"
             ],
             [
              0.8888888888888888,
              "#fdca26"
             ],
             [
              1,
              "#f0f921"
             ]
            ],
            "type": "surface"
           }
          ],
          "table": [
           {
            "cells": {
             "fill": {
              "color": "#EBF0F8"
             },
             "line": {
              "color": "white"
             }
            },
            "header": {
             "fill": {
              "color": "#C8D4E3"
             },
             "line": {
              "color": "white"
             }
            },
            "type": "table"
           }
          ]
         },
         "layout": {
          "annotationdefaults": {
           "arrowcolor": "#2a3f5f",
           "arrowhead": 0,
           "arrowwidth": 1
          },
          "autotypenumbers": "strict",
          "coloraxis": {
           "colorbar": {
            "outlinewidth": 0,
            "ticks": ""
           }
          },
          "colorscale": {
           "diverging": [
            [
             0,
             "#8e0152"
            ],
            [
             0.1,
             "#c51b7d"
            ],
            [
             0.2,
             "#de77ae"
            ],
            [
             0.3,
             "#f1b6da"
            ],
            [
             0.4,
             "#fde0ef"
            ],
            [
             0.5,
             "#f7f7f7"
            ],
            [
             0.6,
             "#e6f5d0"
            ],
            [
             0.7,
             "#b8e186"
            ],
            [
             0.8,
             "#7fbc41"
            ],
            [
             0.9,
             "#4d9221"
            ],
            [
             1,
             "#276419"
            ]
           ],
           "sequential": [
            [
             0,
             "#0d0887"
            ],
            [
             0.1111111111111111,
             "#46039f"
            ],
            [
             0.2222222222222222,
             "#7201a8"
            ],
            [
             0.3333333333333333,
             "#9c179e"
            ],
            [
             0.4444444444444444,
             "#bd3786"
            ],
            [
             0.5555555555555556,
             "#d8576b"
            ],
            [
             0.6666666666666666,
             "#ed7953"
            ],
            [
             0.7777777777777778,
             "#fb9f3a"
            ],
            [
             0.8888888888888888,
             "#fdca26"
            ],
            [
             1,
             "#f0f921"
            ]
           ],
           "sequentialminus": [
            [
             0,
             "#0d0887"
            ],
            [
             0.1111111111111111,
             "#46039f"
            ],
            [
             0.2222222222222222,
             "#7201a8"
            ],
            [
             0.3333333333333333,
             "#9c179e"
            ],
            [
             0.4444444444444444,
             "#bd3786"
            ],
            [
             0.5555555555555556,
             "#d8576b"
            ],
            [
             0.6666666666666666,
             "#ed7953"
            ],
            [
             0.7777777777777778,
             "#fb9f3a"
            ],
            [
             0.8888888888888888,
             "#fdca26"
            ],
            [
             1,
             "#f0f921"
            ]
           ]
          },
          "colorway": [
           "#636efa",
           "#EF553B",
           "#00cc96",
           "#ab63fa",
           "#FFA15A",
           "#19d3f3",
           "#FF6692",
           "#B6E880",
           "#FF97FF",
           "#FECB52"
          ],
          "font": {
           "color": "#2a3f5f"
          },
          "geo": {
           "bgcolor": "white",
           "lakecolor": "white",
           "landcolor": "#E5ECF6",
           "showlakes": true,
           "showland": true,
           "subunitcolor": "white"
          },
          "hoverlabel": {
           "align": "left"
          },
          "hovermode": "closest",
          "mapbox": {
           "style": "light"
          },
          "paper_bgcolor": "white",
          "plot_bgcolor": "#E5ECF6",
          "polar": {
           "angularaxis": {
            "gridcolor": "white",
            "linecolor": "white",
            "ticks": ""
           },
           "bgcolor": "#E5ECF6",
           "radialaxis": {
            "gridcolor": "white",
            "linecolor": "white",
            "ticks": ""
           }
          },
          "scene": {
           "xaxis": {
            "backgroundcolor": "#E5ECF6",
            "gridcolor": "white",
            "gridwidth": 2,
            "linecolor": "white",
            "showbackground": true,
            "ticks": "",
            "zerolinecolor": "white"
           },
           "yaxis": {
            "backgroundcolor": "#E5ECF6",
            "gridcolor": "white",
            "gridwidth": 2,
            "linecolor": "white",
            "showbackground": true,
            "ticks": "",
            "zerolinecolor": "white"
           },
           "zaxis": {
            "backgroundcolor": "#E5ECF6",
            "gridcolor": "white",
            "gridwidth": 2,
            "linecolor": "white",
            "showbackground": true,
            "ticks": "",
            "zerolinecolor": "white"
           }
          },
          "shapedefaults": {
           "line": {
            "color": "#2a3f5f"
           }
          },
          "ternary": {
           "aaxis": {
            "gridcolor": "white",
            "linecolor": "white",
            "ticks": ""
           },
           "baxis": {
            "gridcolor": "white",
            "linecolor": "white",
            "ticks": ""
           },
           "bgcolor": "#E5ECF6",
           "caxis": {
            "gridcolor": "white",
            "linecolor": "white",
            "ticks": ""
           }
          },
          "title": {
           "x": 0.05
          },
          "xaxis": {
           "automargin": true,
           "gridcolor": "white",
           "linecolor": "white",
           "ticks": "",
           "title": {
            "standoff": 15
           },
           "zerolinecolor": "white",
           "zerolinewidth": 2
          },
          "yaxis": {
           "automargin": true,
           "gridcolor": "white",
           "linecolor": "white",
           "ticks": "",
           "title": {
            "standoff": 15
           },
           "zerolinecolor": "white",
           "zerolinewidth": 2
          }
         }
        },
        "title": {
         "text": "Trade Setup on 2025-05-29: SELL | PnL: 14.00 pips"
        },
        "xaxis": {
         "rangeslider": {
          "visible": false
         }
        },
        "yaxis": {
         "title": {
          "text": "Price"
         }
        }
       }
      }
     },
     "metadata": {},
     "output_type": "display_data"
    },
    {
     "data": {
      "application/vnd.plotly.v1+json": {
       "config": {
        "plotlyServerURL": "https://plot.ly"
       },
       "data": [
        {
         "close": {
          "bdata": "L4uJzcc18j+E2JlC5zXyP/a0w1+TNfI/EywOZ3418j+DwMqhRTbyP0vqBDQRNvI/LnO6LCY28j8uc7osJjbyP58fRgiPNvI/vJaQD3o28j/YDdsWZTbyP/WEJR5QNvI/EMzR4/c28j9lARO4dTfyP57vp8ZLN/I/gXhdv2A38j8PtAJDVjfyP0iKyLCKN/I/nu+nxks38j9JopdRLDfyP9fdPNUhN/I/SIrIsIo38j8PnDOitDfyPyrj32dcOPI/1ZXP8jw48j8NbJVgcTjyP0iKyLCKN/I/ZQETuHU38j9JopdRLDfyP7pOIy2VN/I/8iTpmsk38j/WrZ6T3jfyP53X2CWqN/I/uTZUjPM38j/Vlc/yPDjyP5y/CYUIOPI/D5wzorQ38j8r+64I/jfyP3ugFRiyOvI/J4Oj5NU58j8K3LqbpzryPwnE6/oFO/I/7WRwlLw68j+YLy/APjryPyU7NgLxOvI/J4Oj5NU58j+YLy/APjryP7WmeccpOvI/RPrt68A58j+aX80BgjnyPymzQSYZOfI/8MSsF0M58j9+AFKbODnyP34AUps4OfI/fhghPNo48j/UfQBSmzjyP7gGtkqwOPI/1H0AUps48j9FKowtBDnyP7fu5qkOOfI/DWyVYHE48j8NVMa/zzjyP7a+SGjLOfI/IqtbPSc98j/MXUvIBz3yPyLDKt7IPPI/IGPuWkI+8j91yM1wAz7yP5I/GHjuPfI/PQrXo3A98j8/OnXlszzyP3f4a7JGPfI/5nRZTGw+8j+vzjEgez3yP3Ww/s9hPvI/AIxn0NA/8j+rJoi6D0DyP6smiLoPQPI/Onr83qY/8j/IzXADPj/yP1cJFoczP/I/WWlSCro98j8IlE25wjvyPyZTBaOSOvI/JTs2AvE68j/sNNJSeTvyP9IdxM4UOvI/ls/yPLg78j+utmJ/2T3yP8strYbEPfI/k2+2uTE98j/MXUvIBz3yP5W3I5wWPPI/k2+2uTE98j+TV+cYkD3yP3lA2ZQrPPI/QYLix5g78j9Dyk+qfTryP0PKT6p9OvI/XhH8byU78j8=",
          "dtype": "f8"
         },
         "high": {
          "bdata": "L4uJzcc18j/1nPS+8TXyP7yuX7AbNvI/2T15WKg18j+DwMqhRTbyP4PAyqFFNvI/LnO6LCY28j/YDdsWZTbyP4Ko+wCkNvI/nx9GCI828j8tW+uLhDbyP0rSNZNvNvI/81SH3Aw38j8rE36pnzfyP2UBE7h1N/I/KxN+qZ838j/zPLg7azfyP0iKyLCKN/I/SIrIsIo38j+BeF2/YDfyP2UBE7h1N/I/D5wzorQ38j8PnDOitDfyP7gGtkqwOPI/nKc65GY48j8pyxDHujjyP0iKyLCKN/I/Y9F0djI48j9IisiwijfyPw+cM6K0N/I/KuPfZ1w48j+ASL99HTjyP7k2VIzzN/I/nL8JhQg48j9HWipvRzjyPyrj32dcOPI/DoRkARM48j8r+64I/jfyP14R/G8lO/I/7Eyh8xo78j8K3LqbpzryPyUjZ2FPO/I/l/+Qfvs68j9eEfxvJTvyP3uIRncQO/I/JTs2AvE68j+0dtuF5jryP19BmrFoOvI/taZ5xyk68j8LDFnd6jnyP5lH/mDgOfI/feiC+pY58j9E+u3rwDnyP2FxOPOrOfI/mnecoiM58j9iodY07zjyP5uPa0PFOPI/t+7mqQ458j/wxKwXQznyPwsMWd3qOfI/t+7mqQ458j9iodY07zjyP0PiHksfOvI/BTQRNjw98j924JwRpT3yPwQcQpWaPfI/kQ96Nqs+8j91sP7PYT7yP62GxD2WPvI/IGPuWkI+8j8hk4ychT3yP8xFfCdmPfI/rYbEPZY+8j+RD3o2qz7yP5EPejarPvI/OEpenWNA8j9VwaikTkDyP42XbhKDQPI/OEpenWNA8j8dA7LXuz/yP+Qs7GmHP/I/HOviNhpA8j/LLa2GxD3yP0BqEyf3O/I/JTs2AvE68j+yLm6jATzyP0GC4seYO/I/si5uowE88j9ZUYNpGD7yP3SYLy/APvI/kSdJ10w+8j8EHEKVmj3yPz0K16NwPfI/r84xIHs98j8D7KNTVz7yPwQcQpWaPfI/lZ9U+3Q88j95WKg1zTvyP9DVVuwvO/I/QZqxaDo78j8=",
          "dtype": "f8"
         },
         "low": {
          "bdata": "2T15WKg18j9LAtTUsjXyPxMsDmd+NfI/L6NYbmk18j8TLA5nfjXyPxIUP8bcNfI/S+oENBE28j9L6gQ0ETbyP7yuX7AbNvI/vJaQD3o28j8R/G8lOzbyP/WEJR5QNvI/9YQlHlA28j8QzNHj9zbyPy1DHOviNvI/nu+nxks38j+e76fGSzfyPywrTUpBN/I/nu+nxks38j/zVIfcDDfyP/NUh9wMN/I/LCtNSkE38j8sK01KQTfyPw+cM6K0N/I/8iTpmsk38j+ASL99HTjyP0iKyLCKN/I/ZQETuHU38j/zVIfcDDfyP/NUh9wMN/I/uk4jLZU38j9k6UMX1DfyPysTfqmfN/I/D5wzorQ38j/WrZ6T3jfyP53X2CWqN/I/KxN+qZ838j8PnDOitDfyP2UBE7h1N/I/uAa2SrA48j9FEr2MYjnyP2BZaVIKOvI/fLjkuFM68j+1pnnHKTryPwsMWd3qOfI/feiC+pY58j9hcTjzqznyP9IdxM4UOvI/ml/NAYI58j+21hcJbTnyP5uPa0PFOPI/KbNBJhk58j8MPPceLjnyPw1Uxr/POPI/m49rQ8U48j+ASL99HTjyPyrj32dcOPI/KuPfZ1w48j+4HoXrUTjyP9RlMbH5OPI/Y9F0djI48j9HWipvRzjyP/H0SlmGOPI/feiC+pY58j94KAr0iTzyP86N6QlLPPI/6uxkcJQ88j/opPeNrz3yP6/OMSB7PfI/IsMq3sg88j/qBDQRNjzyP7EWnwJgPPI/IqtbPSc98j89CtejcD3yPz0K16NwPfI/dbD+z2E+8j/lRLsKKT/yP5D3qpUJP/I/rFYm/FI/8j8eM1AZ/z7yP1ch5SfVPvI/6KT3ja898j/sNNJSeTvyP7WmeccpOvI/J4Oj5NU58j9Dyk+qfTryP2FxOPOrOfI/CwxZ3eo58j+Wz/I8uDvyPyGTjJyFPfI/Bkzg1t088j8GTODW3TzyP3lYqDXNO/I/e4hGdxA78j+w5gDBHD3yP13hXS7iO/I/enB31m478j9E+u3rwDnyPyibcoV3OfI/7pQO1v858j8=",
          "dtype": "f8"
         },
         "name": "Candles",
         "open": {
          "bdata": "vcYuUb018j+gT+RJ0jXyP4TYmULnNfI/9rTDX5M18j8TLA5nfjXyPxH8byU7NvI/LnO6LCY28j8uc7osJjbyP7yuX7AbNvI/nx9GCI828j8tW+uLhDbyP9gN2xZlNvI/9YQlHlA28j8QzNHj9zbyP2UBE7h1N/I/gXhdv2A38j/zPLg7azfyP57vp8ZLN/I/SIrIsIo38j8PtAJDVjfyP9fdPNUhN/I/LCtNSkE38j9IisiwijfyPw+cM6K0N/I/nKc65GY48j9HWipvRzjyP0iKyLCKN/I/Y9F0djI48j9lARO4dTfyP7pm8s02N/I/D5wzorQ38j+cvwmFCDjyP0dy+Q/pN/I/8iTpmsk38j+5NlSM8zfyP2PRdHYyOPI/K/uuCP438j+AYI4evzfyP/Ik6ZrJN/I/tI6qJog68j8LDFnd6jnyPyZTBaOSOvI/l/+Qfvs68j/tZHCUvDryP5gvL8A+OvI/tHbbheY68j8ng6Pk1TnyP5gvL8A+OvI/taZ5xyk68j/SNZNvtjnyP7bWFwltOfI/KbNBJhk58j9hiQeUTTnyP/DErBdDOfI/mnecoiM58j9iodY07zjyP7gGtkqwOPI/m49rQ8U48j/UfQBSmzjyP9RlMbH5OPI/RSqMLQQ58j8NbJVgcTjyP34YITzaOPI/mUf+YOA58j/MXUvIBz3yP1uZ8Ev9PPI/sP7PYb488j882jhiLT7yPwQEc/T4PfI/IHu9++M98j89CtejcD3yPz86deWzPPI/d/hrskY98j8D7KNTVz7yPz0K16NwPfI/5nRZTGw+8j/kFB3J5T/yPxzr4jYaQPI/OWItPgVA8j86evzepj/yP8jNcAM+P/I/5US7Cik/8j/opPeNrz3yP3lYqDXNO/I/JlMFo5I68j+0dtuF5jryP135LM+DO/I/7pQO1v858j8IlE25wjvyPyB7vfvjPfI/PfIHA8898j8iq1s9Jz3yP1uZ8Ev9PPI/I/PIHww88j+Tb7a5MT3yPwQcQpWaPfI/6gQ0ETY88j+yRj1EozvyP0PKT6p9OvI/Q8pPqn068j8=",
          "dtype": "f8"
         },
         "type": "candlestick",
         "x": [
          "2025-05-26T18:45:00+00:00",
          "2025-05-26T18:50:00+00:00",
          "2025-05-26T18:55:00+00:00",
          "2025-05-26T19:00:00+00:00",
          "2025-05-26T19:05:00+00:00",
          "2025-05-26T19:10:00+00:00",
          "2025-05-26T19:15:00+00:00",
          "2025-05-26T19:20:00+00:00",
          "2025-05-26T19:25:00+00:00",
          "2025-05-26T19:30:00+00:00",
          "2025-05-26T19:35:00+00:00",
          "2025-05-26T19:45:00+00:00",
          "2025-05-26T19:50:00+00:00",
          "2025-05-26T19:55:00+00:00",
          "2025-05-26T20:00:00+00:00",
          "2025-05-26T20:05:00+00:00",
          "2025-05-26T20:10:00+00:00",
          "2025-05-26T20:15:00+00:00",
          "2025-05-26T20:20:00+00:00",
          "2025-05-26T20:25:00+00:00",
          "2025-05-26T20:30:00+00:00",
          "2025-05-26T20:35:00+00:00",
          "2025-05-26T20:40:00+00:00",
          "2025-05-26T20:45:00+00:00",
          "2025-05-26T20:50:00+00:00",
          "2025-05-26T20:55:00+00:00",
          "2025-05-26T21:00:00+00:00",
          "2025-05-26T21:05:00+00:00",
          "2025-05-26T21:10:00+00:00",
          "2025-05-26T21:15:00+00:00",
          "2025-05-26T21:20:00+00:00",
          "2025-05-26T21:25:00+00:00",
          "2025-05-26T21:30:00+00:00",
          "2025-05-26T21:35:00+00:00",
          "2025-05-26T21:40:00+00:00",
          "2025-05-26T21:45:00+00:00",
          "2025-05-26T21:50:00+00:00",
          "2025-05-26T21:55:00+00:00",
          "2025-05-26T22:00:00+00:00",
          "2025-05-26T22:05:00+00:00",
          "2025-05-26T22:10:00+00:00",
          "2025-05-26T22:15:00+00:00",
          "2025-05-26T22:20:00+00:00",
          "2025-05-26T22:25:00+00:00",
          "2025-05-26T22:30:00+00:00",
          "2025-05-26T22:35:00+00:00",
          "2025-05-26T22:40:00+00:00",
          "2025-05-26T22:45:00+00:00",
          "2025-05-26T22:50:00+00:00",
          "2025-05-26T22:55:00+00:00",
          "2025-05-26T23:00:00+00:00",
          "2025-05-26T23:05:00+00:00",
          "2025-05-26T23:10:00+00:00",
          "2025-05-26T23:15:00+00:00",
          "2025-05-26T23:20:00+00:00",
          "2025-05-26T23:25:00+00:00",
          "2025-05-26T23:30:00+00:00",
          "2025-05-26T23:35:00+00:00",
          "2025-05-26T23:40:00+00:00",
          "2025-05-26T23:45:00+00:00",
          "2025-05-26T23:50:00+00:00",
          "2025-05-26T23:55:00+00:00",
          "2025-05-27T00:00:00+00:00",
          "2025-05-27T00:05:00+00:00",
          "2025-05-27T00:10:00+00:00",
          "2025-05-27T00:15:00+00:00",
          "2025-05-27T00:20:00+00:00",
          "2025-05-27T00:25:00+00:00",
          "2025-05-27T00:30:00+00:00",
          "2025-05-27T00:35:00+00:00",
          "2025-05-27T00:40:00+00:00",
          "2025-05-27T00:45:00+00:00",
          "2025-05-27T00:50:00+00:00",
          "2025-05-27T00:55:00+00:00",
          "2025-05-27T01:00:00+00:00",
          "2025-05-27T01:05:00+00:00",
          "2025-05-27T01:10:00+00:00",
          "2025-05-27T01:15:00+00:00",
          "2025-05-27T01:20:00+00:00",
          "2025-05-27T01:25:00+00:00",
          "2025-05-27T01:30:00+00:00",
          "2025-05-27T01:35:00+00:00",
          "2025-05-27T01:40:00+00:00",
          "2025-05-27T01:45:00+00:00",
          "2025-05-27T01:50:00+00:00",
          "2025-05-27T01:55:00+00:00",
          "2025-05-27T02:00:00+00:00",
          "2025-05-27T02:05:00+00:00",
          "2025-05-27T02:10:00+00:00",
          "2025-05-27T02:15:00+00:00",
          "2025-05-27T02:20:00+00:00",
          "2025-05-27T02:25:00+00:00",
          "2025-05-27T02:30:00+00:00",
          "2025-05-27T02:35:00+00:00",
          "2025-05-27T02:40:00+00:00",
          "2025-05-27T02:45:00+00:00",
          "2025-05-27T02:50:00+00:00",
          "2025-05-27T02:55:00+00:00",
          "2025-05-27T03:00:00+00:00",
          "2025-05-27T03:05:00+00:00"
         ]
        },
        {
         "line": {
          "color": "blue",
          "width": 1
         },
         "mode": "lines",
         "name": "40 EMA",
         "type": "scatter",
         "x": [
          "2025-05-26T18:45:00+00:00",
          "2025-05-26T18:50:00+00:00",
          "2025-05-26T18:55:00+00:00",
          "2025-05-26T19:00:00+00:00",
          "2025-05-26T19:05:00+00:00",
          "2025-05-26T19:10:00+00:00",
          "2025-05-26T19:15:00+00:00",
          "2025-05-26T19:20:00+00:00",
          "2025-05-26T19:25:00+00:00",
          "2025-05-26T19:30:00+00:00",
          "2025-05-26T19:35:00+00:00",
          "2025-05-26T19:45:00+00:00",
          "2025-05-26T19:50:00+00:00",
          "2025-05-26T19:55:00+00:00",
          "2025-05-26T20:00:00+00:00",
          "2025-05-26T20:05:00+00:00",
          "2025-05-26T20:10:00+00:00",
          "2025-05-26T20:15:00+00:00",
          "2025-05-26T20:20:00+00:00",
          "2025-05-26T20:25:00+00:00",
          "2025-05-26T20:30:00+00:00",
          "2025-05-26T20:35:00+00:00",
          "2025-05-26T20:40:00+00:00",
          "2025-05-26T20:45:00+00:00",
          "2025-05-26T20:50:00+00:00",
          "2025-05-26T20:55:00+00:00",
          "2025-05-26T21:00:00+00:00",
          "2025-05-26T21:05:00+00:00",
          "2025-05-26T21:10:00+00:00",
          "2025-05-26T21:15:00+00:00",
          "2025-05-26T21:20:00+00:00",
          "2025-05-26T21:25:00+00:00",
          "2025-05-26T21:30:00+00:00",
          "2025-05-26T21:35:00+00:00",
          "2025-05-26T21:40:00+00:00",
          "2025-05-26T21:45:00+00:00",
          "2025-05-26T21:50:00+00:00",
          "2025-05-26T21:55:00+00:00",
          "2025-05-26T22:00:00+00:00",
          "2025-05-26T22:05:00+00:00",
          "2025-05-26T22:10:00+00:00",
          "2025-05-26T22:15:00+00:00",
          "2025-05-26T22:20:00+00:00",
          "2025-05-26T22:25:00+00:00",
          "2025-05-26T22:30:00+00:00",
          "2025-05-26T22:35:00+00:00",
          "2025-05-26T22:40:00+00:00",
          "2025-05-26T22:45:00+00:00",
          "2025-05-26T22:50:00+00:00",
          "2025-05-26T22:55:00+00:00",
          "2025-05-26T23:00:00+00:00",
          "2025-05-26T23:05:00+00:00",
          "2025-05-26T23:10:00+00:00",
          "2025-05-26T23:15:00+00:00",
          "2025-05-26T23:20:00+00:00",
          "2025-05-26T23:25:00+00:00",
          "2025-05-26T23:30:00+00:00",
          "2025-05-26T23:35:00+00:00",
          "2025-05-26T23:40:00+00:00",
          "2025-05-26T23:45:00+00:00",
          "2025-05-26T23:50:00+00:00",
          "2025-05-26T23:55:00+00:00",
          "2025-05-27T00:00:00+00:00",
          "2025-05-27T00:05:00+00:00",
          "2025-05-27T00:10:00+00:00",
          "2025-05-27T00:15:00+00:00",
          "2025-05-27T00:20:00+00:00",
          "2025-05-27T00:25:00+00:00",
          "2025-05-27T00:30:00+00:00",
          "2025-05-27T00:35:00+00:00",
          "2025-05-27T00:40:00+00:00",
          "2025-05-27T00:45:00+00:00",
          "2025-05-27T00:50:00+00:00",
          "2025-05-27T00:55:00+00:00",
          "2025-05-27T01:00:00+00:00",
          "2025-05-27T01:05:00+00:00",
          "2025-05-27T01:10:00+00:00",
          "2025-05-27T01:15:00+00:00",
          "2025-05-27T01:20:00+00:00",
          "2025-05-27T01:25:00+00:00",
          "2025-05-27T01:30:00+00:00",
          "2025-05-27T01:35:00+00:00",
          "2025-05-27T01:40:00+00:00",
          "2025-05-27T01:45:00+00:00",
          "2025-05-27T01:50:00+00:00",
          "2025-05-27T01:55:00+00:00",
          "2025-05-27T02:00:00+00:00",
          "2025-05-27T02:05:00+00:00",
          "2025-05-27T02:10:00+00:00",
          "2025-05-27T02:15:00+00:00",
          "2025-05-27T02:20:00+00:00",
          "2025-05-27T02:25:00+00:00",
          "2025-05-27T02:30:00+00:00",
          "2025-05-27T02:35:00+00:00",
          "2025-05-27T02:40:00+00:00",
          "2025-05-27T02:45:00+00:00",
          "2025-05-27T02:50:00+00:00",
          "2025-05-27T02:55:00+00:00",
          "2025-05-27T03:00:00+00:00",
          "2025-05-27T03:05:00+00:00"
         ],
         "y": {
          "bdata": "NysCR7818j8oQE46wTXyP4Ojsf2+NfI/hEwg17s18j9kcdePwjXyPx4m5mXGNfI/SoHwEcs18j/98KKDzzXyP8D/RtvYNfI/ClJduOA18j+8NV0t5zXyPxBf10vsNfI/Tq9/Wfk18j8jYnrnCzbyP8V7+YEbNvI/nHuBXys28j8xLfjzOTbyP4MSFWFKNvI/yCln71Y28j9dWxhYYTbyP+ay27tqNvI/xUbOx3g28j93JR4wiDbyP21aIQefNvI/4x4XOLM28j9WZ6D7yDbyPx0enG7SNvI/E6a0Zdo28j8uerlk3jbyP2wBSE/nNvI/7+M2WfI28j8ldy/f/TbyP//liEYGN/I/hJKM2RE38j+ukqJwIDfyP78RzcIrN/I/M0QKcDI38j8GsYJePDfyPxgtRZNnN/I/u2+n7oU38j9bF9QJrTfyP7RqJtfWN/I/z9rYBfs38j8dMGBNFzjyPxGIzuU6OPI/wdI88k448j+sR78hZzjyPyP7Vx19OPI/PWX76Iw48j+yd7TdmDjyP4Derh+fOPI/Qd1KH6c48j9wBBM4rjjyP5yNO/i0OPI/zeuXybY48j84x5ZytTjyP2pmNDK1OPI//6US77M48j9aECXZtzjyPxp/RxW8OPI/igdecLg48j9S2XWTuTjyPytCA+/GOPI/2Qgtlf048j9uSw8IMDnyP2TUSPNcOfI/O1iPF5o58j9EH6Uu0TnyP+Tu4o8EOvI/pEctTC868j8W48y9TjryP1Mc+s9zOvI/11inZaU68j8Ta2nMyDryP5vY2rn1OvI/HNtLXTI78j9tVSkdbzvyP28nZuaoO/I/RvOSwNo78j9fPMMOBTzyPw2LtMksPPI/hwyEKkA88j+GgwQMOjzyP0/rjWQlPPI/1mWDWRY88j9N+ZmwDjzyP/xePgP2O/I/8InQ//I78j8rWhy7CjzyPyypKUggPPI/cFvfni088j9iCjxDODzyPz5q/J42PPI/94+63kI88j//bQEgUzzyP8ZrMTJRPPI/pk1AM0g88j9JFSjVMTzyPxY3Yo4cPPI/XrhpgBA88j8=",
          "dtype": "f8"
         }
        },
        {
         "line": {
          "color": "purple",
          "width": 1.5
         },
         "mode": "lines",
         "name": "100 EMA",
         "type": "scatter",
         "x": [
          "2025-05-26T18:45:00+00:00",
          "2025-05-26T18:50:00+00:00",
          "2025-05-26T18:55:00+00:00",
          "2025-05-26T19:00:00+00:00",
          "2025-05-26T19:05:00+00:00",
          "2025-05-26T19:10:00+00:00",
          "2025-05-26T19:15:00+00:00",
          "2025-05-26T19:20:00+00:00",
          "2025-05-26T19:25:00+00:00",
          "2025-05-26T19:30:00+00:00",
          "2025-05-26T19:35:00+00:00",
          "2025-05-26T19:45:00+00:00",
          "2025-05-26T19:50:00+00:00",
          "2025-05-26T19:55:00+00:00",
          "2025-05-26T20:00:00+00:00",
          "2025-05-26T20:05:00+00:00",
          "2025-05-26T20:10:00+00:00",
          "2025-05-26T20:15:00+00:00",
          "2025-05-26T20:20:00+00:00",
          "2025-05-26T20:25:00+00:00",
          "2025-05-26T20:30:00+00:00",
          "2025-05-26T20:35:00+00:00",
          "2025-05-26T20:40:00+00:00",
          "2025-05-26T20:45:00+00:00",
          "2025-05-26T20:50:00+00:00",
          "2025-05-26T20:55:00+00:00",
          "2025-05-26T21:00:00+00:00",
          "2025-05-26T21:05:00+00:00",
          "2025-05-26T21:10:00+00:00",
          "2025-05-26T21:15:00+00:00",
          "2025-05-26T21:20:00+00:00",
          "2025-05-26T21:25:00+00:00",
          "2025-05-26T21:30:00+00:00",
          "2025-05-26T21:35:00+00:00",
          "2025-05-26T21:40:00+00:00",
          "2025-05-26T21:45:00+00:00",
          "2025-05-26T21:50:00+00:00",
          "2025-05-26T21:55:00+00:00",
          "2025-05-26T22:00:00+00:00",
          "2025-05-26T22:05:00+00:00",
          "2025-05-26T22:10:00+00:00",
          "2025-05-26T22:15:00+00:00",
          "2025-05-26T22:20:00+00:00",
          "2025-05-26T22:25:00+00:00",
          "2025-05-26T22:30:00+00:00",
          "2025-05-26T22:35:00+00:00",
          "2025-05-26T22:40:00+00:00",
          "2025-05-26T22:45:00+00:00",
          "2025-05-26T22:50:00+00:00",
          "2025-05-26T22:55:00+00:00",
          "2025-05-26T23:00:00+00:00",
          "2025-05-26T23:05:00+00:00",
          "2025-05-26T23:10:00+00:00",
          "2025-05-26T23:15:00+00:00",
          "2025-05-26T23:20:00+00:00",
          "2025-05-26T23:25:00+00:00",
          "2025-05-26T23:30:00+00:00",
          "2025-05-26T23:35:00+00:00",
          "2025-05-26T23:40:00+00:00",
          "2025-05-26T23:45:00+00:00",
          "2025-05-26T23:50:00+00:00",
          "2025-05-26T23:55:00+00:00",
          "2025-05-27T00:00:00+00:00",
          "2025-05-27T00:05:00+00:00",
          "2025-05-27T00:10:00+00:00",
          "2025-05-27T00:15:00+00:00",
          "2025-05-27T00:20:00+00:00",
          "2025-05-27T00:25:00+00:00",
          "2025-05-27T00:30:00+00:00",
          "2025-05-27T00:35:00+00:00",
          "2025-05-27T00:40:00+00:00",
          "2025-05-27T00:45:00+00:00",
          "2025-05-27T00:50:00+00:00",
          "2025-05-27T00:55:00+00:00",
          "2025-05-27T01:00:00+00:00",
          "2025-05-27T01:05:00+00:00",
          "2025-05-27T01:10:00+00:00",
          "2025-05-27T01:15:00+00:00",
          "2025-05-27T01:20:00+00:00",
          "2025-05-27T01:25:00+00:00",
          "2025-05-27T01:30:00+00:00",
          "2025-05-27T01:35:00+00:00",
          "2025-05-27T01:40:00+00:00",
          "2025-05-27T01:45:00+00:00",
          "2025-05-27T01:50:00+00:00",
          "2025-05-27T01:55:00+00:00",
          "2025-05-27T02:00:00+00:00",
          "2025-05-27T02:05:00+00:00",
          "2025-05-27T02:10:00+00:00",
          "2025-05-27T02:15:00+00:00",
          "2025-05-27T02:20:00+00:00",
          "2025-05-27T02:25:00+00:00",
          "2025-05-27T02:30:00+00:00",
          "2025-05-27T02:35:00+00:00",
          "2025-05-27T02:40:00+00:00",
          "2025-05-27T02:45:00+00:00",
          "2025-05-27T02:50:00+00:00",
          "2025-05-27T02:55:00+00:00",
          "2025-05-27T03:00:00+00:00",
          "2025-05-27T03:05:00+00:00"
         ],
         "y": {
          "bdata": "7+ezNiM28j/LqscGIjbyP6aRoTMfNvI/H7N9BBw28j9ejXLXHDbyP3TqcpwcNvI/5/7tzBw28j/HT3P8HDbyP+fmlT4fNvI/Ex32CiE28j+L5+hjIjbyP2Vpt0sjNvI/A+VrgSc28j9R96YfLjbyP3YxtsczNvI/j2VovTk28j+rj7xfPzbyP1A0SO9FNvI/GdCiHks28j+TND2UTzbyP+ukFL5TNvI/Qy1f5lk28j9FRhLEYDbyP9IgdNFqNvI/F0RpDHQ28j+07loifjbyP1L0v3ODNvI/yQPgP4g28j94nJd/izbyP1UmZcKQNvI/vWpO9JY28j8O2R9xnTbyPwz/RsOiNvI/k7GLbqk28j+pcRhssTbyP7CWXDe4NvI/XFLxNr028j+uL0aRwzbyP16cqn/XNvI/OkjBrOY28j8xlwW0+TbyP5NOOjkON/I/mjBS4iA38j/rtvOuMDfyP8unIrNDN/I/ize4u1A38j/cx8mVXzfyP3vbQbptN/I/T356g3k38j+BAQXSgzfyP6fFwdiLN/I/brZti5Q38j9sJ9rcnDfyP8DkGwSlN/I/TVWiI6s38j+Kmi/lrzfyP1Bd8Pi0N/I/7qSkiLk38j8JpccUwDfyP1uc4bTGN/I/sEIQFso38j/8Y4NEzzfyP7jzbVTZN/I/aWkXOPQ38j9UBvrzDTjyP/W4ee4lOPI/aucE6UQ48j+G0pYHYjjyP2OaOyh+OPI/B05sPJc48j/qYa4UrDjyPzbFcmvDOPI/VhxCHOA48j9kjwx19zjyP+DM6OgSOfI/uEIMFjU58j80jt7UVznyPy9FjuN5OfI/rh0KMpk58j9o6UPOtTnyP1YkTaTROfI/zeOgc+U58j+tTBHn7jnyP7chFiXyOfI/srIRMfc58j9Nbn3W/jnyP92c3EX/OfI/YOc/AQg68j8i0nVcGzryP7iePOstOvI/jNXCMz068j9E/i9aSzryP30qTnJUOvI/XHWF92I68j+QZYcRczryP1rUn8p7OvI/W5NSb4E68j+mozZcgTryP6uSe0mBOvI/gYiciYQ68j8=",
          "dtype": "f8"
         }
        },
        {
         "marker": {
          "color": "red",
          "size": 9,
          "symbol": "triangle-down"
         },
         "mode": "markers",
         "name": "Pivot High",
         "type": "scatter",
         "x": [
          "2025-05-26T18:45:00+00:00",
          "2025-05-26T18:50:00+00:00",
          "2025-05-26T18:55:00+00:00",
          "2025-05-26T19:00:00+00:00",
          "2025-05-26T19:05:00+00:00",
          "2025-05-26T19:10:00+00:00",
          "2025-05-26T19:15:00+00:00",
          "2025-05-26T19:20:00+00:00",
          "2025-05-26T19:25:00+00:00",
          "2025-05-26T19:30:00+00:00",
          "2025-05-26T19:35:00+00:00",
          "2025-05-26T19:45:00+00:00",
          "2025-05-26T19:50:00+00:00",
          "2025-05-26T19:55:00+00:00",
          "2025-05-26T20:00:00+00:00",
          "2025-05-26T20:05:00+00:00",
          "2025-05-26T20:10:00+00:00",
          "2025-05-26T20:15:00+00:00",
          "2025-05-26T20:20:00+00:00",
          "2025-05-26T20:25:00+00:00",
          "2025-05-26T20:30:00+00:00",
          "2025-05-26T20:35:00+00:00",
          "2025-05-26T20:40:00+00:00",
          "2025-05-26T20:45:00+00:00",
          "2025-05-26T20:50:00+00:00",
          "2025-05-26T20:55:00+00:00",
          "2025-05-26T21:00:00+00:00",
          "2025-05-26T21:05:00+00:00",
          "2025-05-26T21:10:00+00:00",
          "2025-05-26T21:15:00+00:00",
          "2025-05-26T21:20:00+00:00",
          "2025-05-26T21:25:00+00:00",
          "2025-05-26T21:30:00+00:00",
          "2025-05-26T21:35:00+00:00",
          "2025-05-26T21:40:00+00:00",
          "2025-05-26T21:45:00+00:00",
          "2025-05-26T21:50:00+00:00",
          "2025-05-26T21:55:00+00:00",
          "2025-05-26T22:00:00+00:00",
          "2025-05-26T22:05:00+00:00",
          "2025-05-26T22:10:00+00:00",
          "2025-05-26T22:15:00+00:00",
          "2025-05-26T22:20:00+00:00",
          "2025-05-26T22:25:00+00:00",
          "2025-05-26T22:30:00+00:00",
          "2025-05-26T22:35:00+00:00",
          "2025-05-26T22:40:00+00:00",
          "2025-05-26T22:45:00+00:00",
          "2025-05-26T22:50:00+00:00",
          "2025-05-26T22:55:00+00:00",
          "2025-05-26T23:00:00+00:00",
          "2025-05-26T23:05:00+00:00",
          "2025-05-26T23:10:00+00:00",
          "2025-05-26T23:15:00+00:00",
          "2025-05-26T23:20:00+00:00",
          "2025-05-26T23:25:00+00:00",
          "2025-05-26T23:30:00+00:00",
          "2025-05-26T23:35:00+00:00",
          "2025-05-26T23:40:00+00:00",
          "2025-05-26T23:45:00+00:00",
          "2025-05-26T23:50:00+00:00",
          "2025-05-26T23:55:00+00:00",
          "2025-05-27T00:00:00+00:00",
          "2025-05-27T00:05:00+00:00",
          "2025-05-27T00:10:00+00:00",
          "2025-05-27T00:15:00+00:00",
          "2025-05-27T00:20:00+00:00",
          "2025-05-27T00:25:00+00:00",
          "2025-05-27T00:30:00+00:00",
          "2025-05-27T00:35:00+00:00",
          "2025-05-27T00:40:00+00:00",
          "2025-05-27T00:45:00+00:00",
          "2025-05-27T00:50:00+00:00",
          "2025-05-27T00:55:00+00:00",
          "2025-05-27T01:00:00+00:00",
          "2025-05-27T01:05:00+00:00",
          "2025-05-27T01:10:00+00:00",
          "2025-05-27T01:15:00+00:00",
          "2025-05-27T01:20:00+00:00",
          "2025-05-27T01:25:00+00:00",
          "2025-05-27T01:30:00+00:00",
          "2025-05-27T01:35:00+00:00",
          "2025-05-27T01:40:00+00:00",
          "2025-05-27T01:45:00+00:00",
          "2025-05-27T01:50:00+00:00",
          "2025-05-27T01:55:00+00:00",
          "2025-05-27T02:00:00+00:00",
          "2025-05-27T02:05:00+00:00",
          "2025-05-27T02:10:00+00:00",
          "2025-05-27T02:15:00+00:00",
          "2025-05-27T02:20:00+00:00",
          "2025-05-27T02:25:00+00:00",
          "2025-05-27T02:30:00+00:00",
          "2025-05-27T02:35:00+00:00",
          "2025-05-27T02:40:00+00:00",
          "2025-05-27T02:45:00+00:00",
          "2025-05-27T02:50:00+00:00",
          "2025-05-27T02:55:00+00:00",
          "2025-05-27T03:00:00+00:00",
          "2025-05-27T03:05:00+00:00"
         ],
         "y": {
          "bdata": "AAAAAAAA+H8AAAAAAAD4fwAAAAAAAPh/AAAAAAAA+H8AAAAAAAD4fwAAAAAAAPh/AAAAAAAA+H8AAAAAAAD4fwAAAAAAAPh/AAAAAAAA+H8AAAAAAAD4fwAAAAAAAPh/AAAAAAAA+H8AAAAAAAD4fwAAAAAAAPh/AAAAAAAA+H8AAAAAAAD4fwAAAAAAAPh/AAAAAAAA+H8AAAAAAAD4fwAAAAAAAPh/AAAAAAAA+H8AAAAAAAD4fwAAAAAAAPh/AAAAAAAA+H8AAAAAAAD4fwAAAAAAAPh/AAAAAAAA+H8AAAAAAAD4fwAAAAAAAPh/AAAAAAAA+H8AAAAAAAD4fwAAAAAAAPh/AAAAAAAA+H8AAAAAAAD4fwAAAAAAAPh/AAAAAAAA+H8AAAAAAAD4fwAAAAAAAPh/AAAAAAAA+H8AAAAAAAD4fwAAAAAAAPh/AAAAAAAA+H8AAAAAAAD4fwAAAAAAAPh/AAAAAAAA+H8lI2dhTzvyPwAAAAAAAPh/AAAAAAAA+H8AAAAAAAD4fwAAAAAAAPh/AAAAAAAA+H8AAAAAAAD4fwAAAAAAAPh/AAAAAAAA+H8AAAAAAAD4fwAAAAAAAPh/AAAAAAAA+H8AAAAAAAD4fwAAAAAAAPh/AAAAAAAA+H8AAAAAAAD4fwAAAAAAAPh/AAAAAAAA+H8AAAAAAAD4fwAAAAAAAPh/AAAAAAAA+H8AAAAAAAD4fwAAAAAAAPh/AAAAAAAA+H8AAAAAAAD4fwAAAAAAAPh/AAAAAAAA+H8AAAAAAAD4fwAAAAAAAPh/AAAAAAAA+H8AAAAAAAD4fwAAAAAAAPh/AAAAAAAA+H8AAAAAAAD4fwAAAAAAAPh/AAAAAAAA+H+Nl24Sg0DyPwAAAAAAAPh/AAAAAAAA+H8AAAAAAAD4fwAAAAAAAPh/AAAAAAAA+H8AAAAAAAD4fwAAAAAAAPh/AAAAAAAA+H8AAAAAAAD4fwAAAAAAAPh/AAAAAAAA+H90mC8vwD7yPwAAAAAAAPh/AAAAAAAA+H8AAAAAAAD4fwAAAAAAAPh/AAAAAAAA+H8=",
          "dtype": "f8"
         }
        },
        {
         "marker": {
          "color": "lime",
          "size": 9,
          "symbol": "triangle-up"
         },
         "mode": "markers",
         "name": "Pivot Low",
         "type": "scatter",
         "x": [
          "2025-05-26T18:45:00+00:00",
          "2025-05-26T18:50:00+00:00",
          "2025-05-26T18:55:00+00:00",
          "2025-05-26T19:00:00+00:00",
          "2025-05-26T19:05:00+00:00",
          "2025-05-26T19:10:00+00:00",
          "2025-05-26T19:15:00+00:00",
          "2025-05-26T19:20:00+00:00",
          "2025-05-26T19:25:00+00:00",
          "2025-05-26T19:30:00+00:00",
          "2025-05-26T19:35:00+00:00",
          "2025-05-26T19:45:00+00:00",
          "2025-05-26T19:50:00+00:00",
          "2025-05-26T19:55:00+00:00",
          "2025-05-26T20:00:00+00:00",
          "2025-05-26T20:05:00+00:00",
          "2025-05-26T20:10:00+00:00",
          "2025-05-26T20:15:00+00:00",
          "2025-05-26T20:20:00+00:00",
          "2025-05-26T20:25:00+00:00",
          "2025-05-26T20:30:00+00:00",
          "2025-05-26T20:35:00+00:00",
          "2025-05-26T20:40:00+00:00",
          "2025-05-26T20:45:00+00:00",
          "2025-05-26T20:50:00+00:00",
          "2025-05-26T20:55:00+00:00",
          "2025-05-26T21:00:00+00:00",
          "2025-05-26T21:05:00+00:00",
          "2025-05-26T21:10:00+00:00",
          "2025-05-26T21:15:00+00:00",
          "2025-05-26T21:20:00+00:00",
          "2025-05-26T21:25:00+00:00",
          "2025-05-26T21:30:00+00:00",
          "2025-05-26T21:35:00+00:00",
          "2025-05-26T21:40:00+00:00",
          "2025-05-26T21:45:00+00:00",
          "2025-05-26T21:50:00+00:00",
          "2025-05-26T21:55:00+00:00",
          "2025-05-26T22:00:00+00:00",
          "2025-05-26T22:05:00+00:00",
          "2025-05-26T22:10:00+00:00",
          "2025-05-26T22:15:00+00:00",
          "2025-05-26T22:20:00+00:00",
          "2025-05-26T22:25:00+00:00",
          "2025-05-26T22:30:00+00:00",
          "2025-05-26T22:35:00+00:00",
          "2025-05-26T22:40:00+00:00",
          "2025-05-26T22:45:00+00:00",
          "2025-05-26T22:50:00+00:00",
          "2025-05-26T22:55:00+00:00",
          "2025-05-26T23:00:00+00:00",
          "2025-05-26T23:05:00+00:00",
          "2025-05-26T23:10:00+00:00",
          "2025-05-26T23:15:00+00:00",
          "2025-05-26T23:20:00+00:00",
          "2025-05-26T23:25:00+00:00",
          "2025-05-26T23:30:00+00:00",
          "2025-05-26T23:35:00+00:00",
          "2025-05-26T23:40:00+00:00",
          "2025-05-26T23:45:00+00:00",
          "2025-05-26T23:50:00+00:00",
          "2025-05-26T23:55:00+00:00",
          "2025-05-27T00:00:00+00:00",
          "2025-05-27T00:05:00+00:00",
          "2025-05-27T00:10:00+00:00",
          "2025-05-27T00:15:00+00:00",
          "2025-05-27T00:20:00+00:00",
          "2025-05-27T00:25:00+00:00",
          "2025-05-27T00:30:00+00:00",
          "2025-05-27T00:35:00+00:00",
          "2025-05-27T00:40:00+00:00",
          "2025-05-27T00:45:00+00:00",
          "2025-05-27T00:50:00+00:00",
          "2025-05-27T00:55:00+00:00",
          "2025-05-27T01:00:00+00:00",
          "2025-05-27T01:05:00+00:00",
          "2025-05-27T01:10:00+00:00",
          "2025-05-27T01:15:00+00:00",
          "2025-05-27T01:20:00+00:00",
          "2025-05-27T01:25:00+00:00",
          "2025-05-27T01:30:00+00:00",
          "2025-05-27T01:35:00+00:00",
          "2025-05-27T01:40:00+00:00",
          "2025-05-27T01:45:00+00:00",
          "2025-05-27T01:50:00+00:00",
          "2025-05-27T01:55:00+00:00",
          "2025-05-27T02:00:00+00:00",
          "2025-05-27T02:05:00+00:00",
          "2025-05-27T02:10:00+00:00",
          "2025-05-27T02:15:00+00:00",
          "2025-05-27T02:20:00+00:00",
          "2025-05-27T02:25:00+00:00",
          "2025-05-27T02:30:00+00:00",
          "2025-05-27T02:35:00+00:00",
          "2025-05-27T02:40:00+00:00",
          "2025-05-27T02:45:00+00:00",
          "2025-05-27T02:50:00+00:00",
          "2025-05-27T02:55:00+00:00",
          "2025-05-27T03:00:00+00:00",
          "2025-05-27T03:05:00+00:00"
         ],
         "y": {
          "bdata": "AAAAAAAA+H8AAAAAAAD4fwAAAAAAAPh/AAAAAAAA+H8AAAAAAAD4fwAAAAAAAPh/AAAAAAAA+H8AAAAAAAD4fwAAAAAAAPh/AAAAAAAA+H8AAAAAAAD4fwAAAAAAAPh/AAAAAAAA+H8AAAAAAAD4fwAAAAAAAPh/AAAAAAAA+H8AAAAAAAD4fwAAAAAAAPh/AAAAAAAA+H8AAAAAAAD4fwAAAAAAAPh/AAAAAAAA+H8AAAAAAAD4fwAAAAAAAPh/AAAAAAAA+H8AAAAAAAD4fwAAAAAAAPh/AAAAAAAA+H8AAAAAAAD4fwAAAAAAAPh/AAAAAAAA+H8AAAAAAAD4fwAAAAAAAPh/AAAAAAAA+H8AAAAAAAD4fwAAAAAAAPh/AAAAAAAA+H8AAAAAAAD4fwAAAAAAAPh/AAAAAAAA+H8AAAAAAAD4fwAAAAAAAPh/AAAAAAAA+H8AAAAAAAD4fwAAAAAAAPh/AAAAAAAA+H8AAAAAAAD4fwAAAAAAAPh/AAAAAAAA+H8AAAAAAAD4fwAAAAAAAPh/AAAAAAAA+H8AAAAAAAD4fwAAAAAAAPh/AAAAAAAA+H8AAAAAAAD4fwAAAAAAAPh/AAAAAAAA+H8AAAAAAAD4fwAAAAAAAPh/gEi/fR048j8AAAAAAAD4fwAAAAAAAPh/AAAAAAAA+H8AAAAAAAD4fwAAAAAAAPh/AAAAAAAA+H8AAAAAAAD4fwAAAAAAAPh/AAAAAAAA+H8AAAAAAAD4fwAAAAAAAPh/AAAAAAAA+H8AAAAAAAD4fwAAAAAAAPh/AAAAAAAA+H8AAAAAAAD4fwAAAAAAAPh/AAAAAAAA+H8AAAAAAAD4fwAAAAAAAPh/AAAAAAAA+H8AAAAAAAD4fwAAAAAAAPh/AAAAAAAA+H8AAAAAAAD4fwAAAAAAAPh/AAAAAAAA+H8AAAAAAAD4fwAAAAAAAPh/AAAAAAAA+H9hcTjzqznyPwAAAAAAAPh/AAAAAAAA+H8AAAAAAAD4fwAAAAAAAPh/AAAAAAAA+H8AAAAAAAD4fwAAAAAAAPh/AAAAAAAA+H8=",
          "dtype": "f8"
         }
        },
        {
         "line": {
          "color": "green",
          "dash": "dash",
          "width": 2
         },
         "marker": {
          "color": "green",
          "size": [
           10,
           12
          ],
          "symbol": [
           "arrow-bar-up",
           "x"
          ]
         },
         "mode": "markers+lines",
         "name": "Trade Path",
         "type": "scatter",
         "x": [
          "2025-05-26T23:55:00+00:00",
          "2025-05-27T00:20:00+00:00"
         ],
         "y": [
          1.13878,
          1.1402799999999997
         ]
        }
       ],
       "layout": {
        "height": 600,
        "shapes": [
         {
          "line": {
           "color": "green",
           "dash": "dot",
           "width": 1
          },
          "type": "line",
          "x0": 0,
          "x1": 1,
          "xref": "x domain",
          "y0": 1.1402799999999997,
          "y1": 1.1402799999999997,
          "yref": "y"
         },
         {
          "line": {
           "color": "red",
           "dash": "dot",
           "width": 1
          },
          "type": "line",
          "x0": 0,
          "x1": 1,
          "xref": "x domain",
          "y0": 1.13778,
          "y1": 1.13778,
          "yref": "y"
         }
        ],
        "template": {
         "data": {
          "bar": [
           {
            "error_x": {
             "color": "#2a3f5f"
            },
            "error_y": {
             "color": "#2a3f5f"
            },
            "marker": {
             "line": {
              "color": "#E5ECF6",
              "width": 0.5
             },
             "pattern": {
              "fillmode": "overlay",
              "size": 10,
              "solidity": 0.2
             }
            },
            "type": "bar"
           }
          ],
          "barpolar": [
           {
            "marker": {
             "line": {
              "color": "#E5ECF6",
              "width": 0.5
             },
             "pattern": {
              "fillmode": "overlay",
              "size": 10,
              "solidity": 0.2
             }
            },
            "type": "barpolar"
           }
          ],
          "carpet": [
           {
            "aaxis": {
             "endlinecolor": "#2a3f5f",
             "gridcolor": "white",
             "linecolor": "white",
             "minorgridcolor": "white",
             "startlinecolor": "#2a3f5f"
            },
            "baxis": {
             "endlinecolor": "#2a3f5f",
             "gridcolor": "white",
             "linecolor": "white",
             "minorgridcolor": "white",
             "startlinecolor": "#2a3f5f"
            },
            "type": "carpet"
           }
          ],
          "choropleth": [
           {
            "colorbar": {
             "outlinewidth": 0,
             "ticks": ""
            },
            "type": "choropleth"
           }
          ],
          "contour": [
           {
            "colorbar": {
             "outlinewidth": 0,
             "ticks": ""
            },
            "colorscale": [
             [
              0,
              "#0d0887"
             ],
             [
              0.1111111111111111,
              "#46039f"
             ],
             [
              0.2222222222222222,
              "#7201a8"
             ],
             [
              0.3333333333333333,
              "#9c179e"
             ],
             [
              0.4444444444444444,
              "#bd3786"
             ],
             [
              0.5555555555555556,
              "#d8576b"
             ],
             [
              0.6666666666666666,
              "#ed7953"
             ],
             [
              0.7777777777777778,
              "#fb9f3a"
             ],
             [
              0.8888888888888888,
              "#fdca26"
             ],
             [
              1,
              "#f0f921"
             ]
            ],
            "type": "contour"
           }
          ],
          "contourcarpet": [
           {
            "colorbar": {
             "outlinewidth": 0,
             "ticks": ""
            },
            "type": "contourcarpet"
           }
          ],
          "heatmap": [
           {
            "colorbar": {
             "outlinewidth": 0,
             "ticks": ""
            },
            "colorscale": [
             [
              0,
              "#0d0887"
             ],
             [
              0.1111111111111111,
              "#46039f"
             ],
             [
              0.2222222222222222,
              "#7201a8"
             ],
             [
              0.3333333333333333,
              "#9c179e"
             ],
             [
              0.4444444444444444,
              "#bd3786"
             ],
             [
              0.5555555555555556,
              "#d8576b"
             ],
             [
              0.6666666666666666,
              "#ed7953"
             ],
             [
              0.7777777777777778,
              "#fb9f3a"
             ],
             [
              0.8888888888888888,
              "#fdca26"
             ],
             [
              1,
              "#f0f921"
             ]
            ],
            "type": "heatmap"
           }
          ],
          "histogram": [
           {
            "marker": {
             "pattern": {
              "fillmode": "overlay",
              "size": 10,
              "solidity": 0.2
             }
            },
            "type": "histogram"
           }
          ],
          "histogram2d": [
           {
            "colorbar": {
             "outlinewidth": 0,
             "ticks": ""
            },
            "colorscale": [
             [
              0,
              "#0d0887"
             ],
             [
              0.1111111111111111,
              "#46039f"
             ],
             [
              0.2222222222222222,
              "#7201a8"
             ],
             [
              0.3333333333333333,
              "#9c179e"
             ],
             [
              0.4444444444444444,
              "#bd3786"
             ],
             [
              0.5555555555555556,
              "#d8576b"
             ],
             [
              0.6666666666666666,
              "#ed7953"
             ],
             [
              0.7777777777777778,
              "#fb9f3a"
             ],
             [
              0.8888888888888888,
              "#fdca26"
             ],
             [
              1,
              "#f0f921"
             ]
            ],
            "type": "histogram2d"
           }
          ],
          "histogram2dcontour": [
           {
            "colorbar": {
             "outlinewidth": 0,
             "ticks": ""
            },
            "colorscale": [
             [
              0,
              "#0d0887"
             ],
             [
              0.1111111111111111,
              "#46039f"
             ],
             [
              0.2222222222222222,
              "#7201a8"
             ],
             [
              0.3333333333333333,
              "#9c179e"
             ],
             [
              0.4444444444444444,
              "#bd3786"
             ],
             [
              0.5555555555555556,
              "#d8576b"
             ],
             [
              0.6666666666666666,
              "#ed7953"
             ],
             [
              0.7777777777777778,
              "#fb9f3a"
             ],
             [
              0.8888888888888888,
              "#fdca26"
             ],
             [
              1,
              "#f0f921"
             ]
            ],
            "type": "histogram2dcontour"
           }
          ],
          "mesh3d": [
           {
            "colorbar": {
             "outlinewidth": 0,
             "ticks": ""
            },
            "type": "mesh3d"
           }
          ],
          "parcoords": [
           {
            "line": {
             "colorbar": {
              "outlinewidth": 0,
              "ticks": ""
             }
            },
            "type": "parcoords"
           }
          ],
          "pie": [
           {
            "automargin": true,
            "type": "pie"
           }
          ],
          "scatter": [
           {
            "fillpattern": {
             "fillmode": "overlay",
             "size": 10,
             "solidity": 0.2
            },
            "type": "scatter"
           }
          ],
          "scatter3d": [
           {
            "line": {
             "colorbar": {
              "outlinewidth": 0,
              "ticks": ""
             }
            },
            "marker": {
             "colorbar": {
              "outlinewidth": 0,
              "ticks": ""
             }
            },
            "type": "scatter3d"
           }
          ],
          "scattercarpet": [
           {
            "marker": {
             "colorbar": {
              "outlinewidth": 0,
              "ticks": ""
             }
            },
            "type": "scattercarpet"
           }
          ],
          "scattergeo": [
           {
            "marker": {
             "colorbar": {
              "outlinewidth": 0,
              "ticks": ""
             }
            },
            "type": "scattergeo"
           }
          ],
          "scattergl": [
           {
            "marker": {
             "colorbar": {
              "outlinewidth": 0,
              "ticks": ""
             }
            },
            "type": "scattergl"
           }
          ],
          "scattermap": [
           {
            "marker": {
             "colorbar": {
              "outlinewidth": 0,
              "ticks": ""
             }
            },
            "type": "scattermap"
           }
          ],
          "scattermapbox": [
           {
            "marker": {
             "colorbar": {
              "outlinewidth": 0,
              "ticks": ""
             }
            },
            "type": "scattermapbox"
           }
          ],
          "scatterpolar": [
           {
            "marker": {
             "colorbar": {
              "outlinewidth": 0,
              "ticks": ""
             }
            },
            "type": "scatterpolar"
           }
          ],
          "scatterpolargl": [
           {
            "marker": {
             "colorbar": {
              "outlinewidth": 0,
              "ticks": ""
             }
            },
            "type": "scatterpolargl"
           }
          ],
          "scatterternary": [
           {
            "marker": {
             "colorbar": {
              "outlinewidth": 0,
              "ticks": ""
             }
            },
            "type": "scatterternary"
           }
          ],
          "surface": [
           {
            "colorbar": {
             "outlinewidth": 0,
             "ticks": ""
            },
            "colorscale": [
             [
              0,
              "#0d0887"
             ],
             [
              0.1111111111111111,
              "#46039f"
             ],
             [
              0.2222222222222222,
              "#7201a8"
             ],
             [
              0.3333333333333333,
              "#9c179e"
             ],
             [
              0.4444444444444444,
              "#bd3786"
             ],
             [
              0.5555555555555556,
              "#d8576b"
             ],
             [
              0.6666666666666666,
              "#ed7953"
             ],
             [
              0.7777777777777778,
              "#fb9f3a"
             ],
             [
              0.8888888888888888,
              "#fdca26"
             ],
             [
              1,
              "#f0f921"
             ]
            ],
            "type": "surface"
           }
          ],
          "table": [
           {
            "cells": {
             "fill": {
              "color": "#EBF0F8"
             },
             "line": {
              "color": "white"
             }
            },
            "header": {
             "fill": {
              "color": "#C8D4E3"
             },
             "line": {
              "color": "white"
             }
            },
            "type": "table"
           }
          ]
         },
         "layout": {
          "annotationdefaults": {
           "arrowcolor": "#2a3f5f",
           "arrowhead": 0,
           "arrowwidth": 1
          },
          "autotypenumbers": "strict",
          "coloraxis": {
           "colorbar": {
            "outlinewidth": 0,
            "ticks": ""
           }
          },
          "colorscale": {
           "diverging": [
            [
             0,
             "#8e0152"
            ],
            [
             0.1,
             "#c51b7d"
            ],
            [
             0.2,
             "#de77ae"
            ],
            [
             0.3,
             "#f1b6da"
            ],
            [
             0.4,
             "#fde0ef"
            ],
            [
             0.5,
             "#f7f7f7"
            ],
            [
             0.6,
             "#e6f5d0"
            ],
            [
             0.7,
             "#b8e186"
            ],
            [
             0.8,
             "#7fbc41"
            ],
            [
             0.9,
             "#4d9221"
            ],
            [
             1,
             "#276419"
            ]
           ],
           "sequential": [
            [
             0,
             "#0d0887"
            ],
            [
             0.1111111111111111,
             "#46039f"
            ],
            [
             0.2222222222222222,
             "#7201a8"
            ],
            [
             0.3333333333333333,
             "#9c179e"
            ],
            [
             0.4444444444444444,
             "#bd3786"
            ],
            [
             0.5555555555555556,
             "#d8576b"
            ],
            [
             0.6666666666666666,
             "#ed7953"
            ],
            [
             0.7777777777777778,
             "#fb9f3a"
            ],
            [
             0.8888888888888888,
             "#fdca26"
            ],
            [
             1,
             "#f0f921"
            ]
           ],
           "sequentialminus": [
            [
             0,
             "#0d0887"
            ],
            [
             0.1111111111111111,
             "#46039f"
            ],
            [
             0.2222222222222222,
             "#7201a8"
            ],
            [
             0.3333333333333333,
             "#9c179e"
            ],
            [
             0.4444444444444444,
             "#bd3786"
            ],
            [
             0.5555555555555556,
             "#d8576b"
            ],
            [
             0.6666666666666666,
             "#ed7953"
            ],
            [
             0.7777777777777778,
             "#fb9f3a"
            ],
            [
             0.8888888888888888,
             "#fdca26"
            ],
            [
             1,
             "#f0f921"
            ]
           ]
          },
          "colorway": [
           "#636efa",
           "#EF553B",
           "#00cc96",
           "#ab63fa",
           "#FFA15A",
           "#19d3f3",
           "#FF6692",
           "#B6E880",
           "#FF97FF",
           "#FECB52"
          ],
          "font": {
           "color": "#2a3f5f"
          },
          "geo": {
           "bgcolor": "white",
           "lakecolor": "white",
           "landcolor": "#E5ECF6",
           "showlakes": true,
           "showland": true,
           "subunitcolor": "white"
          },
          "hoverlabel": {
           "align": "left"
          },
          "hovermode": "closest",
          "mapbox": {
           "style": "light"
          },
          "paper_bgcolor": "white",
          "plot_bgcolor": "#E5ECF6",
          "polar": {
           "angularaxis": {
            "gridcolor": "white",
            "linecolor": "white",
            "ticks": ""
           },
           "bgcolor": "#E5ECF6",
           "radialaxis": {
            "gridcolor": "white",
            "linecolor": "white",
            "ticks": ""
           }
          },
          "scene": {
           "xaxis": {
            "backgroundcolor": "#E5ECF6",
            "gridcolor": "white",
            "gridwidth": 2,
            "linecolor": "white",
            "showbackground": true,
            "ticks": "",
            "zerolinecolor": "white"
           },
           "yaxis": {
            "backgroundcolor": "#E5ECF6",
            "gridcolor": "white",
            "gridwidth": 2,
            "linecolor": "white",
            "showbackground": true,
            "ticks": "",
            "zerolinecolor": "white"
           },
           "zaxis": {
            "backgroundcolor": "#E5ECF6",
            "gridcolor": "white",
            "gridwidth": 2,
            "linecolor": "white",
            "showbackground": true,
            "ticks": "",
            "zerolinecolor": "white"
           }
          },
          "shapedefaults": {
           "line": {
            "color": "#2a3f5f"
           }
          },
          "ternary": {
           "aaxis": {
            "gridcolor": "white",
            "linecolor": "white",
            "ticks": ""
           },
           "baxis": {
            "gridcolor": "white",
            "linecolor": "white",
            "ticks": ""
           },
           "bgcolor": "#E5ECF6",
           "caxis": {
            "gridcolor": "white",
            "linecolor": "white",
            "ticks": ""
           }
          },
          "title": {
           "x": 0.05
          },
          "xaxis": {
           "automargin": true,
           "gridcolor": "white",
           "linecolor": "white",
           "ticks": "",
           "title": {
            "standoff": 15
           },
           "zerolinecolor": "white",
           "zerolinewidth": 2
          },
          "yaxis": {
           "automargin": true,
           "gridcolor": "white",
           "linecolor": "white",
           "ticks": "",
           "title": {
            "standoff": 15
           },
           "zerolinecolor": "white",
           "zerolinewidth": 2
          }
         }
        },
        "title": {
         "text": "Trade Setup on 2025-05-26: BUY | PnL: 14.00 pips"
        },
        "xaxis": {
         "rangeslider": {
          "visible": false
         }
        },
        "yaxis": {
         "title": {
          "text": "Price"
         }
        }
       }
      }
     },
     "metadata": {},
     "output_type": "display_data"
    },
    {
     "data": {
      "application/vnd.plotly.v1+json": {
       "config": {
        "plotlyServerURL": "https://plot.ly"
       },
       "data": [
        {
         "close": {
          "bdata": "+GuyRj1E8j8wKqkT0ETyP/hrskY9RPI/TtGRXP5D8j8YQznRrkLyP6eWrfVFQvI/p5at9UVC8j8YQznRrkLyP2tI3GPpQ/I/TaHzGrtE8j/4a7JGPUTyP065wrtcRPI/T+lg/Z9D8j+Fd7mI70TyP02h8xq7RPI/ho+IKZFE8j+kNnFyv0PyP1ABMJ5BQ/I/h78ma9RD8j+gppat9UXyP4MXfQVpRvI/vR3htOBF8j9qGD4ipkTyPxKDwMqhRfI/TtGRXP5D8j+lZg+0AkPyP1JhbCHIQfI/qMZLN4lB8j9QGf8+40LyP95UpMLYQvI/UTHO34RC8j9RMc7fhELyPzS6g9iZQvI/NgLxun5B8j/DDfj8MELyP4nvxKwXQ/I/xT2WPnRB8j+oxks3iUHyP2/YtiizQfI/Goums5NB8j9SYWwhyEHyP22oGOdvQvI/xT2WPnRB8j/8+4wLB0LyP/z7jAsHQvI//OO9amVC8j9TkQpjC0HyP41/n3HhQPI/i08BMJ5B8j83GsBbIEHyPzliLT4FQPI/U5EKYwtB8j80uoPYmULyP799HThnRPI/wJXs2AhE8j8YQznRrkLyP/qbUIiAQ/I/+8vuycNC8j/j/E0oREDyP41/n3HhQPI/NLqD2JlC8j+oxks3iUHyPxqjdVQ1QfI/UAEwnkFD8j8ziuWWVkPyP2jon+BiRfI/2GSNeohG8j9nuAGfH0byP/Xb14FzRvI/gy9MpgpG8j9qGD4ipkTyPxSzXgzlRPI/v30dOGdE8j+jHqLRHUTyP4ofY+5aQvI/TtGRXP5D8j8Us14M5UTyPzFCeLRxRPI/v30dOGdE8j8ziuWWVkPyP90kBoGVQ/I/ww34/DBC8j80uoPYmULyP/z7jAsHQvI/U3k7wmlB8j8WE5uPa0PyP/vL7snDQvI/ih9j7lpC8j9O0ZFc/kPyPy/6CtKMRfI/ob5lTpdF8j+FX+rnTUXyP2jon+BiRfI/pDZxcr9D8j/6m1CIgEPyPxhbCHJQQvI/a2CrBItD8j/ePNUhN0PyP75Nf/YjRfI/vR3htOBF8j8=",
          "dtype": "f8"
         },
         "high": {
          "bdata": "ahg+IqZE8j+FX+rnTUXyP4Vf6udNRfI/ahg+IqZE8j/c9Gc/UkTyP2x4eqUsQ/I/+8vuycNC8j9seHqlLEPyP07RkVz+Q/I/THFV2XdF8j8wKqkT0ETyP799HThnRPI/TaHzGrtE8j/bxMn9DkXyP4Vf6udNRfI/9zsUBfpE8j8Us14M5UTyP4e/JmvUQ/I/+GuyRj1E8j8uymyQSUbyP592+GuyRvI/gv+tZMdG8j+77UJznUbyPy7iOzHrRfI/2ZQrvMtF8j+Hp1fKMkTyP6VmD7QCQ/I/4JwRpb1B8j/ePNUhN0PyP1ABMJ5BQ/I/3lSkwthC8j+lTkATYUPyP4nvxKwXQ/I/+8vuycNC8j9tqBjnb0LyP2x4eqUsQ/I/ie/ErBdD8j/ghEIEHELyP+CEQgQcQvI/NLqD2JlC8j826iEa3UHyPzS6g9iZQvI/ie/ErBdD8j9RMc7fhELyPzS6g9iZQvI/pn7eVKRC8j9tqBjnb0LyP4tPATCeQfI/4JwRpb1B8j+LTwEwnkHyP+LMr+YAQfI/b/CFyVRB8j9QATCeQUPyPzFCeLRxRPI/v30dOGdE8j+jBtMwfETyP2tgqwSLQ/I/+GuyRj1E8j/C3Vm77ULyP8U9lj50QfI/3lSkwthC8j/C3Vm77ULyPxlz1xLyQfI/M4rlllZD8j/6m1CIgEPyPy/6CtKMRfI/gv+tZMdG8j9JERlW8UbyP592+GuyRvI/K2owDcNH8j+C/61kx0byPxKDwMqhRfI/9zsUBfpE8j+jBtMwfETyP2owDcNHRPI/3PRnP1JE8j9McVXZd0XyP2jon+BiRfI/ahg+IqZE8j/3OxQF+kTyP/mDgefeQ/I/a0jcY+lD8j+I1/ULdkPyP6VmD7QCQ/I/bagY529C8j/6m1CIgEPyP8Gtu3mqQ/I/owbTMHxE8j9o6J/gYkXyPxFTIoleRvI/vR3htOBF8j8Sa/EpAEbyP6Cmlq31RfI/EoPAyqFF8j8V4/xNKETyP6MeotEdRPI/3SQGgZVD8j8V4/xNKETyPxObj2tDRfI/Z7gBnx9G8j8=",
          "dtype": "f8"
         },
         "low": {
          "bdata": "M4rlllZD8j+lTkATYUPyP07RkVz+Q/I/wa27eapD8j8Zc9cS8kHyPxlz1xLyQfI/4JwRpb1B8j826iEa3UHyP6Z+3lSkQvI/+YOB595D8j/AlezYCETyPzSitDf4QvI/3SQGgZVD8j9P6WD9n0PyP/hT46WbRPI/TtGRXP5D8j/dJAaBlUPyP2x4eqUsQ/I/UAEwnkFD8j8W+8vuyUPyP9vEyf0ORfI/9gt2w7ZF8j+kNnFyv0PyP/hrskY9RPI/a0jcY+lD8j9v2LYos0HyP8VVZd8VQfI/qfbpeMxA8j8ai6azk0HyP/vL7snDQvI//isrTUpB8j+nlq31RULyP/z7jAsHQvI/jX+fceFA8j/FPZY+dEHyP8MN+PwwQvI/4bTgRV9B8j9TkQpjC0HyP8ZtNIC3QPI/NgLxun5B8j8ao3VUNUHyP1N5O8JpQfI//isrTUpB8j+MZ9DQP0HyP6jGSzeJQfI/NuohGt1B8j9wCFVq9kDyP8ZtNIC3QPI/xm00gLdA8j/GbTSAt0DyP6xWJvxSP/I/VvFG5pE/8j9UqdkDrUDyP22oGOdvQvI/wt1Zu+1C8j/D9Shcj0LyP8MN+PwwQvI/pn7eVKRC8j85Yi0+BUDyP+QUHcnlP/I//1vJjo1A8j9TeTvCaUHyP+LMr+YAQfI/VcGopE5A8j+LTwEwnkHyP2x4eqUsQ/I/hV/q501F8j/ZlCu8y0XyPxKDwMqhRfI/oKaWrfVF8j8V4/xNKETyP90kBoGVQ/I/wa27eapD8j+kNnFyv0PyP41/n3HhQPI/NdJSeTtC8j/eVKTC2ELyP07RkVz+Q/I/3SQGgZVD8j+lZg+0AkPyP1Exzt+EQvI/GXPXEvJB8j/ghEIEHELyP4tPATCeQfI/NxrAWyBB8j+p3hrYKkHyP+CEQgQcQvI/Goums5NB8j/htOBFX0HyP4e/JmvUQ/I/TrnCu1xE8j+h1jTvOEXyP2oYPiKmRPI/wa27eapD8j9QATCeQUPyP6eWrfVFQvI/ww34/DBC8j/fbHNjekLyP2x4eqUsQ/I/TaHzGrtE8j8=",
          "dtype": "f8"
         },
         "name": "Candles",
         "open": {
          "bdata": "MlpHVRNE8j/4a7JGPUTyP6LuA5DaRPI/+GuyRj1E8j9rSNxj6UPyPxhDOdGuQvI/ih9j7lpC8j/8471qZULyP6Z+3lSkQvI/TtGRXP5D8j9NofMau0TyPxXj/E0oRPI/v30dOGdE8j/Brbt5qkPyPxSzXgzlRPI/MCqpE9BE8j/4U+Olm0TyP6Q2cXK/Q/I/UAEwnkFD8j9rSNxj6UPyP6Cmlq31RfI/9dvXgXNG8j+9HeG04EXyP4aPiCmRRPI/hEcbR6xF8j+jHqLRHUTyP6VmD7QCQ/I/4JwRpb1B8j8ai6azk0HyP8LdWbvtQvI/3lSkwthC8j9tqBjnb0LyP99sc2N6QvI/UTHO34RC8j+oxks3iUHyP8MN+PwwQvI/ie/ErBdD8j+oxks3iUHyPzYC8bp+QfI/4JwRpb1B8j+oxks3iUHyP1JhbCHIQfI/UTHO34RC8j9TeTvCaUHyP/z7jAsHQvI//PuMCwdC8j8YWwhyUELyP8VVZd8VQfI/jX+fceFA8j+LTwEwnkHyP+LMr+YAQfI/qyaIug9A8j83GsBbIEHyPzS6g9iZQvI/v30dOGdE8j9O0ZFc/kPyPxhDOdGuQvI/+ptQiIBD8j+mft5UpELyP1XBqKROQPI/jX+fceFA8j+mft5UpELyP4tPATCeQfI/NxrAWyBB8j9QATCeQUPyP1ABMJ5BQ/I/9iNFZFhF8j+77UJznUbyP4MvTKYKRvI/9dvXgXNG8j8Sa/EpAEbyP2oYPiKmRPI/9zsUBfpE8j+/fR04Z0TyPxXj/E0oRPI/ih9j7lpC8j9O0ZFc/kPyP4V3uYjvRPI/owbTMHxE8j9OucK7XETyP6VOQBNhQ/I/3SQGgZVD8j/DDfj8MELyPzS6g9iZQvI/izcyj/xB8j/htOBFX0HyPxYTm49rQ/I/GEM50a5C8j/8471qZULyP90MN+DzQ/I/vTWwVYJF8j8Sg8DKoUXyP9qs+lxtRfI/2qz6XG1F8j/Brbt5qkPyP/qbUIiAQ/I/ih9j7lpC8j/Brbt5qkPyP2x4eqUsQ/I/28TJ/Q5F8j8=",
          "dtype": "f8"
         },
         "type": "candlestick",
         "x": [
          "2025-06-05T01:45:00+00:00",
          "2025-06-05T01:50:00+00:00",
          "2025-06-05T01:55:00+00:00",
          "2025-06-05T02:00:00+00:00",
          "2025-06-05T02:05:00+00:00",
          "2025-06-05T02:10:00+00:00",
          "2025-06-05T02:15:00+00:00",
          "2025-06-05T02:20:00+00:00",
          "2025-06-05T02:25:00+00:00",
          "2025-06-05T02:30:00+00:00",
          "2025-06-05T02:35:00+00:00",
          "2025-06-05T02:40:00+00:00",
          "2025-06-05T02:45:00+00:00",
          "2025-06-05T02:50:00+00:00",
          "2025-06-05T02:55:00+00:00",
          "2025-06-05T03:00:00+00:00",
          "2025-06-05T03:05:00+00:00",
          "2025-06-05T03:10:00+00:00",
          "2025-06-05T03:15:00+00:00",
          "2025-06-05T03:20:00+00:00",
          "2025-06-05T03:25:00+00:00",
          "2025-06-05T03:30:00+00:00",
          "2025-06-05T03:35:00+00:00",
          "2025-06-05T03:40:00+00:00",
          "2025-06-05T03:45:00+00:00",
          "2025-06-05T03:50:00+00:00",
          "2025-06-05T03:55:00+00:00",
          "2025-06-05T04:00:00+00:00",
          "2025-06-05T04:05:00+00:00",
          "2025-06-05T04:10:00+00:00",
          "2025-06-05T04:15:00+00:00",
          "2025-06-05T04:20:00+00:00",
          "2025-06-05T04:25:00+00:00",
          "2025-06-05T04:30:00+00:00",
          "2025-06-05T04:35:00+00:00",
          "2025-06-05T04:40:00+00:00",
          "2025-06-05T04:45:00+00:00",
          "2025-06-05T04:50:00+00:00",
          "2025-06-05T04:55:00+00:00",
          "2025-06-05T05:00:00+00:00",
          "2025-06-05T05:05:00+00:00",
          "2025-06-05T05:10:00+00:00",
          "2025-06-05T05:15:00+00:00",
          "2025-06-05T05:20:00+00:00",
          "2025-06-05T05:25:00+00:00",
          "2025-06-05T05:30:00+00:00",
          "2025-06-05T05:35:00+00:00",
          "2025-06-05T05:40:00+00:00",
          "2025-06-05T05:45:00+00:00",
          "2025-06-05T05:50:00+00:00",
          "2025-06-05T05:55:00+00:00",
          "2025-06-05T06:00:00+00:00",
          "2025-06-05T06:05:00+00:00",
          "2025-06-05T06:10:00+00:00",
          "2025-06-05T06:15:00+00:00",
          "2025-06-05T06:20:00+00:00",
          "2025-06-05T06:25:00+00:00",
          "2025-06-05T06:30:00+00:00",
          "2025-06-05T06:35:00+00:00",
          "2025-06-05T06:40:00+00:00",
          "2025-06-05T06:45:00+00:00",
          "2025-06-05T06:50:00+00:00",
          "2025-06-05T06:55:00+00:00",
          "2025-06-05T07:00:00+00:00",
          "2025-06-05T07:05:00+00:00",
          "2025-06-05T07:10:00+00:00",
          "2025-06-05T07:15:00+00:00",
          "2025-06-05T07:20:00+00:00",
          "2025-06-05T07:25:00+00:00",
          "2025-06-05T07:30:00+00:00",
          "2025-06-05T07:35:00+00:00",
          "2025-06-05T07:40:00+00:00",
          "2025-06-05T07:45:00+00:00",
          "2025-06-05T07:50:00+00:00",
          "2025-06-05T07:55:00+00:00",
          "2025-06-05T08:00:00+00:00",
          "2025-06-05T08:05:00+00:00",
          "2025-06-05T08:10:00+00:00",
          "2025-06-05T08:15:00+00:00",
          "2025-06-05T08:20:00+00:00",
          "2025-06-05T08:25:00+00:00",
          "2025-06-05T08:30:00+00:00",
          "2025-06-05T08:35:00+00:00",
          "2025-06-05T08:40:00+00:00",
          "2025-06-05T08:45:00+00:00",
          "2025-06-05T08:50:00+00:00",
          "2025-06-05T08:55:00+00:00",
          "2025-06-05T09:00:00+00:00",
          "2025-06-05T09:05:00+00:00",
          "2025-06-05T09:10:00+00:00",
          "2025-06-05T09:15:00+00:00",
          "2025-06-05T09:20:00+00:00",
          "2025-06-05T09:25:00+00:00",
          "2025-06-05T09:30:00+00:00",
          "2025-06-05T09:35:00+00:00",
          "2025-06-05T09:40:00+00:00",
          "2025-06-05T09:45:00+00:00",
          "2025-06-05T09:50:00+00:00",
          "2025-06-05T09:55:00+00:00",
          "2025-06-05T10:00:00+00:00"
         ]
        },
        {
         "line": {
          "color": "blue",
          "width": 1
         },
         "mode": "lines",
         "name": "40 EMA",
         "type": "scatter",
         "x": [
          "2025-06-05T01:45:00+00:00",
          "2025-06-05T01:50:00+00:00",
          "2025-06-05T01:55:00+00:00",
          "2025-06-05T02:00:00+00:00",
          "2025-06-05T02:05:00+00:00",
          "2025-06-05T02:10:00+00:00",
          "2025-06-05T02:15:00+00:00",
          "2025-06-05T02:20:00+00:00",
          "2025-06-05T02:25:00+00:00",
          "2025-06-05T02:30:00+00:00",
          "2025-06-05T02:35:00+00:00",
          "2025-06-05T02:40:00+00:00",
          "2025-06-05T02:45:00+00:00",
          "2025-06-05T02:50:00+00:00",
          "2025-06-05T02:55:00+00:00",
          "2025-06-05T03:00:00+00:00",
          "2025-06-05T03:05:00+00:00",
          "2025-06-05T03:10:00+00:00",
          "2025-06-05T03:15:00+00:00",
          "2025-06-05T03:20:00+00:00",
          "2025-06-05T03:25:00+00:00",
          "2025-06-05T03:30:00+00:00",
          "2025-06-05T03:35:00+00:00",
          "2025-06-05T03:40:00+00:00",
          "2025-06-05T03:45:00+00:00",
          "2025-06-05T03:50:00+00:00",
          "2025-06-05T03:55:00+00:00",
          "2025-06-05T04:00:00+00:00",
          "2025-06-05T04:05:00+00:00",
          "2025-06-05T04:10:00+00:00",
          "2025-06-05T04:15:00+00:00",
          "2025-06-05T04:20:00+00:00",
          "2025-06-05T04:25:00+00:00",
          "2025-06-05T04:30:00+00:00",
          "2025-06-05T04:35:00+00:00",
          "2025-06-05T04:40:00+00:00",
          "2025-06-05T04:45:00+00:00",
          "2025-06-05T04:50:00+00:00",
          "2025-06-05T04:55:00+00:00",
          "2025-06-05T05:00:00+00:00",
          "2025-06-05T05:05:00+00:00",
          "2025-06-05T05:10:00+00:00",
          "2025-06-05T05:15:00+00:00",
          "2025-06-05T05:20:00+00:00",
          "2025-06-05T05:25:00+00:00",
          "2025-06-05T05:30:00+00:00",
          "2025-06-05T05:35:00+00:00",
          "2025-06-05T05:40:00+00:00",
          "2025-06-05T05:45:00+00:00",
          "2025-06-05T05:50:00+00:00",
          "2025-06-05T05:55:00+00:00",
          "2025-06-05T06:00:00+00:00",
          "2025-06-05T06:05:00+00:00",
          "2025-06-05T06:10:00+00:00",
          "2025-06-05T06:15:00+00:00",
          "2025-06-05T06:20:00+00:00",
          "2025-06-05T06:25:00+00:00",
          "2025-06-05T06:30:00+00:00",
          "2025-06-05T06:35:00+00:00",
          "2025-06-05T06:40:00+00:00",
          "2025-06-05T06:45:00+00:00",
          "2025-06-05T06:50:00+00:00",
          "2025-06-05T06:55:00+00:00",
          "2025-06-05T07:00:00+00:00",
          "2025-06-05T07:05:00+00:00",
          "2025-06-05T07:10:00+00:00",
          "2025-06-05T07:15:00+00:00",
          "2025-06-05T07:20:00+00:00",
          "2025-06-05T07:25:00+00:00",
          "2025-06-05T07:30:00+00:00",
          "2025-06-05T07:35:00+00:00",
          "2025-06-05T07:40:00+00:00",
          "2025-06-05T07:45:00+00:00",
          "2025-06-05T07:50:00+00:00",
          "2025-06-05T07:55:00+00:00",
          "2025-06-05T08:00:00+00:00",
          "2025-06-05T08:05:00+00:00",
          "2025-06-05T08:10:00+00:00",
          "2025-06-05T08:15:00+00:00",
          "2025-06-05T08:20:00+00:00",
          "2025-06-05T08:25:00+00:00",
          "2025-06-05T08:30:00+00:00",
          "2025-06-05T08:35:00+00:00",
          "2025-06-05T08:40:00+00:00",
          "2025-06-05T08:45:00+00:00",
          "2025-06-05T08:50:00+00:00",
          "2025-06-05T08:55:00+00:00",
          "2025-06-05T09:00:00+00:00",
          "2025-06-05T09:05:00+00:00",
          "2025-06-05T09:10:00+00:00",
          "2025-06-05T09:15:00+00:00",
          "2025-06-05T09:20:00+00:00",
          "2025-06-05T09:25:00+00:00",
          "2025-06-05T09:30:00+00:00",
          "2025-06-05T09:35:00+00:00",
          "2025-06-05T09:40:00+00:00",
          "2025-06-05T09:45:00+00:00",
          "2025-06-05T09:50:00+00:00",
          "2025-06-05T09:55:00+00:00",
          "2025-06-05T10:00:00+00:00"
         ],
         "y": {
          "bdata": "julTmrdG8j+KmzLSn0byP6Hw1AmCRvI/qbC4o2JG8j/ahYBnNEbyP1rLN08DRvI/ZFgFnNRF8j8uBnJNrUXyP6cPDUKXRfI/IKDThIxF8j+UnWEqfEXyP8g0/CRuRfI/qfKvmVdF8j9vzSCGUkXyP4fRPSNLRfI//hLREEJF8j/mZcw0L0XyP2i49iAXRfI/C40FYwdF8j/Bs8ECE0XyP4YcuLEjRfI/u4YR6ixF8j8be/RWJkXyP/uHmlwsRfI/de9IoR1F8j/6IEZXA0XyP8aBO/3aRPI/c0BuibFE8j/VEm/8mkTyP8JBGgaFRPI/6HJ6CmxE8j/U8tVGVETyP4Eu2LE+RPI/+qLfWhxE8j8j2sdiBETyP7e1x9b4Q/I/3a81ZdlD8j9FhTCCvEPyPwm1rROjQ/I/98vrWYlD8j80BSRwc0PyP984HcdmQ/I/KQeHdU5D8j9Afdh8PkPyP2icnEsvQ/I/jv2XciVD8j9sYmUzC0PyPy8GMDDwQvI/CPdMs99C8j+zKvvgyULyPxdyrE+nQvI/l4ykN5NC8j/EwGqKk0LyPzPpsVqqQvI/to2Vc7tC8j+Vfc/VukLyPwqYnXrEQvI/qzb/ccRC8j/lATU2pULyP8IaniyPQvI/MYDhsY9C8j/ZohjkgkLyP+OJpp5yQvI/OYOat3xC8j9RfVlYh0LyP6MelQerQvI/CTuhS9tC8j9YeYAXBEPyP7c/eP0uQ/I/Y2RKrlJD8j9ECVA9Y0PyP5/GNw92Q/I/ehrG0oFD8j//1dBuiUPyP9TfO616Q/I/+XSwGYFD8j9xtrJ2kkPyP/jofVqdQ/I/tvxZM6dD8j8g97FEo0PyPxYMz5iiQ/I/MfM0kZBD8j+CjDKIhEPyP7pyQ+xxQ/I/avyNjFhD8j9Txfh5WUPyP/GZsyxSQ/I/uo0sHUZD8j83yQUaT0PyP9PqghZrQ/I/pQF1OIZD8j8UnPdynEPyP82fx52yQ/I/HNkBPrND8j/VAcHEsEPyPzbtApWfQ/I/2tk2lJ5D8j9jCmSImUPyP/H69MWsQ/I/J/A+SMhD8j8=",
          "dtype": "f8"
         }
        },
        {
         "line": {
          "color": "purple",
          "width": 1.5
         },
         "mode": "lines",
         "name": "100 EMA",
         "type": "scatter",
         "x": [
          "2025-06-05T01:45:00+00:00",
          "2025-06-05T01:50:00+00:00",
          "2025-06-05T01:55:00+00:00",
          "2025-06-05T02:00:00+00:00",
          "2025-06-05T02:05:00+00:00",
          "2025-06-05T02:10:00+00:00",
          "2025-06-05T02:15:00+00:00",
          "2025-06-05T02:20:00+00:00",
          "2025-06-05T02:25:00+00:00",
          "2025-06-05T02:30:00+00:00",
          "2025-06-05T02:35:00+00:00",
          "2025-06-05T02:40:00+00:00",
          "2025-06-05T02:45:00+00:00",
          "2025-06-05T02:50:00+00:00",
          "2025-06-05T02:55:00+00:00",
          "2025-06-05T03:00:00+00:00",
          "2025-06-05T03:05:00+00:00",
          "2025-06-05T03:10:00+00:00",
          "2025-06-05T03:15:00+00:00",
          "2025-06-05T03:20:00+00:00",
          "2025-06-05T03:25:00+00:00",
          "2025-06-05T03:30:00+00:00",
          "2025-06-05T03:35:00+00:00",
          "2025-06-05T03:40:00+00:00",
          "2025-06-05T03:45:00+00:00",
          "2025-06-05T03:50:00+00:00",
          "2025-06-05T03:55:00+00:00",
          "2025-06-05T04:00:00+00:00",
          "2025-06-05T04:05:00+00:00",
          "2025-06-05T04:10:00+00:00",
          "2025-06-05T04:15:00+00:00",
          "2025-06-05T04:20:00+00:00",
          "2025-06-05T04:25:00+00:00",
          "2025-06-05T04:30:00+00:00",
          "2025-06-05T04:35:00+00:00",
          "2025-06-05T04:40:00+00:00",
          "2025-06-05T04:45:00+00:00",
          "2025-06-05T04:50:00+00:00",
          "2025-06-05T04:55:00+00:00",
          "2025-06-05T05:00:00+00:00",
          "2025-06-05T05:05:00+00:00",
          "2025-06-05T05:10:00+00:00",
          "2025-06-05T05:15:00+00:00",
          "2025-06-05T05:20:00+00:00",
          "2025-06-05T05:25:00+00:00",
          "2025-06-05T05:30:00+00:00",
          "2025-06-05T05:35:00+00:00",
          "2025-06-05T05:40:00+00:00",
          "2025-06-05T05:45:00+00:00",
          "2025-06-05T05:50:00+00:00",
          "2025-06-05T05:55:00+00:00",
          "2025-06-05T06:00:00+00:00",
          "2025-06-05T06:05:00+00:00",
          "2025-06-05T06:10:00+00:00",
          "2025-06-05T06:15:00+00:00",
          "2025-06-05T06:20:00+00:00",
          "2025-06-05T06:25:00+00:00",
          "2025-06-05T06:30:00+00:00",
          "2025-06-05T06:35:00+00:00",
          "2025-06-05T06:40:00+00:00",
          "2025-06-05T06:45:00+00:00",
          "2025-06-05T06:50:00+00:00",
          "2025-06-05T06:55:00+00:00",
          "2025-06-05T07:00:00+00:00",
          "2025-06-05T07:05:00+00:00",
          "2025-06-05T07:10:00+00:00",
          "2025-06-05T07:15:00+00:00",
          "2025-06-05T07:20:00+00:00",
          "2025-06-05T07:25:00+00:00",
          "2025-06-05T07:30:00+00:00",
          "2025-06-05T07:35:00+00:00",
          "2025-06-05T07:40:00+00:00",
          "2025-06-05T07:45:00+00:00",
          "2025-06-05T07:50:00+00:00",
          "2025-06-05T07:55:00+00:00",
          "2025-06-05T08:00:00+00:00",
          "2025-06-05T08:05:00+00:00",
          "2025-06-05T08:10:00+00:00",
          "2025-06-05T08:15:00+00:00",
          "2025-06-05T08:20:00+00:00",
          "2025-06-05T08:25:00+00:00",
          "2025-06-05T08:30:00+00:00",
          "2025-06-05T08:35:00+00:00",
          "2025-06-05T08:40:00+00:00",
          "2025-06-05T08:45:00+00:00",
          "2025-06-05T08:50:00+00:00",
          "2025-06-05T08:55:00+00:00",
          "2025-06-05T09:00:00+00:00",
          "2025-06-05T09:05:00+00:00",
          "2025-06-05T09:10:00+00:00",
          "2025-06-05T09:15:00+00:00",
          "2025-06-05T09:20:00+00:00",
          "2025-06-05T09:25:00+00:00",
          "2025-06-05T09:30:00+00:00",
          "2025-06-05T09:35:00+00:00",
          "2025-06-05T09:40:00+00:00",
          "2025-06-05T09:45:00+00:00",
          "2025-06-05T09:50:00+00:00",
          "2025-06-05T09:55:00+00:00",
          "2025-06-05T10:00:00+00:00"
         ],
         "y": {
          "bdata": "Sn1N5a1F8j8zpNWAqUXyP42gdEqiRfI/TpK0+ZlF8j+MpyEui0XyP7fwAJp6RfI/NQPrWWpF8j/wAcR/XEXyP3kNgCZVRfI/NieZGVJF8j9MFEueTEXyP5U9Pt5HRfI/YTl5eT9F8j9DITvkPUXyP64/PE07RfI/9ga/7jdF8j8xrzl6MEXyP9lpoa0mRfI/i2vj+h9F8j9jeTA2JEXyP5Tuv6QqRfI/s9iuPy5F8j8hnayNK0XyP/vbD+UtRfI/DPBb4idF8j+Lj2QCHUXyP79y4x4MRfI/bZoQUvpE8j+cqZu570TyP0QutSHlRPI/2p1DFtlE8j98+eBHzUTyP55dpx/CRPI/RMbJlLFE8j+h6GzlpETyPzzmyQedRPI/G/LNA41E8j9qtFG7fUTyP0dS7pRvRPI/9XvOFmFE8j/2fe3rU0TyPyaYSVZKRPI//laA9TtE8j99j8fFMETyP63dw84lRPI/xiS87RxE8j9jJJVfDUTyP9ufqUv9Q/I/ea0LRvFD8j9PT4H/4kPyP6DdIWbPQ/I/MXQAYcFD8j+4f9qGu0PyP7ESN+2+Q/I/kCnxY8BD8j/erR35ukPyP2XJ3NC5Q/I/I/ys8bRD8j8utbKAo0PyP8IHeIWVQ/I/veKliZBD8j+rBQxBhkPyP3YVVYN6Q/I/5+TpYnlD8j/6a4SyeEPyP/wDZGeCQ/I/fedpu5FD8j9Piy2unkPyPw4qjAitQ/I/9BqaBrlD8j/JNpO4vUPyPykOrpHDQ/I/eM5Fz8ZD8j+IYFmIyEPyP3HbAEvBQ/I/9DOUgMJD8j9nMXJByEPyP0fHb5zLQ/I/VA9Dsc5D8j8PTGxQzEPyPyfUkjrLQ/I/qBTwGsND8j/30Ak4vUPyPx0MzYq0Q/I/oCc37KhD8j8NZCe1p0PyPy1rwzGjQ/I/zE2ysZxD8j+yis2gnkPyP238A2qoQ/I/No7GNrJD8j/pusRdukPyP4HuvsXCQ/I/mGnjtMJD8j8ycm5lwUPyP8pQGxe6Q/I/UfN7KLlD8j/fsleVtkPyP88+kNG9Q/I/ZAbopchD8j8=",
          "dtype": "f8"
         }
        },
        {
         "marker": {
          "color": "red",
          "size": 9,
          "symbol": "triangle-down"
         },
         "mode": "markers",
         "name": "Pivot High",
         "type": "scatter",
         "x": [
          "2025-06-05T01:45:00+00:00",
          "2025-06-05T01:50:00+00:00",
          "2025-06-05T01:55:00+00:00",
          "2025-06-05T02:00:00+00:00",
          "2025-06-05T02:05:00+00:00",
          "2025-06-05T02:10:00+00:00",
          "2025-06-05T02:15:00+00:00",
          "2025-06-05T02:20:00+00:00",
          "2025-06-05T02:25:00+00:00",
          "2025-06-05T02:30:00+00:00",
          "2025-06-05T02:35:00+00:00",
          "2025-06-05T02:40:00+00:00",
          "2025-06-05T02:45:00+00:00",
          "2025-06-05T02:50:00+00:00",
          "2025-06-05T02:55:00+00:00",
          "2025-06-05T03:00:00+00:00",
          "2025-06-05T03:05:00+00:00",
          "2025-06-05T03:10:00+00:00",
          "2025-06-05T03:15:00+00:00",
          "2025-06-05T03:20:00+00:00",
          "2025-06-05T03:25:00+00:00",
          "2025-06-05T03:30:00+00:00",
          "2025-06-05T03:35:00+00:00",
          "2025-06-05T03:40:00+00:00",
          "2025-06-05T03:45:00+00:00",
          "2025-06-05T03:50:00+00:00",
          "2025-06-05T03:55:00+00:00",
          "2025-06-05T04:00:00+00:00",
          "2025-06-05T04:05:00+00:00",
          "2025-06-05T04:10:00+00:00",
          "2025-06-05T04:15:00+00:00",
          "2025-06-05T04:20:00+00:00",
          "2025-06-05T04:25:00+00:00",
          "2025-06-05T04:30:00+00:00",
          "2025-06-05T04:35:00+00:00",
          "2025-06-05T04:40:00+00:00",
          "2025-06-05T04:45:00+00:00",
          "2025-06-05T04:50:00+00:00",
          "2025-06-05T04:55:00+00:00",
          "2025-06-05T05:00:00+00:00",
          "2025-06-05T05:05:00+00:00",
          "2025-06-05T05:10:00+00:00",
          "2025-06-05T05:15:00+00:00",
          "2025-06-05T05:20:00+00:00",
          "2025-06-05T05:25:00+00:00",
          "2025-06-05T05:30:00+00:00",
          "2025-06-05T05:35:00+00:00",
          "2025-06-05T05:40:00+00:00",
          "2025-06-05T05:45:00+00:00",
          "2025-06-05T05:50:00+00:00",
          "2025-06-05T05:55:00+00:00",
          "2025-06-05T06:00:00+00:00",
          "2025-06-05T06:05:00+00:00",
          "2025-06-05T06:10:00+00:00",
          "2025-06-05T06:15:00+00:00",
          "2025-06-05T06:20:00+00:00",
          "2025-06-05T06:25:00+00:00",
          "2025-06-05T06:30:00+00:00",
          "2025-06-05T06:35:00+00:00",
          "2025-06-05T06:40:00+00:00",
          "2025-06-05T06:45:00+00:00",
          "2025-06-05T06:50:00+00:00",
          "2025-06-05T06:55:00+00:00",
          "2025-06-05T07:00:00+00:00",
          "2025-06-05T07:05:00+00:00",
          "2025-06-05T07:10:00+00:00",
          "2025-06-05T07:15:00+00:00",
          "2025-06-05T07:20:00+00:00",
          "2025-06-05T07:25:00+00:00",
          "2025-06-05T07:30:00+00:00",
          "2025-06-05T07:35:00+00:00",
          "2025-06-05T07:40:00+00:00",
          "2025-06-05T07:45:00+00:00",
          "2025-06-05T07:50:00+00:00",
          "2025-06-05T07:55:00+00:00",
          "2025-06-05T08:00:00+00:00",
          "2025-06-05T08:05:00+00:00",
          "2025-06-05T08:10:00+00:00",
          "2025-06-05T08:15:00+00:00",
          "2025-06-05T08:20:00+00:00",
          "2025-06-05T08:25:00+00:00",
          "2025-06-05T08:30:00+00:00",
          "2025-06-05T08:35:00+00:00",
          "2025-06-05T08:40:00+00:00",
          "2025-06-05T08:45:00+00:00",
          "2025-06-05T08:50:00+00:00",
          "2025-06-05T08:55:00+00:00",
          "2025-06-05T09:00:00+00:00",
          "2025-06-05T09:05:00+00:00",
          "2025-06-05T09:10:00+00:00",
          "2025-06-05T09:15:00+00:00",
          "2025-06-05T09:20:00+00:00",
          "2025-06-05T09:25:00+00:00",
          "2025-06-05T09:30:00+00:00",
          "2025-06-05T09:35:00+00:00",
          "2025-06-05T09:40:00+00:00",
          "2025-06-05T09:45:00+00:00",
          "2025-06-05T09:50:00+00:00",
          "2025-06-05T09:55:00+00:00",
          "2025-06-05T10:00:00+00:00"
         ],
         "y": {
          "bdata": "AAAAAAAA+H8AAAAAAAD4fwAAAAAAAPh/AAAAAAAA+H8AAAAAAAD4fwAAAAAAAPh/AAAAAAAA+H8AAAAAAAD4fwAAAAAAAPh/AAAAAAAA+H8AAAAAAAD4fwAAAAAAAPh/AAAAAAAA+H8AAAAAAAD4fwAAAAAAAPh/AAAAAAAA+H8AAAAAAAD4fwAAAAAAAPh/AAAAAAAA+H8AAAAAAAD4fwAAAAAAAPh/AAAAAAAA+H8AAAAAAAD4fwAAAAAAAPh/AAAAAAAA+H8AAAAAAAD4f4L/rWTHRvI/AAAAAAAA+H8AAAAAAAD4fwAAAAAAAPh/AAAAAAAA+H8AAAAAAAD4fwAAAAAAAPh/AAAAAAAA+H8AAAAAAAD4fwAAAAAAAPh/AAAAAAAA+H8AAAAAAAD4fwAAAAAAAPh/AAAAAAAA+H8AAAAAAAD4fwAAAAAAAPh/AAAAAAAA+H8AAAAAAAD4fwAAAAAAAPh/AAAAAAAA+H8AAAAAAAD4fwAAAAAAAPh/AAAAAAAA+H8AAAAAAAD4fwAAAAAAAPh/AAAAAAAA+H8AAAAAAAD4fwAAAAAAAPh/AAAAAAAA+H8AAAAAAAD4fwAAAAAAAPh/AAAAAAAA+H8AAAAAAAD4fwAAAAAAAPh/owbTMHxE8j8AAAAAAAD4fwAAAAAAAPh/AAAAAAAA+H8AAAAAAAD4fwAAAAAAAPh/AAAAAAAA+H8AAAAAAAD4fwAAAAAAAPh/AAAAAAAA+H8AAAAAAAD4fwAAAAAAAPh/AAAAAAAA+H8AAAAAAAD4fytqMA3DR/I/AAAAAAAA+H8AAAAAAAD4fwAAAAAAAPh/AAAAAAAA+H8AAAAAAAD4fwAAAAAAAPh/AAAAAAAA+H8AAAAAAAD4fwAAAAAAAPh/AAAAAAAA+H8AAAAAAAD4fwAAAAAAAPh/AAAAAAAA+H8AAAAAAAD4fwAAAAAAAPh/AAAAAAAA+H8AAAAAAAD4fwAAAAAAAPh/AAAAAAAA+H8RUyKJXkbyPwAAAAAAAPh/AAAAAAAA+H8AAAAAAAD4fwAAAAAAAPh/AAAAAAAA+H8=",
          "dtype": "f8"
         }
        },
        {
         "marker": {
          "color": "lime",
          "size": 9,
          "symbol": "triangle-up"
         },
         "mode": "markers",
         "name": "Pivot Low",
         "type": "scatter",
         "x": [
          "2025-06-05T01:45:00+00:00",
          "2025-06-05T01:50:00+00:00",
          "2025-06-05T01:55:00+00:00",
          "2025-06-05T02:00:00+00:00",
          "2025-06-05T02:05:00+00:00",
          "2025-06-05T02:10:00+00:00",
          "2025-06-05T02:15:00+00:00",
          "2025-06-05T02:20:00+00:00",
          "2025-06-05T02:25:00+00:00",
          "2025-06-05T02:30:00+00:00",
          "2025-06-05T02:35:00+00:00",
          "2025-06-05T02:40:00+00:00",
          "2025-06-05T02:45:00+00:00",
          "2025-06-05T02:50:00+00:00",
          "2025-06-05T02:55:00+00:00",
          "2025-06-05T03:00:00+00:00",
          "2025-06-05T03:05:00+00:00",
          "2025-06-05T03:10:00+00:00",
          "2025-06-05T03:15:00+00:00",
          "2025-06-05T03:20:00+00:00",
          "2025-06-05T03:25:00+00:00",
          "2025-06-05T03:30:00+00:00",
          "2025-06-05T03:35:00+00:00",
          "2025-06-05T03:40:00+00:00",
          "2025-06-05T03:45:00+00:00",
          "2025-06-05T03:50:00+00:00",
          "2025-06-05T03:55:00+00:00",
          "2025-06-05T04:00:00+00:00",
          "2025-06-05T04:05:00+00:00",
          "2025-06-05T04:10:00+00:00",
          "2025-06-05T04:15:00+00:00",
          "2025-06-05T04:20:00+00:00",
          "2025-06-05T04:25:00+00:00",
          "2025-06-05T04:30:00+00:00",
          "2025-06-05T04:35:00+00:00",
          "2025-06-05T04:40:00+00:00",
          "2025-06-05T04:45:00+00:00",
          "2025-06-05T04:50:00+00:00",
          "2025-06-05T04:55:00+00:00",
          "2025-06-05T05:00:00+00:00",
          "2025-06-05T05:05:00+00:00",
          "2025-06-05T05:10:00+00:00",
          "2025-06-05T05:15:00+00:00",
          "2025-06-05T05:20:00+00:00",
          "2025-06-05T05:25:00+00:00",
          "2025-06-05T05:30:00+00:00",
          "2025-06-05T05:35:00+00:00",
          "2025-06-05T05:40:00+00:00",
          "2025-06-05T05:45:00+00:00",
          "2025-06-05T05:50:00+00:00",
          "2025-06-05T05:55:00+00:00",
          "2025-06-05T06:00:00+00:00",
          "2025-06-05T06:05:00+00:00",
          "2025-06-05T06:10:00+00:00",
          "2025-06-05T06:15:00+00:00",
          "2025-06-05T06:20:00+00:00",
          "2025-06-05T06:25:00+00:00",
          "2025-06-05T06:30:00+00:00",
          "2025-06-05T06:35:00+00:00",
          "2025-06-05T06:40:00+00:00",
          "2025-06-05T06:45:00+00:00",
          "2025-06-05T06:50:00+00:00",
          "2025-06-05T06:55:00+00:00",
          "2025-06-05T07:00:00+00:00",
          "2025-06-05T07:05:00+00:00",
          "2025-06-05T07:10:00+00:00",
          "2025-06-05T07:15:00+00:00",
          "2025-06-05T07:20:00+00:00",
          "2025-06-05T07:25:00+00:00",
          "2025-06-05T07:30:00+00:00",
          "2025-06-05T07:35:00+00:00",
          "2025-06-05T07:40:00+00:00",
          "2025-06-05T07:45:00+00:00",
          "2025-06-05T07:50:00+00:00",
          "2025-06-05T07:55:00+00:00",
          "2025-06-05T08:00:00+00:00",
          "2025-06-05T08:05:00+00:00",
          "2025-06-05T08:10:00+00:00",
          "2025-06-05T08:15:00+00:00",
          "2025-06-05T08:20:00+00:00",
          "2025-06-05T08:25:00+00:00",
          "2025-06-05T08:30:00+00:00",
          "2025-06-05T08:35:00+00:00",
          "2025-06-05T08:40:00+00:00",
          "2025-06-05T08:45:00+00:00",
          "2025-06-05T08:50:00+00:00",
          "2025-06-05T08:55:00+00:00",
          "2025-06-05T09:00:00+00:00",
          "2025-06-05T09:05:00+00:00",
          "2025-06-05T09:10:00+00:00",
          "2025-06-05T09:15:00+00:00",
          "2025-06-05T09:20:00+00:00",
          "2025-06-05T09:25:00+00:00",
          "2025-06-05T09:30:00+00:00",
          "2025-06-05T09:35:00+00:00",
          "2025-06-05T09:40:00+00:00",
          "2025-06-05T09:45:00+00:00",
          "2025-06-05T09:50:00+00:00",
          "2025-06-05T09:55:00+00:00",
          "2025-06-05T10:00:00+00:00"
         ],
         "y": {
          "bdata": "AAAAAAAA+H8AAAAAAAD4fwAAAAAAAPh/AAAAAAAA+H8AAAAAAAD4fwAAAAAAAPh/AAAAAAAA+H8AAAAAAAD4fwAAAAAAAPh/AAAAAAAA+H8AAAAAAAD4f+CcEaW9QfI/AAAAAAAA+H8AAAAAAAD4fwAAAAAAAPh/AAAAAAAA+H8AAAAAAAD4fwAAAAAAAPh/AAAAAAAA+H8AAAAAAAD4fwAAAAAAAPh/AAAAAAAA+H8AAAAAAAD4fwAAAAAAAPh/AAAAAAAA+H8AAAAAAAD4fwAAAAAAAPh/AAAAAAAA+H8AAAAAAAD4fwAAAAAAAPh/AAAAAAAA+H8AAAAAAAD4fwAAAAAAAPh/AAAAAAAA+H8AAAAAAAD4fwAAAAAAAPh/AAAAAAAA+H8AAAAAAAD4fwAAAAAAAPh/AAAAAAAA+H8AAAAAAAD4fwAAAAAAAPh/AAAAAAAA+H8AAAAAAAD4fwAAAAAAAPh/AAAAAAAA+H8AAAAAAAD4fwAAAAAAAPh/AAAAAAAA+H8AAAAAAAD4fwAAAAAAAPh/AAAAAAAA+H8AAAAAAAD4fwAAAAAAAPh/AAAAAAAA+H+sVib8Uj/yPwAAAAAAAPh/AAAAAAAA+H8AAAAAAAD4fwAAAAAAAPh/AAAAAAAA+H8AAAAAAAD4fwAAAAAAAPh/AAAAAAAA+H/kFB3J5T/yPwAAAAAAAPh/AAAAAAAA+H8AAAAAAAD4fwAAAAAAAPh/AAAAAAAA+H8AAAAAAAD4fwAAAAAAAPh/AAAAAAAA+H8AAAAAAAD4fwAAAAAAAPh/AAAAAAAA+H8AAAAAAAD4fwAAAAAAAPh/AAAAAAAA+H+Nf59x4UDyPwAAAAAAAPh/AAAAAAAA+H8AAAAAAAD4fwAAAAAAAPh/AAAAAAAA+H8AAAAAAAD4fwAAAAAAAPh/AAAAAAAA+H8AAAAAAAD4fzcawFsgQfI/AAAAAAAA+H8AAAAAAAD4fwAAAAAAAPh/AAAAAAAA+H8AAAAAAAD4fwAAAAAAAPh/AAAAAAAA+H8AAAAAAAD4fwAAAAAAAPh/AAAAAAAA+H8=",
          "dtype": "f8"
         }
        },
        {
         "line": {
          "color": "red",
          "dash": "dash",
          "width": 2
         },
         "marker": {
          "color": "red",
          "size": [
           10,
           12
          ],
          "symbol": [
           "arrow-bar-down",
           "x"
          ]
         },
         "mode": "markers+lines",
         "name": "Trade Path",
         "type": "scatter",
         "x": [
          "2025-06-05T06:50:00+00:00",
          "2025-06-05T07:15:00+00:00"
         ],
         "y": [
          1.14127,
          1.14227
         ]
        }
       ],
       "layout": {
        "height": 600,
        "shapes": [
         {
          "line": {
           "color": "green",
           "dash": "dot",
           "width": 1
          },
          "type": "line",
          "x0": 0,
          "x1": 1,
          "xref": "x domain",
          "y0": 1.1397700000000002,
          "y1": 1.1397700000000002,
          "yref": "y"
         },
         {
          "line": {
           "color": "red",
           "dash": "dot",
           "width": 1
          },
          "type": "line",
          "x0": 0,
          "x1": 1,
          "xref": "x domain",
          "y0": 1.14227,
          "y1": 1.14227,
          "yref": "y"
         }
        ],
        "template": {
         "data": {
          "bar": [
           {
            "error_x": {
             "color": "#2a3f5f"
            },
            "error_y": {
             "color": "#2a3f5f"
            },
            "marker": {
             "line": {
              "color": "#E5ECF6",
              "width": 0.5
             },
             "pattern": {
              "fillmode": "overlay",
              "size": 10,
              "solidity": 0.2
             }
            },
            "type": "bar"
           }
          ],
          "barpolar": [
           {
            "marker": {
             "line": {
              "color": "#E5ECF6",
              "width": 0.5
             },
             "pattern": {
              "fillmode": "overlay",
              "size": 10,
              "solidity": 0.2
             }
            },
            "type": "barpolar"
           }
          ],
          "carpet": [
           {
            "aaxis": {
             "endlinecolor": "#2a3f5f",
             "gridcolor": "white",
             "linecolor": "white",
             "minorgridcolor": "white",
             "startlinecolor": "#2a3f5f"
            },
            "baxis": {
             "endlinecolor": "#2a3f5f",
             "gridcolor": "white",
             "linecolor": "white",
             "minorgridcolor": "white",
             "startlinecolor": "#2a3f5f"
            },
            "type": "carpet"
           }
          ],
          "choropleth": [
           {
            "colorbar": {
             "outlinewidth": 0,
             "ticks": ""
            },
            "type": "choropleth"
           }
          ],
          "contour": [
           {
            "colorbar": {
             "outlinewidth": 0,
             "ticks": ""
            },
            "colorscale": [
             [
              0,
              "#0d0887"
             ],
             [
              0.1111111111111111,
              "#46039f"
             ],
             [
              0.2222222222222222,
              "#7201a8"
             ],
             [
              0.3333333333333333,
              "#9c179e"
             ],
             [
              0.4444444444444444,
              "#bd3786"
             ],
             [
              0.5555555555555556,
              "#d8576b"
             ],
             [
              0.6666666666666666,
              "#ed7953"
             ],
             [
              0.7777777777777778,
              "#fb9f3a"
             ],
             [
              0.8888888888888888,
              "#fdca26"
             ],
             [
              1,
              "#f0f921"
             ]
            ],
            "type": "contour"
           }
          ],
          "contourcarpet": [
           {
            "colorbar": {
             "outlinewidth": 0,
             "ticks": ""
            },
            "type": "contourcarpet"
           }
          ],
          "heatmap": [
           {
            "colorbar": {
             "outlinewidth": 0,
             "ticks": ""
            },
            "colorscale": [
             [
              0,
              "#0d0887"
             ],
             [
              0.1111111111111111,
              "#46039f"
             ],
             [
              0.2222222222222222,
              "#7201a8"
             ],
             [
              0.3333333333333333,
              "#9c179e"
             ],
             [
              0.4444444444444444,
              "#bd3786"
             ],
             [
              0.5555555555555556,
              "#d8576b"
             ],
             [
              0.6666666666666666,
              "#ed7953"
             ],
             [
              0.7777777777777778,
              "#fb9f3a"
             ],
             [
              0.8888888888888888,
              "#fdca26"
             ],
             [
              1,
              "#f0f921"
             ]
            ],
            "type": "heatmap"
           }
          ],
          "histogram": [
           {
            "marker": {
             "pattern": {
              "fillmode": "overlay",
              "size": 10,
              "solidity": 0.2
             }
            },
            "type": "histogram"
           }
          ],
          "histogram2d": [
           {
            "colorbar": {
             "outlinewidth": 0,
             "ticks": ""
            },
            "colorscale": [
             [
              0,
              "#0d0887"
             ],
             [
              0.1111111111111111,
              "#46039f"
             ],
             [
              0.2222222222222222,
              "#7201a8"
             ],
             [
              0.3333333333333333,
              "#9c179e"
             ],
             [
              0.4444444444444444,
              "#bd3786"
             ],
             [
              0.5555555555555556,
              "#d8576b"
             ],
             [
              0.6666666666666666,
              "#ed7953"
             ],
             [
              0.7777777777777778,
              "#fb9f3a"
             ],
             [
              0.8888888888888888,
              "#fdca26"
             ],
             [
              1,
              "#f0f921"
             ]
            ],
            "type": "histogram2d"
           }
          ],
          "histogram2dcontour": [
           {
            "colorbar": {
             "outlinewidth": 0,
             "ticks": ""
            },
            "colorscale": [
             [
              0,
              "#0d0887"
             ],
             [
              0.1111111111111111,
              "#46039f"
             ],
             [
              0.2222222222222222,
              "#7201a8"
             ],
             [
              0.3333333333333333,
              "#9c179e"
             ],
             [
              0.4444444444444444,
              "#bd3786"
             ],
             [
              0.5555555555555556,
              "#d8576b"
             ],
             [
              0.6666666666666666,
              "#ed7953"
             ],
             [
              0.7777777777777778,
              "#fb9f3a"
             ],
             [
              0.8888888888888888,
              "#fdca26"
             ],
             [
              1,
              "#f0f921"
             ]
            ],
            "type": "histogram2dcontour"
           }
          ],
          "mesh3d": [
           {
            "colorbar": {
             "outlinewidth": 0,
             "ticks": ""
            },
            "type": "mesh3d"
           }
          ],
          "parcoords": [
           {
            "line": {
             "colorbar": {
              "outlinewidth": 0,
              "ticks": ""
             }
            },
            "type": "parcoords"
           }
          ],
          "pie": [
           {
            "automargin": true,
            "type": "pie"
           }
          ],
          "scatter": [
           {
            "fillpattern": {
             "fillmode": "overlay",
             "size": 10,
             "solidity": 0.2
            },
            "type": "scatter"
           }
          ],
          "scatter3d": [
           {
            "line": {
             "colorbar": {
              "outlinewidth": 0,
              "ticks": ""
             }
            },
            "marker": {
             "colorbar": {
              "outlinewidth": 0,
              "ticks": ""
             }
            },
            "type": "scatter3d"
           }
          ],
          "scattercarpet": [
           {
            "marker": {
             "colorbar": {
              "outlinewidth": 0,
              "ticks": ""
             }
            },
            "type": "scattercarpet"
           }
          ],
          "scattergeo": [
           {
            "marker": {
             "colorbar": {
              "outlinewidth": 0,
              "ticks": ""
             }
            },
            "type": "scattergeo"
           }
          ],
          "scattergl": [
           {
            "marker": {
             "colorbar": {
              "outlinewidth": 0,
              "ticks": ""
             }
            },
            "type": "scattergl"
           }
          ],
          "scattermap": [
           {
            "marker": {
             "colorbar": {
              "outlinewidth": 0,
              "ticks": ""
             }
            },
            "type": "scattermap"
           }
          ],
          "scattermapbox": [
           {
            "marker": {
             "colorbar": {
              "outlinewidth": 0,
              "ticks": ""
             }
            },
            "type": "scattermapbox"
           }
          ],
          "scatterpolar": [
           {
            "marker": {
             "colorbar": {
              "outlinewidth": 0,
              "ticks": ""
             }
            },
            "type": "scatterpolar"
           }
          ],
          "scatterpolargl": [
           {
            "marker": {
             "colorbar": {
              "outlinewidth": 0,
              "ticks": ""
             }
            },
            "type": "scatterpolargl"
           }
          ],
          "scatterternary": [
           {
            "marker": {
             "colorbar": {
              "outlinewidth": 0,
              "ticks": ""
             }
            },
            "type": "scatterternary"
           }
          ],
          "surface": [
           {
            "colorbar": {
             "outlinewidth": 0,
             "ticks": ""
            },
            "colorscale": [
             [
              0,
              "#0d0887"
             ],
             [
              0.1111111111111111,
              "#46039f"
             ],
             [
              0.2222222222222222,
              "#7201a8"
             ],
             [
              0.3333333333333333,
              "#9c179e"
             ],
             [
              0.4444444444444444,
              "#bd3786"
             ],
             [
              0.5555555555555556,
              "#d8576b"
             ],
             [
              0.6666666666666666,
              "#ed7953"
             ],
             [
              0.7777777777777778,
              "#fb9f3a"
             ],
             [
              0.8888888888888888,
              "#fdca26"
             ],
             [
              1,
              "#f0f921"
             ]
            ],
            "type": "surface"
           }
          ],
          "table": [
           {
            "cells": {
             "fill": {
              "color": "#EBF0F8"
             },
             "line": {
              "color": "white"
             }
            },
            "header": {
             "fill": {
              "color": "#C8D4E3"
             },
             "line": {
              "color": "white"
             }
            },
            "type": "table"
           }
          ]
         },
         "layout": {
          "annotationdefaults": {
           "arrowcolor": "#2a3f5f",
           "arrowhead": 0,
           "arrowwidth": 1
          },
          "autotypenumbers": "strict",
          "coloraxis": {
           "colorbar": {
            "outlinewidth": 0,
            "ticks": ""
           }
          },
          "colorscale": {
           "diverging": [
            [
             0,
             "#8e0152"
            ],
            [
             0.1,
             "#c51b7d"
            ],
            [
             0.2,
             "#de77ae"
            ],
            [
             0.3,
             "#f1b6da"
            ],
            [
             0.4,
             "#fde0ef"
            ],
            [
             0.5,
             "#f7f7f7"
            ],
            [
             0.6,
             "#e6f5d0"
            ],
            [
             0.7,
             "#b8e186"
            ],
            [
             0.8,
             "#7fbc41"
            ],
            [
             0.9,
             "#4d9221"
            ],
            [
             1,
             "#276419"
            ]
           ],
           "sequential": [
            [
             0,
             "#0d0887"
            ],
            [
             0.1111111111111111,
             "#46039f"
            ],
            [
             0.2222222222222222,
             "#7201a8"
            ],
            [
             0.3333333333333333,
             "#9c179e"
            ],
            [
             0.4444444444444444,
             "#bd3786"
            ],
            [
             0.5555555555555556,
             "#d8576b"
            ],
            [
             0.6666666666666666,
             "#ed7953"
            ],
            [
             0.7777777777777778,
             "#fb9f3a"
            ],
            [
             0.8888888888888888,
             "#fdca26"
            ],
            [
             1,
             "#f0f921"
            ]
           ],
           "sequentialminus": [
            [
             0,
             "#0d0887"
            ],
            [
             0.1111111111111111,
             "#46039f"
            ],
            [
             0.2222222222222222,
             "#7201a8"
            ],
            [
             0.3333333333333333,
             "#9c179e"
            ],
            [
             0.4444444444444444,
             "#bd3786"
            ],
            [
             0.5555555555555556,
             "#d8576b"
            ],
            [
             0.6666666666666666,
             "#ed7953"
            ],
            [
             0.7777777777777778,
             "#fb9f3a"
            ],
            [
             0.8888888888888888,
             "#fdca26"
            ],
            [
             1,
             "#f0f921"
            ]
           ]
          },
          "colorway": [
           "#636efa",
           "#EF553B",
           "#00cc96",
           "#ab63fa",
           "#FFA15A",
           "#19d3f3",
           "#FF6692",
           "#B6E880",
           "#FF97FF",
           "#FECB52"
          ],
          "font": {
           "color": "#2a3f5f"
          },
          "geo": {
           "bgcolor": "white",
           "lakecolor": "white",
           "landcolor": "#E5ECF6",
           "showlakes": true,
           "showland": true,
           "subunitcolor": "white"
          },
          "hoverlabel": {
           "align": "left"
          },
          "hovermode": "closest",
          "mapbox": {
           "style": "light"
          },
          "paper_bgcolor": "white",
          "plot_bgcolor": "#E5ECF6",
          "polar": {
           "angularaxis": {
            "gridcolor": "white",
            "linecolor": "white",
            "ticks": ""
           },
           "bgcolor": "#E5ECF6",
           "radialaxis": {
            "gridcolor": "white",
            "linecolor": "white",
            "ticks": ""
           }
          },
          "scene": {
           "xaxis": {
            "backgroundcolor": "#E5ECF6",
            "gridcolor": "white",
            "gridwidth": 2,
            "linecolor": "white",
            "showbackground": true,
            "ticks": "",
            "zerolinecolor": "white"
           },
           "yaxis": {
            "backgroundcolor": "#E5ECF6",
            "gridcolor": "white",
            "gridwidth": 2,
            "linecolor": "white",
            "showbackground": true,
            "ticks": "",
            "zerolinecolor": "white"
           },
           "zaxis": {
            "backgroundcolor": "#E5ECF6",
            "gridcolor": "white",
            "gridwidth": 2,
            "linecolor": "white",
            "showbackground": true,
            "ticks": "",
            "zerolinecolor": "white"
           }
          },
          "shapedefaults": {
           "line": {
            "color": "#2a3f5f"
           }
          },
          "ternary": {
           "aaxis": {
            "gridcolor": "white",
            "linecolor": "white",
            "ticks": ""
           },
           "baxis": {
            "gridcolor": "white",
            "linecolor": "white",
            "ticks": ""
           },
           "bgcolor": "#E5ECF6",
           "caxis": {
            "gridcolor": "white",
            "linecolor": "white",
            "ticks": ""
           }
          },
          "title": {
           "x": 0.05
          },
          "xaxis": {
           "automargin": true,
           "gridcolor": "white",
           "linecolor": "white",
           "ticks": "",
           "title": {
            "standoff": 15
           },
           "zerolinecolor": "white",
           "zerolinewidth": 2
          },
          "yaxis": {
           "automargin": true,
           "gridcolor": "white",
           "linecolor": "white",
           "ticks": "",
           "title": {
            "standoff": 15
           },
           "zerolinecolor": "white",
           "zerolinewidth": 2
          }
         }
        },
        "title": {
         "text": "Trade Setup on 2025-06-05: SELL | PnL: -11.50 pips"
        },
        "xaxis": {
         "rangeslider": {
          "visible": false
         }
        },
        "yaxis": {
         "title": {
          "text": "Price"
         }
        }
       }
      }
     },
     "metadata": {},
     "output_type": "display_data"
    }
   ],
   "source": [
    "import pandas as pd\n",
    "import random\n",
    "import plotly.graph_objects as go\n",
    "from plotly.subplots import make_subplots\n",
    "\n",
    "def plot_sample_trades_plotly(\n",
    "    trades_df: pd.DataFrame,\n",
    "    full_indicator_df: pd.DataFrame,\n",
    "    num_to_plot: int = 5\n",
    "):\n",
    "    \"\"\"\n",
    "    Plots a random sample of trades with pivot points, entry/exit markers, and TP/SL levels.\n",
    "    Updated to show 20 and 100 EMAs for the pullback strategy.\n",
    "    \"\"\"\n",
    "    if trades_df.empty:\n",
    "        print(\"No trades to plot.\")\n",
    "        return\n",
    "        \n",
    "    num_to_plot = min(num_to_plot, len(trades_df))\n",
    "    sample_trades = trades_df.sample(n=num_to_plot, random_state=43)\n",
    "\n",
    "    print(f\"\\n--- Plotting {num_to_plot} Sample Trades using Plotly ---\")\n",
    "\n",
    "    for signal_timestamp, trade_info in sample_trades.iterrows():\n",
    "        # --- 1. Prepare Data Window ---\n",
    "        entry_loc = full_indicator_df.index.get_loc(signal_timestamp)\n",
    "        start_loc = max(0, entry_loc - 60)\n",
    "        end_loc = min(len(full_indicator_df), entry_loc + 40)\n",
    "        plot_df = full_indicator_df.iloc[start_loc:end_loc]\n",
    "\n",
    "        # --- 2. Create the Plot ---\n",
    "        fig = go.Figure()\n",
    "\n",
    "        fig.add_trace(go.Candlestick(x=plot_df.index, open=plot_df['open'], high=plot_df['high'], low=plot_df['low'], close=plot_df['close'], name='Candles'))\n",
    "        # --- UPDATED EMAs ---\n",
    "        fig.add_trace(go.Scatter(x=plot_df.index, y=plot_df['ema_40'], mode='lines', name='40 EMA', line=dict(color='blue', width=1)))\n",
    "        fig.add_trace(go.Scatter(x=plot_df.index, y=plot_df['ema_100'], mode='lines', name='100 EMA', line=dict(color='purple', width=1.5)))\n",
    "        \n",
    "        fig.add_trace(go.Scatter(x=plot_df.index, y=plot_df['pivot_high'], mode='markers', name='Pivot High', marker=dict(symbol='triangle-down', color='red', size=9)))\n",
    "        fig.add_trace(go.Scatter(x=plot_df.index, y=plot_df['pivot_low'], mode='markers', name='Pivot Low', marker=dict(symbol='triangle-up', color='lime', size=9)))\n",
    "\n",
    "        # --- 3. Add Trade Markers and Lines ---\n",
    "        trade_type = \"BUY\" if trade_info['break_type'] == 1 else \"SELL\"\n",
    "        pnl_color = 'green' if trade_info['pnl'] > 0 else 'red'\n",
    "        \n",
    "        entry_timestamp = trade_info['dt_of_entry']\n",
    "        entry_price = trade_info['entry_price']\n",
    "        exit_timestamp = trade_info['dt_of_exit']\n",
    "        exit_price = trade_info['exit_price']\n",
    "        \n",
    "        fig.add_hline(y=trade_info['tp_price'], line_dash=\"dot\", line_color=\"green\", line_width=1)\n",
    "        fig.add_hline(y=trade_info['sl_price'], line_dash=\"dot\", line_color=\"red\", line_width=1)\n",
    "\n",
    "        fig.add_trace(go.Scatter(\n",
    "            x=[entry_timestamp, exit_timestamp],\n",
    "            y=[entry_price, exit_price],\n",
    "            mode='markers+lines',\n",
    "            line=dict(color=pnl_color, width=2, dash='dash'),\n",
    "            marker=dict(symbol=['arrow-bar-up' if trade_type==\"BUY\" else 'arrow-bar-down', 'x'], \n",
    "                        color=pnl_color, size=[10, 12]),\n",
    "            name='Trade Path'\n",
    "        ))\n",
    "\n",
    "        # --- 4. Finalize Layout ---\n",
    "        title_str = f\"Trade Setup on {signal_timestamp.date()}: {trade_type} | PnL: {trade_info['pnl']:.2f} pips\"\n",
    "        fig.update_layout(title_text=title_str, xaxis_rangeslider_visible=False, height=600)\n",
    "        fig.update_yaxes(title_text=\"Price\")\n",
    "        \n",
    "        fig.show()\n",
    "\n",
    "\n",
    "# --- CORRECTED USAGE EXAMPLE ---\n",
    "# This code assumes it's run after the validation loop cell.\n",
    "\n",
    "# 1. Re-create the full dataframe with all indicators (including new EMAs) AND pivots\n",
    "full_indicator_df = add_technical_indicators(df.copy())\n",
    "full_indicator_df = find_pivot_points(full_indicator_df, lookback=5, prominence_pips=5, pip_size=0.0001)\n",
    "\n",
    "# 2. Reconstruct the test set dataframe to prevent data misalignment\n",
    "test_set_indices = X_test.index\n",
    "test_set_df = orig_dataset.loc[test_set_indices].copy()\n",
    "\n",
    "# 3. Add the prediction results to this clean dataframe\n",
    "test_set_df['predicted'] = y_pred\n",
    "\n",
    "# 4. Filter for trades the model decided to take\n",
    "trades_taken_by_model = test_set_df[test_set_df['predicted'] == 1].dropna(subset=['dt_of_exit'])\n",
    "\n",
    "# 5. Call the plotting function with the corrected dataframe\n",
    "plot_sample_trades_plotly(\n",
    "    trades_df=trades_taken_by_model,\n",
    "    full_indicator_df=full_indicator_df,\n",
    "    num_to_plot=5\n",
    ")"
   ]
  },
  {
   "cell_type": "markdown",
   "id": "85dd8a1f",
   "metadata": {},
   "source": []
  }
 ],
 "metadata": {
  "kernelspec": {
   "display_name": "venv",
   "language": "python",
   "name": "python3"
  },
  "language_info": {
   "codemirror_mode": {
    "name": "ipython",
    "version": 3
   },
   "file_extension": ".py",
   "mimetype": "text/x-python",
   "name": "python",
   "nbconvert_exporter": "python",
   "pygments_lexer": "ipython3",
   "version": "3.12.7"
  }
 },
 "nbformat": 4,
 "nbformat_minor": 5
}
