{
 "cells": [
  {
   "cell_type": "code",
   "execution_count": 5,
   "id": "6ed9cc11",
   "metadata": {},
   "outputs": [
    {
     "name": "stdout",
     "output_type": "stream",
     "text": [
      "Fetching the last 5 closed trades...\n",
      "Found 5 recent closed trades to plot.\n",
      "\n",
      "--- Plotting trade on USD_JPY opened at: 2025-06-19 06:30:06 ---\n"
     ]
    },
    {
     "data": {
      "application/vnd.plotly.v1+json": {
       "config": {
        "plotlyServerURL": "https://plot.ly"
       },
       "data": [
        {
         "close": {
          "bdata": "qvHSTWIgYkC4HoXrUSBiQKAaL90kHmJAZmZmZmYeYkDNzMzMzBxiQD0K16NwHWJAj8L1KFwfYkCq8dJNYiBiQB+F61G4HmJA8KfGSzchYkDRItv5fiJiQGDl0CLbIWJA16NwPQofYkBkO99PjR9iQC2yne+nHmJA2c73U+MdYkBg5dAi2x1iQIts5/upHWJAlkOLbOcbYkAZBFYOLRpiQO58PzVeGmJAexSuR+EaYkDByqFFthtiQEw3iUFgHWJAMzMzMzMbYkDD9ShcjxpiQGDl0CLbGWJA2/l+arwcYkCcxCCwchxiQO58PzVeGmJA2c73U+MZYkDFILByaBliQLKd76fGG2JARrbz/dQYYkCTGARWDh1iQBKDwMqhGWJAfT81XroZYkCTGARWDhViQCUGgZVDE2JA5dAi2/kSYkAtsp3vpxJiQDVeukkMEmJAXrpJDAITYkBqvHSTGBRiQOf7qfHSFWJAH4XrUbgWYkBYObTIdhZiQIts5/upGWJAI9v5fmoYYkCgGi/dJBJiQLpJDAIrE2JAy6FFtvMZYkDhehSuRyFiQGiR7Xw/IWJAcT0K16MkYkDwp8ZLNyViQJZDi2znI2JAf2q8dJMkYkDdJAaBlSNiQPp+arx0I2JAx0s3iUEkYkAQWDm0yCJiQOF6FK5HIWJACKwcWmQjYkD0/dR46SJiQMdLN4lBIGJAYOXQItsdYkDwp8ZLNx1iQJZDi2znH2JAc2iR7XwfYkDFILByaCFiQC2yne+nHmJAtMh2vp8eYkDVeOkmMRxiQE5iEFg5HGJAoBov3SQeYkA/NV66SRxiQOf7qfHSHWJAF9nO91MfYkB7FK5H4R5iQNv5fmq8JGJAppvEILAiYkDwp8ZLNyViQFpkO99PJWJA9ihcj8IlYkBaZDvfTyViQM/3U+OlI2JAXrpJDAIjYkDufD81XiJiQLbz/dR4IWJAd76fGi8hYkC0yHa+nyJiQNNNYhBYIWJAj8L1KFwjYkAj2/l+aiRiQBsv3SQGJWJASOF6FK4jYkBKDAIrhyZiQOOlm8QgKGJAAAAAAAAoYkAj2/l+aihiQKabxCCwKmJA7nw/NV4qYkBQjZduEitiQDEIrBxaLGJAiUFg5dAqYkBvEoPAyiliQG3n+6nxKmJA/tR46SYpYkD8qfHSTSpiQDMzMzMzK2JAsp3vp8YrYkA1XrpJDC5iQNnO91PjLWJArkfhehQuYkBCYOXQIjNiQLTIdr6fNmJAy6FFtvM1YkBOYhBYOTRiQPhT46WbNGJAPQrXo3A1YkC8dJMYBDZiQAwCK4cWNWJAbef7qfEyYkDFILByaDFiQF66SQwCL2JAEFg5tMguYkDl0CLb+S5iQBKDwMqhLWJA5dAi2/kuYkAIrBxaZDNiQFCNl24SM2JALbKd76c2YkAEVg4tsjViQB1aZDvfN2JAGy/dJAY1YkC4HoXrUTRiQEw3iUFgNWJA9ihcj8I1YkCDwMqhRTZiQG3n+6nxNmJAAAAAAAA0YkBcj8L1KDRiQHsUrkfhMmJATmIQWDkwYkDy0k1iEDBiQKabxCCwLmJAObTIdr4vYkDByqFFti9iQA==",
          "dtype": "f8"
         },
         "high": {
          "bdata": "4XoUrkchYkC0yHa+nyJiQO58PzVeImJASOF6FK4fYkC6SQwCKx9iQF66SQwCH2JADi2yne8fYkDNzMzMzCBiQJqZmZmZIWJAqMZLN4khYkA5tMh2viNiQNV46SYxJGJAke18PzUiYkApXI/C9SBiQOOlm8QgIGJArBxaZDsfYkAzMzMzMx9iQEoMAiuHHmJAH4XrUbgeYkApXI/C9RxiQAisHFpkG2JAObTIdr4bYkCcxCCwchxiQBKDwMqhHWJA9ihcj8IdYkD6fmq8dBtiQJhuEoPAGmJARrbz/dQcYkDl0CLb+R5iQC/dJAaBHWJAf2q8dJMcYkAAAAAAABxiQKrx0k1iHGJAcT0K16McYkDl0CLb+R5iQNnO91PjHWJARIts5/sZYkAnMQisHBpiQO58PzVeFmJAzczMzMwUYkCkcD0K1xNiQAIrhxbZEmJAc2iR7XwTYkAxCKwcWhRiQKAaL90kFmJAEFg5tMgWYkCPwvUoXBdiQFg5tMh2GmJAJzEIrBwaYkBMN4lBYBliQC/dJAaBFWJAw/UoXI8aYkACK4cW2SJiQC2yne+nJmJAF9nO91MnYkAfhetRuCZiQPT91HjpJmJAke18PzUmYkCTGARWDiViQPhT46WbJGJATDeJQWAlYkBkO99PjSNiQIlBYOXQImJADi2yne8jYkDP91PjpSNiQL6fGi/dJGJATmIQWDkgYkCPwvUoXB9iQJHtfD81ImJA5/up8dIhYkA730+NlyJiQC/dJAaBIWJA1XjpJjEgYkCe76fGSx9iQHe+nxovHWJAoBov3SQeYkBzaJHtfB9iQMUgsHJoIWJADi2yne8fYkDFILByaCFiQP7UeOkmJWJABFYOLbIlYkBMN4lBYCViQOf7qfHSJWJA5dAi2/kmYkDJdr6fGidiQFK4HoXrJWJA3SQGgZUjYkDsUbgehSNiQPT91HjpImJARIts5/shYkDsUbgehSNiQHsUrkfhImJAz/dT46UjYkBoke18PyViQC/dJAaBJWJAjZduEoMoYkAxCKwcWihiQI2XbhKDKGJAc2iR7XwrYkAbL90kBiliQBfZzvdTK2JAJQaBlUMrYkB56SYxCCxiQClcj8L1LGJA/tR46SYtYkAX2c73UytiQCuHFtnOK2JA3SQGgZUrYkAX2c73UytiQCPb+X5qLGJAqvHSTWIsYkAzMzMzMy9iQPCnxks3MWJAppvEILAuYkBzaJHtfDNiQD81XrpJOGJAYhBYObQ4YkAfhetRuDZiQEoMAiuHNmJA+n5qvHQ3YkAQWDm0yDZiQDvfT42XNmJAy6FFtvM1YkAlBoGVQzNiQEoMAiuHMmJAnu+nxksvYkCF61G4HjFiQOXQItv5LmJAsp3vp8YvYkBzaJHtfDNiQCPb+X5qNGJA9P3UeOk2YkBWDi2ynTdiQLgehetROGJAhxbZzvc3YkDTTWIQWDViQPyp8dJNNmJAO99PjZc2YkBzaJHtfDdiQI/C9ShcN2JAgZVDi2w3YkCiRbbz/TRiQFpkO99PNWJAexSuR+EyYkD+1HjpJjFiQFTjpZvEMGJAeekmMQgwYkDy0k1iEDBiQA==",
          "dtype": "f8"
         },
         "low": {
          "bdata": "okW28/0cYkA730+Nlx5iQC/dJAaBHWJA+FPjpZscYkDByqFFthtiQAisHFpkG2JAPQrXo3AdYkCDwMqhRR5iQFK4HoXrHWJAYOXQItsdYkDwp8ZLNyFiQGDl0CLbIWJAAiuHFtkeYkAfhetRuB5iQJHtfD81HmJA2/l+arwcYkDNzMzMzBxiQJZDi2znG2JAK4cW2c4bYkCLbOf7qRliQNnO91PjGWJARIts5/sZYkD8qfHSTRpiQJ7vp8ZLG2JAO99PjZcaYkC28/3UeBliQH9qvHSTGGJASOF6FK4XYkAnMQisHBpiQH0/NV66GWJA4XoUrkcZYkBU46WbxBhiQHsUrkfhFmJABFYOLbIVYkBxPQrXoxhiQNNNYhBYGWJASgwCK4cWYkBcj8L1KBRiQG3n+6nxEmJAfT81XroRYkD8qfHSTRJiQClcj8L1EGJARIts5/sRYkAtsp3vpxJiQGq8dJMYFGJA2/l+arwUYkDn+6nx0hViQEoMAiuHFmJAZDvfT40XYkDRItv5fgpiQBsv3SQGEWJAL90kBoERYkBvEoPAyhliQAwCK4cWIWJAHVpkO98fYkBEi2zn+yFiQCUGgZVDI2JApHA9CtcjYkDRItv5fiJiQMP1KFyPImJACKwcWmQjYkDn+6nx0iFiQAwCK4cWIWJA8KfGSzchYkD0/dR46SJiQHNoke18H2JAf2q8dJMcYkDwp8ZLNx1iQIXrUbgeHWJA16NwPQofYkCBlUOLbB9iQMuhRbbzHWJABFYOLbIdYkB7FK5H4RpiQF66SQwCG2JAc2iR7XwbYkBWDi2ynRtiQFYOLbKdF2JAeekmMQgcYkAZBFYOLR5iQIlBYOXQHmJARIts5/shYkDRItv5fiJiQBSuR+F6JGJAaJHtfD8lYkDhehSuRyViQN0kBoGVI2JAUrgeheshYkAMAiuHFiFiQM3MzMzMIGJA2/l+arwgYkAMAiuHFiFiQBsv3SQGIWJADAIrhxYhYkBCYOXQIiNiQN0kBoGVI2JAEFg5tMgiYkBI4XoUriNiQPYoXI/CJWJA7FG4HoUnYkCsHFpkOydiQDm0yHa+J2JAcT0K16MoYkDHSzeJQShiQBsv3SQGKWJAxSCwcmgpYkAMAiuHFiliQGDl0CLbKWJAeekmMQgoYkDy0k1iEChiQBkEVg4tKmJAbef7qfEqYkDByqFFtitiQD0K16NwLWJAd76fGi8tYkCgGi/dJC5iQFCNl24SM2JAy6FFtvM1YkAzMzMzMzNiQIlBYOXQMmJAqvHSTWI0YkAzMzMzMzNiQE5iEFg5NGJAGQRWDi0yYkBcj8L1KDBiQHWTGARWLmJAWmQ7308tYkCF61G4Hi1iQKwcWmQ7K2JAN4lBYOUsYkCiRbbz/SxiQHsUrkfhMmJAXrpJDAIzYkBaZDvfTzViQAaBlUOLNGJATmIQWDk0YkD6fmq8dDNiQHnpJjEINGJAhetRuB41YkCLbOf7qTViQPYoXI/CNWJApHA9CtczYkCkcD0K1zNiQLTIdr6fMmJArBxaZDsvYkDP91PjpS9iQMP1KFyPLmJAWmQ7308tYkBWDi2ynS9iQA==",
          "dtype": "f8"
         },
         "name": "Candles",
         "open": {
          "bdata": "BFYOLbIdYkCcxCCwciBiQLgehetRIGJAGQRWDi0eYkBmZmZmZh5iQM3MzMzMHGJAL90kBoEdYkCBlUOLbB9iQKrx0k1iIGJAH4XrUbgeYkDwp8ZLNyFiQNEi2/l+ImJAYOXQItshYkDXo3A9Ch9iQFYOLbKdH2JALbKd76ceYkDZzvdT4x1iQGDl0CLbHWJAfT81XrodYkCWQ4ts5xtiQBkEVg4tGmJAZmZmZmYaYkCYbhKDwBpiQDm0yHa+G2JAxSCwcmgdYkBCYOXQIhtiQNEi2/l+GmJA5/up8dIZYkDb+X5qvBxiQI2XbhKDHGJAdZMYBFYaYkBSuB6F6xliQMUgsHJoGWJAObTIdr4bYkBU46WbxBhiQIXrUbgeHWJAmpmZmZkZYkCLbOf7qRliQJMYBFYOFWJAJQaBlUMTYkBt5/up8RJiQC2yne+nEmJArkfhehQSYkBt5/up8RJiQFyPwvUoFGJA5/up8dIVYkCmm8QgsBZiQEoMAiuHFmJAfT81XroZYkC4HoXrURhiQBkEVg4tEmJAyXa+nxoTYkBEi2zn+xliQPCnxks3IWJA8KfGSzchYkBiEFg5tCRiQHe+nxovJWJAlkOLbOcjYkAGgZVDiyRiQGQ730+NI2JA7FG4HoUjYkBkO99PjSNiQJhuEoPAImJA001iEFghYkDdJAaBlSNiQHsUrkfhImJA1XjpJjEgYkCgGi/dJB5iQP7UeOkmHWJAHVpkO98fYkBzaJHtfB9iQNNNYhBYIWJALbKd76ceYkA730+Nlx5iQE5iEFg5HGJAXI/C9SgcYkA1XrpJDB5iQLgehetRHGJAbxKDwModYkCPwvUoXB9iQHsUrkfhHmJAzczMzMwkYkCmm8QgsCJiQGiR7Xw/JWJA001iEFglYkD2KFyPwiViQFpkO99PJWJA3SQGgZUjYkBeukkMAiNiQO58PzVeImJAL90kBoEhYkD+1HjpJiFiQLTIdr6fImJA001iEFghYkAIrBxaZCNiQCPb+X5qJGJAd76fGi8lYkDByqFFtiNiQMP1KFyPJmJA1XjpJjEoYkCHFtnO9ydiQJzEILByKGJAtMh2vp8qYkDufD81XipiQFCNl24SK2JAMQisHFosYkCYbhKDwCpiQFK4HoXrKWJAbef7qfEqYkD+1HjpJiliQArXo3A9KmJAukkMAisrYkA5tMh2vitiQK5H4XoULmJA2c73U+MtYkCgGi/dJC5iQDMzMzMzM2JAO99PjZc2YkDLoUW28zViQE5iEFg5NGJAcT0K16M0YkAv3SQGgTViQDVeukkMNmJAkxgEVg41YkBt5/up8TJiQMUgsHJoMWJA5dAi2/kuYkAQWDm0yC5iQOXQItv5LmJAIbByaJEtYkBeukkMAi9iQAisHFpkM2JAUI2XbhIzYkAtsp3vpzZiQARWDi2yNWJAObTIdr43YkCTGARWDjViQDEIrBxaNGJA001iEFg1YkD2KFyPwjViQIPAyqFFNmJA5dAi2/k2YkCWQ4ts5zNiQFyPwvUoNGJAexSuR+EyYkDVeOkmMTBiQPLSTWIQMGJALbKd76cuYkArhxbZzi9iQA==",
          "dtype": "f8"
         },
         "type": "candlestick",
         "x": [
          "2025-06-18T05:45:00+00:00",
          "2025-06-18T06:00:00+00:00",
          "2025-06-18T06:15:00+00:00",
          "2025-06-18T06:30:00+00:00",
          "2025-06-18T06:45:00+00:00",
          "2025-06-18T07:00:00+00:00",
          "2025-06-18T07:15:00+00:00",
          "2025-06-18T07:30:00+00:00",
          "2025-06-18T07:45:00+00:00",
          "2025-06-18T08:00:00+00:00",
          "2025-06-18T08:15:00+00:00",
          "2025-06-18T08:30:00+00:00",
          "2025-06-18T08:45:00+00:00",
          "2025-06-18T09:00:00+00:00",
          "2025-06-18T09:15:00+00:00",
          "2025-06-18T09:30:00+00:00",
          "2025-06-18T09:45:00+00:00",
          "2025-06-18T10:00:00+00:00",
          "2025-06-18T10:15:00+00:00",
          "2025-06-18T10:30:00+00:00",
          "2025-06-18T10:45:00+00:00",
          "2025-06-18T11:00:00+00:00",
          "2025-06-18T11:15:00+00:00",
          "2025-06-18T11:30:00+00:00",
          "2025-06-18T11:45:00+00:00",
          "2025-06-18T12:00:00+00:00",
          "2025-06-18T12:15:00+00:00",
          "2025-06-18T12:30:00+00:00",
          "2025-06-18T12:45:00+00:00",
          "2025-06-18T13:00:00+00:00",
          "2025-06-18T13:15:00+00:00",
          "2025-06-18T13:30:00+00:00",
          "2025-06-18T13:45:00+00:00",
          "2025-06-18T14:00:00+00:00",
          "2025-06-18T14:15:00+00:00",
          "2025-06-18T14:30:00+00:00",
          "2025-06-18T14:45:00+00:00",
          "2025-06-18T15:00:00+00:00",
          "2025-06-18T15:15:00+00:00",
          "2025-06-18T15:30:00+00:00",
          "2025-06-18T15:45:00+00:00",
          "2025-06-18T16:00:00+00:00",
          "2025-06-18T16:15:00+00:00",
          "2025-06-18T16:30:00+00:00",
          "2025-06-18T16:45:00+00:00",
          "2025-06-18T17:00:00+00:00",
          "2025-06-18T17:15:00+00:00",
          "2025-06-18T17:30:00+00:00",
          "2025-06-18T17:45:00+00:00",
          "2025-06-18T18:00:00+00:00",
          "2025-06-18T18:15:00+00:00",
          "2025-06-18T18:30:00+00:00",
          "2025-06-18T18:45:00+00:00",
          "2025-06-18T19:00:00+00:00",
          "2025-06-18T19:15:00+00:00",
          "2025-06-18T19:30:00+00:00",
          "2025-06-18T19:45:00+00:00",
          "2025-06-18T20:00:00+00:00",
          "2025-06-18T20:15:00+00:00",
          "2025-06-18T20:30:00+00:00",
          "2025-06-18T20:45:00+00:00",
          "2025-06-18T21:00:00+00:00",
          "2025-06-18T21:15:00+00:00",
          "2025-06-18T21:30:00+00:00",
          "2025-06-18T21:45:00+00:00",
          "2025-06-18T22:00:00+00:00",
          "2025-06-18T22:15:00+00:00",
          "2025-06-18T22:30:00+00:00",
          "2025-06-18T22:45:00+00:00",
          "2025-06-18T23:00:00+00:00",
          "2025-06-18T23:15:00+00:00",
          "2025-06-18T23:30:00+00:00",
          "2025-06-18T23:45:00+00:00",
          "2025-06-19T00:00:00+00:00",
          "2025-06-19T00:15:00+00:00",
          "2025-06-19T00:30:00+00:00",
          "2025-06-19T00:45:00+00:00",
          "2025-06-19T01:00:00+00:00",
          "2025-06-19T01:15:00+00:00",
          "2025-06-19T01:30:00+00:00",
          "2025-06-19T01:45:00+00:00",
          "2025-06-19T02:00:00+00:00",
          "2025-06-19T02:15:00+00:00",
          "2025-06-19T02:30:00+00:00",
          "2025-06-19T02:45:00+00:00",
          "2025-06-19T03:00:00+00:00",
          "2025-06-19T03:15:00+00:00",
          "2025-06-19T03:30:00+00:00",
          "2025-06-19T03:45:00+00:00",
          "2025-06-19T04:00:00+00:00",
          "2025-06-19T04:15:00+00:00",
          "2025-06-19T04:30:00+00:00",
          "2025-06-19T04:45:00+00:00",
          "2025-06-19T05:00:00+00:00",
          "2025-06-19T05:15:00+00:00",
          "2025-06-19T05:30:00+00:00",
          "2025-06-19T05:45:00+00:00",
          "2025-06-19T06:00:00+00:00",
          "2025-06-19T06:15:00+00:00",
          "2025-06-19T06:30:00+00:00",
          "2025-06-19T06:45:00+00:00",
          "2025-06-19T07:00:00+00:00",
          "2025-06-19T07:15:00+00:00",
          "2025-06-19T07:30:00+00:00",
          "2025-06-19T07:45:00+00:00",
          "2025-06-19T08:00:00+00:00",
          "2025-06-19T08:15:00+00:00",
          "2025-06-19T08:30:00+00:00",
          "2025-06-19T08:45:00+00:00",
          "2025-06-19T09:00:00+00:00",
          "2025-06-19T09:15:00+00:00",
          "2025-06-19T09:30:00+00:00",
          "2025-06-19T09:45:00+00:00",
          "2025-06-19T10:00:00+00:00",
          "2025-06-19T10:15:00+00:00",
          "2025-06-19T10:30:00+00:00",
          "2025-06-19T10:45:00+00:00",
          "2025-06-19T11:00:00+00:00",
          "2025-06-19T11:15:00+00:00",
          "2025-06-19T11:30:00+00:00",
          "2025-06-19T11:45:00+00:00",
          "2025-06-19T12:00:00+00:00",
          "2025-06-19T12:15:00+00:00",
          "2025-06-19T12:30:00+00:00",
          "2025-06-19T12:45:00+00:00",
          "2025-06-19T13:00:00+00:00",
          "2025-06-19T13:15:00+00:00",
          "2025-06-19T13:30:00+00:00",
          "2025-06-19T13:45:00+00:00",
          "2025-06-19T14:00:00+00:00",
          "2025-06-19T14:15:00+00:00",
          "2025-06-19T14:30:00+00:00",
          "2025-06-19T14:45:00+00:00",
          "2025-06-19T15:00:00+00:00",
          "2025-06-19T15:15:00+00:00",
          "2025-06-19T15:30:00+00:00",
          "2025-06-19T15:45:00+00:00",
          "2025-06-19T16:00:00+00:00",
          "2025-06-19T16:15:00+00:00",
          "2025-06-19T16:30:00+00:00",
          "2025-06-19T16:45:00+00:00",
          "2025-06-19T17:00:00+00:00",
          "2025-06-19T17:15:00+00:00",
          "2025-06-19T17:30:00+00:00",
          "2025-06-19T17:45:00+00:00",
          "2025-06-19T18:00:00+00:00",
          "2025-06-19T18:15:00+00:00",
          "2025-06-19T18:30:00+00:00",
          "2025-06-19T18:45:00+00:00"
         ]
        },
        {
         "line": {
          "color": "cyan",
          "dash": "dash"
         },
         "mode": "lines",
         "name": "Upper BB",
         "opacity": 0.7,
         "type": "scatter",
         "x": [
          "2025-06-18T05:45:00+00:00",
          "2025-06-18T06:00:00+00:00",
          "2025-06-18T06:15:00+00:00",
          "2025-06-18T06:30:00+00:00",
          "2025-06-18T06:45:00+00:00",
          "2025-06-18T07:00:00+00:00",
          "2025-06-18T07:15:00+00:00",
          "2025-06-18T07:30:00+00:00",
          "2025-06-18T07:45:00+00:00",
          "2025-06-18T08:00:00+00:00",
          "2025-06-18T08:15:00+00:00",
          "2025-06-18T08:30:00+00:00",
          "2025-06-18T08:45:00+00:00",
          "2025-06-18T09:00:00+00:00",
          "2025-06-18T09:15:00+00:00",
          "2025-06-18T09:30:00+00:00",
          "2025-06-18T09:45:00+00:00",
          "2025-06-18T10:00:00+00:00",
          "2025-06-18T10:15:00+00:00",
          "2025-06-18T10:30:00+00:00",
          "2025-06-18T10:45:00+00:00",
          "2025-06-18T11:00:00+00:00",
          "2025-06-18T11:15:00+00:00",
          "2025-06-18T11:30:00+00:00",
          "2025-06-18T11:45:00+00:00",
          "2025-06-18T12:00:00+00:00",
          "2025-06-18T12:15:00+00:00",
          "2025-06-18T12:30:00+00:00",
          "2025-06-18T12:45:00+00:00",
          "2025-06-18T13:00:00+00:00",
          "2025-06-18T13:15:00+00:00",
          "2025-06-18T13:30:00+00:00",
          "2025-06-18T13:45:00+00:00",
          "2025-06-18T14:00:00+00:00",
          "2025-06-18T14:15:00+00:00",
          "2025-06-18T14:30:00+00:00",
          "2025-06-18T14:45:00+00:00",
          "2025-06-18T15:00:00+00:00",
          "2025-06-18T15:15:00+00:00",
          "2025-06-18T15:30:00+00:00",
          "2025-06-18T15:45:00+00:00",
          "2025-06-18T16:00:00+00:00",
          "2025-06-18T16:15:00+00:00",
          "2025-06-18T16:30:00+00:00",
          "2025-06-18T16:45:00+00:00",
          "2025-06-18T17:00:00+00:00",
          "2025-06-18T17:15:00+00:00",
          "2025-06-18T17:30:00+00:00",
          "2025-06-18T17:45:00+00:00",
          "2025-06-18T18:00:00+00:00",
          "2025-06-18T18:15:00+00:00",
          "2025-06-18T18:30:00+00:00",
          "2025-06-18T18:45:00+00:00",
          "2025-06-18T19:00:00+00:00",
          "2025-06-18T19:15:00+00:00",
          "2025-06-18T19:30:00+00:00",
          "2025-06-18T19:45:00+00:00",
          "2025-06-18T20:00:00+00:00",
          "2025-06-18T20:15:00+00:00",
          "2025-06-18T20:30:00+00:00",
          "2025-06-18T20:45:00+00:00",
          "2025-06-18T21:00:00+00:00",
          "2025-06-18T21:15:00+00:00",
          "2025-06-18T21:30:00+00:00",
          "2025-06-18T21:45:00+00:00",
          "2025-06-18T22:00:00+00:00",
          "2025-06-18T22:15:00+00:00",
          "2025-06-18T22:30:00+00:00",
          "2025-06-18T22:45:00+00:00",
          "2025-06-18T23:00:00+00:00",
          "2025-06-18T23:15:00+00:00",
          "2025-06-18T23:30:00+00:00",
          "2025-06-18T23:45:00+00:00",
          "2025-06-19T00:00:00+00:00",
          "2025-06-19T00:15:00+00:00",
          "2025-06-19T00:30:00+00:00",
          "2025-06-19T00:45:00+00:00",
          "2025-06-19T01:00:00+00:00",
          "2025-06-19T01:15:00+00:00",
          "2025-06-19T01:30:00+00:00",
          "2025-06-19T01:45:00+00:00",
          "2025-06-19T02:00:00+00:00",
          "2025-06-19T02:15:00+00:00",
          "2025-06-19T02:30:00+00:00",
          "2025-06-19T02:45:00+00:00",
          "2025-06-19T03:00:00+00:00",
          "2025-06-19T03:15:00+00:00",
          "2025-06-19T03:30:00+00:00",
          "2025-06-19T03:45:00+00:00",
          "2025-06-19T04:00:00+00:00",
          "2025-06-19T04:15:00+00:00",
          "2025-06-19T04:30:00+00:00",
          "2025-06-19T04:45:00+00:00",
          "2025-06-19T05:00:00+00:00",
          "2025-06-19T05:15:00+00:00",
          "2025-06-19T05:30:00+00:00",
          "2025-06-19T05:45:00+00:00",
          "2025-06-19T06:00:00+00:00",
          "2025-06-19T06:15:00+00:00",
          "2025-06-19T06:30:00+00:00",
          "2025-06-19T06:45:00+00:00",
          "2025-06-19T07:00:00+00:00",
          "2025-06-19T07:15:00+00:00",
          "2025-06-19T07:30:00+00:00",
          "2025-06-19T07:45:00+00:00",
          "2025-06-19T08:00:00+00:00",
          "2025-06-19T08:15:00+00:00",
          "2025-06-19T08:30:00+00:00",
          "2025-06-19T08:45:00+00:00",
          "2025-06-19T09:00:00+00:00",
          "2025-06-19T09:15:00+00:00",
          "2025-06-19T09:30:00+00:00",
          "2025-06-19T09:45:00+00:00",
          "2025-06-19T10:00:00+00:00",
          "2025-06-19T10:15:00+00:00",
          "2025-06-19T10:30:00+00:00",
          "2025-06-19T10:45:00+00:00",
          "2025-06-19T11:00:00+00:00",
          "2025-06-19T11:15:00+00:00",
          "2025-06-19T11:30:00+00:00",
          "2025-06-19T11:45:00+00:00",
          "2025-06-19T12:00:00+00:00",
          "2025-06-19T12:15:00+00:00",
          "2025-06-19T12:30:00+00:00",
          "2025-06-19T12:45:00+00:00",
          "2025-06-19T13:00:00+00:00",
          "2025-06-19T13:15:00+00:00",
          "2025-06-19T13:30:00+00:00",
          "2025-06-19T13:45:00+00:00",
          "2025-06-19T14:00:00+00:00",
          "2025-06-19T14:15:00+00:00",
          "2025-06-19T14:30:00+00:00",
          "2025-06-19T14:45:00+00:00",
          "2025-06-19T15:00:00+00:00",
          "2025-06-19T15:15:00+00:00",
          "2025-06-19T15:30:00+00:00",
          "2025-06-19T15:45:00+00:00",
          "2025-06-19T16:00:00+00:00",
          "2025-06-19T16:15:00+00:00",
          "2025-06-19T16:30:00+00:00",
          "2025-06-19T16:45:00+00:00",
          "2025-06-19T17:00:00+00:00",
          "2025-06-19T17:15:00+00:00",
          "2025-06-19T17:30:00+00:00",
          "2025-06-19T17:45:00+00:00",
          "2025-06-19T18:00:00+00:00",
          "2025-06-19T18:15:00+00:00",
          "2025-06-19T18:30:00+00:00",
          "2025-06-19T18:45:00+00:00"
         ],
         "y": {
          "bdata": "AAAAAAAA+H8AAAAAAAD4fwAAAAAAAPh/AAAAAAAA+H8AAAAAAAD4fwAAAAAAAPh/AAAAAAAA+H8AAAAAAAD4fwAAAAAAAPh/AAAAAAAA+H8AAAAAAAD4fwAAAAAAAPh/AAAAAAAA+H8AAAAAAAD4fwAAAAAAAPh/AAAAAAAA+H8AAAAAAAD4fwAAAAAAAPh/AAAAAAAA+H/gn79p0iJiQANbVaXoImJAipgln9UiYkATzy2p2SJiQDWvnvDOImJAuvlnyd4iYkDWCvJi9SJiQDp+2BvtImJATmVUE5YiYkAtDrv4ciJiQPyJKRfpIWJAfYBK7eggYkAX3gJK6B9iQNK1D1R7H2JAKomh0fYeYkC930olpR5iQNnWGFRTHmJAtlwHePAdYkD0GZseVx5iQFqpYEYdH2JABw2fbbofYkA0b4JJKCBiQMh9fzRzIGJAkkpSaV0gYkCbclZizh9iQPVcyvd1H2JAunDp1SwfYkCNp6BW8x5iQK6K3SV2HmJAtQOldd4dYkDWDWqYoR1iQPiTpYJNHWJAvVrfTGIdYkDAsODu4B5iQOTTVsCIIGJAUUO0bWkiYkC9NjDZlCRiQBG7wNsnJmJAunYGudMnYkDzfo3MByliQBAPdu3/KWJAkXphBOIqYkDqavcfRStiQKXWTWVdK2JA1yE8ZKQrYkAmHjrJ2CtiQFb3TSTBK2JAVuiyLG8rYkCDeInaVCtiQHFWJsUnK2JAgd3Q2JcpYkAoUMMKaCdiQAbYKA+eJmJAtTh3fbImYkC/NZllBydiQAzdcpDeJmJAEbpDxE4mYkA2bqesCyZiQNnYM0NxJWJAWUJN5/YkYkCkjBWhciRiQEDZm5GSJGJAWL4GD44kYkC5JHivUCViQLYiz4S7JWJAQPIGBU8mYkAb7bq2/iZiQPTcvy5ZJ2JAKtxSvIgnYkBaETISrSdiQG8psxi+J2JAA/FzyLonYkA0Ksht3SdiQLAlsKXiJ2JAQ59dGdEnYkBHz7Z0vydiQApFSh3mJ2JAzu717G0nYkBAkMTmfCdiQBym5W4FKGJAxaaQijwoYkCVfWmO1ihiQHHhyIz5KWJAe2Bdtc0qYkCRmhadsStiQFRQ7DHCLGJAsrDOSmUtYkCotR4q0C1iQIMfUElULmJA9ihqL3kuYkC1NKbilS5iQGXpvx+kLmJAS4OSAtMuYkDbGw4dCS9iQNl8pzdSL2JA9PH3F54vYkCEzccPKzFiQIp1ihw7M2JAJLYDuOM0YkDY0ruo6jViQHKh0HDTNmJAPnfZb8A3YkBWuxXwvzhiQCCll1tqOWJAIEVW5LQ5YkDSxakR2DliQNTZHBLBOWJAIz7TB4k5YkA2HYI/YjliQDAgPcj9OGJAbg00mak4YkB6g1MdkjhiQE4YtxllOGJAya5hpd84YkB5sfvjDjliQHE/DKWHOWJAbRDHFqw5YkBKaRd3YzliQJqY3sZPOWJAEKtrxHo5YkB8HI41rjliQC/yP7rkOWJAlMOmtq85YkA49HCgmTliQNYh6AaZOWJAayArsqI5YkCLwM6CjjliQDJBPA6ROWJADUUMh4A5YkAXQczkQjliQA==",
          "dtype": "f8"
         }
        },
        {
         "line": {
          "color": "yellow",
          "dash": "dash"
         },
         "mode": "lines",
         "name": "Middle BB",
         "opacity": 0.7,
         "type": "scatter",
         "x": [
          "2025-06-18T05:45:00+00:00",
          "2025-06-18T06:00:00+00:00",
          "2025-06-18T06:15:00+00:00",
          "2025-06-18T06:30:00+00:00",
          "2025-06-18T06:45:00+00:00",
          "2025-06-18T07:00:00+00:00",
          "2025-06-18T07:15:00+00:00",
          "2025-06-18T07:30:00+00:00",
          "2025-06-18T07:45:00+00:00",
          "2025-06-18T08:00:00+00:00",
          "2025-06-18T08:15:00+00:00",
          "2025-06-18T08:30:00+00:00",
          "2025-06-18T08:45:00+00:00",
          "2025-06-18T09:00:00+00:00",
          "2025-06-18T09:15:00+00:00",
          "2025-06-18T09:30:00+00:00",
          "2025-06-18T09:45:00+00:00",
          "2025-06-18T10:00:00+00:00",
          "2025-06-18T10:15:00+00:00",
          "2025-06-18T10:30:00+00:00",
          "2025-06-18T10:45:00+00:00",
          "2025-06-18T11:00:00+00:00",
          "2025-06-18T11:15:00+00:00",
          "2025-06-18T11:30:00+00:00",
          "2025-06-18T11:45:00+00:00",
          "2025-06-18T12:00:00+00:00",
          "2025-06-18T12:15:00+00:00",
          "2025-06-18T12:30:00+00:00",
          "2025-06-18T12:45:00+00:00",
          "2025-06-18T13:00:00+00:00",
          "2025-06-18T13:15:00+00:00",
          "2025-06-18T13:30:00+00:00",
          "2025-06-18T13:45:00+00:00",
          "2025-06-18T14:00:00+00:00",
          "2025-06-18T14:15:00+00:00",
          "2025-06-18T14:30:00+00:00",
          "2025-06-18T14:45:00+00:00",
          "2025-06-18T15:00:00+00:00",
          "2025-06-18T15:15:00+00:00",
          "2025-06-18T15:30:00+00:00",
          "2025-06-18T15:45:00+00:00",
          "2025-06-18T16:00:00+00:00",
          "2025-06-18T16:15:00+00:00",
          "2025-06-18T16:30:00+00:00",
          "2025-06-18T16:45:00+00:00",
          "2025-06-18T17:00:00+00:00",
          "2025-06-18T17:15:00+00:00",
          "2025-06-18T17:30:00+00:00",
          "2025-06-18T17:45:00+00:00",
          "2025-06-18T18:00:00+00:00",
          "2025-06-18T18:15:00+00:00",
          "2025-06-18T18:30:00+00:00",
          "2025-06-18T18:45:00+00:00",
          "2025-06-18T19:00:00+00:00",
          "2025-06-18T19:15:00+00:00",
          "2025-06-18T19:30:00+00:00",
          "2025-06-18T19:45:00+00:00",
          "2025-06-18T20:00:00+00:00",
          "2025-06-18T20:15:00+00:00",
          "2025-06-18T20:30:00+00:00",
          "2025-06-18T20:45:00+00:00",
          "2025-06-18T21:00:00+00:00",
          "2025-06-18T21:15:00+00:00",
          "2025-06-18T21:30:00+00:00",
          "2025-06-18T21:45:00+00:00",
          "2025-06-18T22:00:00+00:00",
          "2025-06-18T22:15:00+00:00",
          "2025-06-18T22:30:00+00:00",
          "2025-06-18T22:45:00+00:00",
          "2025-06-18T23:00:00+00:00",
          "2025-06-18T23:15:00+00:00",
          "2025-06-18T23:30:00+00:00",
          "2025-06-18T23:45:00+00:00",
          "2025-06-19T00:00:00+00:00",
          "2025-06-19T00:15:00+00:00",
          "2025-06-19T00:30:00+00:00",
          "2025-06-19T00:45:00+00:00",
          "2025-06-19T01:00:00+00:00",
          "2025-06-19T01:15:00+00:00",
          "2025-06-19T01:30:00+00:00",
          "2025-06-19T01:45:00+00:00",
          "2025-06-19T02:00:00+00:00",
          "2025-06-19T02:15:00+00:00",
          "2025-06-19T02:30:00+00:00",
          "2025-06-19T02:45:00+00:00",
          "2025-06-19T03:00:00+00:00",
          "2025-06-19T03:15:00+00:00",
          "2025-06-19T03:30:00+00:00",
          "2025-06-19T03:45:00+00:00",
          "2025-06-19T04:00:00+00:00",
          "2025-06-19T04:15:00+00:00",
          "2025-06-19T04:30:00+00:00",
          "2025-06-19T04:45:00+00:00",
          "2025-06-19T05:00:00+00:00",
          "2025-06-19T05:15:00+00:00",
          "2025-06-19T05:30:00+00:00",
          "2025-06-19T05:45:00+00:00",
          "2025-06-19T06:00:00+00:00",
          "2025-06-19T06:15:00+00:00",
          "2025-06-19T06:30:00+00:00",
          "2025-06-19T06:45:00+00:00",
          "2025-06-19T07:00:00+00:00",
          "2025-06-19T07:15:00+00:00",
          "2025-06-19T07:30:00+00:00",
          "2025-06-19T07:45:00+00:00",
          "2025-06-19T08:00:00+00:00",
          "2025-06-19T08:15:00+00:00",
          "2025-06-19T08:30:00+00:00",
          "2025-06-19T08:45:00+00:00",
          "2025-06-19T09:00:00+00:00",
          "2025-06-19T09:15:00+00:00",
          "2025-06-19T09:30:00+00:00",
          "2025-06-19T09:45:00+00:00",
          "2025-06-19T10:00:00+00:00",
          "2025-06-19T10:15:00+00:00",
          "2025-06-19T10:30:00+00:00",
          "2025-06-19T10:45:00+00:00",
          "2025-06-19T11:00:00+00:00",
          "2025-06-19T11:15:00+00:00",
          "2025-06-19T11:30:00+00:00",
          "2025-06-19T11:45:00+00:00",
          "2025-06-19T12:00:00+00:00",
          "2025-06-19T12:15:00+00:00",
          "2025-06-19T12:30:00+00:00",
          "2025-06-19T12:45:00+00:00",
          "2025-06-19T13:00:00+00:00",
          "2025-06-19T13:15:00+00:00",
          "2025-06-19T13:30:00+00:00",
          "2025-06-19T13:45:00+00:00",
          "2025-06-19T14:00:00+00:00",
          "2025-06-19T14:15:00+00:00",
          "2025-06-19T14:30:00+00:00",
          "2025-06-19T14:45:00+00:00",
          "2025-06-19T15:00:00+00:00",
          "2025-06-19T15:15:00+00:00",
          "2025-06-19T15:30:00+00:00",
          "2025-06-19T15:45:00+00:00",
          "2025-06-19T16:00:00+00:00",
          "2025-06-19T16:15:00+00:00",
          "2025-06-19T16:30:00+00:00",
          "2025-06-19T16:45:00+00:00",
          "2025-06-19T17:00:00+00:00",
          "2025-06-19T17:15:00+00:00",
          "2025-06-19T17:30:00+00:00",
          "2025-06-19T17:45:00+00:00",
          "2025-06-19T18:00:00+00:00",
          "2025-06-19T18:15:00+00:00",
          "2025-06-19T18:30:00+00:00",
          "2025-06-19T18:45:00+00:00"
         ],
         "y": {
          "bdata": "AAAAAAAA+H8AAAAAAAD4fwAAAAAAAPh/AAAAAAAA+H8AAAAAAAD4fwAAAAAAAPh/AAAAAAAA+H8AAAAAAAD4fwAAAAAAAPh/AAAAAAAA+H8AAAAAAAD4fwAAAAAAAPh/AAAAAAAA+H8AAAAAAAD4fwAAAAAAAPh/AAAAAAAA+H8AAAAAAAD4fwAAAAAAAPh/AAAAAAAA+H8wKqkT0B5iQI2XbhKDHmJACtejcD0eYkDZX3ZPHh5iQErqBDQRHmJAnaIjufwdYkD9h/Tb1x1iQCGwcmiRHWJAVn2utmIdYkCDwMqhRR1iQFz+Q/rtHGJAKjqSy38cYkBVMCqpExxiQKCJsOHpG2JALPaX3ZMbYkB+rrZifxtiQOYdp+hIG2JAArwFEhQbYkDP91PjpRpiQO+nxks3GmJAYeXQItsZYkAKaCJseBliQCDSb18HGWJA6Gor9pcYYkCPMXctIRhiQGaIY13cF2JAkQ96NqsXYkAqOpLLfxdiQH/ZPXlYF2JAnxov3SQXYkCC4seYuxZiQA5Pr5RlFmJAgZVDi2wWYkBdbcX+shZiQIXrUbgeF2JAKjqSy38XYkACvAUSFBhiQDY8vVKWGGJA6Nms+lwZYkByGw3gLRpiQFkXt9EAG2JA0ytlGeIbYkAehetRuBxiQIvbaABvHWJAh6dXyjIeYkAHzhlR2h5iQMNkqmBUH2JAXW3F/rIfYkAi/fZ14B9iQMKopE5AIGJApixDHOsgYkBm9+RhoSFiQGsr9pfdIWJAguLHmLshYkAVrkfheiFiQO0vuycPIWJAD5wzorQgYkC+wRcmUyBiQJ2iI7n8H2JABhIUP8YfYkCyDHGsix9iQM47TtGRH2JAyJi7lpAfYkCitDf4wh9iQA1xrIvbH2JAAAAAAAAgYkBuNIC3QCBiQFr1udqKIGJARrbz/dQgYkAjufyH9CBiQOeMKO0NIWJAMLsnDwshYkC3Yn/ZPSFiQPnCZKpgIWJA2/l+arwhYkBMpgpGJSJiQB/0bFZ9ImJAufyH9NsiYkDyY8xdSyNiQC9uowG8I2JAKe0NvjAkYkCfq63YXyRiQAYSFD/GJGJAeekmMQglYkC4HoXrUSViQHuDL0ymJWJAV1uxv+wlYkCsHFpkOyZiQLprCfmgJmJAiBbZzvcmYkBxrIvbaCdiQEhy+Q/pJ2JA7nw/NV4oYkBZF7fRACliQPaX3ZOHKWJAY13cRgMqYkBy+Q/ptypiQDj4wmSqK2JA5PIf0m8sYkCDL0ymCi1iQOomMQisLWJAEjY8vVIuYkCGWtO84y5iQC4hH/RsL2JA4lgXt9EvYkBQjZduEjBiQI4G8BZIMGJAoiO5/IcwYkCC4seYuzBiQNBE2PD0MGJAKe0NvjAxYkCamZmZmTFiQC7/If32MWJAYcPTK2UyYkC94xQdyTJiQNzXgXNGM2JAmggbnl4zYkAawFsgQTNiQPrt68A5M2JAUB4Wak0zYkBWfa62YjNiQP8h/fZ1M2JAkML1KFwzYkAG8BZIUDNiQK7YX3ZPM2JAwqikTkAzYkD8qfHSTTNiQPYGX5hMM2JAIh/0bFYzYkDqlbIMcTNiQA==",
          "dtype": "f8"
         }
        },
        {
         "fill": "tonexty",
         "fillcolor": "rgba(0, 176, 246, 0.1)",
         "line": {
          "color": "cyan",
          "dash": "dash"
         },
         "mode": "lines",
         "name": "Lower BB",
         "opacity": 0.7,
         "type": "scatter",
         "x": [
          "2025-06-18T05:45:00+00:00",
          "2025-06-18T06:00:00+00:00",
          "2025-06-18T06:15:00+00:00",
          "2025-06-18T06:30:00+00:00",
          "2025-06-18T06:45:00+00:00",
          "2025-06-18T07:00:00+00:00",
          "2025-06-18T07:15:00+00:00",
          "2025-06-18T07:30:00+00:00",
          "2025-06-18T07:45:00+00:00",
          "2025-06-18T08:00:00+00:00",
          "2025-06-18T08:15:00+00:00",
          "2025-06-18T08:30:00+00:00",
          "2025-06-18T08:45:00+00:00",
          "2025-06-18T09:00:00+00:00",
          "2025-06-18T09:15:00+00:00",
          "2025-06-18T09:30:00+00:00",
          "2025-06-18T09:45:00+00:00",
          "2025-06-18T10:00:00+00:00",
          "2025-06-18T10:15:00+00:00",
          "2025-06-18T10:30:00+00:00",
          "2025-06-18T10:45:00+00:00",
          "2025-06-18T11:00:00+00:00",
          "2025-06-18T11:15:00+00:00",
          "2025-06-18T11:30:00+00:00",
          "2025-06-18T11:45:00+00:00",
          "2025-06-18T12:00:00+00:00",
          "2025-06-18T12:15:00+00:00",
          "2025-06-18T12:30:00+00:00",
          "2025-06-18T12:45:00+00:00",
          "2025-06-18T13:00:00+00:00",
          "2025-06-18T13:15:00+00:00",
          "2025-06-18T13:30:00+00:00",
          "2025-06-18T13:45:00+00:00",
          "2025-06-18T14:00:00+00:00",
          "2025-06-18T14:15:00+00:00",
          "2025-06-18T14:30:00+00:00",
          "2025-06-18T14:45:00+00:00",
          "2025-06-18T15:00:00+00:00",
          "2025-06-18T15:15:00+00:00",
          "2025-06-18T15:30:00+00:00",
          "2025-06-18T15:45:00+00:00",
          "2025-06-18T16:00:00+00:00",
          "2025-06-18T16:15:00+00:00",
          "2025-06-18T16:30:00+00:00",
          "2025-06-18T16:45:00+00:00",
          "2025-06-18T17:00:00+00:00",
          "2025-06-18T17:15:00+00:00",
          "2025-06-18T17:30:00+00:00",
          "2025-06-18T17:45:00+00:00",
          "2025-06-18T18:00:00+00:00",
          "2025-06-18T18:15:00+00:00",
          "2025-06-18T18:30:00+00:00",
          "2025-06-18T18:45:00+00:00",
          "2025-06-18T19:00:00+00:00",
          "2025-06-18T19:15:00+00:00",
          "2025-06-18T19:30:00+00:00",
          "2025-06-18T19:45:00+00:00",
          "2025-06-18T20:00:00+00:00",
          "2025-06-18T20:15:00+00:00",
          "2025-06-18T20:30:00+00:00",
          "2025-06-18T20:45:00+00:00",
          "2025-06-18T21:00:00+00:00",
          "2025-06-18T21:15:00+00:00",
          "2025-06-18T21:30:00+00:00",
          "2025-06-18T21:45:00+00:00",
          "2025-06-18T22:00:00+00:00",
          "2025-06-18T22:15:00+00:00",
          "2025-06-18T22:30:00+00:00",
          "2025-06-18T22:45:00+00:00",
          "2025-06-18T23:00:00+00:00",
          "2025-06-18T23:15:00+00:00",
          "2025-06-18T23:30:00+00:00",
          "2025-06-18T23:45:00+00:00",
          "2025-06-19T00:00:00+00:00",
          "2025-06-19T00:15:00+00:00",
          "2025-06-19T00:30:00+00:00",
          "2025-06-19T00:45:00+00:00",
          "2025-06-19T01:00:00+00:00",
          "2025-06-19T01:15:00+00:00",
          "2025-06-19T01:30:00+00:00",
          "2025-06-19T01:45:00+00:00",
          "2025-06-19T02:00:00+00:00",
          "2025-06-19T02:15:00+00:00",
          "2025-06-19T02:30:00+00:00",
          "2025-06-19T02:45:00+00:00",
          "2025-06-19T03:00:00+00:00",
          "2025-06-19T03:15:00+00:00",
          "2025-06-19T03:30:00+00:00",
          "2025-06-19T03:45:00+00:00",
          "2025-06-19T04:00:00+00:00",
          "2025-06-19T04:15:00+00:00",
          "2025-06-19T04:30:00+00:00",
          "2025-06-19T04:45:00+00:00",
          "2025-06-19T05:00:00+00:00",
          "2025-06-19T05:15:00+00:00",
          "2025-06-19T05:30:00+00:00",
          "2025-06-19T05:45:00+00:00",
          "2025-06-19T06:00:00+00:00",
          "2025-06-19T06:15:00+00:00",
          "2025-06-19T06:30:00+00:00",
          "2025-06-19T06:45:00+00:00",
          "2025-06-19T07:00:00+00:00",
          "2025-06-19T07:15:00+00:00",
          "2025-06-19T07:30:00+00:00",
          "2025-06-19T07:45:00+00:00",
          "2025-06-19T08:00:00+00:00",
          "2025-06-19T08:15:00+00:00",
          "2025-06-19T08:30:00+00:00",
          "2025-06-19T08:45:00+00:00",
          "2025-06-19T09:00:00+00:00",
          "2025-06-19T09:15:00+00:00",
          "2025-06-19T09:30:00+00:00",
          "2025-06-19T09:45:00+00:00",
          "2025-06-19T10:00:00+00:00",
          "2025-06-19T10:15:00+00:00",
          "2025-06-19T10:30:00+00:00",
          "2025-06-19T10:45:00+00:00",
          "2025-06-19T11:00:00+00:00",
          "2025-06-19T11:15:00+00:00",
          "2025-06-19T11:30:00+00:00",
          "2025-06-19T11:45:00+00:00",
          "2025-06-19T12:00:00+00:00",
          "2025-06-19T12:15:00+00:00",
          "2025-06-19T12:30:00+00:00",
          "2025-06-19T12:45:00+00:00",
          "2025-06-19T13:00:00+00:00",
          "2025-06-19T13:15:00+00:00",
          "2025-06-19T13:30:00+00:00",
          "2025-06-19T13:45:00+00:00",
          "2025-06-19T14:00:00+00:00",
          "2025-06-19T14:15:00+00:00",
          "2025-06-19T14:30:00+00:00",
          "2025-06-19T14:45:00+00:00",
          "2025-06-19T15:00:00+00:00",
          "2025-06-19T15:15:00+00:00",
          "2025-06-19T15:30:00+00:00",
          "2025-06-19T15:45:00+00:00",
          "2025-06-19T16:00:00+00:00",
          "2025-06-19T16:15:00+00:00",
          "2025-06-19T16:30:00+00:00",
          "2025-06-19T16:45:00+00:00",
          "2025-06-19T17:00:00+00:00",
          "2025-06-19T17:15:00+00:00",
          "2025-06-19T17:30:00+00:00",
          "2025-06-19T17:45:00+00:00",
          "2025-06-19T18:00:00+00:00",
          "2025-06-19T18:15:00+00:00",
          "2025-06-19T18:30:00+00:00",
          "2025-06-19T18:45:00+00:00"
         ],
         "y": {
          "bdata": "AAAAAAAA+H8AAAAAAAD4fwAAAAAAAPh/AAAAAAAA+H8AAAAAAAD4fwAAAAAAAPh/AAAAAAAA+H8AAAAAAAD4fwAAAAAAAPh/AAAAAAAA+H8AAAAAAAD4fwAAAAAAAPh/AAAAAAAA+H8AAAAAAAD4fwAAAAAAAPh/AAAAAAAA+H8AAAAAAAD4fwAAAAAAAPh/AAAAAAAA+H+AtJK9zRpiQBfUh38dGmJAihUiQqUZYkCf8L71YhliQF8la3dTGWJAgEvfqBoZYkAkBfdUuhhiQAjiDLU1GGJAXpUIWi8YYkDZctpKGBhiQLxyXt3yF2JA1/PZqRYYYkCTglEIPxhiQG5dUW9YGGJALmOO6TAYYkA/fSKgWRhiQPNkNX0+GGJAThsErDcYYkCq1Qyo9BZiQISmLFFRFWJAu70C2PsTYkDgYMKOyBJiQHgmYIqbEWJAPosEg9IQYkCD8Jf4cxBiQNez/MJCEGJAaK4KlykQYkDHzINADBBiQFAonsw6EGJAiTG5RGsQYkAutyWZ1Q9iQCQKuaZ9D2JARdCnyXYPYkD6KaoOhQ5iQCYDTbC0DWJAAzFwKZYMYkBHQdtKkwtiQFu9uckEC2JAFj1TPOYKYkDxt4zzUwtiQKIf+LUBDGJAFd1oLuIMYkBSn9+DKw5iQHHgg5uAD2JANy1zMMEQYkDoffnY2xFiQDDSBp3nEmJAZPLX0PYTYkDBgWQRbBRiQBP7IthYFWJAy3u1Xz4YYkCknga52htiQNB+wyAdHWJAT4wYtMQcYkBrJvZc7htiQM6CA78/G2JADX4jgBobYkBGFYifmhpiQGFsEy+IGmJAs+HalpUaYkDAjMy3pBpiQFyeABGRGmJAOHNwHpMaYkCLRPdANRpiQGS/iZL7GWJAwA35+rAZYkDBe0W4ghliQMANtIa8GWJAYpCUPyEaYkDsYMf9OxpiQF/wncFdGmJAXYXbVVsaYkA6mzZFnhpiQEJgGa/eGmJAc1Sgu6cbYkBRfV4XixxiQDSjj48UHWJApAoa/EkeYkCkN9TUGR9iQEI2YZRyH2JAjTOL8SQgYkCp2fEi6R9iQJtCX/GSH2JAd3LwrEIfYkDfovM58h5iQKK2cmaKHmJA/AWUNHQeYkCwg5Weph5iQPG3wqjtHmJAGgRIbnYfYkAtJHHUOyBiQCv7MgAuIWJAkXbsZ+khYkDXEmCG+CJiQBOzE/C8I2JA0sjAdWgkYkBgJVjCRCRiQOZ6+6wZJGJApC887PsjYkAujNyjKiRiQGKskZ+EJGJA5vSeCuUkYkC2+ZCJByViQDydpoxvJWJApGzYie4lYkDOVIXLTCZiQEgzwxvPJmJAIQmf8YYnYkDOpw3yFChiQHBpcxnsKGJA5Mzn4rcpYkC6r98VoSpiQA7mjOCIK2JA+ddFsuorYkABFi5WgyxiQEdw90EFLWJAxwBvJREtYkDqFqDJHi1iQFpD+bojLWJAkJHADyAtYkAw3s43Fy1iQM9RujMHLWJAjMFEmwgtYkDU67zvBi1iQIaP1+UFLWJAGTEe690sYkBtkxQjDS1iQLrMgSIILWJAN/nbUiwtYkC96pg0ny1iQA==",
          "dtype": "f8"
         }
        },
        {
         "marker": {
          "color": "red",
          "line": {
           "color": "white",
           "width": 1
          },
          "size": 12,
          "symbol": "triangle-down"
         },
         "mode": "markers",
         "name": "Entry",
         "type": "scatter",
         "x": [
          "2025-06-19T06:30:06.575561742+00:00"
         ],
         "y": [
          145.256
         ]
        },
        {
         "marker": {
          "color": "purple",
          "line": {
           "color": "white",
           "width": 1
          },
          "size": 10,
          "symbol": "square"
         },
         "mode": "markers",
         "name": "Exit",
         "type": "scatter",
         "x": [
          "2025-06-19T08:00:04.339777386+00:00"
         ],
         "y": [
          145.416
         ]
        }
       ],
       "layout": {
        "legend": {
         "orientation": "h",
         "x": 1,
         "xanchor": "right",
         "y": 1.02,
         "yanchor": "bottom"
        },
        "template": {
         "data": {
          "bar": [
           {
            "error_x": {
             "color": "#f2f5fa"
            },
            "error_y": {
             "color": "#f2f5fa"
            },
            "marker": {
             "line": {
              "color": "rgb(17,17,17)",
              "width": 0.5
             },
             "pattern": {
              "fillmode": "overlay",
              "size": 10,
              "solidity": 0.2
             }
            },
            "type": "bar"
           }
          ],
          "barpolar": [
           {
            "marker": {
             "line": {
              "color": "rgb(17,17,17)",
              "width": 0.5
             },
             "pattern": {
              "fillmode": "overlay",
              "size": 10,
              "solidity": 0.2
             }
            },
            "type": "barpolar"
           }
          ],
          "carpet": [
           {
            "aaxis": {
             "endlinecolor": "#A2B1C6",
             "gridcolor": "#506784",
             "linecolor": "#506784",
             "minorgridcolor": "#506784",
             "startlinecolor": "#A2B1C6"
            },
            "baxis": {
             "endlinecolor": "#A2B1C6",
             "gridcolor": "#506784",
             "linecolor": "#506784",
             "minorgridcolor": "#506784",
             "startlinecolor": "#A2B1C6"
            },
            "type": "carpet"
           }
          ],
          "choropleth": [
           {
            "colorbar": {
             "outlinewidth": 0,
             "ticks": ""
            },
            "type": "choropleth"
           }
          ],
          "contour": [
           {
            "colorbar": {
             "outlinewidth": 0,
             "ticks": ""
            },
            "colorscale": [
             [
              0,
              "#0d0887"
             ],
             [
              0.1111111111111111,
              "#46039f"
             ],
             [
              0.2222222222222222,
              "#7201a8"
             ],
             [
              0.3333333333333333,
              "#9c179e"
             ],
             [
              0.4444444444444444,
              "#bd3786"
             ],
             [
              0.5555555555555556,
              "#d8576b"
             ],
             [
              0.6666666666666666,
              "#ed7953"
             ],
             [
              0.7777777777777778,
              "#fb9f3a"
             ],
             [
              0.8888888888888888,
              "#fdca26"
             ],
             [
              1,
              "#f0f921"
             ]
            ],
            "type": "contour"
           }
          ],
          "contourcarpet": [
           {
            "colorbar": {
             "outlinewidth": 0,
             "ticks": ""
            },
            "type": "contourcarpet"
           }
          ],
          "heatmap": [
           {
            "colorbar": {
             "outlinewidth": 0,
             "ticks": ""
            },
            "colorscale": [
             [
              0,
              "#0d0887"
             ],
             [
              0.1111111111111111,
              "#46039f"
             ],
             [
              0.2222222222222222,
              "#7201a8"
             ],
             [
              0.3333333333333333,
              "#9c179e"
             ],
             [
              0.4444444444444444,
              "#bd3786"
             ],
             [
              0.5555555555555556,
              "#d8576b"
             ],
             [
              0.6666666666666666,
              "#ed7953"
             ],
             [
              0.7777777777777778,
              "#fb9f3a"
             ],
             [
              0.8888888888888888,
              "#fdca26"
             ],
             [
              1,
              "#f0f921"
             ]
            ],
            "type": "heatmap"
           }
          ],
          "histogram": [
           {
            "marker": {
             "pattern": {
              "fillmode": "overlay",
              "size": 10,
              "solidity": 0.2
             }
            },
            "type": "histogram"
           }
          ],
          "histogram2d": [
           {
            "colorbar": {
             "outlinewidth": 0,
             "ticks": ""
            },
            "colorscale": [
             [
              0,
              "#0d0887"
             ],
             [
              0.1111111111111111,
              "#46039f"
             ],
             [
              0.2222222222222222,
              "#7201a8"
             ],
             [
              0.3333333333333333,
              "#9c179e"
             ],
             [
              0.4444444444444444,
              "#bd3786"
             ],
             [
              0.5555555555555556,
              "#d8576b"
             ],
             [
              0.6666666666666666,
              "#ed7953"
             ],
             [
              0.7777777777777778,
              "#fb9f3a"
             ],
             [
              0.8888888888888888,
              "#fdca26"
             ],
             [
              1,
              "#f0f921"
             ]
            ],
            "type": "histogram2d"
           }
          ],
          "histogram2dcontour": [
           {
            "colorbar": {
             "outlinewidth": 0,
             "ticks": ""
            },
            "colorscale": [
             [
              0,
              "#0d0887"
             ],
             [
              0.1111111111111111,
              "#46039f"
             ],
             [
              0.2222222222222222,
              "#7201a8"
             ],
             [
              0.3333333333333333,
              "#9c179e"
             ],
             [
              0.4444444444444444,
              "#bd3786"
             ],
             [
              0.5555555555555556,
              "#d8576b"
             ],
             [
              0.6666666666666666,
              "#ed7953"
             ],
             [
              0.7777777777777778,
              "#fb9f3a"
             ],
             [
              0.8888888888888888,
              "#fdca26"
             ],
             [
              1,
              "#f0f921"
             ]
            ],
            "type": "histogram2dcontour"
           }
          ],
          "mesh3d": [
           {
            "colorbar": {
             "outlinewidth": 0,
             "ticks": ""
            },
            "type": "mesh3d"
           }
          ],
          "parcoords": [
           {
            "line": {
             "colorbar": {
              "outlinewidth": 0,
              "ticks": ""
             }
            },
            "type": "parcoords"
           }
          ],
          "pie": [
           {
            "automargin": true,
            "type": "pie"
           }
          ],
          "scatter": [
           {
            "marker": {
             "line": {
              "color": "#283442"
             }
            },
            "type": "scatter"
           }
          ],
          "scatter3d": [
           {
            "line": {
             "colorbar": {
              "outlinewidth": 0,
              "ticks": ""
             }
            },
            "marker": {
             "colorbar": {
              "outlinewidth": 0,
              "ticks": ""
             }
            },
            "type": "scatter3d"
           }
          ],
          "scattercarpet": [
           {
            "marker": {
             "colorbar": {
              "outlinewidth": 0,
              "ticks": ""
             }
            },
            "type": "scattercarpet"
           }
          ],
          "scattergeo": [
           {
            "marker": {
             "colorbar": {
              "outlinewidth": 0,
              "ticks": ""
             }
            },
            "type": "scattergeo"
           }
          ],
          "scattergl": [
           {
            "marker": {
             "line": {
              "color": "#283442"
             }
            },
            "type": "scattergl"
           }
          ],
          "scattermap": [
           {
            "marker": {
             "colorbar": {
              "outlinewidth": 0,
              "ticks": ""
             }
            },
            "type": "scattermap"
           }
          ],
          "scattermapbox": [
           {
            "marker": {
             "colorbar": {
              "outlinewidth": 0,
              "ticks": ""
             }
            },
            "type": "scattermapbox"
           }
          ],
          "scatterpolar": [
           {
            "marker": {
             "colorbar": {
              "outlinewidth": 0,
              "ticks": ""
             }
            },
            "type": "scatterpolar"
           }
          ],
          "scatterpolargl": [
           {
            "marker": {
             "colorbar": {
              "outlinewidth": 0,
              "ticks": ""
             }
            },
            "type": "scatterpolargl"
           }
          ],
          "scatterternary": [
           {
            "marker": {
             "colorbar": {
              "outlinewidth": 0,
              "ticks": ""
             }
            },
            "type": "scatterternary"
           }
          ],
          "surface": [
           {
            "colorbar": {
             "outlinewidth": 0,
             "ticks": ""
            },
            "colorscale": [
             [
              0,
              "#0d0887"
             ],
             [
              0.1111111111111111,
              "#46039f"
             ],
             [
              0.2222222222222222,
              "#7201a8"
             ],
             [
              0.3333333333333333,
              "#9c179e"
             ],
             [
              0.4444444444444444,
              "#bd3786"
             ],
             [
              0.5555555555555556,
              "#d8576b"
             ],
             [
              0.6666666666666666,
              "#ed7953"
             ],
             [
              0.7777777777777778,
              "#fb9f3a"
             ],
             [
              0.8888888888888888,
              "#fdca26"
             ],
             [
              1,
              "#f0f921"
             ]
            ],
            "type": "surface"
           }
          ],
          "table": [
           {
            "cells": {
             "fill": {
              "color": "#506784"
             },
             "line": {
              "color": "rgb(17,17,17)"
             }
            },
            "header": {
             "fill": {
              "color": "#2a3f5f"
             },
             "line": {
              "color": "rgb(17,17,17)"
             }
            },
            "type": "table"
           }
          ]
         },
         "layout": {
          "annotationdefaults": {
           "arrowcolor": "#f2f5fa",
           "arrowhead": 0,
           "arrowwidth": 1
          },
          "autotypenumbers": "strict",
          "coloraxis": {
           "colorbar": {
            "outlinewidth": 0,
            "ticks": ""
           }
          },
          "colorscale": {
           "diverging": [
            [
             0,
             "#8e0152"
            ],
            [
             0.1,
             "#c51b7d"
            ],
            [
             0.2,
             "#de77ae"
            ],
            [
             0.3,
             "#f1b6da"
            ],
            [
             0.4,
             "#fde0ef"
            ],
            [
             0.5,
             "#f7f7f7"
            ],
            [
             0.6,
             "#e6f5d0"
            ],
            [
             0.7,
             "#b8e186"
            ],
            [
             0.8,
             "#7fbc41"
            ],
            [
             0.9,
             "#4d9221"
            ],
            [
             1,
             "#276419"
            ]
           ],
           "sequential": [
            [
             0,
             "#0d0887"
            ],
            [
             0.1111111111111111,
             "#46039f"
            ],
            [
             0.2222222222222222,
             "#7201a8"
            ],
            [
             0.3333333333333333,
             "#9c179e"
            ],
            [
             0.4444444444444444,
             "#bd3786"
            ],
            [
             0.5555555555555556,
             "#d8576b"
            ],
            [
             0.6666666666666666,
             "#ed7953"
            ],
            [
             0.7777777777777778,
             "#fb9f3a"
            ],
            [
             0.8888888888888888,
             "#fdca26"
            ],
            [
             1,
             "#f0f921"
            ]
           ],
           "sequentialminus": [
            [
             0,
             "#0d0887"
            ],
            [
             0.1111111111111111,
             "#46039f"
            ],
            [
             0.2222222222222222,
             "#7201a8"
            ],
            [
             0.3333333333333333,
             "#9c179e"
            ],
            [
             0.4444444444444444,
             "#bd3786"
            ],
            [
             0.5555555555555556,
             "#d8576b"
            ],
            [
             0.6666666666666666,
             "#ed7953"
            ],
            [
             0.7777777777777778,
             "#fb9f3a"
            ],
            [
             0.8888888888888888,
             "#fdca26"
            ],
            [
             1,
             "#f0f921"
            ]
           ]
          },
          "colorway": [
           "#636efa",
           "#EF553B",
           "#00cc96",
           "#ab63fa",
           "#FFA15A",
           "#19d3f3",
           "#FF6692",
           "#B6E880",
           "#FF97FF",
           "#FECB52"
          ],
          "font": {
           "color": "#f2f5fa"
          },
          "geo": {
           "bgcolor": "rgb(17,17,17)",
           "lakecolor": "rgb(17,17,17)",
           "landcolor": "rgb(17,17,17)",
           "showlakes": true,
           "showland": true,
           "subunitcolor": "#506784"
          },
          "hoverlabel": {
           "align": "left"
          },
          "hovermode": "closest",
          "mapbox": {
           "style": "dark"
          },
          "paper_bgcolor": "rgb(17,17,17)",
          "plot_bgcolor": "rgb(17,17,17)",
          "polar": {
           "angularaxis": {
            "gridcolor": "#506784",
            "linecolor": "#506784",
            "ticks": ""
           },
           "bgcolor": "rgb(17,17,17)",
           "radialaxis": {
            "gridcolor": "#506784",
            "linecolor": "#506784",
            "ticks": ""
           }
          },
          "scene": {
           "xaxis": {
            "backgroundcolor": "rgb(17,17,17)",
            "gridcolor": "#506784",
            "gridwidth": 2,
            "linecolor": "#506784",
            "showbackground": true,
            "ticks": "",
            "zerolinecolor": "#C8D4E3"
           },
           "yaxis": {
            "backgroundcolor": "rgb(17,17,17)",
            "gridcolor": "#506784",
            "gridwidth": 2,
            "linecolor": "#506784",
            "showbackground": true,
            "ticks": "",
            "zerolinecolor": "#C8D4E3"
           },
           "zaxis": {
            "backgroundcolor": "rgb(17,17,17)",
            "gridcolor": "#506784",
            "gridwidth": 2,
            "linecolor": "#506784",
            "showbackground": true,
            "ticks": "",
            "zerolinecolor": "#C8D4E3"
           }
          },
          "shapedefaults": {
           "line": {
            "color": "#f2f5fa"
           }
          },
          "sliderdefaults": {
           "bgcolor": "#C8D4E3",
           "bordercolor": "rgb(17,17,17)",
           "borderwidth": 1,
           "tickwidth": 0
          },
          "ternary": {
           "aaxis": {
            "gridcolor": "#506784",
            "linecolor": "#506784",
            "ticks": ""
           },
           "baxis": {
            "gridcolor": "#506784",
            "linecolor": "#506784",
            "ticks": ""
           },
           "bgcolor": "rgb(17,17,17)",
           "caxis": {
            "gridcolor": "#506784",
            "linecolor": "#506784",
            "ticks": ""
           }
          },
          "title": {
           "x": 0.05
          },
          "updatemenudefaults": {
           "bgcolor": "#506784",
           "borderwidth": 0
          },
          "xaxis": {
           "automargin": true,
           "gridcolor": "#283442",
           "linecolor": "#506784",
           "ticks": "",
           "title": {
            "standoff": 15
           },
           "zerolinecolor": "#283442",
           "zerolinewidth": 2
          },
          "yaxis": {
           "automargin": true,
           "gridcolor": "#283442",
           "linecolor": "#506784",
           "ticks": "",
           "title": {
            "standoff": 15
           },
           "zerolinecolor": "#283442",
           "zerolinewidth": 2
          }
         }
        },
        "title": {
         "text": "Trade on USD_JPY | P/L: <span style='color:lightcoral;'>$-1.11</span>"
        },
        "xaxis": {
         "rangeslider": {
          "visible": false
         },
         "title": {
          "text": "Date"
         }
        },
        "yaxis": {
         "title": {
          "text": "Price"
         }
        }
       }
      }
     },
     "metadata": {},
     "output_type": "display_data"
    },
    {
     "name": "stdout",
     "output_type": "stream",
     "text": [
      "\n",
      "--- Plotting trade on USD_CAD opened at: 2025-06-19 06:30:15 ---\n"
     ]
    },
    {
     "data": {
      "application/vnd.plotly.v1+json": {
       "config": {
        "plotlyServerURL": "https://plot.ly"
       },
       "data": [
        {
         "close": {
          "bdata": "mfViKCfa9T8Kur2kMdr1P+9yEd+J2fU/Q5CDEmba9T9e1y/YDdv1P0OQgxJm2vU/6+I2GsDb9T+wrDQpBd31PwhagSGr2/U/BhIUP8bc9T87cM6I0t71PwOy17s/3vU/r3yW58Hd9T9ZF7fRAN71Pz7QCgxZ3fU/y9sRTgve9T9bXyS05dz1P5MdG4F43fU/B0KygAnc9T95Bg39E9z1P61M+KV+3vU/JLn8h/Tb9T/NI38w8Nz1PwdCsoAJ3PU/l8XE5uPa9T/Wi6GcaNf1P8Dsnjws1PU/MsnIWdjT9T8uOe6UDtb1P/CiryDN2PU/ZcdGIF7X9T9aL4Zyot31P80jfzDw3PU/XwfOGVHa9T/3AUht4uT1P2d+NQcI5vU/83FtqBjn9T8Q6bevA+f1P01nJ4Oj5PU/w9MrZRni9T8TSfQyiuX1P3ReY5eo3vU/N+Dzwwjh9T9SJ6CJsOH1P8PTK2UZ4vU/cy7FVWXf9T+L/WX35OH1P/kx5q4l5PU/avZAKzDk9T8l6ZrJN9v1P8vz4O6s3fU/cy7FVWXf9T/v4ZLjTun1P6BU+3Q85vU/smMjEK/r9T+brFEP0ej1P5bs2AjE6/U/7rH0oQvq9T9hpu1fWen1P+/hkuNO6fU/KdAn8iTp9T8PuRluwOf1P2Qe+YOB5/U/D7kZbsDn9T9Ip658luf1P7gjnBa86PU/KzBkdavn9T9HdxA7U+j1P7gjnBa86PU/RUdy+Q/p9T+YNEbrqOr1P+6x9KEL6vU/0jqqmiDq9T+0k8FR8ur1P3zVyoRf6vU/Xi7iOzHr9T/rOel94+v1Pz4/jBAe7fU/zHoxlBPt9T889x4uOe71P1Ou8C4X8fU/GsBbIEHx9T9PBkfJq/P1PxqojH+f8fU//ACkNnHy9T+pE9BE2PD1Pxzw+WGE8PU/OGdEaW/w9T+qQ26GG/D1Px9oBYas7vU/Atnr3R/v9T/meXB31u71Px9oBYas7vU//kgRGVbx9T/GihpMw/D1Pzc3pics8fU/M6fLYmLz9T8wL8A+OvX1P7sKKT+p9vU/FNBE2PD09T+I9NvXgfP1P/hwyXGn9PU/i2zn+6nx9T+I9NvXgfP1P2gFhqxu9fU/UU60q5Dy9T8AqU2c3O/1P6kT0ETY8PU/HlA25Qrv9T86r7FLVO/1P6xzDMhe7/U/4gFlU67w9T9wJTs2AvH1P1XejnBa8PU/Vg4tsp3v9T+rWz0nve/1P42chT3t8PU/qRPQRNjw9T/owd1Zu+31P667eapD7vU/5pE/GHju9T9WDi2yne/1PxmQvd798fU/iQyreCPz9T+lg/V/DvP1P6ezk8FR8vU/wvo/h/ny9T9KXp1jQPb1P5+rrdhf9vU/08H6P4f59T/KiXYVUv71P0Ruhhvw+fU/euQPBp779T9iFW9kHvn1P1+1MuGX+vU/7zhFR3L59T9ftTLhl/r1P+4IpwUv+vU/CoDxDBr69T/zyB8MPPf1P0bOwp52+PU/g0wychb29T/VITfDDfj1P7+CNGPR9PU/++jUlc/y9T/EQq1p3vH1P1TGv8+48PU//3ivWpnw9T//eK9amfD1Pw==",
          "dtype": "f8"
         },
         "high": {
          "bdata": "z4O7s3bb9T8kufyH9Nv1PwhyUMJM2/U/tDwP7s7a9T+zDHGsi9v1P0Jg5dAi2/U/zlMdcjPc9T9aR1UTRN31PyFZwARu3fU/W18ktOXc9T9y/iYUIuD1P8mTpGsm3/U/rBxaZDvf9T+tTPilft71P8rDQq1p3vU/O3DOiNLe9T/Ie9XKhN/1P8vz4O6s3fU/y/Pg7qzd9T9aR1UTRN31P+UK73IR3/U/AoI5evze9T/oaiv2l931PyFZwARu3fU/B0KygAnc9T/qymd5Htz1P2XHRiBe1/U/L1G9NbDV9T+f5Xlwd9b1P2JnCp3X2PU/7Sqk/KTa9T9SJ6CJsOH1P8vz4O6s3fU/dqbQeY3d9T/36XjMQOX1PyxIMxZN5/U/gZVDi2zn9T8rGJXUCej1PwspP6n26fU/L8A+OnXl9T+8s3bbheb1P6GEmbZ/5fU/i/1l9+Th9T+Kzce1oeL1P/phhPBo4/U/NIC3QILi9T9R9wFIbeL1P2iu00hL5fU/9tGpK5/l9T8VkWEVb+T1Px3J5T+k3/U/4XoUrkfh9T8noImw4en1P13+Q/rt6/U/P1dbsb/s9T9Ah/nyAuz1P0CH+fIC7PU/6fF7m/7s9T/SOqqaIOr1P0QX1LfM6fU/tvP91Hjp9T9EF9S3zOn1Pw+5GW7A5/U/8SkAxjPo9T9+NQcI5uj1P0QX1LfM6fU/m6xRD9Ho9T9+NQcI5uj1P5hMFYxK6vU/Q/8EFyvq9T9fRrHc0ur1P19GsdzS6vU/mDRG66jq9T/saYe/Juv1PwjJAiZw6/U/z9ptF5rr9T/Owp52+Ov1P1YOLbKd7/U/PQ/uztrt9T8faAWGrO71P/5IERlW8fU/xFp8CoDx9T9PBkfJq/P1P6MjufyH9PU/UDblCu/y9T9RTrSrkPL1P/0wQni08fU/qRPQRNjw9T8b2CrB4vD1P+MZNPRP8PU/HSCYo8fv9T9xVdl3RfD1PzqvsUtU7/U/i2zn+6nx9T/+SBEZVvH1P28NbJVg8fU/Z+22C8319T+DTDJyFvb1P0ku/yH99vU/8piByvj39T9oBYasbvX1P9rhr8ka9fU/aTUk7rH09T9rZcIv9fP1P9mZQuc19vU/EXAIVWr29T8YYB+duvL1PxrAWyBB8fU/NzemJyzx9T9wJTs2AvH1P3FV2XdF8PU/qOMxA5Xx9T+LbOf7qfH1P8RafAqA8fU/qRPQRNjw9T9TrvAuF/H1P4ts5/up8fU/wyreyDzy9T9TrvAuF/H1P+QxA5Xx7/U/rHMMyF7v9T8b2CrB4vD1P6ezk8FR8vU/+IiYEkn09T+GrG71nPT1P6HzGrtE9fU/+rg2VIzz9T9JLv8h/fb1P0ku/yH99vU/RG6GG/D59T/Jcad0sP71P3Qkl/+Q/vU/k+NO6WD99T/NAYI5evz1P0I+6Nms+vU/s9KkFHT79T8jZ2FPO/z1P5UrvMtF/PU/mKPH72369T98LH3ogvr1P9TxmIHK+PU/Kld4l4v49T+bG9MTlvj1PypXeJeL+PU/MEeP39v09T8ydy0hH/T1P9+JWS+G8vU/G9gqweLw9T//eK9amfD1Pw==",
          "dtype": "f8"
         },
         "low": {
          "bdata": "0xOWeEDZ9T/TE5Z4QNn1Pyl5dY4B2fU/KpFEL6PY9T9EwCFUqdn1P7oUV5V91/U/JzEIrBza9T9DkIMSZtr1P7MMcayL2/U/e0563/ja9T8iiV5Gsdz1PyFZwARu3fU/eO49XHLc9T8E4nX9gt31P1tfJLTl3PU/6ZrJN9vc9T8GEhQ/xtz1P7Hc0mpI3PU/l631RULb9T9e1y/YDdv1P+rKZ3ke3PU/lpUmpaDb9T9dv2A3bNv1PyYBamrZ2vU/fZbnwd3Z9T+6LCY2H9f1P4hGdxA70/U/je4gdqbQ9T9t5/up8dL1P6JFtvP91PU/uiwmNh/X9T/Xo3A9Ctf1PwhyUMJM2/U/Zw+0AkPW9T98fhghPNr1PxgJbTmX4vU/hSUeUDbl9T+IhVrTvOP1P2recYqO5PU/4XoUrkfh9T/lCu9yEd/1P1pHVRNE3fU/dF5jl6je9T/k2lAxzt/1P8UDyqZc4fU/5QrvchHf9T+sHFpkO9/1P8Tr+gW74fU/GAltOZfi9T+3nEtxVdn1P32W58Hd2fU/XHfzVIfc9T/Jk6RrJt/1PxIxJZLo5fU/veMUHcnl9T+gbMoV3uX1P0nXTL7Z5vU/02pI3GPp9T9lNsgkI+f1P2QGKuPf5/U/ngyOklfn9T/zcW2oGOf1P2d+NQcI5vU/2CrB4nDm9T+6g9iZQuf1P/NZngd35/U/SKeufJbn9T+d9L7xtef1P7lTOlj/5/U/R3cQO1Po9T9ivrwA++j1P7bz/dR46fU/7+GS407p9T+28/3UeOn1P5hMFYxK6vU/0jqqmiDq9T+XHHdKB+v1P3l1jgHZ6/U/eXWOAdnr9T+V1AloIuz1P8tKk1LQ7fU/HAjJAibw9T+qK5/lefD1P6jjMQOV8fU/qOMxA5Xx9T83T3XIzfD1P3FV2XdF8PU/c4V3uYjv9T9XJvxSP+/1P+aRPxh47vU/WFaalILu9T8C8bp+we71P+aRPxh47vU/WFaalILu9T/kMQOV8e/1P3OFd7mI7/U/xXJLqyHx9T/B4nDmV/P1P02+2ebG9PU/MEeP39v09T+lg/V/DvP1P4kMq3gj8/U/U67wLhfx9T+pE9BE2PD1P4kMq3gj8/U/GZC93v3x9T/lYaHWNO/1P4/8wcBz7/U/AwmKH2Pu9T89D+7O2u31Px5QNuUK7/U/HlA25Qrv9T9WDi2yne/1P47MI38w8PU/Vz7L8+Du9T8BwRw9fu/1P+VhodY07/U/OGdEaW/w9T/o2az6XO31Pz9XW7G/7PU/WYY41sXt9T9bttYXCe31PwLZ690f7/U/cVXZd0Xw9T+ns5PBUfL1P/wYc9cS8vU/cVXZd0Xw9T817zhFR/L1P7+aAwRz9PU/LxfxnZj19T/xaOOItfj1PwzIXu/++PU/tkqwOJz59T9jRQ2mYfj1P0bOwp52+PU/7zhFR3L59T+3Yn/ZPfn1P9PB+j+H+fU/t2J/2T359T8st7QaEvf1P557D5cc9/U/g0wychb29T+DTDJyFvb1P4asbvWc9PU//Bhz1xLy9T8aqIx/n/H1P+IBZVOu8PU/HSCYo8fv9T8c8PlhhPD1Pw==",
          "dtype": "f8"
         },
         "name": "Candles",
         "open": {
          "bdata": "t5xLcVXZ9T+Z9WIoJ9r1P3x+GCE82vU/miUBamrZ9T/RyyiWW9r1P9CbilQY2/U/mN2Th4Xa9T95Htydtdv1P80jfzDw3PU/eR7cnbXb9T931m670Nz1P1jnGJC93vU/A7LXuz/e9T/L8+DurN31P1kXt9EA3vU/PtAKDFnd9T88oGzKFd71P80jfzDw3PU/IVnABG7d9T8kufyH9Nv1P+rKZ3ke3PU/ApoIG57e9T8HQrKACdz1P+mayTfb3PU/B0KygAnc9T+XxcTm49r1P2XHRiBe1/U/TihEwCHU9T9PQBNhw9P1Py457pQO1vU/YmcKndfY9T9lx0YgXtf1P8vz4O6s3fU/zSN/MPDc9T/uQnOdRtr1P4Y97fDX5PU/hPV/DvPl9T/zcW2oGOf1Py1gArfu5vU/at5xio7k9T/gSnZsBOL1P6GEmbZ/5fU/dF5jl6je9T/+8V61MuH1P1InoImw4fU/w9MrZRni9T8BamrZWt/1P+BKdmwE4vU/3Lqbpzrk9T8VkWEVb+T1PwhyUMJM2/U/Pbg7a7fd9T9zLsVVZd/1P34dOGdE6fU/LpCg+DHm9T+yYyMQr+v1P5usUQ/R6PU/luzYCMTr9T8LKT+p9un1P7bz/dR46fU/7+GS407p9T8p0CfyJOn1P530vvG15/U/1uJTAIzn9T+AfXTqyuf1Pw+5GW7A5/U/uCOcFrzo9T8PuRluwOf1P2PuWkI+6PU/uCOcFrzo9T9FR3L5D+n1PyZw626e6vU/7rH0oQvq9T+1w1+TNer1P7STwVHy6vU/mEwVjErq9T96pSxDHOv1P13+Q/rt6/U/zHoxlBPt9T/MejGUE+31P8oyxLEu7vU/U67wLhfx9T8awFsgQfH1P2t9kdCW8/U/b/Wc9L7x9T9txf6ye/L1P42chT3t8PU/HPD5YYTw9T84Z0Rpb/D1P47MI38w8PU/raOqCaLu9T8C2evdH+/1P3S1FfvL7vU/kSxgArfu9T8awFsgQfH1P8aKGkzD8PU/qfsApDbx9T8zp8tiYvP1P6HzGrtE9fU/uwopP6n29T+iC+pb5vT1P/q4NlSM8/U/aTUk7rH09T+LbOf7qfH1PxYwgVt38/U/aAWGrG719T9RTrSrkPL1P3JtqBjn7/U/qRPQRNjw9T8eUDblCu/1P8jqVs9J7/U/Oq+xS1Tv9T/GihpMw/D1P3AlOzYC8fU/4xk09E/w9T9WDi2yne/1Px0gmKPH7/U/qRPQRNjw9T+pE9BE2PD1P+jB3Vm77fU/WW5pNSTu9T8DCYofY+71PzmX4qqy7/U/GZC93v3x9T9slWBxOPP1PxdIUPwY8/U/p7OTwVHy9T/ecYqO5PL1P0penWNA9vU/9Pi9TX/29T9EhlW8kfn1PzxO0ZFc/vU/YOXQItv59T8IILWJk/v1P36MuWsJ+fU/Qj7o2az69T9h/Z/DfPn1P1+1MuGX+vU/7ginBS/69T+Zu5aQD/r1P/PIHww89/U/Rs7Cnnb49T+DTDJyFvb1P9UhN8MN+PU/MEeP39v09T/76NSVz/L1P8RCrWne8fU/qRPQRNjw9T//eK9amfD1Pw==",
          "dtype": "f8"
         },
         "type": "candlestick",
         "x": [
          "2025-06-18T05:45:00+00:00",
          "2025-06-18T06:00:00+00:00",
          "2025-06-18T06:15:00+00:00",
          "2025-06-18T06:30:00+00:00",
          "2025-06-18T06:45:00+00:00",
          "2025-06-18T07:00:00+00:00",
          "2025-06-18T07:15:00+00:00",
          "2025-06-18T07:30:00+00:00",
          "2025-06-18T07:45:00+00:00",
          "2025-06-18T08:00:00+00:00",
          "2025-06-18T08:15:00+00:00",
          "2025-06-18T08:30:00+00:00",
          "2025-06-18T08:45:00+00:00",
          "2025-06-18T09:00:00+00:00",
          "2025-06-18T09:15:00+00:00",
          "2025-06-18T09:30:00+00:00",
          "2025-06-18T09:45:00+00:00",
          "2025-06-18T10:00:00+00:00",
          "2025-06-18T10:15:00+00:00",
          "2025-06-18T10:30:00+00:00",
          "2025-06-18T10:45:00+00:00",
          "2025-06-18T11:00:00+00:00",
          "2025-06-18T11:15:00+00:00",
          "2025-06-18T11:30:00+00:00",
          "2025-06-18T11:45:00+00:00",
          "2025-06-18T12:00:00+00:00",
          "2025-06-18T12:15:00+00:00",
          "2025-06-18T12:30:00+00:00",
          "2025-06-18T12:45:00+00:00",
          "2025-06-18T13:00:00+00:00",
          "2025-06-18T13:15:00+00:00",
          "2025-06-18T13:30:00+00:00",
          "2025-06-18T13:45:00+00:00",
          "2025-06-18T14:00:00+00:00",
          "2025-06-18T14:15:00+00:00",
          "2025-06-18T14:30:00+00:00",
          "2025-06-18T14:45:00+00:00",
          "2025-06-18T15:00:00+00:00",
          "2025-06-18T15:15:00+00:00",
          "2025-06-18T15:30:00+00:00",
          "2025-06-18T15:45:00+00:00",
          "2025-06-18T16:00:00+00:00",
          "2025-06-18T16:15:00+00:00",
          "2025-06-18T16:30:00+00:00",
          "2025-06-18T16:45:00+00:00",
          "2025-06-18T17:00:00+00:00",
          "2025-06-18T17:15:00+00:00",
          "2025-06-18T17:30:00+00:00",
          "2025-06-18T17:45:00+00:00",
          "2025-06-18T18:00:00+00:00",
          "2025-06-18T18:15:00+00:00",
          "2025-06-18T18:30:00+00:00",
          "2025-06-18T18:45:00+00:00",
          "2025-06-18T19:00:00+00:00",
          "2025-06-18T19:15:00+00:00",
          "2025-06-18T19:30:00+00:00",
          "2025-06-18T19:45:00+00:00",
          "2025-06-18T20:00:00+00:00",
          "2025-06-18T20:15:00+00:00",
          "2025-06-18T20:30:00+00:00",
          "2025-06-18T20:45:00+00:00",
          "2025-06-18T21:00:00+00:00",
          "2025-06-18T21:15:00+00:00",
          "2025-06-18T21:30:00+00:00",
          "2025-06-18T21:45:00+00:00",
          "2025-06-18T22:00:00+00:00",
          "2025-06-18T22:15:00+00:00",
          "2025-06-18T22:30:00+00:00",
          "2025-06-18T22:45:00+00:00",
          "2025-06-18T23:00:00+00:00",
          "2025-06-18T23:15:00+00:00",
          "2025-06-18T23:30:00+00:00",
          "2025-06-18T23:45:00+00:00",
          "2025-06-19T00:00:00+00:00",
          "2025-06-19T00:15:00+00:00",
          "2025-06-19T00:30:00+00:00",
          "2025-06-19T00:45:00+00:00",
          "2025-06-19T01:00:00+00:00",
          "2025-06-19T01:15:00+00:00",
          "2025-06-19T01:30:00+00:00",
          "2025-06-19T01:45:00+00:00",
          "2025-06-19T02:00:00+00:00",
          "2025-06-19T02:15:00+00:00",
          "2025-06-19T02:30:00+00:00",
          "2025-06-19T02:45:00+00:00",
          "2025-06-19T03:00:00+00:00",
          "2025-06-19T03:15:00+00:00",
          "2025-06-19T03:30:00+00:00",
          "2025-06-19T03:45:00+00:00",
          "2025-06-19T04:00:00+00:00",
          "2025-06-19T04:15:00+00:00",
          "2025-06-19T04:30:00+00:00",
          "2025-06-19T04:45:00+00:00",
          "2025-06-19T05:00:00+00:00",
          "2025-06-19T05:15:00+00:00",
          "2025-06-19T05:30:00+00:00",
          "2025-06-19T05:45:00+00:00",
          "2025-06-19T06:00:00+00:00",
          "2025-06-19T06:15:00+00:00",
          "2025-06-19T06:30:00+00:00",
          "2025-06-19T06:45:00+00:00",
          "2025-06-19T07:00:00+00:00",
          "2025-06-19T07:15:00+00:00",
          "2025-06-19T07:30:00+00:00",
          "2025-06-19T07:45:00+00:00",
          "2025-06-19T08:00:00+00:00",
          "2025-06-19T08:15:00+00:00",
          "2025-06-19T08:30:00+00:00",
          "2025-06-19T08:45:00+00:00",
          "2025-06-19T09:00:00+00:00",
          "2025-06-19T09:15:00+00:00",
          "2025-06-19T09:30:00+00:00",
          "2025-06-19T09:45:00+00:00",
          "2025-06-19T10:00:00+00:00",
          "2025-06-19T10:15:00+00:00",
          "2025-06-19T10:30:00+00:00",
          "2025-06-19T10:45:00+00:00",
          "2025-06-19T11:00:00+00:00",
          "2025-06-19T11:15:00+00:00",
          "2025-06-19T11:30:00+00:00",
          "2025-06-19T11:45:00+00:00",
          "2025-06-19T12:00:00+00:00",
          "2025-06-19T12:15:00+00:00",
          "2025-06-19T12:30:00+00:00",
          "2025-06-19T12:45:00+00:00",
          "2025-06-19T13:00:00+00:00",
          "2025-06-19T13:15:00+00:00",
          "2025-06-19T13:30:00+00:00",
          "2025-06-19T13:45:00+00:00",
          "2025-06-19T14:00:00+00:00",
          "2025-06-19T14:15:00+00:00",
          "2025-06-19T14:30:00+00:00",
          "2025-06-19T14:45:00+00:00",
          "2025-06-19T15:00:00+00:00",
          "2025-06-19T15:15:00+00:00",
          "2025-06-19T15:30:00+00:00",
          "2025-06-19T15:45:00+00:00",
          "2025-06-19T16:00:00+00:00",
          "2025-06-19T16:15:00+00:00",
          "2025-06-19T16:30:00+00:00",
          "2025-06-19T16:45:00+00:00",
          "2025-06-19T17:00:00+00:00",
          "2025-06-19T17:15:00+00:00",
          "2025-06-19T17:30:00+00:00",
          "2025-06-19T17:45:00+00:00",
          "2025-06-19T18:00:00+00:00",
          "2025-06-19T18:15:00+00:00",
          "2025-06-19T18:30:00+00:00",
          "2025-06-19T18:45:00+00:00"
         ]
        },
        {
         "line": {
          "color": "cyan",
          "dash": "dash"
         },
         "mode": "lines",
         "name": "Upper BB",
         "opacity": 0.7,
         "type": "scatter",
         "x": [
          "2025-06-18T05:45:00+00:00",
          "2025-06-18T06:00:00+00:00",
          "2025-06-18T06:15:00+00:00",
          "2025-06-18T06:30:00+00:00",
          "2025-06-18T06:45:00+00:00",
          "2025-06-18T07:00:00+00:00",
          "2025-06-18T07:15:00+00:00",
          "2025-06-18T07:30:00+00:00",
          "2025-06-18T07:45:00+00:00",
          "2025-06-18T08:00:00+00:00",
          "2025-06-18T08:15:00+00:00",
          "2025-06-18T08:30:00+00:00",
          "2025-06-18T08:45:00+00:00",
          "2025-06-18T09:00:00+00:00",
          "2025-06-18T09:15:00+00:00",
          "2025-06-18T09:30:00+00:00",
          "2025-06-18T09:45:00+00:00",
          "2025-06-18T10:00:00+00:00",
          "2025-06-18T10:15:00+00:00",
          "2025-06-18T10:30:00+00:00",
          "2025-06-18T10:45:00+00:00",
          "2025-06-18T11:00:00+00:00",
          "2025-06-18T11:15:00+00:00",
          "2025-06-18T11:30:00+00:00",
          "2025-06-18T11:45:00+00:00",
          "2025-06-18T12:00:00+00:00",
          "2025-06-18T12:15:00+00:00",
          "2025-06-18T12:30:00+00:00",
          "2025-06-18T12:45:00+00:00",
          "2025-06-18T13:00:00+00:00",
          "2025-06-18T13:15:00+00:00",
          "2025-06-18T13:30:00+00:00",
          "2025-06-18T13:45:00+00:00",
          "2025-06-18T14:00:00+00:00",
          "2025-06-18T14:15:00+00:00",
          "2025-06-18T14:30:00+00:00",
          "2025-06-18T14:45:00+00:00",
          "2025-06-18T15:00:00+00:00",
          "2025-06-18T15:15:00+00:00",
          "2025-06-18T15:30:00+00:00",
          "2025-06-18T15:45:00+00:00",
          "2025-06-18T16:00:00+00:00",
          "2025-06-18T16:15:00+00:00",
          "2025-06-18T16:30:00+00:00",
          "2025-06-18T16:45:00+00:00",
          "2025-06-18T17:00:00+00:00",
          "2025-06-18T17:15:00+00:00",
          "2025-06-18T17:30:00+00:00",
          "2025-06-18T17:45:00+00:00",
          "2025-06-18T18:00:00+00:00",
          "2025-06-18T18:15:00+00:00",
          "2025-06-18T18:30:00+00:00",
          "2025-06-18T18:45:00+00:00",
          "2025-06-18T19:00:00+00:00",
          "2025-06-18T19:15:00+00:00",
          "2025-06-18T19:30:00+00:00",
          "2025-06-18T19:45:00+00:00",
          "2025-06-18T20:00:00+00:00",
          "2025-06-18T20:15:00+00:00",
          "2025-06-18T20:30:00+00:00",
          "2025-06-18T20:45:00+00:00",
          "2025-06-18T21:00:00+00:00",
          "2025-06-18T21:15:00+00:00",
          "2025-06-18T21:30:00+00:00",
          "2025-06-18T21:45:00+00:00",
          "2025-06-18T22:00:00+00:00",
          "2025-06-18T22:15:00+00:00",
          "2025-06-18T22:30:00+00:00",
          "2025-06-18T22:45:00+00:00",
          "2025-06-18T23:00:00+00:00",
          "2025-06-18T23:15:00+00:00",
          "2025-06-18T23:30:00+00:00",
          "2025-06-18T23:45:00+00:00",
          "2025-06-19T00:00:00+00:00",
          "2025-06-19T00:15:00+00:00",
          "2025-06-19T00:30:00+00:00",
          "2025-06-19T00:45:00+00:00",
          "2025-06-19T01:00:00+00:00",
          "2025-06-19T01:15:00+00:00",
          "2025-06-19T01:30:00+00:00",
          "2025-06-19T01:45:00+00:00",
          "2025-06-19T02:00:00+00:00",
          "2025-06-19T02:15:00+00:00",
          "2025-06-19T02:30:00+00:00",
          "2025-06-19T02:45:00+00:00",
          "2025-06-19T03:00:00+00:00",
          "2025-06-19T03:15:00+00:00",
          "2025-06-19T03:30:00+00:00",
          "2025-06-19T03:45:00+00:00",
          "2025-06-19T04:00:00+00:00",
          "2025-06-19T04:15:00+00:00",
          "2025-06-19T04:30:00+00:00",
          "2025-06-19T04:45:00+00:00",
          "2025-06-19T05:00:00+00:00",
          "2025-06-19T05:15:00+00:00",
          "2025-06-19T05:30:00+00:00",
          "2025-06-19T05:45:00+00:00",
          "2025-06-19T06:00:00+00:00",
          "2025-06-19T06:15:00+00:00",
          "2025-06-19T06:30:00+00:00",
          "2025-06-19T06:45:00+00:00",
          "2025-06-19T07:00:00+00:00",
          "2025-06-19T07:15:00+00:00",
          "2025-06-19T07:30:00+00:00",
          "2025-06-19T07:45:00+00:00",
          "2025-06-19T08:00:00+00:00",
          "2025-06-19T08:15:00+00:00",
          "2025-06-19T08:30:00+00:00",
          "2025-06-19T08:45:00+00:00",
          "2025-06-19T09:00:00+00:00",
          "2025-06-19T09:15:00+00:00",
          "2025-06-19T09:30:00+00:00",
          "2025-06-19T09:45:00+00:00",
          "2025-06-19T10:00:00+00:00",
          "2025-06-19T10:15:00+00:00",
          "2025-06-19T10:30:00+00:00",
          "2025-06-19T10:45:00+00:00",
          "2025-06-19T11:00:00+00:00",
          "2025-06-19T11:15:00+00:00",
          "2025-06-19T11:30:00+00:00",
          "2025-06-19T11:45:00+00:00",
          "2025-06-19T12:00:00+00:00",
          "2025-06-19T12:15:00+00:00",
          "2025-06-19T12:30:00+00:00",
          "2025-06-19T12:45:00+00:00",
          "2025-06-19T13:00:00+00:00",
          "2025-06-19T13:15:00+00:00",
          "2025-06-19T13:30:00+00:00",
          "2025-06-19T13:45:00+00:00",
          "2025-06-19T14:00:00+00:00",
          "2025-06-19T14:15:00+00:00",
          "2025-06-19T14:30:00+00:00",
          "2025-06-19T14:45:00+00:00",
          "2025-06-19T15:00:00+00:00",
          "2025-06-19T15:15:00+00:00",
          "2025-06-19T15:30:00+00:00",
          "2025-06-19T15:45:00+00:00",
          "2025-06-19T16:00:00+00:00",
          "2025-06-19T16:15:00+00:00",
          "2025-06-19T16:30:00+00:00",
          "2025-06-19T16:45:00+00:00",
          "2025-06-19T17:00:00+00:00",
          "2025-06-19T17:15:00+00:00",
          "2025-06-19T17:30:00+00:00",
          "2025-06-19T17:45:00+00:00",
          "2025-06-19T18:00:00+00:00",
          "2025-06-19T18:15:00+00:00",
          "2025-06-19T18:30:00+00:00",
          "2025-06-19T18:45:00+00:00"
         ],
         "y": {
          "bdata": "AAAAAAAA+H8AAAAAAAD4fwAAAAAAAPh/AAAAAAAA+H8AAAAAAAD4fwAAAAAAAPh/AAAAAAAA+H8AAAAAAAD4fwAAAAAAAPh/AAAAAAAA+H8AAAAAAAD4fwAAAAAAAPh/AAAAAAAA+H8AAAAAAAD4fwAAAAAAAPh/AAAAAAAA+H8AAAAAAAD4fwAAAAAAAPh/AAAAAAAA+H/kmDi/dt/1PzKyqVWp3/U/iJl3fJLf9T9jIE0nYN/1PzmDw3o93/U/5LJoM0Lf9T/oghSm9d/1P1qE1LdS4fU/C7ciXRzi9T+ujyVGWOL1P5QEqak64vU/gXiIJuDh9T8Ei1/3yeH1P3fdLNmv4fU/pEUMH1nh9T+k+u3AEuP1Pw1oPvbI5PU/WjHIzqPm9T+c43i9Mej1Px1AYSss6fU/tK6yBa7p9T/oWn/Wker1P2u2GJSw6vU/5bHMx/jq9T8VMlq6U+v1P8Q3FDez6/U/QEEqVKnr9T+h7cuVVev1PwxL3Tnj6vU/ifCSlHrq9T8xXHYnMur1P2pij79o6fU/ONLXuFjp9T+Fd+sJVur1P7jtZe0p6vU//SiVd3fr9T/P+pXK5Ov1PxswxVPJ7PU/AB04tUTt9T/Zm/SI0u31P710dfhp7vU/YwBDOc/u9T/tsWhB9+71P8tRG2gq7/U/uvZCkF7v9T8006F3iO/1PwTmmeaQ7/U/6grPN5/v9T8yinVFx+/1P1TQhPfy7/U/OBCozKzu9T89ptLIhO31PwQocLXI6/U/H+9gd97r9T9jj9bd6Ov1Pw2bSCim6/U/EOcs4+rr9T+vWeTQ8uv1P4pMChqY7PU/Y4lb1Cvt9T9jtnfr9e31PxcF3UZ07/U/7ThG8qTw9T/OR0ktQ/L1P/QNn+YR8/U/OTglfuLz9T9MVFB1VPT1P6hVTKyI9PU/VtyAMa709T+IlWSrufT1P+Qqp9KV9PU/9fch8JL09T8HwPNLbvT1P8KouSA49PU/9LaYeET09T/NXZHHCPT1PzFPx/7X8/U/xByAUgP09T+gGV9GtfT1P2RQbECf9fU/qz4mYwb29T8WOkBzOfb1P59ixYqU9vU/2KsOd2b29T+B+IGaj/b1P1j5tFr59vU/rhP/lgn39T+YmcZIDvf1P4OcumEN9/U/WAGKfRv39T8fC23uDvf1P6+edrkK9/U/omukR/P29T9eE2tB0vb1P5paC4jV9vU/SL2E+OD29T9q/Hs76fb1P9CPCLzF9vU/KoCbelH29T+eeNM6lPX1P6iqrhYV9fU/nZuAlcn09T9fldp4G/T1P5e31UYm9PU/qqSN9hH09T942BJ4X/P1P3BclQlT8/U/np77PLLz9T+wJ2114PT1P5JzsCHd9fU/E5OMxJn39T89ihrtgvr1P7G2c5uZ+/U/P2+9der89T8tXsh3k/31PyyHgf5d/vU/7Is0u9r+9T8m1iEtev/1PzscVkvw//U/7hh2Ovz/9T+tOwGLo//1PxQNgyg5//U/v4EdTLL+9T/qy9rneP71PyCZQEdV/vU/+t0m4lz+9T+yk8TCbf71PxkdcevA/vU/cnGuCjD/9T+Q2I/6g//1Pw==",
          "dtype": "f8"
         }
        },
        {
         "line": {
          "color": "yellow",
          "dash": "dash"
         },
         "mode": "lines",
         "name": "Middle BB",
         "opacity": 0.7,
         "type": "scatter",
         "x": [
          "2025-06-18T05:45:00+00:00",
          "2025-06-18T06:00:00+00:00",
          "2025-06-18T06:15:00+00:00",
          "2025-06-18T06:30:00+00:00",
          "2025-06-18T06:45:00+00:00",
          "2025-06-18T07:00:00+00:00",
          "2025-06-18T07:15:00+00:00",
          "2025-06-18T07:30:00+00:00",
          "2025-06-18T07:45:00+00:00",
          "2025-06-18T08:00:00+00:00",
          "2025-06-18T08:15:00+00:00",
          "2025-06-18T08:30:00+00:00",
          "2025-06-18T08:45:00+00:00",
          "2025-06-18T09:00:00+00:00",
          "2025-06-18T09:15:00+00:00",
          "2025-06-18T09:30:00+00:00",
          "2025-06-18T09:45:00+00:00",
          "2025-06-18T10:00:00+00:00",
          "2025-06-18T10:15:00+00:00",
          "2025-06-18T10:30:00+00:00",
          "2025-06-18T10:45:00+00:00",
          "2025-06-18T11:00:00+00:00",
          "2025-06-18T11:15:00+00:00",
          "2025-06-18T11:30:00+00:00",
          "2025-06-18T11:45:00+00:00",
          "2025-06-18T12:00:00+00:00",
          "2025-06-18T12:15:00+00:00",
          "2025-06-18T12:30:00+00:00",
          "2025-06-18T12:45:00+00:00",
          "2025-06-18T13:00:00+00:00",
          "2025-06-18T13:15:00+00:00",
          "2025-06-18T13:30:00+00:00",
          "2025-06-18T13:45:00+00:00",
          "2025-06-18T14:00:00+00:00",
          "2025-06-18T14:15:00+00:00",
          "2025-06-18T14:30:00+00:00",
          "2025-06-18T14:45:00+00:00",
          "2025-06-18T15:00:00+00:00",
          "2025-06-18T15:15:00+00:00",
          "2025-06-18T15:30:00+00:00",
          "2025-06-18T15:45:00+00:00",
          "2025-06-18T16:00:00+00:00",
          "2025-06-18T16:15:00+00:00",
          "2025-06-18T16:30:00+00:00",
          "2025-06-18T16:45:00+00:00",
          "2025-06-18T17:00:00+00:00",
          "2025-06-18T17:15:00+00:00",
          "2025-06-18T17:30:00+00:00",
          "2025-06-18T17:45:00+00:00",
          "2025-06-18T18:00:00+00:00",
          "2025-06-18T18:15:00+00:00",
          "2025-06-18T18:30:00+00:00",
          "2025-06-18T18:45:00+00:00",
          "2025-06-18T19:00:00+00:00",
          "2025-06-18T19:15:00+00:00",
          "2025-06-18T19:30:00+00:00",
          "2025-06-18T19:45:00+00:00",
          "2025-06-18T20:00:00+00:00",
          "2025-06-18T20:15:00+00:00",
          "2025-06-18T20:30:00+00:00",
          "2025-06-18T20:45:00+00:00",
          "2025-06-18T21:00:00+00:00",
          "2025-06-18T21:15:00+00:00",
          "2025-06-18T21:30:00+00:00",
          "2025-06-18T21:45:00+00:00",
          "2025-06-18T22:00:00+00:00",
          "2025-06-18T22:15:00+00:00",
          "2025-06-18T22:30:00+00:00",
          "2025-06-18T22:45:00+00:00",
          "2025-06-18T23:00:00+00:00",
          "2025-06-18T23:15:00+00:00",
          "2025-06-18T23:30:00+00:00",
          "2025-06-18T23:45:00+00:00",
          "2025-06-19T00:00:00+00:00",
          "2025-06-19T00:15:00+00:00",
          "2025-06-19T00:30:00+00:00",
          "2025-06-19T00:45:00+00:00",
          "2025-06-19T01:00:00+00:00",
          "2025-06-19T01:15:00+00:00",
          "2025-06-19T01:30:00+00:00",
          "2025-06-19T01:45:00+00:00",
          "2025-06-19T02:00:00+00:00",
          "2025-06-19T02:15:00+00:00",
          "2025-06-19T02:30:00+00:00",
          "2025-06-19T02:45:00+00:00",
          "2025-06-19T03:00:00+00:00",
          "2025-06-19T03:15:00+00:00",
          "2025-06-19T03:30:00+00:00",
          "2025-06-19T03:45:00+00:00",
          "2025-06-19T04:00:00+00:00",
          "2025-06-19T04:15:00+00:00",
          "2025-06-19T04:30:00+00:00",
          "2025-06-19T04:45:00+00:00",
          "2025-06-19T05:00:00+00:00",
          "2025-06-19T05:15:00+00:00",
          "2025-06-19T05:30:00+00:00",
          "2025-06-19T05:45:00+00:00",
          "2025-06-19T06:00:00+00:00",
          "2025-06-19T06:15:00+00:00",
          "2025-06-19T06:30:00+00:00",
          "2025-06-19T06:45:00+00:00",
          "2025-06-19T07:00:00+00:00",
          "2025-06-19T07:15:00+00:00",
          "2025-06-19T07:30:00+00:00",
          "2025-06-19T07:45:00+00:00",
          "2025-06-19T08:00:00+00:00",
          "2025-06-19T08:15:00+00:00",
          "2025-06-19T08:30:00+00:00",
          "2025-06-19T08:45:00+00:00",
          "2025-06-19T09:00:00+00:00",
          "2025-06-19T09:15:00+00:00",
          "2025-06-19T09:30:00+00:00",
          "2025-06-19T09:45:00+00:00",
          "2025-06-19T10:00:00+00:00",
          "2025-06-19T10:15:00+00:00",
          "2025-06-19T10:30:00+00:00",
          "2025-06-19T10:45:00+00:00",
          "2025-06-19T11:00:00+00:00",
          "2025-06-19T11:15:00+00:00",
          "2025-06-19T11:30:00+00:00",
          "2025-06-19T11:45:00+00:00",
          "2025-06-19T12:00:00+00:00",
          "2025-06-19T12:15:00+00:00",
          "2025-06-19T12:30:00+00:00",
          "2025-06-19T12:45:00+00:00",
          "2025-06-19T13:00:00+00:00",
          "2025-06-19T13:15:00+00:00",
          "2025-06-19T13:30:00+00:00",
          "2025-06-19T13:45:00+00:00",
          "2025-06-19T14:00:00+00:00",
          "2025-06-19T14:15:00+00:00",
          "2025-06-19T14:30:00+00:00",
          "2025-06-19T14:45:00+00:00",
          "2025-06-19T15:00:00+00:00",
          "2025-06-19T15:15:00+00:00",
          "2025-06-19T15:30:00+00:00",
          "2025-06-19T15:45:00+00:00",
          "2025-06-19T16:00:00+00:00",
          "2025-06-19T16:15:00+00:00",
          "2025-06-19T16:30:00+00:00",
          "2025-06-19T16:45:00+00:00",
          "2025-06-19T17:00:00+00:00",
          "2025-06-19T17:15:00+00:00",
          "2025-06-19T17:30:00+00:00",
          "2025-06-19T17:45:00+00:00",
          "2025-06-19T18:00:00+00:00",
          "2025-06-19T18:15:00+00:00",
          "2025-06-19T18:30:00+00:00",
          "2025-06-19T18:45:00+00:00"
         ],
         "y": {
          "bdata": "AAAAAAAA+H8AAAAAAAD4fwAAAAAAAPh/AAAAAAAA+H8AAAAAAAD4fwAAAAAAAPh/AAAAAAAA+H8AAAAAAAD4fwAAAAAAAPh/AAAAAAAA+H8AAAAAAAD4fwAAAAAAAPh/AAAAAAAA+H8AAAAAAAD4fwAAAAAAAPh/AAAAAAAA+H8AAAAAAAD4fwAAAAAAAPh/AAAAAAAA+H+y3NJqSNz1Pwwh5/1/3PU/AeFDiZbc9T/ZKVYNwtz1P7yyCwbX3PU/pb4s7dTc9T8G2Eenrtz1P+o+AKlN3PU/8dk6ONjb9T/msWZkkNv1P74SSIld2/U/s7CnHf7a9T9enWNA9tr1P+3YCMTr2vU/7mRwlLza9T8DQYAMHdv1P1c89UiD2/U/3xYs1QXc9T8MIef9f9z1P7YvoBfu3PU/+rmhKTvd9T/LuRRXld31P0J1c/G33fU/e0s5X+zd9T+MMEW5NN71P3Ukl/+Q3vU/yR8MPPfe9T86evzept/1PxBZpIl34PU/uhXCaizh9T8JpppZS+H1P3VbIhec4fU/aRt/orLh9T8eGED4UOL1P5T1m4np4vU/RIfAkUDj9T/HvI44ZOP1P07pYP2f4/U/84x9ycbj9T+CdocUA+T1P2pq2Vpf5PU/XmQCfo3k9T9NT1jiAeX1P874vrhU5fU/GED4UKLl9T8SMSWS6OX1PyKKyRtg5vU/Q6Z8CKrm9T+I9rGC3+b1P/7r3LQZ5/U/gX106srn9T+KjXkdcej1P1GHFW756PU/wktw6gPp9T9QNXo1QOn1P5qUgm4v6fU/5Gcj103p9T/2nsppT+n1P6D/Hrx26fU/pTDvcabp9T9Pyw9c5en1P54JTRJL6vU/xVbQtMTq9T9eonprYOv1P7iU88Xe6/U/mj+mtWns9T8AcsKE0ez1P83uycNC7fU/MiHmkqrt9T8yCRfyCO71Pzwx68VQ7vU/qKym64nu9T9BECBDx+71P7gFS3UB7/U/LzVCP1Pv9T+mZDkJpe/1P+QxA5Xx7/U/9FDbhlHw9T9ag/dVufD1P41K6gQ08fU/MWKfAIrx9T+A8nfvqPH1P1g7inPU8fU/Qg3fwrrx9T9GBOPg0vH1P+bqxyb58fU/1e3sKw/y9T96HXHIBvL1P7J/ngYM8vU/Hk31ZP7x9T96HXHIBvL1P5uLv+0J8vU/nMWLhSHy9T/g2/RnP/L1P1cju9Iy8vU/uHaiJCTy9T/xngPLEfL1P5xR81Xy8fU/O1CnPLrx9T9kWTDxR/H1P8b+snvy8PU/Ci3r/rHw9T9OWyOCcfD1P3xD4bN18PU/Sp7r+3Dw9T//ykqTUvD1P91c/G1P8PU/jXqIRnfw9T988UV7vPD1P3YcP1Qa8fU//fZ14Jzx9T8ZeO49XPL1Px1XI7vS8vU/3pOHhVrz9T+elh+4yvP1P5J4eTpX9PU/1nYTfNP09T8TuHU3T/X1PyMRGsHG9fU/2A3bFmX29T+1wYno1/b1PyHrqdVX9/U/o5QQrKr39T/s20lE+Pf1P9UhN8MN+PU/s7PonQr49T91lIPZBPj1Pzz4iQPo9/U/KxN+qZ/39T8K98q8Vff1Pw==",
          "dtype": "f8"
         }
        },
        {
         "fill": "tonexty",
         "fillcolor": "rgba(0, 176, 246, 0.1)",
         "line": {
          "color": "cyan",
          "dash": "dash"
         },
         "mode": "lines",
         "name": "Lower BB",
         "opacity": 0.7,
         "type": "scatter",
         "x": [
          "2025-06-18T05:45:00+00:00",
          "2025-06-18T06:00:00+00:00",
          "2025-06-18T06:15:00+00:00",
          "2025-06-18T06:30:00+00:00",
          "2025-06-18T06:45:00+00:00",
          "2025-06-18T07:00:00+00:00",
          "2025-06-18T07:15:00+00:00",
          "2025-06-18T07:30:00+00:00",
          "2025-06-18T07:45:00+00:00",
          "2025-06-18T08:00:00+00:00",
          "2025-06-18T08:15:00+00:00",
          "2025-06-18T08:30:00+00:00",
          "2025-06-18T08:45:00+00:00",
          "2025-06-18T09:00:00+00:00",
          "2025-06-18T09:15:00+00:00",
          "2025-06-18T09:30:00+00:00",
          "2025-06-18T09:45:00+00:00",
          "2025-06-18T10:00:00+00:00",
          "2025-06-18T10:15:00+00:00",
          "2025-06-18T10:30:00+00:00",
          "2025-06-18T10:45:00+00:00",
          "2025-06-18T11:00:00+00:00",
          "2025-06-18T11:15:00+00:00",
          "2025-06-18T11:30:00+00:00",
          "2025-06-18T11:45:00+00:00",
          "2025-06-18T12:00:00+00:00",
          "2025-06-18T12:15:00+00:00",
          "2025-06-18T12:30:00+00:00",
          "2025-06-18T12:45:00+00:00",
          "2025-06-18T13:00:00+00:00",
          "2025-06-18T13:15:00+00:00",
          "2025-06-18T13:30:00+00:00",
          "2025-06-18T13:45:00+00:00",
          "2025-06-18T14:00:00+00:00",
          "2025-06-18T14:15:00+00:00",
          "2025-06-18T14:30:00+00:00",
          "2025-06-18T14:45:00+00:00",
          "2025-06-18T15:00:00+00:00",
          "2025-06-18T15:15:00+00:00",
          "2025-06-18T15:30:00+00:00",
          "2025-06-18T15:45:00+00:00",
          "2025-06-18T16:00:00+00:00",
          "2025-06-18T16:15:00+00:00",
          "2025-06-18T16:30:00+00:00",
          "2025-06-18T16:45:00+00:00",
          "2025-06-18T17:00:00+00:00",
          "2025-06-18T17:15:00+00:00",
          "2025-06-18T17:30:00+00:00",
          "2025-06-18T17:45:00+00:00",
          "2025-06-18T18:00:00+00:00",
          "2025-06-18T18:15:00+00:00",
          "2025-06-18T18:30:00+00:00",
          "2025-06-18T18:45:00+00:00",
          "2025-06-18T19:00:00+00:00",
          "2025-06-18T19:15:00+00:00",
          "2025-06-18T19:30:00+00:00",
          "2025-06-18T19:45:00+00:00",
          "2025-06-18T20:00:00+00:00",
          "2025-06-18T20:15:00+00:00",
          "2025-06-18T20:30:00+00:00",
          "2025-06-18T20:45:00+00:00",
          "2025-06-18T21:00:00+00:00",
          "2025-06-18T21:15:00+00:00",
          "2025-06-18T21:30:00+00:00",
          "2025-06-18T21:45:00+00:00",
          "2025-06-18T22:00:00+00:00",
          "2025-06-18T22:15:00+00:00",
          "2025-06-18T22:30:00+00:00",
          "2025-06-18T22:45:00+00:00",
          "2025-06-18T23:00:00+00:00",
          "2025-06-18T23:15:00+00:00",
          "2025-06-18T23:30:00+00:00",
          "2025-06-18T23:45:00+00:00",
          "2025-06-19T00:00:00+00:00",
          "2025-06-19T00:15:00+00:00",
          "2025-06-19T00:30:00+00:00",
          "2025-06-19T00:45:00+00:00",
          "2025-06-19T01:00:00+00:00",
          "2025-06-19T01:15:00+00:00",
          "2025-06-19T01:30:00+00:00",
          "2025-06-19T01:45:00+00:00",
          "2025-06-19T02:00:00+00:00",
          "2025-06-19T02:15:00+00:00",
          "2025-06-19T02:30:00+00:00",
          "2025-06-19T02:45:00+00:00",
          "2025-06-19T03:00:00+00:00",
          "2025-06-19T03:15:00+00:00",
          "2025-06-19T03:30:00+00:00",
          "2025-06-19T03:45:00+00:00",
          "2025-06-19T04:00:00+00:00",
          "2025-06-19T04:15:00+00:00",
          "2025-06-19T04:30:00+00:00",
          "2025-06-19T04:45:00+00:00",
          "2025-06-19T05:00:00+00:00",
          "2025-06-19T05:15:00+00:00",
          "2025-06-19T05:30:00+00:00",
          "2025-06-19T05:45:00+00:00",
          "2025-06-19T06:00:00+00:00",
          "2025-06-19T06:15:00+00:00",
          "2025-06-19T06:30:00+00:00",
          "2025-06-19T06:45:00+00:00",
          "2025-06-19T07:00:00+00:00",
          "2025-06-19T07:15:00+00:00",
          "2025-06-19T07:30:00+00:00",
          "2025-06-19T07:45:00+00:00",
          "2025-06-19T08:00:00+00:00",
          "2025-06-19T08:15:00+00:00",
          "2025-06-19T08:30:00+00:00",
          "2025-06-19T08:45:00+00:00",
          "2025-06-19T09:00:00+00:00",
          "2025-06-19T09:15:00+00:00",
          "2025-06-19T09:30:00+00:00",
          "2025-06-19T09:45:00+00:00",
          "2025-06-19T10:00:00+00:00",
          "2025-06-19T10:15:00+00:00",
          "2025-06-19T10:30:00+00:00",
          "2025-06-19T10:45:00+00:00",
          "2025-06-19T11:00:00+00:00",
          "2025-06-19T11:15:00+00:00",
          "2025-06-19T11:30:00+00:00",
          "2025-06-19T11:45:00+00:00",
          "2025-06-19T12:00:00+00:00",
          "2025-06-19T12:15:00+00:00",
          "2025-06-19T12:30:00+00:00",
          "2025-06-19T12:45:00+00:00",
          "2025-06-19T13:00:00+00:00",
          "2025-06-19T13:15:00+00:00",
          "2025-06-19T13:30:00+00:00",
          "2025-06-19T13:45:00+00:00",
          "2025-06-19T14:00:00+00:00",
          "2025-06-19T14:15:00+00:00",
          "2025-06-19T14:30:00+00:00",
          "2025-06-19T14:45:00+00:00",
          "2025-06-19T15:00:00+00:00",
          "2025-06-19T15:15:00+00:00",
          "2025-06-19T15:30:00+00:00",
          "2025-06-19T15:45:00+00:00",
          "2025-06-19T16:00:00+00:00",
          "2025-06-19T16:15:00+00:00",
          "2025-06-19T16:30:00+00:00",
          "2025-06-19T16:45:00+00:00",
          "2025-06-19T17:00:00+00:00",
          "2025-06-19T17:15:00+00:00",
          "2025-06-19T17:30:00+00:00",
          "2025-06-19T17:45:00+00:00",
          "2025-06-19T18:00:00+00:00",
          "2025-06-19T18:15:00+00:00",
          "2025-06-19T18:30:00+00:00",
          "2025-06-19T18:45:00+00:00"
         ],
         "y": {
          "bdata": "AAAAAAAA+H8AAAAAAAD4fwAAAAAAAPh/AAAAAAAA+H8AAAAAAAD4fwAAAAAAAPh/AAAAAAAA+H8AAAAAAAD4fwAAAAAAAPh/AAAAAAAA+H8AAAAAAAD4fwAAAAAAAPh/AAAAAAAA+H8AAAAAAAD4fwAAAAAAAPh/AAAAAAAA+H8AAAAAAAD4fwAAAAAAAPh/AAAAAAAA+H+AIG0WGtn1P+aPJKZW2fU/eigQlprZ9T9PM1/zI9r1Pz/iU5Fw2vU/Zsrwpmfa9T8kLXuoZ9n1P3r5K5pI1/U/1/xSE5TV9T8e1KeCyNT1P+gg52iA1PU/5ejGFBzU9T+4r2eJItT1P2PU5K4n1PU/OITUCSDU9T9ihxJYJ9P1P6EQrJs90vU/ZPyP22fR9T98XlU+ztD1P08f3wOw0PU/QMWQTcjQ9T+uGKrXmND1Pxk0zk6/0PU/EeWl9t/Q9T8DLzC4FdH1PyYRGshu0fU/Uv7tI0XS9T/TBi0o+NP1PxRna9kL1vU/6zrxQN7X9T/h776LZNj1P4BUtW7P2fU/mmQmjAza9T+3uJTmS9r1P3D90SWp2/U/i+Xrqwnb9T+/foem49r1P4Gi/KZ22vU/5vzC3Uja9T8rURqgM9r1PxdgPb1U2vU/WcjBwkva9T+t7EeDDNv1P9GfYgl/2/U/domtEebb9T/wjqisSNz1P0Au+VAv3fU/nEEq2bTd9T/eYu6/9931P6gHNXJA3vU/yupACOng9T/XdCByXeP1P57muiYq5vU/Zah/XSnm9T892x2Nl+b1PyeOvLS45vU/uOgZy7Dm9T895LACrOb1P7ayM15V5vU/59eCDyHm9T874KfM1OX1PyUOvd0h5fU/nXRad+Tk9T/u/KupfeT1P3wbSKWr5PU/+0Yn7fDk9T+0jzSUTuX1P/KHR9v85fU/DmZL9Kbm9T/cfMk4WOf1P5Q3L7kL6PU/W2Er54Do9T97YEw6IOn1P65i3MnK6fU/arPrBWLq9T9/a+FKQev1P5cUPysL7PU/JIU2u5/s9T8U7Y9lvez1P7ZEaMnI7PU/t4UYng3t9T/qqq9rGO31PxEUT1wU7fU/rG6vDg/t9T8LEEQnFu31P3Tc2vL47PU//MfawBTt9T9coRtI/+z1P+FigqsK7fU/5JhgTOHs9T/VL3Wi/uz1P4d4CCIJ7fU/lh9zw0/t9T9ipH6OrO31PxTsah2Q7fU/KDDAUGft9T94QYtaOu31P2gT3u8e7fU/TCCz/iLt9T8qOo2n++z1P+RSt+DP7PU/d75VaJrs9T89IWyLx+z1P2HP7CDF7PU/6pdJAdDs9T+GvYKuRe31P0pdY9JL7fU/fFYVUDzt9T9Iux6BmOz1P1rFzYZX7PU/51pf/J/r9T/1ZcKONer1P4n30toL6vU/fbhRlcrp9T8Pz3b4Aer1P/hpcXZQ6vU/wGHyPMzq9T8AmslBJOv1PwsG3jad6/U/wgJA883s9T+9RxJGDO71Py7J0IJ27/U/h6cDDKPw9T/u67igd/H1P4qqLT/G8fU/bImqWbjx9T84lULwm/H1P1/TohsP8fU/5LRNSA/w9T+EFQZ/J+/1Pw==",
          "dtype": "f8"
         }
        },
        {
         "marker": {
          "color": "red",
          "line": {
           "color": "white",
           "width": 1
          },
          "size": 12,
          "symbol": "triangle-down"
         },
         "mode": "markers",
         "name": "Entry",
         "type": "scatter",
         "x": [
          "2025-06-19T06:30:15.094722246+00:00"
         ],
         "y": [
          1.37267
         ]
        },
        {
         "marker": {
          "color": "purple",
          "line": {
           "color": "white",
           "width": 1
          },
          "size": 10,
          "symbol": "square"
         },
         "mode": "markers",
         "name": "Exit",
         "type": "scatter",
         "x": [
          "2025-06-19T07:22:43.531186200+00:00"
         ],
         "y": [
          1.37148
         ]
        }
       ],
       "layout": {
        "legend": {
         "orientation": "h",
         "x": 1,
         "xanchor": "right",
         "y": 1.02,
         "yanchor": "bottom"
        },
        "template": {
         "data": {
          "bar": [
           {
            "error_x": {
             "color": "#f2f5fa"
            },
            "error_y": {
             "color": "#f2f5fa"
            },
            "marker": {
             "line": {
              "color": "rgb(17,17,17)",
              "width": 0.5
             },
             "pattern": {
              "fillmode": "overlay",
              "size": 10,
              "solidity": 0.2
             }
            },
            "type": "bar"
           }
          ],
          "barpolar": [
           {
            "marker": {
             "line": {
              "color": "rgb(17,17,17)",
              "width": 0.5
             },
             "pattern": {
              "fillmode": "overlay",
              "size": 10,
              "solidity": 0.2
             }
            },
            "type": "barpolar"
           }
          ],
          "carpet": [
           {
            "aaxis": {
             "endlinecolor": "#A2B1C6",
             "gridcolor": "#506784",
             "linecolor": "#506784",
             "minorgridcolor": "#506784",
             "startlinecolor": "#A2B1C6"
            },
            "baxis": {
             "endlinecolor": "#A2B1C6",
             "gridcolor": "#506784",
             "linecolor": "#506784",
             "minorgridcolor": "#506784",
             "startlinecolor": "#A2B1C6"
            },
            "type": "carpet"
           }
          ],
          "choropleth": [
           {
            "colorbar": {
             "outlinewidth": 0,
             "ticks": ""
            },
            "type": "choropleth"
           }
          ],
          "contour": [
           {
            "colorbar": {
             "outlinewidth": 0,
             "ticks": ""
            },
            "colorscale": [
             [
              0,
              "#0d0887"
             ],
             [
              0.1111111111111111,
              "#46039f"
             ],
             [
              0.2222222222222222,
              "#7201a8"
             ],
             [
              0.3333333333333333,
              "#9c179e"
             ],
             [
              0.4444444444444444,
              "#bd3786"
             ],
             [
              0.5555555555555556,
              "#d8576b"
             ],
             [
              0.6666666666666666,
              "#ed7953"
             ],
             [
              0.7777777777777778,
              "#fb9f3a"
             ],
             [
              0.8888888888888888,
              "#fdca26"
             ],
             [
              1,
              "#f0f921"
             ]
            ],
            "type": "contour"
           }
          ],
          "contourcarpet": [
           {
            "colorbar": {
             "outlinewidth": 0,
             "ticks": ""
            },
            "type": "contourcarpet"
           }
          ],
          "heatmap": [
           {
            "colorbar": {
             "outlinewidth": 0,
             "ticks": ""
            },
            "colorscale": [
             [
              0,
              "#0d0887"
             ],
             [
              0.1111111111111111,
              "#46039f"
             ],
             [
              0.2222222222222222,
              "#7201a8"
             ],
             [
              0.3333333333333333,
              "#9c179e"
             ],
             [
              0.4444444444444444,
              "#bd3786"
             ],
             [
              0.5555555555555556,
              "#d8576b"
             ],
             [
              0.6666666666666666,
              "#ed7953"
             ],
             [
              0.7777777777777778,
              "#fb9f3a"
             ],
             [
              0.8888888888888888,
              "#fdca26"
             ],
             [
              1,
              "#f0f921"
             ]
            ],
            "type": "heatmap"
           }
          ],
          "histogram": [
           {
            "marker": {
             "pattern": {
              "fillmode": "overlay",
              "size": 10,
              "solidity": 0.2
             }
            },
            "type": "histogram"
           }
          ],
          "histogram2d": [
           {
            "colorbar": {
             "outlinewidth": 0,
             "ticks": ""
            },
            "colorscale": [
             [
              0,
              "#0d0887"
             ],
             [
              0.1111111111111111,
              "#46039f"
             ],
             [
              0.2222222222222222,
              "#7201a8"
             ],
             [
              0.3333333333333333,
              "#9c179e"
             ],
             [
              0.4444444444444444,
              "#bd3786"
             ],
             [
              0.5555555555555556,
              "#d8576b"
             ],
             [
              0.6666666666666666,
              "#ed7953"
             ],
             [
              0.7777777777777778,
              "#fb9f3a"
             ],
             [
              0.8888888888888888,
              "#fdca26"
             ],
             [
              1,
              "#f0f921"
             ]
            ],
            "type": "histogram2d"
           }
          ],
          "histogram2dcontour": [
           {
            "colorbar": {
             "outlinewidth": 0,
             "ticks": ""
            },
            "colorscale": [
             [
              0,
              "#0d0887"
             ],
             [
              0.1111111111111111,
              "#46039f"
             ],
             [
              0.2222222222222222,
              "#7201a8"
             ],
             [
              0.3333333333333333,
              "#9c179e"
             ],
             [
              0.4444444444444444,
              "#bd3786"
             ],
             [
              0.5555555555555556,
              "#d8576b"
             ],
             [
              0.6666666666666666,
              "#ed7953"
             ],
             [
              0.7777777777777778,
              "#fb9f3a"
             ],
             [
              0.8888888888888888,
              "#fdca26"
             ],
             [
              1,
              "#f0f921"
             ]
            ],
            "type": "histogram2dcontour"
           }
          ],
          "mesh3d": [
           {
            "colorbar": {
             "outlinewidth": 0,
             "ticks": ""
            },
            "type": "mesh3d"
           }
          ],
          "parcoords": [
           {
            "line": {
             "colorbar": {
              "outlinewidth": 0,
              "ticks": ""
             }
            },
            "type": "parcoords"
           }
          ],
          "pie": [
           {
            "automargin": true,
            "type": "pie"
           }
          ],
          "scatter": [
           {
            "marker": {
             "line": {
              "color": "#283442"
             }
            },
            "type": "scatter"
           }
          ],
          "scatter3d": [
           {
            "line": {
             "colorbar": {
              "outlinewidth": 0,
              "ticks": ""
             }
            },
            "marker": {
             "colorbar": {
              "outlinewidth": 0,
              "ticks": ""
             }
            },
            "type": "scatter3d"
           }
          ],
          "scattercarpet": [
           {
            "marker": {
             "colorbar": {
              "outlinewidth": 0,
              "ticks": ""
             }
            },
            "type": "scattercarpet"
           }
          ],
          "scattergeo": [
           {
            "marker": {
             "colorbar": {
              "outlinewidth": 0,
              "ticks": ""
             }
            },
            "type": "scattergeo"
           }
          ],
          "scattergl": [
           {
            "marker": {
             "line": {
              "color": "#283442"
             }
            },
            "type": "scattergl"
           }
          ],
          "scattermap": [
           {
            "marker": {
             "colorbar": {
              "outlinewidth": 0,
              "ticks": ""
             }
            },
            "type": "scattermap"
           }
          ],
          "scattermapbox": [
           {
            "marker": {
             "colorbar": {
              "outlinewidth": 0,
              "ticks": ""
             }
            },
            "type": "scattermapbox"
           }
          ],
          "scatterpolar": [
           {
            "marker": {
             "colorbar": {
              "outlinewidth": 0,
              "ticks": ""
             }
            },
            "type": "scatterpolar"
           }
          ],
          "scatterpolargl": [
           {
            "marker": {
             "colorbar": {
              "outlinewidth": 0,
              "ticks": ""
             }
            },
            "type": "scatterpolargl"
           }
          ],
          "scatterternary": [
           {
            "marker": {
             "colorbar": {
              "outlinewidth": 0,
              "ticks": ""
             }
            },
            "type": "scatterternary"
           }
          ],
          "surface": [
           {
            "colorbar": {
             "outlinewidth": 0,
             "ticks": ""
            },
            "colorscale": [
             [
              0,
              "#0d0887"
             ],
             [
              0.1111111111111111,
              "#46039f"
             ],
             [
              0.2222222222222222,
              "#7201a8"
             ],
             [
              0.3333333333333333,
              "#9c179e"
             ],
             [
              0.4444444444444444,
              "#bd3786"
             ],
             [
              0.5555555555555556,
              "#d8576b"
             ],
             [
              0.6666666666666666,
              "#ed7953"
             ],
             [
              0.7777777777777778,
              "#fb9f3a"
             ],
             [
              0.8888888888888888,
              "#fdca26"
             ],
             [
              1,
              "#f0f921"
             ]
            ],
            "type": "surface"
           }
          ],
          "table": [
           {
            "cells": {
             "fill": {
              "color": "#506784"
             },
             "line": {
              "color": "rgb(17,17,17)"
             }
            },
            "header": {
             "fill": {
              "color": "#2a3f5f"
             },
             "line": {
              "color": "rgb(17,17,17)"
             }
            },
            "type": "table"
           }
          ]
         },
         "layout": {
          "annotationdefaults": {
           "arrowcolor": "#f2f5fa",
           "arrowhead": 0,
           "arrowwidth": 1
          },
          "autotypenumbers": "strict",
          "coloraxis": {
           "colorbar": {
            "outlinewidth": 0,
            "ticks": ""
           }
          },
          "colorscale": {
           "diverging": [
            [
             0,
             "#8e0152"
            ],
            [
             0.1,
             "#c51b7d"
            ],
            [
             0.2,
             "#de77ae"
            ],
            [
             0.3,
             "#f1b6da"
            ],
            [
             0.4,
             "#fde0ef"
            ],
            [
             0.5,
             "#f7f7f7"
            ],
            [
             0.6,
             "#e6f5d0"
            ],
            [
             0.7,
             "#b8e186"
            ],
            [
             0.8,
             "#7fbc41"
            ],
            [
             0.9,
             "#4d9221"
            ],
            [
             1,
             "#276419"
            ]
           ],
           "sequential": [
            [
             0,
             "#0d0887"
            ],
            [
             0.1111111111111111,
             "#46039f"
            ],
            [
             0.2222222222222222,
             "#7201a8"
            ],
            [
             0.3333333333333333,
             "#9c179e"
            ],
            [
             0.4444444444444444,
             "#bd3786"
            ],
            [
             0.5555555555555556,
             "#d8576b"
            ],
            [
             0.6666666666666666,
             "#ed7953"
            ],
            [
             0.7777777777777778,
             "#fb9f3a"
            ],
            [
             0.8888888888888888,
             "#fdca26"
            ],
            [
             1,
             "#f0f921"
            ]
           ],
           "sequentialminus": [
            [
             0,
             "#0d0887"
            ],
            [
             0.1111111111111111,
             "#46039f"
            ],
            [
             0.2222222222222222,
             "#7201a8"
            ],
            [
             0.3333333333333333,
             "#9c179e"
            ],
            [
             0.4444444444444444,
             "#bd3786"
            ],
            [
             0.5555555555555556,
             "#d8576b"
            ],
            [
             0.6666666666666666,
             "#ed7953"
            ],
            [
             0.7777777777777778,
             "#fb9f3a"
            ],
            [
             0.8888888888888888,
             "#fdca26"
            ],
            [
             1,
             "#f0f921"
            ]
           ]
          },
          "colorway": [
           "#636efa",
           "#EF553B",
           "#00cc96",
           "#ab63fa",
           "#FFA15A",
           "#19d3f3",
           "#FF6692",
           "#B6E880",
           "#FF97FF",
           "#FECB52"
          ],
          "font": {
           "color": "#f2f5fa"
          },
          "geo": {
           "bgcolor": "rgb(17,17,17)",
           "lakecolor": "rgb(17,17,17)",
           "landcolor": "rgb(17,17,17)",
           "showlakes": true,
           "showland": true,
           "subunitcolor": "#506784"
          },
          "hoverlabel": {
           "align": "left"
          },
          "hovermode": "closest",
          "mapbox": {
           "style": "dark"
          },
          "paper_bgcolor": "rgb(17,17,17)",
          "plot_bgcolor": "rgb(17,17,17)",
          "polar": {
           "angularaxis": {
            "gridcolor": "#506784",
            "linecolor": "#506784",
            "ticks": ""
           },
           "bgcolor": "rgb(17,17,17)",
           "radialaxis": {
            "gridcolor": "#506784",
            "linecolor": "#506784",
            "ticks": ""
           }
          },
          "scene": {
           "xaxis": {
            "backgroundcolor": "rgb(17,17,17)",
            "gridcolor": "#506784",
            "gridwidth": 2,
            "linecolor": "#506784",
            "showbackground": true,
            "ticks": "",
            "zerolinecolor": "#C8D4E3"
           },
           "yaxis": {
            "backgroundcolor": "rgb(17,17,17)",
            "gridcolor": "#506784",
            "gridwidth": 2,
            "linecolor": "#506784",
            "showbackground": true,
            "ticks": "",
            "zerolinecolor": "#C8D4E3"
           },
           "zaxis": {
            "backgroundcolor": "rgb(17,17,17)",
            "gridcolor": "#506784",
            "gridwidth": 2,
            "linecolor": "#506784",
            "showbackground": true,
            "ticks": "",
            "zerolinecolor": "#C8D4E3"
           }
          },
          "shapedefaults": {
           "line": {
            "color": "#f2f5fa"
           }
          },
          "sliderdefaults": {
           "bgcolor": "#C8D4E3",
           "bordercolor": "rgb(17,17,17)",
           "borderwidth": 1,
           "tickwidth": 0
          },
          "ternary": {
           "aaxis": {
            "gridcolor": "#506784",
            "linecolor": "#506784",
            "ticks": ""
           },
           "baxis": {
            "gridcolor": "#506784",
            "linecolor": "#506784",
            "ticks": ""
           },
           "bgcolor": "rgb(17,17,17)",
           "caxis": {
            "gridcolor": "#506784",
            "linecolor": "#506784",
            "ticks": ""
           }
          },
          "title": {
           "x": 0.05
          },
          "updatemenudefaults": {
           "bgcolor": "#506784",
           "borderwidth": 0
          },
          "xaxis": {
           "automargin": true,
           "gridcolor": "#283442",
           "linecolor": "#506784",
           "ticks": "",
           "title": {
            "standoff": 15
           },
           "zerolinecolor": "#283442",
           "zerolinewidth": 2
          },
          "yaxis": {
           "automargin": true,
           "gridcolor": "#283442",
           "linecolor": "#506784",
           "ticks": "",
           "title": {
            "standoff": 15
           },
           "zerolinecolor": "#283442",
           "zerolinewidth": 2
          }
         }
        },
        "title": {
         "text": "Trade on USD_CAD | P/L: <span style='color:lightgreen;'>$0.86</span>"
        },
        "xaxis": {
         "rangeslider": {
          "visible": false
         },
         "title": {
          "text": "Date"
         }
        },
        "yaxis": {
         "title": {
          "text": "Price"
         }
        }
       }
      }
     },
     "metadata": {},
     "output_type": "display_data"
    },
    {
     "name": "stdout",
     "output_type": "stream",
     "text": [
      "\n",
      "--- Plotting trade on GBP_USD opened at: 2025-06-19 08:30:07 ---\n"
     ]
    },
    {
     "data": {
      "application/vnd.plotly.v1+json": {
       "config": {
        "plotlyServerURL": "https://plot.ly"
       },
       "data": [
        {
         "close": {
          "bdata": "DTfg88OI9T9DxTh/E4r1P0vNHmgFhvU/nwJgPIOG9T/Y8PRKWYb1P3/7OnDOiPU/eTvCacGL9T/SAN4CCYr1PyYeUDblivU/0NA/wcWK9T9+42vPLIn1P9jw9EpZhvU/4Sh5dY6B9T+F61G4HoX1P/xvJTs2gvU/vtnmxvSE9T9oXDgQkoX1P33LnC6LifU/RQ2mYfiI9T/3r6w0KYX1P/n3GRcOhPU/EvdY+tCF9T/ACYUIOIT1P1QdcjPcgPU/jNtoAG+B9T+wyRr1EI31P4XrUbgehfU/Ece6uI2G9T9LzR5oBYb1P9MwfERMifU/5ldzgGCO9T8+7fDXZI31P8xAZfz7jPU/lYJuL2mM9T8nZr0Yyon1P+53KAr0ifU/nKIjufyH9T/yBwPPvYf1P/fHe9XKhPU/43DmV3OA9T9QjZduEoP1P0q1T8djhvU/FVeVfVeE9T+rsu+K4H/1Pyy3tBoSd/U/C5jArbt59T817zhFR3L1P8Cy0qQUdPU/FOgTeZJ09T9KRs7Cnnb1P9UhN8MNePU/Rrbz/dR49T+3Yn/ZPXn1P9PZyeAoefU/ZY16iEZ39T/ymIHK+Hf1P+3YCMTrevU/Xp1jQPZ69T+z0qQUdHv1P2DNAYI5evU/t2J/2T159T/wUBToE3n1P9rJ4Ch5dfU/1jkGZK939T9KRs7Cnnb1P0t2bATidfU/vCL430p29T9n7bYLzXX1P9dppKXydvU/iPTb14Fz9T8yj/zBwHP1P6abxCCwcvU/dc3km21u9T+RLGACt271P1mGONbFbfU/O99PjZdu9T+QFJFhFW/1PxvYKsHicPU/i1QYWwhy9T9trS8S2nL1P08GR8mrc/U/ogvqW+Z09T/AstKkFHT1P08GR8mrc/U/TKYKRiV19T82H9eGinH1P/0wQni0cfU/qRPQRNhw9T8faAWGrG71P5SkaybfbPU/sktUbw1s9T+P5PIf0m/1P6VrJt9sc/U/whIPKJty9T9KRs7Cnnb1P2a9GMqJdvU/qOMxA5Vx9T++amXCL3X1P3506spnefU/LJ/leXB39T+yutVz0nv1P0NWt3pOevU/YM0Bgjl69T/vIHam0Hn1P5rrNNJSefU/PX5v05999T+PU3Qkl3/1P64SLA5nfvU/0GG+vAB79T/ZmULnNXb1P1Z9rrZif/U/OL72zJKA9T8Vb2Qe+YP1Pzs2AvG6fvU/B/AWSFB89T+NCwdCsoD1P+EoeXWOgfU/OgZkr3d/9T8iT5KumXz1PySX/5B+e/U/Vn2utmJ/9T81XrpJDIL1Pz/G3LWEfPU/CCC1iZN79T9BDkqYaXv1PyJPkq6ZfPU/CmgibHh69T9Z3eo56X31Pz6uDRXjfPU/z0nvG1979T+z0qQUdHv1P83pspjYfPU/Xp1jQPZ69T87NgLxun71P69Cyk+qffU/Ub01sFWC9T9JnYAmwob1PymuKvuuiPU/Rz1EozuI9T+AK9mxEYj1Pw5Pr5RliPU/",
          "dtype": "f8"
         },
         "high": {
          "bdata": "8KfGSzeJ9T9dxHdi1ov1P7RxxFp8ivU/8ddkjXqI9T8NN+Dzw4j1P0X11sBWifU/W5TZIJOM9T9blNkgk4z1PwiPNo5Yi/U/Bi/6CtKM9T+WsgxxrIv1PwwfEVMiifU/9Wc/UkSG9T9M/bypSIX1P4XrUbgehfU/valIhbGF9T+BW3fzVIf1P5fiqrLvivU/Jh5QNuWK9T+ZEkn0Mor1PxL3WPrQhfU/ZeQs7GmH9T+fAmA8g4b1P8AJhQg4hPU/T135LM+D9T+R8pNqn471P5NS0O0ljfU/ZeQs7GmH9T9DxTh/E4r1P5kSSfQyivU/yuAoeXWO9T87jbRU3o71P3Wr56T3jfU/HebLC7CP9T+vmXyzzY31PwYv+grSjPU/7ncoCvSJ9T/SAN4CCYr1P4Ar2bERiPU/98d71cqE9T/cgM8PI4T1PwBXsmMjkPU/LA5nfjWH9T9l/PuMC4f1P40LB0KygPU/C5jArbt59T+z0qQUdHv1Pw4QzNHjd/U/EqCmlq119T8QWDm0yHb1P3506spnefU/7yB2ptB59T9gzQGCOXr1P1w9J71vfPU/s9KkFHR79T8pP6n26Xj1P+zAOSNKe/U/QPZ698d79T9A9nr3x3v1P5ZbWg2Je/U/Jt9sc2N69T9DVrd6Tnr1P/BQFOgTefU/Yi0+BcB49T/VCWgibHj1P4DUJk7ud/U/SkbOwp529T8tz4O7s3b1P7raiv1ld/U/nnsPlxx39T8SiNf1C3b1P/hwyXGndPU/iPTb14Fz9T+NnIU97XD1P4/k8h/Sb/U/AvG6fsFu9T+QFJFhFW/1PxvYKsHicPU//Bhz1xJy9T/B4nDmV3P1P7+CNGPRdPU/2uGvyRp19T+FlJ9U+3T1PxUA4xk0dPU/aAWGrG519T+FfNCzWXX1P95Zu+1Cc/U/UWaDTDJy9T+MhLacS3H1PzvfT42XbvU/yhr1EI1u9T+P5PIf0m/1P/mgZ7Pqc/U/+IiYEkl09T/WOQZkr3f1P51LcVXZd/U/nnsPlxx39T+8IvjfSnb1P9GRXP5DevU/0qkrn+V59T94tHHEWnz1Px+/t+nPfvU/Ja/OMSB79T/t8NdkjXr1P84ZUdobfPU/PGagMv599T+paoKo+4D1P3LEWnwKgPU/AAAAAACA9T965A8Gnnv1P3LcKR2sf/U/vtnmxvSE9T9NLVvri4T1P00tW+uLhPU/kIMSZtp+9T8bL90kBoH1P2wE4nX9gvU/F58CYDyD9T8BGM+goX/1PzxO0ZFcfvU/jjulg/V/9T8Xt9EA3oL1P2zsEtVbg/U/y7kUV5V99T9A9nr3x3v1P8u5FFeVffU/dlQ1QdR99T88TtGRXH71P1itTPilfvU/zemymNh89T/N6bKY2Hz1P83pspjYfPU/zemymNh89T/JWdjTDn/1P+XQItv5fvU/NUbrqGqC9T/wv5Xs2Ij1P33LnC6LifU/m3KFd7mI9T/TMHxETIn1P2OcvwmFiPU/",
          "dtype": "f8"
         },
         "low": {
          "bdata": "LSY2H9eG9T+coiO5/If1P7/xtWeWhPU/hgMhWcCE9T/2l92Th4X1PzCeQUP/hPU/nIpUGFuI9T9/+zpwzoj1PyrG+ZtQiPU/fbPNjemJ9T+bWrbWF4n1P2dEaW/whfU/VB1yM9yA9T8cX3tmSYD1P29kHvmDgfU/VB1yM9yA9T9ORSqMLYT1PxMPKJtyhfU/ntLB+j+H9T/3r6w0KYX1PzVG66hqgvU/GM+goX+C9T9RvTWwVYL1PzoeM1AZf/U/cJS8OseA9T851sVtNID1PxVvZB75g/U/pMLYQpCD9T8y5q4l5IP1P9tQMc7fhPU/SG3i5H6H9T9e9BWkGYv1P1ysqME0jPU/XcR3YtaL9T+2oWKcv4n1P5pC5zV2ifU/D39N1qiH9T8Pf03WqIf1P9xoAG+BhPU/kZvhBnx+9T9VTRB1H4D1P6hSswdagfU/NV66SQyC9T+s4o3MI3/1P6IL6lvmdPU/xXJLqyFx9T/GihpMw3D1P28NbJVgcfU/xEKtad5x9T+H3Aw34HP1P7wi+N9KdvU/1jkGZK939T8O+PwwQnj1Pyk/qfbpePU/LudSXFV29T/04O6s3Xb1P0pGzsKedvU/t2J/2T159T8KaCJseHr1P0SGVbyRefU/nWNA9np39T9kXdxGA3j1PxO4dTdPdfU/vmplwi919T8u/yH99nX1P4RkARO4dfU/FNBE2PB09T/5oGez6nP1PxToE3mSdPU/cm2oGOdv9T8012mkpXL1P+C593DJcfU/WW5pNSRu9T915bM8D271P6/rF+yGbfU/lgSoqWVr9T+SdM3km231PwLxun7BbvU/q1s9J71v9T+LbOf7qXH1P4tUGFsIcvU/weJw5ldz9T9PHhZqTXP1P9+JWS+GcvU/TwZHyatz9T+p+wCkNnH1P4yEtpxLcfU/4xk09E9w9T8j+N9Kdmz1PyVYHM78avU/0SLb+X5q9T8LQQ5KmGn1P6xzDMheb/U/i1QYWwhy9T/CEg8om3L1PxO4dTdPdfU/qfsApDZx9T+rWz0nvW/1P0ymCkYldfU/12mkpfJ29T/0+L1Nf3b1P5sb0xOWePU/DLCPTl159T+5wrtcxHf1Pygn2lVIefU/KT+p9ul49T/OGVHaG3z1P5T7HYoCffU/7dgIxOt69T8YeO49XHL1Py8X8Z2YdfU/BaipZWt99T8G2Eenrnz1P+cAwRw9fvU/CmgibHh69T8jZ2FPO3z1P+XQItv5fvU/Vn2utmJ/9T8kfzDw3Hv1P+84RUdyefU/z0nvG1979T/Jcad0sH71P7GiBtMwfPU/7fDXZI169T/WOQZkr3f1P0ImGTkLe/U/fERMiSR69T8KaCJseHr1P7PSpBR0e/U/C5jArbt59T9enWNA9nr1P7QCQ1a3evU/mbuWkA969T+0AkNWt3r1PwbYR6eufPU/r0LKT6p99T9RvTWwVYL1Py5W1GAahvU/EK/rF+yG9T+5GW7A54f1P9aQuMfSh/U/",
          "dtype": "f8"
         },
         "name": "Candles",
         "open": {
          "bdata": "1pC4x9KH9T+bcoV3uYj1P9IA3gIJivU/S80eaAWG9T8tPgXAeIb1P0q1T8djhvU/DTfg88OI9T95O8JpwYv1P9IA3gIJivU/tFn1udqK9T/Q0D/BxYr1PwwfEVMiifU/9Wc/UkSG9T9vZB75g4H1P4XrUbgehfU//G8lOzaC9T9NFYxK6oT1P9ogk4ychfU/YVRSJ6CJ9T8MHxFTIon1P2l0B7EzhfU/FW9kHvmD9T+9qUiFsYX1P8AJhQg4hPU/xuHMr+aA9T+M22gAb4H1P7DJGvUQjfU/omKcvwmF9T/0T3Cxoob1P0vNHmgFhvU/0zB8REyJ9T/K4Ch5dY71P5M6AU2EjfU/sMka9RCN9T94CyQofoz1PwvvchHfifU/7ncoCvSJ9T+coiO5/If1P9aQuMfSh/U/98d71cqE9T//5zBfXoD1P4l7LH3ogvU/vHmqQ26G9T+GG/D5YYT1Px13Sgfrf/U/nnsPlxx39T/SqSuf5Xn1P1Fmg0wycvU/Tu53KAp09T8xX16AfXT1P0pGzsKedvU/R+aRPxh49T9GtvP91Hj1P0NWt3pOevU/CVBTy9Z69T9ljXqIRnf1P9Y5BmSvd/U/Ja/OMSB79T8mx53SwXr1P7PSpBR0e/U/Q1a3ek569T+a6zTSUnn1P/BQFOgTefU/TI47pYN19T9kdavnpHf1P2a9GMqJdvU/vTrHgOx19T+8IvjfSnb1P0t2bATidfU/12mkpfJ29T+laybfbHP1PzKP/MHAc/U/NNdppKVy9T8DCYofY271P5EsYAK3bvU/WYY41sVt9T9YVpqUgm71PwLZ690fb/U/N091yM1w9T+LVBhbCHL1P22tLxLacvU/TwZHyatz9T+FlJ9U+3T1P6M7iJ0pdPU/TwZHyatz9T9MpgpGJXX1PzYf14aKcfU/i2zn+6lx9T8b2CrB4nD1P8oa9RCNbvU/IuAQqtRs9T9Ah/nyAmz1PwCpTZzcb/U/3lm77UJz9T/CEg8om3L1P0pGzsKedvU/9Pi9TX929T8aqIx/n3H1P0ymCkYldfU/fnTqymd59T+dY0D2enf1PyR/MPDce/U/Q1a3ek569T/RkVz+Q3r1P+8gdqbQefU/DLCPTl159T+vQspPqn31PwEYz6Chf/U/rhIsDmd+9T9enWNA9nr1P0penWNAdvU/OgZkr3d/9T/G+ZtQiID1P/n3GRcOhPU/H7+36c9+9T94tHHEWnz1P40LB0KygPU/b2Qe+YOB9T9Wfa62Yn/1PyJPkq6ZfPU/euQPBp579T9z9Pi9TX/1P1LVBFH3gfU/P8bctYR89T965A8Gnnv1P7PSpBR0e/U/BthHp6589T98LH3ognr1PwSQ2sTJffU/6WD9n8N89T9BDkqYaXv1PySX/5B+e/U/zemymNh89T/t2AjE63r1Pzs2AvG6fvU/r0LKT6p99T9RvTWwVYL1P0mdgCbChvU/uOnPfqSI9T8qxvmbUIj1P5yiI7n8h/U/",
          "dtype": "f8"
         },
         "type": "candlestick",
         "x": [
          "2025-06-18T07:45:00+00:00",
          "2025-06-18T08:00:00+00:00",
          "2025-06-18T08:15:00+00:00",
          "2025-06-18T08:30:00+00:00",
          "2025-06-18T08:45:00+00:00",
          "2025-06-18T09:00:00+00:00",
          "2025-06-18T09:15:00+00:00",
          "2025-06-18T09:30:00+00:00",
          "2025-06-18T09:45:00+00:00",
          "2025-06-18T10:00:00+00:00",
          "2025-06-18T10:15:00+00:00",
          "2025-06-18T10:30:00+00:00",
          "2025-06-18T10:45:00+00:00",
          "2025-06-18T11:00:00+00:00",
          "2025-06-18T11:15:00+00:00",
          "2025-06-18T11:30:00+00:00",
          "2025-06-18T11:45:00+00:00",
          "2025-06-18T12:00:00+00:00",
          "2025-06-18T12:15:00+00:00",
          "2025-06-18T12:30:00+00:00",
          "2025-06-18T12:45:00+00:00",
          "2025-06-18T13:00:00+00:00",
          "2025-06-18T13:15:00+00:00",
          "2025-06-18T13:30:00+00:00",
          "2025-06-18T13:45:00+00:00",
          "2025-06-18T14:00:00+00:00",
          "2025-06-18T14:15:00+00:00",
          "2025-06-18T14:30:00+00:00",
          "2025-06-18T14:45:00+00:00",
          "2025-06-18T15:00:00+00:00",
          "2025-06-18T15:15:00+00:00",
          "2025-06-18T15:30:00+00:00",
          "2025-06-18T15:45:00+00:00",
          "2025-06-18T16:00:00+00:00",
          "2025-06-18T16:15:00+00:00",
          "2025-06-18T16:30:00+00:00",
          "2025-06-18T16:45:00+00:00",
          "2025-06-18T17:00:00+00:00",
          "2025-06-18T17:15:00+00:00",
          "2025-06-18T17:30:00+00:00",
          "2025-06-18T17:45:00+00:00",
          "2025-06-18T18:00:00+00:00",
          "2025-06-18T18:15:00+00:00",
          "2025-06-18T18:30:00+00:00",
          "2025-06-18T18:45:00+00:00",
          "2025-06-18T19:00:00+00:00",
          "2025-06-18T19:15:00+00:00",
          "2025-06-18T19:30:00+00:00",
          "2025-06-18T19:45:00+00:00",
          "2025-06-18T20:00:00+00:00",
          "2025-06-18T20:15:00+00:00",
          "2025-06-18T20:30:00+00:00",
          "2025-06-18T20:45:00+00:00",
          "2025-06-18T21:00:00+00:00",
          "2025-06-18T21:15:00+00:00",
          "2025-06-18T21:30:00+00:00",
          "2025-06-18T21:45:00+00:00",
          "2025-06-18T22:00:00+00:00",
          "2025-06-18T22:15:00+00:00",
          "2025-06-18T22:30:00+00:00",
          "2025-06-18T22:45:00+00:00",
          "2025-06-18T23:00:00+00:00",
          "2025-06-18T23:15:00+00:00",
          "2025-06-18T23:30:00+00:00",
          "2025-06-18T23:45:00+00:00",
          "2025-06-19T00:00:00+00:00",
          "2025-06-19T00:15:00+00:00",
          "2025-06-19T00:30:00+00:00",
          "2025-06-19T00:45:00+00:00",
          "2025-06-19T01:00:00+00:00",
          "2025-06-19T01:15:00+00:00",
          "2025-06-19T01:30:00+00:00",
          "2025-06-19T01:45:00+00:00",
          "2025-06-19T02:00:00+00:00",
          "2025-06-19T02:15:00+00:00",
          "2025-06-19T02:30:00+00:00",
          "2025-06-19T02:45:00+00:00",
          "2025-06-19T03:00:00+00:00",
          "2025-06-19T03:15:00+00:00",
          "2025-06-19T03:30:00+00:00",
          "2025-06-19T03:45:00+00:00",
          "2025-06-19T04:00:00+00:00",
          "2025-06-19T04:15:00+00:00",
          "2025-06-19T04:30:00+00:00",
          "2025-06-19T04:45:00+00:00",
          "2025-06-19T05:00:00+00:00",
          "2025-06-19T05:15:00+00:00",
          "2025-06-19T05:30:00+00:00",
          "2025-06-19T05:45:00+00:00",
          "2025-06-19T06:00:00+00:00",
          "2025-06-19T06:15:00+00:00",
          "2025-06-19T06:30:00+00:00",
          "2025-06-19T06:45:00+00:00",
          "2025-06-19T07:00:00+00:00",
          "2025-06-19T07:15:00+00:00",
          "2025-06-19T07:30:00+00:00",
          "2025-06-19T07:45:00+00:00",
          "2025-06-19T08:00:00+00:00",
          "2025-06-19T08:15:00+00:00",
          "2025-06-19T08:30:00+00:00",
          "2025-06-19T08:45:00+00:00",
          "2025-06-19T09:00:00+00:00",
          "2025-06-19T09:15:00+00:00",
          "2025-06-19T09:30:00+00:00",
          "2025-06-19T09:45:00+00:00",
          "2025-06-19T10:00:00+00:00",
          "2025-06-19T10:15:00+00:00",
          "2025-06-19T10:30:00+00:00",
          "2025-06-19T10:45:00+00:00",
          "2025-06-19T11:00:00+00:00",
          "2025-06-19T11:15:00+00:00",
          "2025-06-19T11:30:00+00:00",
          "2025-06-19T11:45:00+00:00",
          "2025-06-19T12:00:00+00:00",
          "2025-06-19T12:15:00+00:00",
          "2025-06-19T12:30:00+00:00",
          "2025-06-19T12:45:00+00:00",
          "2025-06-19T13:00:00+00:00",
          "2025-06-19T13:15:00+00:00",
          "2025-06-19T13:30:00+00:00",
          "2025-06-19T13:45:00+00:00",
          "2025-06-19T14:00:00+00:00",
          "2025-06-19T14:15:00+00:00",
          "2025-06-19T14:30:00+00:00",
          "2025-06-19T14:45:00+00:00",
          "2025-06-19T15:00:00+00:00",
          "2025-06-19T15:15:00+00:00",
          "2025-06-19T15:30:00+00:00",
          "2025-06-19T15:45:00+00:00",
          "2025-06-19T16:00:00+00:00",
          "2025-06-19T16:15:00+00:00",
          "2025-06-19T16:30:00+00:00",
          "2025-06-19T16:45:00+00:00",
          "2025-06-19T17:00:00+00:00",
          "2025-06-19T17:15:00+00:00",
          "2025-06-19T17:30:00+00:00",
          "2025-06-19T17:45:00+00:00",
          "2025-06-19T18:00:00+00:00",
          "2025-06-19T18:15:00+00:00",
          "2025-06-19T18:30:00+00:00",
          "2025-06-19T18:45:00+00:00"
         ]
        },
        {
         "line": {
          "color": "cyan",
          "dash": "dash"
         },
         "mode": "lines",
         "name": "Upper BB",
         "opacity": 0.7,
         "type": "scatter",
         "x": [
          "2025-06-18T07:45:00+00:00",
          "2025-06-18T08:00:00+00:00",
          "2025-06-18T08:15:00+00:00",
          "2025-06-18T08:30:00+00:00",
          "2025-06-18T08:45:00+00:00",
          "2025-06-18T09:00:00+00:00",
          "2025-06-18T09:15:00+00:00",
          "2025-06-18T09:30:00+00:00",
          "2025-06-18T09:45:00+00:00",
          "2025-06-18T10:00:00+00:00",
          "2025-06-18T10:15:00+00:00",
          "2025-06-18T10:30:00+00:00",
          "2025-06-18T10:45:00+00:00",
          "2025-06-18T11:00:00+00:00",
          "2025-06-18T11:15:00+00:00",
          "2025-06-18T11:30:00+00:00",
          "2025-06-18T11:45:00+00:00",
          "2025-06-18T12:00:00+00:00",
          "2025-06-18T12:15:00+00:00",
          "2025-06-18T12:30:00+00:00",
          "2025-06-18T12:45:00+00:00",
          "2025-06-18T13:00:00+00:00",
          "2025-06-18T13:15:00+00:00",
          "2025-06-18T13:30:00+00:00",
          "2025-06-18T13:45:00+00:00",
          "2025-06-18T14:00:00+00:00",
          "2025-06-18T14:15:00+00:00",
          "2025-06-18T14:30:00+00:00",
          "2025-06-18T14:45:00+00:00",
          "2025-06-18T15:00:00+00:00",
          "2025-06-18T15:15:00+00:00",
          "2025-06-18T15:30:00+00:00",
          "2025-06-18T15:45:00+00:00",
          "2025-06-18T16:00:00+00:00",
          "2025-06-18T16:15:00+00:00",
          "2025-06-18T16:30:00+00:00",
          "2025-06-18T16:45:00+00:00",
          "2025-06-18T17:00:00+00:00",
          "2025-06-18T17:15:00+00:00",
          "2025-06-18T17:30:00+00:00",
          "2025-06-18T17:45:00+00:00",
          "2025-06-18T18:00:00+00:00",
          "2025-06-18T18:15:00+00:00",
          "2025-06-18T18:30:00+00:00",
          "2025-06-18T18:45:00+00:00",
          "2025-06-18T19:00:00+00:00",
          "2025-06-18T19:15:00+00:00",
          "2025-06-18T19:30:00+00:00",
          "2025-06-18T19:45:00+00:00",
          "2025-06-18T20:00:00+00:00",
          "2025-06-18T20:15:00+00:00",
          "2025-06-18T20:30:00+00:00",
          "2025-06-18T20:45:00+00:00",
          "2025-06-18T21:00:00+00:00",
          "2025-06-18T21:15:00+00:00",
          "2025-06-18T21:30:00+00:00",
          "2025-06-18T21:45:00+00:00",
          "2025-06-18T22:00:00+00:00",
          "2025-06-18T22:15:00+00:00",
          "2025-06-18T22:30:00+00:00",
          "2025-06-18T22:45:00+00:00",
          "2025-06-18T23:00:00+00:00",
          "2025-06-18T23:15:00+00:00",
          "2025-06-18T23:30:00+00:00",
          "2025-06-18T23:45:00+00:00",
          "2025-06-19T00:00:00+00:00",
          "2025-06-19T00:15:00+00:00",
          "2025-06-19T00:30:00+00:00",
          "2025-06-19T00:45:00+00:00",
          "2025-06-19T01:00:00+00:00",
          "2025-06-19T01:15:00+00:00",
          "2025-06-19T01:30:00+00:00",
          "2025-06-19T01:45:00+00:00",
          "2025-06-19T02:00:00+00:00",
          "2025-06-19T02:15:00+00:00",
          "2025-06-19T02:30:00+00:00",
          "2025-06-19T02:45:00+00:00",
          "2025-06-19T03:00:00+00:00",
          "2025-06-19T03:15:00+00:00",
          "2025-06-19T03:30:00+00:00",
          "2025-06-19T03:45:00+00:00",
          "2025-06-19T04:00:00+00:00",
          "2025-06-19T04:15:00+00:00",
          "2025-06-19T04:30:00+00:00",
          "2025-06-19T04:45:00+00:00",
          "2025-06-19T05:00:00+00:00",
          "2025-06-19T05:15:00+00:00",
          "2025-06-19T05:30:00+00:00",
          "2025-06-19T05:45:00+00:00",
          "2025-06-19T06:00:00+00:00",
          "2025-06-19T06:15:00+00:00",
          "2025-06-19T06:30:00+00:00",
          "2025-06-19T06:45:00+00:00",
          "2025-06-19T07:00:00+00:00",
          "2025-06-19T07:15:00+00:00",
          "2025-06-19T07:30:00+00:00",
          "2025-06-19T07:45:00+00:00",
          "2025-06-19T08:00:00+00:00",
          "2025-06-19T08:15:00+00:00",
          "2025-06-19T08:30:00+00:00",
          "2025-06-19T08:45:00+00:00",
          "2025-06-19T09:00:00+00:00",
          "2025-06-19T09:15:00+00:00",
          "2025-06-19T09:30:00+00:00",
          "2025-06-19T09:45:00+00:00",
          "2025-06-19T10:00:00+00:00",
          "2025-06-19T10:15:00+00:00",
          "2025-06-19T10:30:00+00:00",
          "2025-06-19T10:45:00+00:00",
          "2025-06-19T11:00:00+00:00",
          "2025-06-19T11:15:00+00:00",
          "2025-06-19T11:30:00+00:00",
          "2025-06-19T11:45:00+00:00",
          "2025-06-19T12:00:00+00:00",
          "2025-06-19T12:15:00+00:00",
          "2025-06-19T12:30:00+00:00",
          "2025-06-19T12:45:00+00:00",
          "2025-06-19T13:00:00+00:00",
          "2025-06-19T13:15:00+00:00",
          "2025-06-19T13:30:00+00:00",
          "2025-06-19T13:45:00+00:00",
          "2025-06-19T14:00:00+00:00",
          "2025-06-19T14:15:00+00:00",
          "2025-06-19T14:30:00+00:00",
          "2025-06-19T14:45:00+00:00",
          "2025-06-19T15:00:00+00:00",
          "2025-06-19T15:15:00+00:00",
          "2025-06-19T15:30:00+00:00",
          "2025-06-19T15:45:00+00:00",
          "2025-06-19T16:00:00+00:00",
          "2025-06-19T16:15:00+00:00",
          "2025-06-19T16:30:00+00:00",
          "2025-06-19T16:45:00+00:00",
          "2025-06-19T17:00:00+00:00",
          "2025-06-19T17:15:00+00:00",
          "2025-06-19T17:30:00+00:00",
          "2025-06-19T17:45:00+00:00",
          "2025-06-19T18:00:00+00:00",
          "2025-06-19T18:15:00+00:00",
          "2025-06-19T18:30:00+00:00",
          "2025-06-19T18:45:00+00:00"
         ],
         "y": {
          "bdata": "AAAAAAAA+H8AAAAAAAD4fwAAAAAAAPh/AAAAAAAA+H8AAAAAAAD4fwAAAAAAAPh/AAAAAAAA+H8AAAAAAAD4fwAAAAAAAPh/AAAAAAAA+H8AAAAAAAD4fwAAAAAAAPh/AAAAAAAA+H8AAAAAAAD4fwAAAAAAAPh/AAAAAAAA+H8AAAAAAAD4fwAAAAAAAPh/AAAAAAAA+H8wlCshKo31P4ti7j4VjfU/KqIK4ryM9T+rRb4nxIz1PzgPnhITjfU/yBJ8QjuN9T8F0AI9AY71P0BoZg5IjfU/Auesk+GM9T8WBfWIP4z1P0P9r0D3i/U/omRjnTCN9T/TjWQ+RI71P1bBXz8Gj/U/fpqfFLKP9T+TuOBSyY/1P+u6gZ79j/U/Cimd4giQ9T+57pgN6o/1PwhpL/3Pj/U/bOSbhyaQ9T8lhmjrMZD1P6W/rV80kPU/nsVyfzOQ9T/36YDLUZD1P1E1e/QskvU/MYHEqEOS9T8WK3z9J5T1P3Oq8iv+lPU/eWqI+3OV9T9L76VKHZX1P7rReySgk/U/BORejgOS9T9+J6QwNJD1P7v3mWY8jvU/Hg8hvZ2M9T9CEvb2qIr1PyDqzc/siPU/s5c9NwOH9T+XaEl7pIX1P6vZz9/7hPU/8IxIoKqD9T+TetEvBoH1P/iO2ElrfvU//VMsOeB89T+zuHsd4Hz1PxyeycaxfPU/Q74PVjt89T9na2zYC3z1P5Fkkfjae/U/LgeFXjV89T8Wz2QYaXz1P8rdTWacfPU/8HLmmGl99T/nC8VTxn31P/3ezJI+fvU/FWvuhVd+9T/m+bSpzn31P4L3hBT/fPU/24sozeh79T/3PoJ1+nr1P78YTzc0evU/RgSnLn559T8mnjv0V3n1P9oePBLDePU/cgMbFoZ49T8zUw33IXj1P1FMVy+fd/U/TBAEdCR39T98st0qYnb1P0DLHF9pdvU/T+HgyGR29T/j1q9RNHb1P7B2cAF2dvU/+Wc+OpZ29T+qrAelSXf1P5fnMY3kd/U/YqrG59p39T8FHERbMHj1P1PRN3hYefU/doS+ZuZ59T8ceUm+W3v1P/Ciz+AwfPU/mXPkVf189T//Occdqn31P68tcAIjfvU/9hy1XXN/9T+CTUl0A4H1Py9b7MgQgvU/MIaBgz2C9T/6vDdpo4H1P1scNqKfgfU/VC8kryuC9T+ctE0Qu4P1P5A9jZ3Wg/U/uvVaVu2D9T/zBFBFgYT1Py6hPv1XhPU/qII0DzSE9T8n7BH1LYT1P2Oa5wrtg/U/2bJLGSKE9T97lJoZp4T1Pzg8GH+WhPU/CI58hH2E9T+B1CxkVoT1P+S2jw9ShPU/lPPunTiE9T9Ir0HiMIT1P2Qh8ZEqhPU/5dBHOXGD9T/QTtbpV4P1Pz58wx8Ig/U/1n5metWB9T/WfmZ61YH1P5VBgvjggfU/RkzvrUOC9T+lSthb14P1P+E+cZABhvU/4lAHt7yH9T8RAhVZIYn1P8iFg1NhivU/",
          "dtype": "f8"
         }
        },
        {
         "line": {
          "color": "yellow",
          "dash": "dash"
         },
         "mode": "lines",
         "name": "Middle BB",
         "opacity": 0.7,
         "type": "scatter",
         "x": [
          "2025-06-18T07:45:00+00:00",
          "2025-06-18T08:00:00+00:00",
          "2025-06-18T08:15:00+00:00",
          "2025-06-18T08:30:00+00:00",
          "2025-06-18T08:45:00+00:00",
          "2025-06-18T09:00:00+00:00",
          "2025-06-18T09:15:00+00:00",
          "2025-06-18T09:30:00+00:00",
          "2025-06-18T09:45:00+00:00",
          "2025-06-18T10:00:00+00:00",
          "2025-06-18T10:15:00+00:00",
          "2025-06-18T10:30:00+00:00",
          "2025-06-18T10:45:00+00:00",
          "2025-06-18T11:00:00+00:00",
          "2025-06-18T11:15:00+00:00",
          "2025-06-18T11:30:00+00:00",
          "2025-06-18T11:45:00+00:00",
          "2025-06-18T12:00:00+00:00",
          "2025-06-18T12:15:00+00:00",
          "2025-06-18T12:30:00+00:00",
          "2025-06-18T12:45:00+00:00",
          "2025-06-18T13:00:00+00:00",
          "2025-06-18T13:15:00+00:00",
          "2025-06-18T13:30:00+00:00",
          "2025-06-18T13:45:00+00:00",
          "2025-06-18T14:00:00+00:00",
          "2025-06-18T14:15:00+00:00",
          "2025-06-18T14:30:00+00:00",
          "2025-06-18T14:45:00+00:00",
          "2025-06-18T15:00:00+00:00",
          "2025-06-18T15:15:00+00:00",
          "2025-06-18T15:30:00+00:00",
          "2025-06-18T15:45:00+00:00",
          "2025-06-18T16:00:00+00:00",
          "2025-06-18T16:15:00+00:00",
          "2025-06-18T16:30:00+00:00",
          "2025-06-18T16:45:00+00:00",
          "2025-06-18T17:00:00+00:00",
          "2025-06-18T17:15:00+00:00",
          "2025-06-18T17:30:00+00:00",
          "2025-06-18T17:45:00+00:00",
          "2025-06-18T18:00:00+00:00",
          "2025-06-18T18:15:00+00:00",
          "2025-06-18T18:30:00+00:00",
          "2025-06-18T18:45:00+00:00",
          "2025-06-18T19:00:00+00:00",
          "2025-06-18T19:15:00+00:00",
          "2025-06-18T19:30:00+00:00",
          "2025-06-18T19:45:00+00:00",
          "2025-06-18T20:00:00+00:00",
          "2025-06-18T20:15:00+00:00",
          "2025-06-18T20:30:00+00:00",
          "2025-06-18T20:45:00+00:00",
          "2025-06-18T21:00:00+00:00",
          "2025-06-18T21:15:00+00:00",
          "2025-06-18T21:30:00+00:00",
          "2025-06-18T21:45:00+00:00",
          "2025-06-18T22:00:00+00:00",
          "2025-06-18T22:15:00+00:00",
          "2025-06-18T22:30:00+00:00",
          "2025-06-18T22:45:00+00:00",
          "2025-06-18T23:00:00+00:00",
          "2025-06-18T23:15:00+00:00",
          "2025-06-18T23:30:00+00:00",
          "2025-06-18T23:45:00+00:00",
          "2025-06-19T00:00:00+00:00",
          "2025-06-19T00:15:00+00:00",
          "2025-06-19T00:30:00+00:00",
          "2025-06-19T00:45:00+00:00",
          "2025-06-19T01:00:00+00:00",
          "2025-06-19T01:15:00+00:00",
          "2025-06-19T01:30:00+00:00",
          "2025-06-19T01:45:00+00:00",
          "2025-06-19T02:00:00+00:00",
          "2025-06-19T02:15:00+00:00",
          "2025-06-19T02:30:00+00:00",
          "2025-06-19T02:45:00+00:00",
          "2025-06-19T03:00:00+00:00",
          "2025-06-19T03:15:00+00:00",
          "2025-06-19T03:30:00+00:00",
          "2025-06-19T03:45:00+00:00",
          "2025-06-19T04:00:00+00:00",
          "2025-06-19T04:15:00+00:00",
          "2025-06-19T04:30:00+00:00",
          "2025-06-19T04:45:00+00:00",
          "2025-06-19T05:00:00+00:00",
          "2025-06-19T05:15:00+00:00",
          "2025-06-19T05:30:00+00:00",
          "2025-06-19T05:45:00+00:00",
          "2025-06-19T06:00:00+00:00",
          "2025-06-19T06:15:00+00:00",
          "2025-06-19T06:30:00+00:00",
          "2025-06-19T06:45:00+00:00",
          "2025-06-19T07:00:00+00:00",
          "2025-06-19T07:15:00+00:00",
          "2025-06-19T07:30:00+00:00",
          "2025-06-19T07:45:00+00:00",
          "2025-06-19T08:00:00+00:00",
          "2025-06-19T08:15:00+00:00",
          "2025-06-19T08:30:00+00:00",
          "2025-06-19T08:45:00+00:00",
          "2025-06-19T09:00:00+00:00",
          "2025-06-19T09:15:00+00:00",
          "2025-06-19T09:30:00+00:00",
          "2025-06-19T09:45:00+00:00",
          "2025-06-19T10:00:00+00:00",
          "2025-06-19T10:15:00+00:00",
          "2025-06-19T10:30:00+00:00",
          "2025-06-19T10:45:00+00:00",
          "2025-06-19T11:00:00+00:00",
          "2025-06-19T11:15:00+00:00",
          "2025-06-19T11:30:00+00:00",
          "2025-06-19T11:45:00+00:00",
          "2025-06-19T12:00:00+00:00",
          "2025-06-19T12:15:00+00:00",
          "2025-06-19T12:30:00+00:00",
          "2025-06-19T12:45:00+00:00",
          "2025-06-19T13:00:00+00:00",
          "2025-06-19T13:15:00+00:00",
          "2025-06-19T13:30:00+00:00",
          "2025-06-19T13:45:00+00:00",
          "2025-06-19T14:00:00+00:00",
          "2025-06-19T14:15:00+00:00",
          "2025-06-19T14:30:00+00:00",
          "2025-06-19T14:45:00+00:00",
          "2025-06-19T15:00:00+00:00",
          "2025-06-19T15:15:00+00:00",
          "2025-06-19T15:30:00+00:00",
          "2025-06-19T15:45:00+00:00",
          "2025-06-19T16:00:00+00:00",
          "2025-06-19T16:15:00+00:00",
          "2025-06-19T16:30:00+00:00",
          "2025-06-19T16:45:00+00:00",
          "2025-06-19T17:00:00+00:00",
          "2025-06-19T17:15:00+00:00",
          "2025-06-19T17:30:00+00:00",
          "2025-06-19T17:45:00+00:00",
          "2025-06-19T18:00:00+00:00",
          "2025-06-19T18:15:00+00:00",
          "2025-06-19T18:30:00+00:00",
          "2025-06-19T18:45:00+00:00"
         ],
         "y": {
          "bdata": "AAAAAAAA+H8AAAAAAAD4fwAAAAAAAPh/AAAAAAAA+H8AAAAAAAD4fwAAAAAAAPh/AAAAAAAA+H8AAAAAAAD4fwAAAAAAAPh/AAAAAAAA+H8AAAAAAAD4fwAAAAAAAPh/AAAAAAAA+H8AAAAAAAD4fwAAAAAAAPh/AAAAAAAA+H8AAAAAAAD4fwAAAAAAAPh/AAAAAAAA+H+SzOodbof1PwTj4NIxh/U/tRg8TPuG9T+6m6c65Ib1P6q2m+CbhvU/ABx79lyG9T9P5h99k4b1P7ZI2o0+hvU/04VY/RGG9T8uqG+Z04X1P2ITmbnAhfU/NNk/TwOG9T8G2bJ8XYb1PzjaccPvhvU/LEgzFk2H9T9H4XoUrof1P/71Cgvuh/U/TYbj+QyI9T9SCU/o9Yf1Pw65GW7Ah/U/gc8PI4SH9T/5FtaNd4f1P0ht4uR+h/U/WqSJd4CH9T/Q60/ic4f1PzIdOj3vhvU/t5p1xveF9T9/9E2aBoX1P3vzGyYahPU/BmhbzTqD9T/mtRK6S4L1P8pMaf0tgfU/paMczCaA9T/xvioXKn/1P4C21awzfvU/dvhrskZ99T+309aIYHz1P6FJYkm5e/U/s+pztRV79T+jkc8rnnr1P0NWt3pOevU/7iB2ptB59T+3KLNBJnn1P6chqvBnePU/NnUeFf939T/4VblQ+Xf1P+HtQQjId/U/DkqYaft39T/9TL1uEXj1P0cgXtcvePU/lgLS/gd49T9Ce/Xx0Hf1P+25TE2Cd/U/EMzR4/d29T9mg0wycnb1P0A2yY/4dfU/KiDtf4B19T++vAD76HT1P0gZcQFodPU/LEZda+9z9T8uXiwMkXP1Pyjzj75Jc/U/5KJaRBRz9T8iiPNwAnP1P/YrnQ/PcvU/KJfGL7xy9T/OUrKchHL1P1KgT+RJcvU/okj3cwpy9T8lIvyLoHH1P4yEtpxLcfU/YLTHC+lw9T/RBIpYxHD1P4cZGk8EcfU/oz7JHTZx9T9uu9Bcp3H1P775DRMNcvU/GARWDi1y9T9uizIbZHL1P21zY3rCcvU/6iXGMv1y9T9VFRqIZXP1P0OM17yqc/U/mE2AYflz9T/tDikGSHT1PzJfXoB9dPU/vjCZKhh19T9Ff2jmyXX1P5/leXB3dvU/TiUDQBV39T9ffqfJjHf1P9oAbECEePU/8P54r1p59T/oS29/Lnr1P3va4a/JevU/knwlkBJ79T8TmiSWlHv1P72QDg9hfPU/UOW0p+R89T8LfbCMDX31Pz6WPnRBffU/LdMvEW999T9fYFYo0n31P565h4TvffU/knnkDwZ+9T+zIf/MIH71PyWsjbETfvU/X2BWKNJ99T8bhLndy331PyB7vfvjffU/7IMsCyZ+9T/LoUW28331P8VwdQDEffU/4v+OqFB99T/i/46oUH31P55dvvVhffU/guZz7nZ99T9UrBqEuX31P1LOF3svfvU/ooDtYMR+9T9zLsVVZX/1P1Wfq63Yf/U/",
          "dtype": "f8"
         }
        },
        {
         "fill": "tonexty",
         "fillcolor": "rgba(0, 176, 246, 0.1)",
         "line": {
          "color": "cyan",
          "dash": "dash"
         },
         "mode": "lines",
         "name": "Lower BB",
         "opacity": 0.7,
         "type": "scatter",
         "x": [
          "2025-06-18T07:45:00+00:00",
          "2025-06-18T08:00:00+00:00",
          "2025-06-18T08:15:00+00:00",
          "2025-06-18T08:30:00+00:00",
          "2025-06-18T08:45:00+00:00",
          "2025-06-18T09:00:00+00:00",
          "2025-06-18T09:15:00+00:00",
          "2025-06-18T09:30:00+00:00",
          "2025-06-18T09:45:00+00:00",
          "2025-06-18T10:00:00+00:00",
          "2025-06-18T10:15:00+00:00",
          "2025-06-18T10:30:00+00:00",
          "2025-06-18T10:45:00+00:00",
          "2025-06-18T11:00:00+00:00",
          "2025-06-18T11:15:00+00:00",
          "2025-06-18T11:30:00+00:00",
          "2025-06-18T11:45:00+00:00",
          "2025-06-18T12:00:00+00:00",
          "2025-06-18T12:15:00+00:00",
          "2025-06-18T12:30:00+00:00",
          "2025-06-18T12:45:00+00:00",
          "2025-06-18T13:00:00+00:00",
          "2025-06-18T13:15:00+00:00",
          "2025-06-18T13:30:00+00:00",
          "2025-06-18T13:45:00+00:00",
          "2025-06-18T14:00:00+00:00",
          "2025-06-18T14:15:00+00:00",
          "2025-06-18T14:30:00+00:00",
          "2025-06-18T14:45:00+00:00",
          "2025-06-18T15:00:00+00:00",
          "2025-06-18T15:15:00+00:00",
          "2025-06-18T15:30:00+00:00",
          "2025-06-18T15:45:00+00:00",
          "2025-06-18T16:00:00+00:00",
          "2025-06-18T16:15:00+00:00",
          "2025-06-18T16:30:00+00:00",
          "2025-06-18T16:45:00+00:00",
          "2025-06-18T17:00:00+00:00",
          "2025-06-18T17:15:00+00:00",
          "2025-06-18T17:30:00+00:00",
          "2025-06-18T17:45:00+00:00",
          "2025-06-18T18:00:00+00:00",
          "2025-06-18T18:15:00+00:00",
          "2025-06-18T18:30:00+00:00",
          "2025-06-18T18:45:00+00:00",
          "2025-06-18T19:00:00+00:00",
          "2025-06-18T19:15:00+00:00",
          "2025-06-18T19:30:00+00:00",
          "2025-06-18T19:45:00+00:00",
          "2025-06-18T20:00:00+00:00",
          "2025-06-18T20:15:00+00:00",
          "2025-06-18T20:30:00+00:00",
          "2025-06-18T20:45:00+00:00",
          "2025-06-18T21:00:00+00:00",
          "2025-06-18T21:15:00+00:00",
          "2025-06-18T21:30:00+00:00",
          "2025-06-18T21:45:00+00:00",
          "2025-06-18T22:00:00+00:00",
          "2025-06-18T22:15:00+00:00",
          "2025-06-18T22:30:00+00:00",
          "2025-06-18T22:45:00+00:00",
          "2025-06-18T23:00:00+00:00",
          "2025-06-18T23:15:00+00:00",
          "2025-06-18T23:30:00+00:00",
          "2025-06-18T23:45:00+00:00",
          "2025-06-19T00:00:00+00:00",
          "2025-06-19T00:15:00+00:00",
          "2025-06-19T00:30:00+00:00",
          "2025-06-19T00:45:00+00:00",
          "2025-06-19T01:00:00+00:00",
          "2025-06-19T01:15:00+00:00",
          "2025-06-19T01:30:00+00:00",
          "2025-06-19T01:45:00+00:00",
          "2025-06-19T02:00:00+00:00",
          "2025-06-19T02:15:00+00:00",
          "2025-06-19T02:30:00+00:00",
          "2025-06-19T02:45:00+00:00",
          "2025-06-19T03:00:00+00:00",
          "2025-06-19T03:15:00+00:00",
          "2025-06-19T03:30:00+00:00",
          "2025-06-19T03:45:00+00:00",
          "2025-06-19T04:00:00+00:00",
          "2025-06-19T04:15:00+00:00",
          "2025-06-19T04:30:00+00:00",
          "2025-06-19T04:45:00+00:00",
          "2025-06-19T05:00:00+00:00",
          "2025-06-19T05:15:00+00:00",
          "2025-06-19T05:30:00+00:00",
          "2025-06-19T05:45:00+00:00",
          "2025-06-19T06:00:00+00:00",
          "2025-06-19T06:15:00+00:00",
          "2025-06-19T06:30:00+00:00",
          "2025-06-19T06:45:00+00:00",
          "2025-06-19T07:00:00+00:00",
          "2025-06-19T07:15:00+00:00",
          "2025-06-19T07:30:00+00:00",
          "2025-06-19T07:45:00+00:00",
          "2025-06-19T08:00:00+00:00",
          "2025-06-19T08:15:00+00:00",
          "2025-06-19T08:30:00+00:00",
          "2025-06-19T08:45:00+00:00",
          "2025-06-19T09:00:00+00:00",
          "2025-06-19T09:15:00+00:00",
          "2025-06-19T09:30:00+00:00",
          "2025-06-19T09:45:00+00:00",
          "2025-06-19T10:00:00+00:00",
          "2025-06-19T10:15:00+00:00",
          "2025-06-19T10:30:00+00:00",
          "2025-06-19T10:45:00+00:00",
          "2025-06-19T11:00:00+00:00",
          "2025-06-19T11:15:00+00:00",
          "2025-06-19T11:30:00+00:00",
          "2025-06-19T11:45:00+00:00",
          "2025-06-19T12:00:00+00:00",
          "2025-06-19T12:15:00+00:00",
          "2025-06-19T12:30:00+00:00",
          "2025-06-19T12:45:00+00:00",
          "2025-06-19T13:00:00+00:00",
          "2025-06-19T13:15:00+00:00",
          "2025-06-19T13:30:00+00:00",
          "2025-06-19T13:45:00+00:00",
          "2025-06-19T14:00:00+00:00",
          "2025-06-19T14:15:00+00:00",
          "2025-06-19T14:30:00+00:00",
          "2025-06-19T14:45:00+00:00",
          "2025-06-19T15:00:00+00:00",
          "2025-06-19T15:15:00+00:00",
          "2025-06-19T15:30:00+00:00",
          "2025-06-19T15:45:00+00:00",
          "2025-06-19T16:00:00+00:00",
          "2025-06-19T16:15:00+00:00",
          "2025-06-19T16:30:00+00:00",
          "2025-06-19T16:45:00+00:00",
          "2025-06-19T17:00:00+00:00",
          "2025-06-19T17:15:00+00:00",
          "2025-06-19T17:30:00+00:00",
          "2025-06-19T17:45:00+00:00",
          "2025-06-19T18:00:00+00:00",
          "2025-06-19T18:15:00+00:00",
          "2025-06-19T18:30:00+00:00",
          "2025-06-19T18:45:00+00:00"
         ],
         "y": {
          "bdata": "AAAAAAAA+H8AAAAAAAD4fwAAAAAAAPh/AAAAAAAA+H8AAAAAAAD4fwAAAAAAAPh/AAAAAAAA+H8AAAAAAAD4fwAAAAAAAPh/AAAAAAAA+H8AAAAAAAD4fwAAAAAAAPh/AAAAAAAA+H8AAAAAAAD4fwAAAAAAAPh/AAAAAAAA+H8AAAAAAAD4fwAAAAAAAPh/AAAAAAAA+H/0BKoasoH1P31j02ZOgfU/QI9ttjmB9T/J8ZBNBIH1Pxxema4kgPU/OCV6qn5/9T+Z/Dy9JX/1PywpTg01f/U/pCQEZ0J/9T9GS+qpZ3/1P4EpgjKKf/U/xk0cAdZ+9T85JAG7dn71Pxrzg0fZfvU/2vXGF+h+9T/7CRXWkn/1PxExlHfef/U/kOMpERGA9T/rIwXDAYD1PxQJBN+wf/U/lrqDvuF+9T/Np0MwvX71P+saF2rJfvU/FoOgb81+9T+p7R75lX71PxMF+YWxe/U/PbQm5Kt59T/ovR835XX1P4M8RSA2c/U/k2UunwFx9T+BfH8pem/1P9rHVta7bvU/RmPaCUpu9T9kVrH9H271P0V1EfMqbvU/zuG2p+9t9T8slbcaGG71PyKp9sKFbvU/sz2qMyhv9T+vulXcl2/1P9vSnhWhb/U/7LSjrPZv9T/b1pRTRnH1P1a0e5dkcvU/b5YQ8R1z9T898/aDEnP1P6Y9uknecvU/2dUgfbtz9T+TLg4FF3T1P/3bKraEdPU//v0en9pz9T9uJ4bLOHP1PxCWSzRocvU/MCW9LoZw9T/l+tMQHm/1P4ONxYyybfU/P9Xreals9T+Wf0xMA2z1Pw47Xe7Qa/U/fQCSCfZr9T9lfdaiJ2z1P5HN0EVfbPU/gkEOWqps9T8ecqvtrGz1PxI5/gzbbPU/3ipySfJs9T9pUldC52z1P1P0R5n0bPU/+IDqc/Bs9T/OkRrt3mz1P9g9UNotbPU/cYeuTm1r9T+/MmRfVGv1P168w5ySa/U/TRVUAdZr9T8yypkUBWz1P+UL6pg1bPU/zl3lNH9s9T/X+iDbl2z1P4cVj3wsbPU/XsfN/hNs9T+OsepRb2v1P5Z135gka/U/lyccbfVq9T/b44ru5Wr1P7WQTP7XavU/hkR997xq9T8IsYdYkGr1Pw9wBxjeavU/bMSE/Oxr9T/EPxcqdm31P1nlod5ob/U/jM7Nr4lw9T8045DuoXD1P2Z3NsK8cfU/agPwyTdy9T8zL/nmp3L1P0yA3iBqdPU/+Ec1QJV19T/vDU8k7XX1PxmSld2VdvU/gfMTCbx29T9DLBI3/Xb1PwQ394lId/U/HGVMm4539T/lbtE163f1P2ahi1PVd/U/Ks29smt39T/uWDHZZnf1P9zUiWWdd/U/8zYR3dp49T/G9LSCj3j1P0xlJ+F/ePU/7oC31st49T/ugLfWy3j1P6d5+vLiePU/voD4Lqp49T8DDl2sm3f1P8NdvmVddvU/YrDTCsx19T/VWnVSqXX1P+K40wdQdfU/",
          "dtype": "f8"
         }
        },
        {
         "marker": {
          "color": "red",
          "line": {
           "color": "white",
           "width": 1
          },
          "size": 12,
          "symbol": "triangle-down"
         },
         "mode": "markers",
         "name": "Entry",
         "type": "scatter",
         "x": [
          "2025-06-19T08:30:07.449067263+00:00"
         ],
         "y": [
          1.34206
         ]
        },
        {
         "marker": {
          "color": "purple",
          "line": {
           "color": "white",
           "width": 1
          },
          "size": 10,
          "symbol": "square"
         },
         "mode": "markers",
         "name": "Exit",
         "type": "scatter",
         "x": [
          "2025-06-19T10:20:55.985334505+00:00"
         ],
         "y": [
          1.34365
         ]
        }
       ],
       "layout": {
        "legend": {
         "orientation": "h",
         "x": 1,
         "xanchor": "right",
         "y": 1.02,
         "yanchor": "bottom"
        },
        "template": {
         "data": {
          "bar": [
           {
            "error_x": {
             "color": "#f2f5fa"
            },
            "error_y": {
             "color": "#f2f5fa"
            },
            "marker": {
             "line": {
              "color": "rgb(17,17,17)",
              "width": 0.5
             },
             "pattern": {
              "fillmode": "overlay",
              "size": 10,
              "solidity": 0.2
             }
            },
            "type": "bar"
           }
          ],
          "barpolar": [
           {
            "marker": {
             "line": {
              "color": "rgb(17,17,17)",
              "width": 0.5
             },
             "pattern": {
              "fillmode": "overlay",
              "size": 10,
              "solidity": 0.2
             }
            },
            "type": "barpolar"
           }
          ],
          "carpet": [
           {
            "aaxis": {
             "endlinecolor": "#A2B1C6",
             "gridcolor": "#506784",
             "linecolor": "#506784",
             "minorgridcolor": "#506784",
             "startlinecolor": "#A2B1C6"
            },
            "baxis": {
             "endlinecolor": "#A2B1C6",
             "gridcolor": "#506784",
             "linecolor": "#506784",
             "minorgridcolor": "#506784",
             "startlinecolor": "#A2B1C6"
            },
            "type": "carpet"
           }
          ],
          "choropleth": [
           {
            "colorbar": {
             "outlinewidth": 0,
             "ticks": ""
            },
            "type": "choropleth"
           }
          ],
          "contour": [
           {
            "colorbar": {
             "outlinewidth": 0,
             "ticks": ""
            },
            "colorscale": [
             [
              0,
              "#0d0887"
             ],
             [
              0.1111111111111111,
              "#46039f"
             ],
             [
              0.2222222222222222,
              "#7201a8"
             ],
             [
              0.3333333333333333,
              "#9c179e"
             ],
             [
              0.4444444444444444,
              "#bd3786"
             ],
             [
              0.5555555555555556,
              "#d8576b"
             ],
             [
              0.6666666666666666,
              "#ed7953"
             ],
             [
              0.7777777777777778,
              "#fb9f3a"
             ],
             [
              0.8888888888888888,
              "#fdca26"
             ],
             [
              1,
              "#f0f921"
             ]
            ],
            "type": "contour"
           }
          ],
          "contourcarpet": [
           {
            "colorbar": {
             "outlinewidth": 0,
             "ticks": ""
            },
            "type": "contourcarpet"
           }
          ],
          "heatmap": [
           {
            "colorbar": {
             "outlinewidth": 0,
             "ticks": ""
            },
            "colorscale": [
             [
              0,
              "#0d0887"
             ],
             [
              0.1111111111111111,
              "#46039f"
             ],
             [
              0.2222222222222222,
              "#7201a8"
             ],
             [
              0.3333333333333333,
              "#9c179e"
             ],
             [
              0.4444444444444444,
              "#bd3786"
             ],
             [
              0.5555555555555556,
              "#d8576b"
             ],
             [
              0.6666666666666666,
              "#ed7953"
             ],
             [
              0.7777777777777778,
              "#fb9f3a"
             ],
             [
              0.8888888888888888,
              "#fdca26"
             ],
             [
              1,
              "#f0f921"
             ]
            ],
            "type": "heatmap"
           }
          ],
          "histogram": [
           {
            "marker": {
             "pattern": {
              "fillmode": "overlay",
              "size": 10,
              "solidity": 0.2
             }
            },
            "type": "histogram"
           }
          ],
          "histogram2d": [
           {
            "colorbar": {
             "outlinewidth": 0,
             "ticks": ""
            },
            "colorscale": [
             [
              0,
              "#0d0887"
             ],
             [
              0.1111111111111111,
              "#46039f"
             ],
             [
              0.2222222222222222,
              "#7201a8"
             ],
             [
              0.3333333333333333,
              "#9c179e"
             ],
             [
              0.4444444444444444,
              "#bd3786"
             ],
             [
              0.5555555555555556,
              "#d8576b"
             ],
             [
              0.6666666666666666,
              "#ed7953"
             ],
             [
              0.7777777777777778,
              "#fb9f3a"
             ],
             [
              0.8888888888888888,
              "#fdca26"
             ],
             [
              1,
              "#f0f921"
             ]
            ],
            "type": "histogram2d"
           }
          ],
          "histogram2dcontour": [
           {
            "colorbar": {
             "outlinewidth": 0,
             "ticks": ""
            },
            "colorscale": [
             [
              0,
              "#0d0887"
             ],
             [
              0.1111111111111111,
              "#46039f"
             ],
             [
              0.2222222222222222,
              "#7201a8"
             ],
             [
              0.3333333333333333,
              "#9c179e"
             ],
             [
              0.4444444444444444,
              "#bd3786"
             ],
             [
              0.5555555555555556,
              "#d8576b"
             ],
             [
              0.6666666666666666,
              "#ed7953"
             ],
             [
              0.7777777777777778,
              "#fb9f3a"
             ],
             [
              0.8888888888888888,
              "#fdca26"
             ],
             [
              1,
              "#f0f921"
             ]
            ],
            "type": "histogram2dcontour"
           }
          ],
          "mesh3d": [
           {
            "colorbar": {
             "outlinewidth": 0,
             "ticks": ""
            },
            "type": "mesh3d"
           }
          ],
          "parcoords": [
           {
            "line": {
             "colorbar": {
              "outlinewidth": 0,
              "ticks": ""
             }
            },
            "type": "parcoords"
           }
          ],
          "pie": [
           {
            "automargin": true,
            "type": "pie"
           }
          ],
          "scatter": [
           {
            "marker": {
             "line": {
              "color": "#283442"
             }
            },
            "type": "scatter"
           }
          ],
          "scatter3d": [
           {
            "line": {
             "colorbar": {
              "outlinewidth": 0,
              "ticks": ""
             }
            },
            "marker": {
             "colorbar": {
              "outlinewidth": 0,
              "ticks": ""
             }
            },
            "type": "scatter3d"
           }
          ],
          "scattercarpet": [
           {
            "marker": {
             "colorbar": {
              "outlinewidth": 0,
              "ticks": ""
             }
            },
            "type": "scattercarpet"
           }
          ],
          "scattergeo": [
           {
            "marker": {
             "colorbar": {
              "outlinewidth": 0,
              "ticks": ""
             }
            },
            "type": "scattergeo"
           }
          ],
          "scattergl": [
           {
            "marker": {
             "line": {
              "color": "#283442"
             }
            },
            "type": "scattergl"
           }
          ],
          "scattermap": [
           {
            "marker": {
             "colorbar": {
              "outlinewidth": 0,
              "ticks": ""
             }
            },
            "type": "scattermap"
           }
          ],
          "scattermapbox": [
           {
            "marker": {
             "colorbar": {
              "outlinewidth": 0,
              "ticks": ""
             }
            },
            "type": "scattermapbox"
           }
          ],
          "scatterpolar": [
           {
            "marker": {
             "colorbar": {
              "outlinewidth": 0,
              "ticks": ""
             }
            },
            "type": "scatterpolar"
           }
          ],
          "scatterpolargl": [
           {
            "marker": {
             "colorbar": {
              "outlinewidth": 0,
              "ticks": ""
             }
            },
            "type": "scatterpolargl"
           }
          ],
          "scatterternary": [
           {
            "marker": {
             "colorbar": {
              "outlinewidth": 0,
              "ticks": ""
             }
            },
            "type": "scatterternary"
           }
          ],
          "surface": [
           {
            "colorbar": {
             "outlinewidth": 0,
             "ticks": ""
            },
            "colorscale": [
             [
              0,
              "#0d0887"
             ],
             [
              0.1111111111111111,
              "#46039f"
             ],
             [
              0.2222222222222222,
              "#7201a8"
             ],
             [
              0.3333333333333333,
              "#9c179e"
             ],
             [
              0.4444444444444444,
              "#bd3786"
             ],
             [
              0.5555555555555556,
              "#d8576b"
             ],
             [
              0.6666666666666666,
              "#ed7953"
             ],
             [
              0.7777777777777778,
              "#fb9f3a"
             ],
             [
              0.8888888888888888,
              "#fdca26"
             ],
             [
              1,
              "#f0f921"
             ]
            ],
            "type": "surface"
           }
          ],
          "table": [
           {
            "cells": {
             "fill": {
              "color": "#506784"
             },
             "line": {
              "color": "rgb(17,17,17)"
             }
            },
            "header": {
             "fill": {
              "color": "#2a3f5f"
             },
             "line": {
              "color": "rgb(17,17,17)"
             }
            },
            "type": "table"
           }
          ]
         },
         "layout": {
          "annotationdefaults": {
           "arrowcolor": "#f2f5fa",
           "arrowhead": 0,
           "arrowwidth": 1
          },
          "autotypenumbers": "strict",
          "coloraxis": {
           "colorbar": {
            "outlinewidth": 0,
            "ticks": ""
           }
          },
          "colorscale": {
           "diverging": [
            [
             0,
             "#8e0152"
            ],
            [
             0.1,
             "#c51b7d"
            ],
            [
             0.2,
             "#de77ae"
            ],
            [
             0.3,
             "#f1b6da"
            ],
            [
             0.4,
             "#fde0ef"
            ],
            [
             0.5,
             "#f7f7f7"
            ],
            [
             0.6,
             "#e6f5d0"
            ],
            [
             0.7,
             "#b8e186"
            ],
            [
             0.8,
             "#7fbc41"
            ],
            [
             0.9,
             "#4d9221"
            ],
            [
             1,
             "#276419"
            ]
           ],
           "sequential": [
            [
             0,
             "#0d0887"
            ],
            [
             0.1111111111111111,
             "#46039f"
            ],
            [
             0.2222222222222222,
             "#7201a8"
            ],
            [
             0.3333333333333333,
             "#9c179e"
            ],
            [
             0.4444444444444444,
             "#bd3786"
            ],
            [
             0.5555555555555556,
             "#d8576b"
            ],
            [
             0.6666666666666666,
             "#ed7953"
            ],
            [
             0.7777777777777778,
             "#fb9f3a"
            ],
            [
             0.8888888888888888,
             "#fdca26"
            ],
            [
             1,
             "#f0f921"
            ]
           ],
           "sequentialminus": [
            [
             0,
             "#0d0887"
            ],
            [
             0.1111111111111111,
             "#46039f"
            ],
            [
             0.2222222222222222,
             "#7201a8"
            ],
            [
             0.3333333333333333,
             "#9c179e"
            ],
            [
             0.4444444444444444,
             "#bd3786"
            ],
            [
             0.5555555555555556,
             "#d8576b"
            ],
            [
             0.6666666666666666,
             "#ed7953"
            ],
            [
             0.7777777777777778,
             "#fb9f3a"
            ],
            [
             0.8888888888888888,
             "#fdca26"
            ],
            [
             1,
             "#f0f921"
            ]
           ]
          },
          "colorway": [
           "#636efa",
           "#EF553B",
           "#00cc96",
           "#ab63fa",
           "#FFA15A",
           "#19d3f3",
           "#FF6692",
           "#B6E880",
           "#FF97FF",
           "#FECB52"
          ],
          "font": {
           "color": "#f2f5fa"
          },
          "geo": {
           "bgcolor": "rgb(17,17,17)",
           "lakecolor": "rgb(17,17,17)",
           "landcolor": "rgb(17,17,17)",
           "showlakes": true,
           "showland": true,
           "subunitcolor": "#506784"
          },
          "hoverlabel": {
           "align": "left"
          },
          "hovermode": "closest",
          "mapbox": {
           "style": "dark"
          },
          "paper_bgcolor": "rgb(17,17,17)",
          "plot_bgcolor": "rgb(17,17,17)",
          "polar": {
           "angularaxis": {
            "gridcolor": "#506784",
            "linecolor": "#506784",
            "ticks": ""
           },
           "bgcolor": "rgb(17,17,17)",
           "radialaxis": {
            "gridcolor": "#506784",
            "linecolor": "#506784",
            "ticks": ""
           }
          },
          "scene": {
           "xaxis": {
            "backgroundcolor": "rgb(17,17,17)",
            "gridcolor": "#506784",
            "gridwidth": 2,
            "linecolor": "#506784",
            "showbackground": true,
            "ticks": "",
            "zerolinecolor": "#C8D4E3"
           },
           "yaxis": {
            "backgroundcolor": "rgb(17,17,17)",
            "gridcolor": "#506784",
            "gridwidth": 2,
            "linecolor": "#506784",
            "showbackground": true,
            "ticks": "",
            "zerolinecolor": "#C8D4E3"
           },
           "zaxis": {
            "backgroundcolor": "rgb(17,17,17)",
            "gridcolor": "#506784",
            "gridwidth": 2,
            "linecolor": "#506784",
            "showbackground": true,
            "ticks": "",
            "zerolinecolor": "#C8D4E3"
           }
          },
          "shapedefaults": {
           "line": {
            "color": "#f2f5fa"
           }
          },
          "sliderdefaults": {
           "bgcolor": "#C8D4E3",
           "bordercolor": "rgb(17,17,17)",
           "borderwidth": 1,
           "tickwidth": 0
          },
          "ternary": {
           "aaxis": {
            "gridcolor": "#506784",
            "linecolor": "#506784",
            "ticks": ""
           },
           "baxis": {
            "gridcolor": "#506784",
            "linecolor": "#506784",
            "ticks": ""
           },
           "bgcolor": "rgb(17,17,17)",
           "caxis": {
            "gridcolor": "#506784",
            "linecolor": "#506784",
            "ticks": ""
           }
          },
          "title": {
           "x": 0.05
          },
          "updatemenudefaults": {
           "bgcolor": "#506784",
           "borderwidth": 0
          },
          "xaxis": {
           "automargin": true,
           "gridcolor": "#283442",
           "linecolor": "#506784",
           "ticks": "",
           "title": {
            "standoff": 15
           },
           "zerolinecolor": "#283442",
           "zerolinewidth": 2
          },
          "yaxis": {
           "automargin": true,
           "gridcolor": "#283442",
           "linecolor": "#506784",
           "ticks": "",
           "title": {
            "standoff": 15
           },
           "zerolinecolor": "#283442",
           "zerolinewidth": 2
          }
         }
        },
        "title": {
         "text": "Trade on GBP_USD | P/L: <span style='color:lightcoral;'>$-1.59</span>"
        },
        "xaxis": {
         "rangeslider": {
          "visible": false
         },
         "title": {
          "text": "Date"
         }
        },
        "yaxis": {
         "title": {
          "text": "Price"
         }
        }
       }
      }
     },
     "metadata": {},
     "output_type": "display_data"
    },
    {
     "name": "stdout",
     "output_type": "stream",
     "text": [
      "\n",
      "--- Plotting trade on EUR_JPY opened at: 2025-06-19 11:00:11 ---\n"
     ]
    },
    {
     "data": {
      "application/vnd.plotly.v1+json": {
       "config": {
        "plotlyServerURL": "https://plot.ly"
       },
       "data": [
        {
         "close": {
          "bdata": "mG4Sg8DWZED8qfHSTdJkQDvfT42XzmRA5/up8dLRZEDTTWIQWNFkQPhT46Wb1GRA9ihcj8LVZED0/dR46dZkQNEi2/l+1mRAXrpJDALXZECJQWDl0NZkQGq8dJMY1GRAqMZLN4nRZECF61G4Hs1kQGDl0CLbzWRAMzMzMzPXZEAEVg4tstVkQHWTGARW0mRAPzVeuknUZEBvEoPAytFkQMl2vp8a12RA3SQGgZXTZEA1XrpJDNJkQFyPwvUo0GRAZmZmZmbOZEAv3SQGgc1kQPYoXI/CzWRAAAAAAADQZED8qfHSTc5kQIts5/upzWRACKwcWmTPZEBzaJHtfM9kQG3n+6nxzmRAAAAAAADQZECgGi/dJM5kQN9PjZdu0mRAvHSTGATOZEAOLbKd789kQHE9Ctej0GRASgwCK4fSZEBEi2zn+9FkQHNoke1802RAXI/C9SjUZEDufD81XtJkQOkmMQis0GRAZmZmZmbSZEBI4XoUrtNkQNEi2/l+0mRAZDvfT43PZECTGARWDs1kQC2yne+nzmRAEFg5tMjOZEC+nxov3cxkQBSuR+F6zGRAF9nO91PLZEBGtvP91MhkQMUgsHJoyWRAVOOlm8TMZEBQjZduEstkQB1aZDvfx2RA1XjpJjHIZECYbhKDwMZkQCuHFtnOx2RATDeJQWDFZEBkO99PjcdkQGiR7Xw/yWRAUrgehevJZEBSuB6F68lkQMuhRbbzyWRAtMh2vp/KZEBt5/up8cpkQF66SQwCy2RAdZMYBFbKZEBt5/up8cpkQDMzMzMzy2RAukkMAivLZEAlBoGVQ8tkQJZDi2zny2RA8tJNYhDIZECmm8QgsMpkQEJg5dAiy2RAaJHtfD/NZECDwMqhRdJkQJZDi2zn02RAZDvfT43XZECBlUOLbNdkQI2XbhKD1GRATmIQWDnUZEASg8DKodVkQDvfT42X1mRAVg4tsp3XZEDHSzeJQdhkQAwCK4cW2WRANV66SQzaZEBGtvP91NxkQDeJQWDl3GRAIbByaJHdZEAnMQisHOJkQG8Sg8DK5WRAVOOlm8TkZEC6SQwCK+dkQKwcWmQ752RAHVpkO9/nZEAGgZVDi+RkQHNoke1842RAGQRWDi3iZEASg8DKoeFkQPLSTWIQ4GRAz/dT46XfZEC+nxov3dxkQFCNl24S22RArBxaZDvfZEAQWDm0yN5kQIcW2c7332RAJQaBlUPjZEB9PzVeuuFkQFK4HoXr4WRAuB6F61HgZED4U+Olm9xkQIXrUbge3WRAbxKDwMrdZEBeukkMAt9kQK5H4XoU3mRACtejcD3eZEC28/3UeN1kQHE9Ctej4GRAN4lBYOXgZEBzaJHtfONkQIPAyqFF4mRAUI2XbhLjZEAX2c73U+NkQA==",
          "dtype": "f8"
         },
         "high": {
          "bdata": "JzEIrBzaZEAfhetRuNZkQHNoke1802RAJzEIrBzSZEDD9Shcj9JkQD0K16Nw1WRA0SLb+X7WZEDl0CLb+dZkQAAAAAAA2GRAObTIdr7XZEDVeOkmMdhkQJ7vp8ZL12RA6SYxCKzUZEBSuB6F69FkQLKd76fGz2RAf2q8dJPYZECmm8QgsNpkQBkEVg4t1mRAsHJoke3UZEBoke18P9VkQMl2vp8a12RAyXa+nxrXZECNl24Sg9RkQHnpJjEI1GRAfT81XrrRZECPwvUoXM9kQK5H4XoUzmRAqvHSTWLQZEDjpZvEINBkQFg5tMh2zmRACKwcWmTPZECamZmZmdFkQMdLN4lB0GRA9ihcj8LRZEAK16NwPdJkQGQ730+N02RAmG4Sg8DSZED+1HjpJtFkQKJFtvP90GRAUI2XbhLTZEAX2c73U9NkQB1aZDvf02RA8KfGSzfVZEDJdr6fGtNkQIPAyqFF0mRA9P3UeOnSZEBI4XoUrtNkQPYoXI/C1WRA30+Nl27SZECWQ4ts589kQF66SQwCz2RAhxbZzvfPZECyne+nxs9kQOF6FK5HzWRAIbByaJHNZEBOYhBYOcxkQFK4HoXryWRAzczMzMzMZEDFILByaM1kQI/C9Shcy2RAYOXQItvJZED+1HjpJslkQJqZmZmZyWRAIbByaJHJZEDjpZvEIMhkQEw3iUFgyWRA7nw/NV7KZECWQ4ts58tkQC2yne+nymRAppvEILDKZED6fmq8dMtkQOxRuB6Fy2RAXrpJDALLZEAIrBxaZMtkQHnpJjEIzGRAeekmMQjMZEBiEFg5tMxkQNv5fmq8zGRAAAAAAADMZECyne+nxstkQM/3U+Oly2RAmpmZmZnNZEBYObTIdtJkQC/dJAaB1WRAAAAAAADYZEAAAAAAANhkQIcW2c7312RA9ihcj8LVZECR7Xw/NdZkQKwcWmQ712RAjZduEoPYZEBGtvP91NhkQCcxCKwc2mRANV66SQzaZEASg8DKod1kQBfZzvdT32RACtejcD3eZED8qfHSTeJkQEJg5dAi52RAc2iR7XznZEDjpZvEIOhkQFTjpZvE6GRAJzEIrBzqZEAGgZVDi+hkQM3MzMzM5GRAarx0kxjkZED6fmq8dONkQN9PjZdu4mRAVOOlm8TgZEAOLbKd799kQD0K16Nw3WRATmIQWDngZEBcj8L1KOBkQAaBlUOL4GRA7FG4HoXjZEAv3SQGgeVkQF66SQwC42RA0SLb+X7iZECq8dJNYuBkQOF6FK5H3WRAc2iR7XzfZEDXo3A9Ct9kQNejcD0K32RAAiuHFtneZEBKDAIrh95kQPCnxks34WRA0SLb+X7iZEAdWmQ73+NkQPp+arx042RACKwcWmTjZEDsUbgeheNkQA==",
          "dtype": "f8"
         },
         "low": {
          "bdata": "ppvEILDWZEAnMQisHNJkQH0/NV66zWRAGQRWDi3OZEDVeOkmMdBkQGIQWDm00GRA8tJNYhDUZEAxCKwcWtRkQKJFtvP91GRADAIrhxbVZEASg8DKodVkQJZDi2zn02RA1XjpJjHQZECyne+nxstkQO58PzVeymRA7FG4HoXLZEAMAiuHFtVkQH0/NV660WRApHA9CtfPZEAbL90kBtFkQLByaJHt0GRACKwcWmTTZEBSuB6F69FkQDm0yHa+z2RAUrgehevNZEBaZDvfT81kQOkmMQiszGRAqMZLN4nNZECR7Xw/Nc5kQIcW2c73y2RAIbByaJHNZECyne+nxstkQJqZmZmZzWRAvHSTGATOZEASg8DKoc1kQI2XbhKDzGRAvp8aL93MZEAhsHJokc1kQNEi2/l+zmRAI9v5fmrQZEBvEoPAytFkQBkEVg4t0mRACKwcWmTTZEC28/3UeNFkQCPb+X5q0GRAAAAAAADQZECR7Xw/NdJkQESLbOf70WRAppvEILDOZECTGARWDs1kQEa28/3UzGRA9ihcj8LNZEC+nxov3cxkQFCNl24Sy2RAAiuHFtnKZECq8dJNYshkQMl2vp8ax2RAI9v5fmrIZECJQWDl0MpkQPCnxks3wWRAEFg5tMjGZEC0yHa+n8ZkQJHtfD81xmRAokW28/3EZEBoke18P8VkQPT91HjpxmRARrbz/dTIZEAEVg4tsslkQAAAAAAAyGRAYhBYObTIZEA1XrpJDMpkQPYoXI/CyWRA4XoUrkfJZECR7Xw/NcpkQNEi2/l+ymRA/Knx0k3KZEDl0CLb+cpkQG3n+6nxymRAj8L1KFzHZEAOLbKd78dkQIts5/upyWRAQmDl0CLLZEAMAiuHFs1kQEw3iUFg0WRAsp3vp8bTZECWQ4ts59NkQKwcWmQ702RA8KfGSzfRZED6fmq8dNNkQM3MzMzM1GRA5/up8dLVZEDXo3A9CtdkQOOlm8Qg2GRASOF6FK7XZEASg8DKodlkQIcW2c7322RABoGVQ4vcZEAhsHJokd1kQDVeukkM4mRAVOOlm8TkZEDpJjEIrORkQB+F61G45mRAke18PzXmZEBqvHSTGORkQAIrhxbZ4mRAGy/dJAbhZEBU46WbxOBkQPp+arx032RAvHSTGATeZEDb+X5qvNxkQPyp8dJN2mRALbKd76faZEBaZDvfT91kQLTIdr6f3mRAnu+nxkvfZEBaZDvfT+FkQEa28/3U4GRA3SQGgZXfZEB56SYxCNxkQBfZzvdT22RAhetRuB7dZEA9CtejcN1kQD0K16Nw3WRABFYOLbLdZEB3vp8aL91kQBKDwMqh3WRABoGVQ4vgZEAj2/l+auBkQKjGSzeJ4WRAxSCwcmjhZEDXo3A9CuNkQA==",
          "dtype": "f8"
         },
         "name": "Candles",
         "open": {
          "bdata": "x0s3iUHYZEAfhetRuNZkQHWTGARW0mRAw/UoXI/OZEBvEoPAytFkQMUgsHJo0WRA6SYxCKzUZEBg5dAi29VkQAIrhxbZ1mRAZmZmZmbWZEDXo3A9CtdkQPT91Hjp1mRAAAAAAADUZECoxks3idFkQP7UeOkmzWRA9ihcj8LNZEC6SQwCK9dkQARWDi2y1WRA30+Nl27SZEBcj8L1KNRkQG8Sg8DK0WRA16NwPQrXZEDP91PjpdNkQK5H4XoU0mRA46WbxCDQZEDfT42Xbs5kQC/dJAaBzWRAbxKDwMrNZEAOLbKd789kQO58PzVezmRAfT81XrrNZECHFtnO989kQPp+arx0z2RA5dAi2/nOZEDjpZvEINBkQKAaL90kzmRACtejcD3SZEC8dJMYBM5kQB1aZDvfz2RAf2q8dJPQZEDD9Shcj9JkQBkEVg4t0mRA7FG4HoXTZEDJdr6fGtNkQIPAyqFF0mRAVOOlm8TQZECmm8QgsNJkQBBYObTI0mRA30+Nl27SZEBWDi2ync9kQJMYBFYOzWRAO99PjZfOZEAQWDm0yM5kQKJFtvP9zGRABoGVQ4vMZEAX2c73U8tkQL6fGi/dyGRAxSCwcmjJZEDNzMzMzMxkQNejcD0Ky2RAHVpkO9/HZEDVeOkmMchkQB+F61G4xmRAK4cW2c7HZEBaZDvfT8VkQN0kBoGVx2RA4XoUrkfJZEBEi2zn+8lkQNnO91PjyWRARIts5/vJZECmm8QgsMpkQHsUrkfhymRAXrpJDALLZED8qfHSTcpkQG3n+6nxymRAJQaBlUPLZEBQjZduEstkQCUGgZVDy2RAlkOLbOfLZEAOLbKd78dkQJhuEoPAymRAMzMzMzPLZEBoke18P81kQArXo3A90mRAlkOLbOfTZEBkO99PjddkQAisHFpk12RABoGVQ4vUZEBOYhBYOdRkQOf7qfHS1WRAO99PjZfWZEBI4XoUrtdkQLgehetR2GRAokW28/3YZEA1XrpJDNpkQM3MzMzM3GRAokW28/3cZEAhsHJokd1kQPyp8dJN4mRA5/up8dLlZEDpJjEIrORkQLpJDAIr52RAnu+nxkvnZEAOLbKd7+dkQAaBlUOL5GRA+n5qvHTjZEAZBFYOLeJkQLbz/dR44WRA8tJNYhDgZEBI4XoUrt9kQEa28/3U3GRAXrpJDALbZEC6SQwCK99kQB+F61G43mRAeekmMQjgZEAX2c73U+NkQH0/NV664WRAUrgehevhZEC4HoXrUeBkQPhT46Wb3GRAhetRuB7dZED2KFyPwt1kQNejcD0K32RAoBov3STeZEAK16NwPd5kQPYoXI/C3WRA+FPjpZvgZEC+nxov3eBkQBfZzvdT42RACtejcD3iZEDXo3A9CuNkQA==",
          "dtype": "f8"
         },
         "type": "candlestick",
         "x": [
          "2025-06-18T10:15:00+00:00",
          "2025-06-18T10:30:00+00:00",
          "2025-06-18T10:45:00+00:00",
          "2025-06-18T11:00:00+00:00",
          "2025-06-18T11:15:00+00:00",
          "2025-06-18T11:30:00+00:00",
          "2025-06-18T11:45:00+00:00",
          "2025-06-18T12:00:00+00:00",
          "2025-06-18T12:15:00+00:00",
          "2025-06-18T12:30:00+00:00",
          "2025-06-18T12:45:00+00:00",
          "2025-06-18T13:00:00+00:00",
          "2025-06-18T13:15:00+00:00",
          "2025-06-18T13:30:00+00:00",
          "2025-06-18T13:45:00+00:00",
          "2025-06-18T14:00:00+00:00",
          "2025-06-18T14:15:00+00:00",
          "2025-06-18T14:30:00+00:00",
          "2025-06-18T14:45:00+00:00",
          "2025-06-18T15:00:00+00:00",
          "2025-06-18T15:15:00+00:00",
          "2025-06-18T15:30:00+00:00",
          "2025-06-18T15:45:00+00:00",
          "2025-06-18T16:00:00+00:00",
          "2025-06-18T16:15:00+00:00",
          "2025-06-18T16:30:00+00:00",
          "2025-06-18T16:45:00+00:00",
          "2025-06-18T17:00:00+00:00",
          "2025-06-18T17:15:00+00:00",
          "2025-06-18T17:30:00+00:00",
          "2025-06-18T17:45:00+00:00",
          "2025-06-18T18:00:00+00:00",
          "2025-06-18T18:15:00+00:00",
          "2025-06-18T18:30:00+00:00",
          "2025-06-18T18:45:00+00:00",
          "2025-06-18T19:00:00+00:00",
          "2025-06-18T19:15:00+00:00",
          "2025-06-18T19:30:00+00:00",
          "2025-06-18T19:45:00+00:00",
          "2025-06-18T20:00:00+00:00",
          "2025-06-18T20:15:00+00:00",
          "2025-06-18T20:30:00+00:00",
          "2025-06-18T20:45:00+00:00",
          "2025-06-18T21:00:00+00:00",
          "2025-06-18T21:15:00+00:00",
          "2025-06-18T21:30:00+00:00",
          "2025-06-18T21:45:00+00:00",
          "2025-06-18T22:00:00+00:00",
          "2025-06-18T22:15:00+00:00",
          "2025-06-18T22:30:00+00:00",
          "2025-06-18T22:45:00+00:00",
          "2025-06-18T23:00:00+00:00",
          "2025-06-18T23:15:00+00:00",
          "2025-06-18T23:30:00+00:00",
          "2025-06-18T23:45:00+00:00",
          "2025-06-19T00:00:00+00:00",
          "2025-06-19T00:15:00+00:00",
          "2025-06-19T00:30:00+00:00",
          "2025-06-19T00:45:00+00:00",
          "2025-06-19T01:00:00+00:00",
          "2025-06-19T01:15:00+00:00",
          "2025-06-19T01:30:00+00:00",
          "2025-06-19T01:45:00+00:00",
          "2025-06-19T02:00:00+00:00",
          "2025-06-19T02:15:00+00:00",
          "2025-06-19T02:30:00+00:00",
          "2025-06-19T02:45:00+00:00",
          "2025-06-19T03:00:00+00:00",
          "2025-06-19T03:15:00+00:00",
          "2025-06-19T03:30:00+00:00",
          "2025-06-19T03:45:00+00:00",
          "2025-06-19T04:00:00+00:00",
          "2025-06-19T04:15:00+00:00",
          "2025-06-19T04:30:00+00:00",
          "2025-06-19T04:45:00+00:00",
          "2025-06-19T05:00:00+00:00",
          "2025-06-19T05:15:00+00:00",
          "2025-06-19T05:30:00+00:00",
          "2025-06-19T05:45:00+00:00",
          "2025-06-19T06:00:00+00:00",
          "2025-06-19T06:15:00+00:00",
          "2025-06-19T06:30:00+00:00",
          "2025-06-19T06:45:00+00:00",
          "2025-06-19T07:00:00+00:00",
          "2025-06-19T07:15:00+00:00",
          "2025-06-19T07:30:00+00:00",
          "2025-06-19T07:45:00+00:00",
          "2025-06-19T08:00:00+00:00",
          "2025-06-19T08:15:00+00:00",
          "2025-06-19T08:30:00+00:00",
          "2025-06-19T08:45:00+00:00",
          "2025-06-19T09:00:00+00:00",
          "2025-06-19T09:15:00+00:00",
          "2025-06-19T09:30:00+00:00",
          "2025-06-19T09:45:00+00:00",
          "2025-06-19T10:00:00+00:00",
          "2025-06-19T10:15:00+00:00",
          "2025-06-19T10:30:00+00:00",
          "2025-06-19T10:45:00+00:00",
          "2025-06-19T11:00:00+00:00",
          "2025-06-19T11:15:00+00:00",
          "2025-06-19T11:30:00+00:00",
          "2025-06-19T11:45:00+00:00",
          "2025-06-19T12:00:00+00:00",
          "2025-06-19T12:15:00+00:00",
          "2025-06-19T12:30:00+00:00",
          "2025-06-19T12:45:00+00:00",
          "2025-06-19T13:00:00+00:00",
          "2025-06-19T13:15:00+00:00",
          "2025-06-19T13:30:00+00:00",
          "2025-06-19T13:45:00+00:00",
          "2025-06-19T14:00:00+00:00",
          "2025-06-19T14:15:00+00:00",
          "2025-06-19T14:30:00+00:00",
          "2025-06-19T14:45:00+00:00",
          "2025-06-19T15:00:00+00:00",
          "2025-06-19T15:15:00+00:00",
          "2025-06-19T15:30:00+00:00",
          "2025-06-19T15:45:00+00:00",
          "2025-06-19T16:00:00+00:00",
          "2025-06-19T16:15:00+00:00",
          "2025-06-19T16:30:00+00:00",
          "2025-06-19T16:45:00+00:00",
          "2025-06-19T17:00:00+00:00",
          "2025-06-19T17:15:00+00:00",
          "2025-06-19T17:30:00+00:00",
          "2025-06-19T17:45:00+00:00",
          "2025-06-19T18:00:00+00:00",
          "2025-06-19T18:15:00+00:00",
          "2025-06-19T18:30:00+00:00",
          "2025-06-19T18:45:00+00:00"
         ]
        },
        {
         "line": {
          "color": "cyan",
          "dash": "dash"
         },
         "mode": "lines",
         "name": "Upper BB",
         "opacity": 0.7,
         "type": "scatter",
         "x": [
          "2025-06-18T10:15:00+00:00",
          "2025-06-18T10:30:00+00:00",
          "2025-06-18T10:45:00+00:00",
          "2025-06-18T11:00:00+00:00",
          "2025-06-18T11:15:00+00:00",
          "2025-06-18T11:30:00+00:00",
          "2025-06-18T11:45:00+00:00",
          "2025-06-18T12:00:00+00:00",
          "2025-06-18T12:15:00+00:00",
          "2025-06-18T12:30:00+00:00",
          "2025-06-18T12:45:00+00:00",
          "2025-06-18T13:00:00+00:00",
          "2025-06-18T13:15:00+00:00",
          "2025-06-18T13:30:00+00:00",
          "2025-06-18T13:45:00+00:00",
          "2025-06-18T14:00:00+00:00",
          "2025-06-18T14:15:00+00:00",
          "2025-06-18T14:30:00+00:00",
          "2025-06-18T14:45:00+00:00",
          "2025-06-18T15:00:00+00:00",
          "2025-06-18T15:15:00+00:00",
          "2025-06-18T15:30:00+00:00",
          "2025-06-18T15:45:00+00:00",
          "2025-06-18T16:00:00+00:00",
          "2025-06-18T16:15:00+00:00",
          "2025-06-18T16:30:00+00:00",
          "2025-06-18T16:45:00+00:00",
          "2025-06-18T17:00:00+00:00",
          "2025-06-18T17:15:00+00:00",
          "2025-06-18T17:30:00+00:00",
          "2025-06-18T17:45:00+00:00",
          "2025-06-18T18:00:00+00:00",
          "2025-06-18T18:15:00+00:00",
          "2025-06-18T18:30:00+00:00",
          "2025-06-18T18:45:00+00:00",
          "2025-06-18T19:00:00+00:00",
          "2025-06-18T19:15:00+00:00",
          "2025-06-18T19:30:00+00:00",
          "2025-06-18T19:45:00+00:00",
          "2025-06-18T20:00:00+00:00",
          "2025-06-18T20:15:00+00:00",
          "2025-06-18T20:30:00+00:00",
          "2025-06-18T20:45:00+00:00",
          "2025-06-18T21:00:00+00:00",
          "2025-06-18T21:15:00+00:00",
          "2025-06-18T21:30:00+00:00",
          "2025-06-18T21:45:00+00:00",
          "2025-06-18T22:00:00+00:00",
          "2025-06-18T22:15:00+00:00",
          "2025-06-18T22:30:00+00:00",
          "2025-06-18T22:45:00+00:00",
          "2025-06-18T23:00:00+00:00",
          "2025-06-18T23:15:00+00:00",
          "2025-06-18T23:30:00+00:00",
          "2025-06-18T23:45:00+00:00",
          "2025-06-19T00:00:00+00:00",
          "2025-06-19T00:15:00+00:00",
          "2025-06-19T00:30:00+00:00",
          "2025-06-19T00:45:00+00:00",
          "2025-06-19T01:00:00+00:00",
          "2025-06-19T01:15:00+00:00",
          "2025-06-19T01:30:00+00:00",
          "2025-06-19T01:45:00+00:00",
          "2025-06-19T02:00:00+00:00",
          "2025-06-19T02:15:00+00:00",
          "2025-06-19T02:30:00+00:00",
          "2025-06-19T02:45:00+00:00",
          "2025-06-19T03:00:00+00:00",
          "2025-06-19T03:15:00+00:00",
          "2025-06-19T03:30:00+00:00",
          "2025-06-19T03:45:00+00:00",
          "2025-06-19T04:00:00+00:00",
          "2025-06-19T04:15:00+00:00",
          "2025-06-19T04:30:00+00:00",
          "2025-06-19T04:45:00+00:00",
          "2025-06-19T05:00:00+00:00",
          "2025-06-19T05:15:00+00:00",
          "2025-06-19T05:30:00+00:00",
          "2025-06-19T05:45:00+00:00",
          "2025-06-19T06:00:00+00:00",
          "2025-06-19T06:15:00+00:00",
          "2025-06-19T06:30:00+00:00",
          "2025-06-19T06:45:00+00:00",
          "2025-06-19T07:00:00+00:00",
          "2025-06-19T07:15:00+00:00",
          "2025-06-19T07:30:00+00:00",
          "2025-06-19T07:45:00+00:00",
          "2025-06-19T08:00:00+00:00",
          "2025-06-19T08:15:00+00:00",
          "2025-06-19T08:30:00+00:00",
          "2025-06-19T08:45:00+00:00",
          "2025-06-19T09:00:00+00:00",
          "2025-06-19T09:15:00+00:00",
          "2025-06-19T09:30:00+00:00",
          "2025-06-19T09:45:00+00:00",
          "2025-06-19T10:00:00+00:00",
          "2025-06-19T10:15:00+00:00",
          "2025-06-19T10:30:00+00:00",
          "2025-06-19T10:45:00+00:00",
          "2025-06-19T11:00:00+00:00",
          "2025-06-19T11:15:00+00:00",
          "2025-06-19T11:30:00+00:00",
          "2025-06-19T11:45:00+00:00",
          "2025-06-19T12:00:00+00:00",
          "2025-06-19T12:15:00+00:00",
          "2025-06-19T12:30:00+00:00",
          "2025-06-19T12:45:00+00:00",
          "2025-06-19T13:00:00+00:00",
          "2025-06-19T13:15:00+00:00",
          "2025-06-19T13:30:00+00:00",
          "2025-06-19T13:45:00+00:00",
          "2025-06-19T14:00:00+00:00",
          "2025-06-19T14:15:00+00:00",
          "2025-06-19T14:30:00+00:00",
          "2025-06-19T14:45:00+00:00",
          "2025-06-19T15:00:00+00:00",
          "2025-06-19T15:15:00+00:00",
          "2025-06-19T15:30:00+00:00",
          "2025-06-19T15:45:00+00:00",
          "2025-06-19T16:00:00+00:00",
          "2025-06-19T16:15:00+00:00",
          "2025-06-19T16:30:00+00:00",
          "2025-06-19T16:45:00+00:00",
          "2025-06-19T17:00:00+00:00",
          "2025-06-19T17:15:00+00:00",
          "2025-06-19T17:30:00+00:00",
          "2025-06-19T17:45:00+00:00",
          "2025-06-19T18:00:00+00:00",
          "2025-06-19T18:15:00+00:00",
          "2025-06-19T18:30:00+00:00",
          "2025-06-19T18:45:00+00:00"
         ],
         "y": {
          "bdata": "AAAAAAAA+H8AAAAAAAD4fwAAAAAAAPh/AAAAAAAA+H8AAAAAAAD4fwAAAAAAAPh/AAAAAAAA+H8AAAAAAAD4fwAAAAAAAPh/AAAAAAAA+H8AAAAAAAD4fwAAAAAAAPh/AAAAAAAA+H8AAAAAAAD4fwAAAAAAAPh/AAAAAAAA+H8AAAAAAAD4fwAAAAAAAPh/AAAAAAAA+H91wcY/6NlkQBQQBNP22WRABFdUhADaZECNgcfFx9lkQN4UAM3a2WRASNVDoxLaZECu+fnfOdpkQLYelgcd2mRAR/N3MJnZZECwi5ojJtlkQGxrtvuH2GRAWhdc58LXZEAoYr+pbNdkQJ6JMZ9Z12RAD/yMs0XXZEC92kQEQtdkQGkqFCda1mRAlhl5oJTVZEBLJSUzYdVkQHa/COvW1GRAmxPld/HUZECF8soniNNkQOHKr7qB02RAQ0K7pPvTZEDyEn51PNRkQAxrZHRI1GRAiv4B+HDUZECk2VkJydRkQCmLrYL41GRA1cVjb+jUZEByNKQQ/dRkQJ882BUF1WRA5X2NLAvVZEDRtGwdOdVkQBwFay9r1WRA635FMbXVZEDW+e/UGtZkQGr47wV71mRAyyElIXHWZEDTtukfatZkQDGFT5Fp1mRANQMcXEfWZEBPP4ak5NVkQEqCoeML1WRAOVm366XUZEC7uRv4LtRkQAgHvwcz02RAWDQSkq7RZEC5x+JhPdBkQFIhTx5xz2RAV5ZJoCbPZEBnhgHFgs5kQPndoN7AzWRANgklNVzNZEBJkcqwF81kQNm5O6USzWRAOkOOY0DNZEAZ0YLHas1kQMDDWM89zWRA0SG6vRfNZEAuQBBTL81kQIeHnqNSzWRAqQI1dKrNZEDa1SNxks9kQHQDKQ860WRA27hOHufTZEBMpHwc99VkQKC8l6z91mRAa4p3/NHXZEBNnFMeythkQKoNUTzS2WRAM8Shn+jaZEBbVtqX9NtkQLjRz9Dx3GRAuTrFOfbdZEBoYrzdWd9kQG3AWEt64GRA7eiNpnvhZEDNTX/WQeNkQHwQ3RD55GRAW/iGWD3mZEAOwTuyoedkQJxHsy3R6GRAKgpYpFfqZEAzZ7EaEOtkQAPWOBqv62RANXAIugjsZECvhnj3+etkQE5pEuOS62RABco7pSfrZEB6vyGNr+pkQEp/Zd9a6mRAkqZ2O/PpZEALT2dojelkQC6OxGAz6WRAvb/2GULpZEAfnpMjJ+lkQBcjAuoR6WRAUYC8mQfpZECA1JmJv+hkQOuPklF56GRADiI3/5bnZECpQ5u5fuZkQEF8bv7z5GRAWQUUhC3kZEBOAc5AkuNkQC96LK5T42RABBm/6zXjZEBwYR+lz+NkQEbtSwki5GRALtNm5IvkZECWpKBoreRkQA==",
          "dtype": "f8"
         }
        },
        {
         "line": {
          "color": "yellow",
          "dash": "dash"
         },
         "mode": "lines",
         "name": "Middle BB",
         "opacity": 0.7,
         "type": "scatter",
         "x": [
          "2025-06-18T10:15:00+00:00",
          "2025-06-18T10:30:00+00:00",
          "2025-06-18T10:45:00+00:00",
          "2025-06-18T11:00:00+00:00",
          "2025-06-18T11:15:00+00:00",
          "2025-06-18T11:30:00+00:00",
          "2025-06-18T11:45:00+00:00",
          "2025-06-18T12:00:00+00:00",
          "2025-06-18T12:15:00+00:00",
          "2025-06-18T12:30:00+00:00",
          "2025-06-18T12:45:00+00:00",
          "2025-06-18T13:00:00+00:00",
          "2025-06-18T13:15:00+00:00",
          "2025-06-18T13:30:00+00:00",
          "2025-06-18T13:45:00+00:00",
          "2025-06-18T14:00:00+00:00",
          "2025-06-18T14:15:00+00:00",
          "2025-06-18T14:30:00+00:00",
          "2025-06-18T14:45:00+00:00",
          "2025-06-18T15:00:00+00:00",
          "2025-06-18T15:15:00+00:00",
          "2025-06-18T15:30:00+00:00",
          "2025-06-18T15:45:00+00:00",
          "2025-06-18T16:00:00+00:00",
          "2025-06-18T16:15:00+00:00",
          "2025-06-18T16:30:00+00:00",
          "2025-06-18T16:45:00+00:00",
          "2025-06-18T17:00:00+00:00",
          "2025-06-18T17:15:00+00:00",
          "2025-06-18T17:30:00+00:00",
          "2025-06-18T17:45:00+00:00",
          "2025-06-18T18:00:00+00:00",
          "2025-06-18T18:15:00+00:00",
          "2025-06-18T18:30:00+00:00",
          "2025-06-18T18:45:00+00:00",
          "2025-06-18T19:00:00+00:00",
          "2025-06-18T19:15:00+00:00",
          "2025-06-18T19:30:00+00:00",
          "2025-06-18T19:45:00+00:00",
          "2025-06-18T20:00:00+00:00",
          "2025-06-18T20:15:00+00:00",
          "2025-06-18T20:30:00+00:00",
          "2025-06-18T20:45:00+00:00",
          "2025-06-18T21:00:00+00:00",
          "2025-06-18T21:15:00+00:00",
          "2025-06-18T21:30:00+00:00",
          "2025-06-18T21:45:00+00:00",
          "2025-06-18T22:00:00+00:00",
          "2025-06-18T22:15:00+00:00",
          "2025-06-18T22:30:00+00:00",
          "2025-06-18T22:45:00+00:00",
          "2025-06-18T23:00:00+00:00",
          "2025-06-18T23:15:00+00:00",
          "2025-06-18T23:30:00+00:00",
          "2025-06-18T23:45:00+00:00",
          "2025-06-19T00:00:00+00:00",
          "2025-06-19T00:15:00+00:00",
          "2025-06-19T00:30:00+00:00",
          "2025-06-19T00:45:00+00:00",
          "2025-06-19T01:00:00+00:00",
          "2025-06-19T01:15:00+00:00",
          "2025-06-19T01:30:00+00:00",
          "2025-06-19T01:45:00+00:00",
          "2025-06-19T02:00:00+00:00",
          "2025-06-19T02:15:00+00:00",
          "2025-06-19T02:30:00+00:00",
          "2025-06-19T02:45:00+00:00",
          "2025-06-19T03:00:00+00:00",
          "2025-06-19T03:15:00+00:00",
          "2025-06-19T03:30:00+00:00",
          "2025-06-19T03:45:00+00:00",
          "2025-06-19T04:00:00+00:00",
          "2025-06-19T04:15:00+00:00",
          "2025-06-19T04:30:00+00:00",
          "2025-06-19T04:45:00+00:00",
          "2025-06-19T05:00:00+00:00",
          "2025-06-19T05:15:00+00:00",
          "2025-06-19T05:30:00+00:00",
          "2025-06-19T05:45:00+00:00",
          "2025-06-19T06:00:00+00:00",
          "2025-06-19T06:15:00+00:00",
          "2025-06-19T06:30:00+00:00",
          "2025-06-19T06:45:00+00:00",
          "2025-06-19T07:00:00+00:00",
          "2025-06-19T07:15:00+00:00",
          "2025-06-19T07:30:00+00:00",
          "2025-06-19T07:45:00+00:00",
          "2025-06-19T08:00:00+00:00",
          "2025-06-19T08:15:00+00:00",
          "2025-06-19T08:30:00+00:00",
          "2025-06-19T08:45:00+00:00",
          "2025-06-19T09:00:00+00:00",
          "2025-06-19T09:15:00+00:00",
          "2025-06-19T09:30:00+00:00",
          "2025-06-19T09:45:00+00:00",
          "2025-06-19T10:00:00+00:00",
          "2025-06-19T10:15:00+00:00",
          "2025-06-19T10:30:00+00:00",
          "2025-06-19T10:45:00+00:00",
          "2025-06-19T11:00:00+00:00",
          "2025-06-19T11:15:00+00:00",
          "2025-06-19T11:30:00+00:00",
          "2025-06-19T11:45:00+00:00",
          "2025-06-19T12:00:00+00:00",
          "2025-06-19T12:15:00+00:00",
          "2025-06-19T12:30:00+00:00",
          "2025-06-19T12:45:00+00:00",
          "2025-06-19T13:00:00+00:00",
          "2025-06-19T13:15:00+00:00",
          "2025-06-19T13:30:00+00:00",
          "2025-06-19T13:45:00+00:00",
          "2025-06-19T14:00:00+00:00",
          "2025-06-19T14:15:00+00:00",
          "2025-06-19T14:30:00+00:00",
          "2025-06-19T14:45:00+00:00",
          "2025-06-19T15:00:00+00:00",
          "2025-06-19T15:15:00+00:00",
          "2025-06-19T15:30:00+00:00",
          "2025-06-19T15:45:00+00:00",
          "2025-06-19T16:00:00+00:00",
          "2025-06-19T16:15:00+00:00",
          "2025-06-19T16:30:00+00:00",
          "2025-06-19T16:45:00+00:00",
          "2025-06-19T17:00:00+00:00",
          "2025-06-19T17:15:00+00:00",
          "2025-06-19T17:30:00+00:00",
          "2025-06-19T17:45:00+00:00",
          "2025-06-19T18:00:00+00:00",
          "2025-06-19T18:15:00+00:00",
          "2025-06-19T18:30:00+00:00",
          "2025-06-19T18:45:00+00:00"
         ],
         "y": {
          "bdata": "AAAAAAAA+H8AAAAAAAD4fwAAAAAAAPh/AAAAAAAA+H8AAAAAAAD4fwAAAAAAAPh/AAAAAAAA+H8AAAAAAAD4fwAAAAAAAPh/AAAAAAAA+H8AAAAAAAD4fwAAAAAAAPh/AAAAAAAA+H8AAAAAAAD4fwAAAAAAAPh/AAAAAAAA+H8AAAAAAAD4fwAAAAAAAPh/AAAAAAAA+H+SOgFNhNNkQPw6cM6I02RA7g2+MJnTZECt+lxtxdNkQKabxCCw02RArWnecYrTZEAjSnuDL9NkQL3jFB3J0mRAPQrXo3DSZEDMXUvIB9JkQBsN4C2Q0WRA1XjpJjHRZEDV52or9tBkQEa28/3U0GRA5dAi2/nQZED1udqK/dBkQJduEoPA0GRA7nw/NV7QZEBpke18P9BkQJ5eKcsQ0GRAHeviNhrQZEBWn6ut2M9kQFD8GHPXz2RAxv6ye/LPZEBApN++DtBkQBNhw9Mr0GRAI9v5fmrQZEDByqFFttBkQEtZhjjW0GRAkKD4MebQZEDEQq1p3tBkQEa28/3U0GRAdLUV+8vQZECrPldbsdBkQJM6AU2E0GRATDeJQWDQZEA3iUFg5c9kQDj4wmSqz2RAiPTb14HPZEBTBaOSOs9kQARWDi2yzmRA5WGh1jTOZEDNO07Rkc1kQMqhRbbzzGRATx4Wak3MZEBWn6ut2MtkQK+UZYhjy2RAPSzUmubKZEC28/3UeMpkQNZ46SYxymRAowG8BRLKZECBt0CC4slkQAVWDi2yyWRAzjtO0ZHJZEB5CyQofslkQMbctYR8yWRA87BQa5rJZEAEVg4tsslkQNSa5h2nyWRAglFJnYDJZEDKVMGopMlkQMKGp1fKyWRAgEi/fR3KZEDFsS5uo8pkQJVliGNdy2RAYjJVMCrMZEDJ5T+k38xkQL99HThnzWRApixDHOvNZECCUUmdgM5kQHBfB84Zz2RALm6jAbzPZEANT6+UZdBkQJXUCWgi0WRAhlrTvOPRZECt+lxtxdJkQNk9eVio02RAJlMFo5LUZECh+DHmrtVkQGfV52or12RAYn/ZPXnYZEB2cRsN4NlkQGx4eqUs22RAGsBbIEHcZEBgdk8eFt1kQKH4Meau3WRA9UpZhjjeZEAi/fZ14N5kQF7cRgN432RANKK0N/jfZEA6kst/SOBkQPp+arx04GRA0m9fB87gZEC5jQbwFuFkQFZ9rrZi4WRAuycPC7XhZEByio7k8uFkQA6+MJkq4mRAVTAqqRPiZEACmggbnuFkQAU0ETY84WRAp1fKMsTgZECKH2PuWuBkQGsr9pfd32RAuK8D54zfZEAVHcnlP99kQMDsnjws32RAQWDl0CLfZEBVwaikTt9kQJF++zpw32RAP1dbsb/fZEAJG55eKeBkQA==",
          "dtype": "f8"
         }
        },
        {
         "fill": "tonexty",
         "fillcolor": "rgba(0, 176, 246, 0.1)",
         "line": {
          "color": "cyan",
          "dash": "dash"
         },
         "mode": "lines",
         "name": "Lower BB",
         "opacity": 0.7,
         "type": "scatter",
         "x": [
          "2025-06-18T10:15:00+00:00",
          "2025-06-18T10:30:00+00:00",
          "2025-06-18T10:45:00+00:00",
          "2025-06-18T11:00:00+00:00",
          "2025-06-18T11:15:00+00:00",
          "2025-06-18T11:30:00+00:00",
          "2025-06-18T11:45:00+00:00",
          "2025-06-18T12:00:00+00:00",
          "2025-06-18T12:15:00+00:00",
          "2025-06-18T12:30:00+00:00",
          "2025-06-18T12:45:00+00:00",
          "2025-06-18T13:00:00+00:00",
          "2025-06-18T13:15:00+00:00",
          "2025-06-18T13:30:00+00:00",
          "2025-06-18T13:45:00+00:00",
          "2025-06-18T14:00:00+00:00",
          "2025-06-18T14:15:00+00:00",
          "2025-06-18T14:30:00+00:00",
          "2025-06-18T14:45:00+00:00",
          "2025-06-18T15:00:00+00:00",
          "2025-06-18T15:15:00+00:00",
          "2025-06-18T15:30:00+00:00",
          "2025-06-18T15:45:00+00:00",
          "2025-06-18T16:00:00+00:00",
          "2025-06-18T16:15:00+00:00",
          "2025-06-18T16:30:00+00:00",
          "2025-06-18T16:45:00+00:00",
          "2025-06-18T17:00:00+00:00",
          "2025-06-18T17:15:00+00:00",
          "2025-06-18T17:30:00+00:00",
          "2025-06-18T17:45:00+00:00",
          "2025-06-18T18:00:00+00:00",
          "2025-06-18T18:15:00+00:00",
          "2025-06-18T18:30:00+00:00",
          "2025-06-18T18:45:00+00:00",
          "2025-06-18T19:00:00+00:00",
          "2025-06-18T19:15:00+00:00",
          "2025-06-18T19:30:00+00:00",
          "2025-06-18T19:45:00+00:00",
          "2025-06-18T20:00:00+00:00",
          "2025-06-18T20:15:00+00:00",
          "2025-06-18T20:30:00+00:00",
          "2025-06-18T20:45:00+00:00",
          "2025-06-18T21:00:00+00:00",
          "2025-06-18T21:15:00+00:00",
          "2025-06-18T21:30:00+00:00",
          "2025-06-18T21:45:00+00:00",
          "2025-06-18T22:00:00+00:00",
          "2025-06-18T22:15:00+00:00",
          "2025-06-18T22:30:00+00:00",
          "2025-06-18T22:45:00+00:00",
          "2025-06-18T23:00:00+00:00",
          "2025-06-18T23:15:00+00:00",
          "2025-06-18T23:30:00+00:00",
          "2025-06-18T23:45:00+00:00",
          "2025-06-19T00:00:00+00:00",
          "2025-06-19T00:15:00+00:00",
          "2025-06-19T00:30:00+00:00",
          "2025-06-19T00:45:00+00:00",
          "2025-06-19T01:00:00+00:00",
          "2025-06-19T01:15:00+00:00",
          "2025-06-19T01:30:00+00:00",
          "2025-06-19T01:45:00+00:00",
          "2025-06-19T02:00:00+00:00",
          "2025-06-19T02:15:00+00:00",
          "2025-06-19T02:30:00+00:00",
          "2025-06-19T02:45:00+00:00",
          "2025-06-19T03:00:00+00:00",
          "2025-06-19T03:15:00+00:00",
          "2025-06-19T03:30:00+00:00",
          "2025-06-19T03:45:00+00:00",
          "2025-06-19T04:00:00+00:00",
          "2025-06-19T04:15:00+00:00",
          "2025-06-19T04:30:00+00:00",
          "2025-06-19T04:45:00+00:00",
          "2025-06-19T05:00:00+00:00",
          "2025-06-19T05:15:00+00:00",
          "2025-06-19T05:30:00+00:00",
          "2025-06-19T05:45:00+00:00",
          "2025-06-19T06:00:00+00:00",
          "2025-06-19T06:15:00+00:00",
          "2025-06-19T06:30:00+00:00",
          "2025-06-19T06:45:00+00:00",
          "2025-06-19T07:00:00+00:00",
          "2025-06-19T07:15:00+00:00",
          "2025-06-19T07:30:00+00:00",
          "2025-06-19T07:45:00+00:00",
          "2025-06-19T08:00:00+00:00",
          "2025-06-19T08:15:00+00:00",
          "2025-06-19T08:30:00+00:00",
          "2025-06-19T08:45:00+00:00",
          "2025-06-19T09:00:00+00:00",
          "2025-06-19T09:15:00+00:00",
          "2025-06-19T09:30:00+00:00",
          "2025-06-19T09:45:00+00:00",
          "2025-06-19T10:00:00+00:00",
          "2025-06-19T10:15:00+00:00",
          "2025-06-19T10:30:00+00:00",
          "2025-06-19T10:45:00+00:00",
          "2025-06-19T11:00:00+00:00",
          "2025-06-19T11:15:00+00:00",
          "2025-06-19T11:30:00+00:00",
          "2025-06-19T11:45:00+00:00",
          "2025-06-19T12:00:00+00:00",
          "2025-06-19T12:15:00+00:00",
          "2025-06-19T12:30:00+00:00",
          "2025-06-19T12:45:00+00:00",
          "2025-06-19T13:00:00+00:00",
          "2025-06-19T13:15:00+00:00",
          "2025-06-19T13:30:00+00:00",
          "2025-06-19T13:45:00+00:00",
          "2025-06-19T14:00:00+00:00",
          "2025-06-19T14:15:00+00:00",
          "2025-06-19T14:30:00+00:00",
          "2025-06-19T14:45:00+00:00",
          "2025-06-19T15:00:00+00:00",
          "2025-06-19T15:15:00+00:00",
          "2025-06-19T15:30:00+00:00",
          "2025-06-19T15:45:00+00:00",
          "2025-06-19T16:00:00+00:00",
          "2025-06-19T16:15:00+00:00",
          "2025-06-19T16:30:00+00:00",
          "2025-06-19T16:45:00+00:00",
          "2025-06-19T17:00:00+00:00",
          "2025-06-19T17:15:00+00:00",
          "2025-06-19T17:30:00+00:00",
          "2025-06-19T17:45:00+00:00",
          "2025-06-19T18:00:00+00:00",
          "2025-06-19T18:15:00+00:00",
          "2025-06-19T18:30:00+00:00",
          "2025-06-19T18:45:00+00:00"
         ],
         "y": {
          "bdata": "AAAAAAAA+H8AAAAAAAD4fwAAAAAAAPh/AAAAAAAA+H8AAAAAAAD4fwAAAAAAAPh/AAAAAAAA+H8AAAAAAAD4fwAAAAAAAPh/AAAAAAAA+H8AAAAAAAD4fwAAAAAAAPh/AAAAAAAA+H8AAAAAAAD4fwAAAAAAAPh/AAAAAAAA+H8AAAAAAAD4fwAAAAAAAPh/AAAAAAAA+H+vsztaIM1kQORl3MkazWRA2MQn3THNZEDNc/IUw81kQG4iiXSFzWRAEv54QALNZECYmvwmJcxkQMSokzJ1y2RAMyE2F0jLZEDoL/xs6cpkQMquCWCYymRAUNp2Zp/KZECCbRatf8pkQO7itVxQymRAu6W4Aq7KZEAtmXARucpkQMWyEN8my2RARuAFyifLZECH/bXGHctkQMb9SatKy2RAn8Lg9ULLZEAnTIwzKcxkQL8tgistzGRASbuqUunLZECONUEI4ctkQBpXIjMPzGRAvLfxBWTMZEDeu+mBo8xkQG0nX+6zzGRAS3uN9OPMZEAWUbbCv8xkQO0vD+akzGRAA+2dyYzMZECFyEGZKcxkQApwl2qdy2RAre/MUQvLZECYGJPrr8lkQAb4lcPZyGRARceSjpLIZEDTU1wFC8hkQNcmzcj6xmRAlcAmUSLGZEBLOBb+PsVkQErB6YjbxGRAZeN06PTDZEDxhDtjgsNkQFYiDAmUw2RAIiSWox7EZECzHxlItMRkQFrQgy/xxGRA72wua/3EZECb6H8/QsVkQBHOe3ujxWRAZm53bcfFZECphX2f5MVkQLP/L2TmxWRArB4Tc/TFZEDv2pmS+cVkQOhxdGwQxmRAM4HYfOnFZEBmaXL+GcZkQP2FsAtCxmRAV45Jh5DGZECwjTlrtMVkQLbH57eAxWRA6atbQm3EZEBGJwMsyMNkQN4+o8PQw2RA4c4OPATEZEC3Bj8cN8RkQDaxvV9hxGRAKRilY4/EZEC/R4SR1sRkQHLXQ/9SxWRAU3rhP9HFZEDykv38MMZkQEW7mWXWxmRAX718n6nHZEB1o+T1G8hkQFKa8sRdyWRAaQYsI7XKZEDeIftnHsxkQDypQR2IzWRACnZfnCrOZECNhe0hHM9kQD8bK7Kuz2RAtSWqUmjQZECVc3X0xtFkQG5PeyNd02RAY3otysjUZED6ZHVy4dVkQKp+b5mO1mRAEjlI06jXZEBnzKV3oNhkQH5smAyS2WRAuY8n/CfaZEDFdomlvtpkQAVZX0hD22RAWeCXuB/bZECEX3esfNpkQB/Yjxr/2WRAQI1dZvHZZEBr+yojN9pkQJXafTHH2mRAF1rzSezaZEDcOMSK7dpkQFFfEcsE22RAfqcLtg/bZEA6ITKkzdpkQNwPq2y+2mRAUNtPfvPaZEB8kZtUpdtkQA==",
          "dtype": "f8"
         }
        },
        {
         "marker": {
          "color": "red",
          "line": {
           "color": "white",
           "width": 1
          },
          "size": 12,
          "symbol": "triangle-down"
         },
         "mode": "markers",
         "name": "Entry",
         "type": "scatter",
         "x": [
          "2025-06-19T11:00:11.406500488+00:00"
         ],
         "y": [
          167.141
         ]
        },
        {
         "marker": {
          "color": "purple",
          "line": {
           "color": "white",
           "width": 1
          },
          "size": 10,
          "symbol": "square"
         },
         "mode": "markers",
         "name": "Exit",
         "type": "scatter",
         "x": [
          "2025-06-19T11:55:26.755554341+00:00"
         ],
         "y": [
          167.302
         ]
        }
       ],
       "layout": {
        "legend": {
         "orientation": "h",
         "x": 1,
         "xanchor": "right",
         "y": 1.02,
         "yanchor": "bottom"
        },
        "template": {
         "data": {
          "bar": [
           {
            "error_x": {
             "color": "#f2f5fa"
            },
            "error_y": {
             "color": "#f2f5fa"
            },
            "marker": {
             "line": {
              "color": "rgb(17,17,17)",
              "width": 0.5
             },
             "pattern": {
              "fillmode": "overlay",
              "size": 10,
              "solidity": 0.2
             }
            },
            "type": "bar"
           }
          ],
          "barpolar": [
           {
            "marker": {
             "line": {
              "color": "rgb(17,17,17)",
              "width": 0.5
             },
             "pattern": {
              "fillmode": "overlay",
              "size": 10,
              "solidity": 0.2
             }
            },
            "type": "barpolar"
           }
          ],
          "carpet": [
           {
            "aaxis": {
             "endlinecolor": "#A2B1C6",
             "gridcolor": "#506784",
             "linecolor": "#506784",
             "minorgridcolor": "#506784",
             "startlinecolor": "#A2B1C6"
            },
            "baxis": {
             "endlinecolor": "#A2B1C6",
             "gridcolor": "#506784",
             "linecolor": "#506784",
             "minorgridcolor": "#506784",
             "startlinecolor": "#A2B1C6"
            },
            "type": "carpet"
           }
          ],
          "choropleth": [
           {
            "colorbar": {
             "outlinewidth": 0,
             "ticks": ""
            },
            "type": "choropleth"
           }
          ],
          "contour": [
           {
            "colorbar": {
             "outlinewidth": 0,
             "ticks": ""
            },
            "colorscale": [
             [
              0,
              "#0d0887"
             ],
             [
              0.1111111111111111,
              "#46039f"
             ],
             [
              0.2222222222222222,
              "#7201a8"
             ],
             [
              0.3333333333333333,
              "#9c179e"
             ],
             [
              0.4444444444444444,
              "#bd3786"
             ],
             [
              0.5555555555555556,
              "#d8576b"
             ],
             [
              0.6666666666666666,
              "#ed7953"
             ],
             [
              0.7777777777777778,
              "#fb9f3a"
             ],
             [
              0.8888888888888888,
              "#fdca26"
             ],
             [
              1,
              "#f0f921"
             ]
            ],
            "type": "contour"
           }
          ],
          "contourcarpet": [
           {
            "colorbar": {
             "outlinewidth": 0,
             "ticks": ""
            },
            "type": "contourcarpet"
           }
          ],
          "heatmap": [
           {
            "colorbar": {
             "outlinewidth": 0,
             "ticks": ""
            },
            "colorscale": [
             [
              0,
              "#0d0887"
             ],
             [
              0.1111111111111111,
              "#46039f"
             ],
             [
              0.2222222222222222,
              "#7201a8"
             ],
             [
              0.3333333333333333,
              "#9c179e"
             ],
             [
              0.4444444444444444,
              "#bd3786"
             ],
             [
              0.5555555555555556,
              "#d8576b"
             ],
             [
              0.6666666666666666,
              "#ed7953"
             ],
             [
              0.7777777777777778,
              "#fb9f3a"
             ],
             [
              0.8888888888888888,
              "#fdca26"
             ],
             [
              1,
              "#f0f921"
             ]
            ],
            "type": "heatmap"
           }
          ],
          "histogram": [
           {
            "marker": {
             "pattern": {
              "fillmode": "overlay",
              "size": 10,
              "solidity": 0.2
             }
            },
            "type": "histogram"
           }
          ],
          "histogram2d": [
           {
            "colorbar": {
             "outlinewidth": 0,
             "ticks": ""
            },
            "colorscale": [
             [
              0,
              "#0d0887"
             ],
             [
              0.1111111111111111,
              "#46039f"
             ],
             [
              0.2222222222222222,
              "#7201a8"
             ],
             [
              0.3333333333333333,
              "#9c179e"
             ],
             [
              0.4444444444444444,
              "#bd3786"
             ],
             [
              0.5555555555555556,
              "#d8576b"
             ],
             [
              0.6666666666666666,
              "#ed7953"
             ],
             [
              0.7777777777777778,
              "#fb9f3a"
             ],
             [
              0.8888888888888888,
              "#fdca26"
             ],
             [
              1,
              "#f0f921"
             ]
            ],
            "type": "histogram2d"
           }
          ],
          "histogram2dcontour": [
           {
            "colorbar": {
             "outlinewidth": 0,
             "ticks": ""
            },
            "colorscale": [
             [
              0,
              "#0d0887"
             ],
             [
              0.1111111111111111,
              "#46039f"
             ],
             [
              0.2222222222222222,
              "#7201a8"
             ],
             [
              0.3333333333333333,
              "#9c179e"
             ],
             [
              0.4444444444444444,
              "#bd3786"
             ],
             [
              0.5555555555555556,
              "#d8576b"
             ],
             [
              0.6666666666666666,
              "#ed7953"
             ],
             [
              0.7777777777777778,
              "#fb9f3a"
             ],
             [
              0.8888888888888888,
              "#fdca26"
             ],
             [
              1,
              "#f0f921"
             ]
            ],
            "type": "histogram2dcontour"
           }
          ],
          "mesh3d": [
           {
            "colorbar": {
             "outlinewidth": 0,
             "ticks": ""
            },
            "type": "mesh3d"
           }
          ],
          "parcoords": [
           {
            "line": {
             "colorbar": {
              "outlinewidth": 0,
              "ticks": ""
             }
            },
            "type": "parcoords"
           }
          ],
          "pie": [
           {
            "automargin": true,
            "type": "pie"
           }
          ],
          "scatter": [
           {
            "marker": {
             "line": {
              "color": "#283442"
             }
            },
            "type": "scatter"
           }
          ],
          "scatter3d": [
           {
            "line": {
             "colorbar": {
              "outlinewidth": 0,
              "ticks": ""
             }
            },
            "marker": {
             "colorbar": {
              "outlinewidth": 0,
              "ticks": ""
             }
            },
            "type": "scatter3d"
           }
          ],
          "scattercarpet": [
           {
            "marker": {
             "colorbar": {
              "outlinewidth": 0,
              "ticks": ""
             }
            },
            "type": "scattercarpet"
           }
          ],
          "scattergeo": [
           {
            "marker": {
             "colorbar": {
              "outlinewidth": 0,
              "ticks": ""
             }
            },
            "type": "scattergeo"
           }
          ],
          "scattergl": [
           {
            "marker": {
             "line": {
              "color": "#283442"
             }
            },
            "type": "scattergl"
           }
          ],
          "scattermap": [
           {
            "marker": {
             "colorbar": {
              "outlinewidth": 0,
              "ticks": ""
             }
            },
            "type": "scattermap"
           }
          ],
          "scattermapbox": [
           {
            "marker": {
             "colorbar": {
              "outlinewidth": 0,
              "ticks": ""
             }
            },
            "type": "scattermapbox"
           }
          ],
          "scatterpolar": [
           {
            "marker": {
             "colorbar": {
              "outlinewidth": 0,
              "ticks": ""
             }
            },
            "type": "scatterpolar"
           }
          ],
          "scatterpolargl": [
           {
            "marker": {
             "colorbar": {
              "outlinewidth": 0,
              "ticks": ""
             }
            },
            "type": "scatterpolargl"
           }
          ],
          "scatterternary": [
           {
            "marker": {
             "colorbar": {
              "outlinewidth": 0,
              "ticks": ""
             }
            },
            "type": "scatterternary"
           }
          ],
          "surface": [
           {
            "colorbar": {
             "outlinewidth": 0,
             "ticks": ""
            },
            "colorscale": [
             [
              0,
              "#0d0887"
             ],
             [
              0.1111111111111111,
              "#46039f"
             ],
             [
              0.2222222222222222,
              "#7201a8"
             ],
             [
              0.3333333333333333,
              "#9c179e"
             ],
             [
              0.4444444444444444,
              "#bd3786"
             ],
             [
              0.5555555555555556,
              "#d8576b"
             ],
             [
              0.6666666666666666,
              "#ed7953"
             ],
             [
              0.7777777777777778,
              "#fb9f3a"
             ],
             [
              0.8888888888888888,
              "#fdca26"
             ],
             [
              1,
              "#f0f921"
             ]
            ],
            "type": "surface"
           }
          ],
          "table": [
           {
            "cells": {
             "fill": {
              "color": "#506784"
             },
             "line": {
              "color": "rgb(17,17,17)"
             }
            },
            "header": {
             "fill": {
              "color": "#2a3f5f"
             },
             "line": {
              "color": "rgb(17,17,17)"
             }
            },
            "type": "table"
           }
          ]
         },
         "layout": {
          "annotationdefaults": {
           "arrowcolor": "#f2f5fa",
           "arrowhead": 0,
           "arrowwidth": 1
          },
          "autotypenumbers": "strict",
          "coloraxis": {
           "colorbar": {
            "outlinewidth": 0,
            "ticks": ""
           }
          },
          "colorscale": {
           "diverging": [
            [
             0,
             "#8e0152"
            ],
            [
             0.1,
             "#c51b7d"
            ],
            [
             0.2,
             "#de77ae"
            ],
            [
             0.3,
             "#f1b6da"
            ],
            [
             0.4,
             "#fde0ef"
            ],
            [
             0.5,
             "#f7f7f7"
            ],
            [
             0.6,
             "#e6f5d0"
            ],
            [
             0.7,
             "#b8e186"
            ],
            [
             0.8,
             "#7fbc41"
            ],
            [
             0.9,
             "#4d9221"
            ],
            [
             1,
             "#276419"
            ]
           ],
           "sequential": [
            [
             0,
             "#0d0887"
            ],
            [
             0.1111111111111111,
             "#46039f"
            ],
            [
             0.2222222222222222,
             "#7201a8"
            ],
            [
             0.3333333333333333,
             "#9c179e"
            ],
            [
             0.4444444444444444,
             "#bd3786"
            ],
            [
             0.5555555555555556,
             "#d8576b"
            ],
            [
             0.6666666666666666,
             "#ed7953"
            ],
            [
             0.7777777777777778,
             "#fb9f3a"
            ],
            [
             0.8888888888888888,
             "#fdca26"
            ],
            [
             1,
             "#f0f921"
            ]
           ],
           "sequentialminus": [
            [
             0,
             "#0d0887"
            ],
            [
             0.1111111111111111,
             "#46039f"
            ],
            [
             0.2222222222222222,
             "#7201a8"
            ],
            [
             0.3333333333333333,
             "#9c179e"
            ],
            [
             0.4444444444444444,
             "#bd3786"
            ],
            [
             0.5555555555555556,
             "#d8576b"
            ],
            [
             0.6666666666666666,
             "#ed7953"
            ],
            [
             0.7777777777777778,
             "#fb9f3a"
            ],
            [
             0.8888888888888888,
             "#fdca26"
            ],
            [
             1,
             "#f0f921"
            ]
           ]
          },
          "colorway": [
           "#636efa",
           "#EF553B",
           "#00cc96",
           "#ab63fa",
           "#FFA15A",
           "#19d3f3",
           "#FF6692",
           "#B6E880",
           "#FF97FF",
           "#FECB52"
          ],
          "font": {
           "color": "#f2f5fa"
          },
          "geo": {
           "bgcolor": "rgb(17,17,17)",
           "lakecolor": "rgb(17,17,17)",
           "landcolor": "rgb(17,17,17)",
           "showlakes": true,
           "showland": true,
           "subunitcolor": "#506784"
          },
          "hoverlabel": {
           "align": "left"
          },
          "hovermode": "closest",
          "mapbox": {
           "style": "dark"
          },
          "paper_bgcolor": "rgb(17,17,17)",
          "plot_bgcolor": "rgb(17,17,17)",
          "polar": {
           "angularaxis": {
            "gridcolor": "#506784",
            "linecolor": "#506784",
            "ticks": ""
           },
           "bgcolor": "rgb(17,17,17)",
           "radialaxis": {
            "gridcolor": "#506784",
            "linecolor": "#506784",
            "ticks": ""
           }
          },
          "scene": {
           "xaxis": {
            "backgroundcolor": "rgb(17,17,17)",
            "gridcolor": "#506784",
            "gridwidth": 2,
            "linecolor": "#506784",
            "showbackground": true,
            "ticks": "",
            "zerolinecolor": "#C8D4E3"
           },
           "yaxis": {
            "backgroundcolor": "rgb(17,17,17)",
            "gridcolor": "#506784",
            "gridwidth": 2,
            "linecolor": "#506784",
            "showbackground": true,
            "ticks": "",
            "zerolinecolor": "#C8D4E3"
           },
           "zaxis": {
            "backgroundcolor": "rgb(17,17,17)",
            "gridcolor": "#506784",
            "gridwidth": 2,
            "linecolor": "#506784",
            "showbackground": true,
            "ticks": "",
            "zerolinecolor": "#C8D4E3"
           }
          },
          "shapedefaults": {
           "line": {
            "color": "#f2f5fa"
           }
          },
          "sliderdefaults": {
           "bgcolor": "#C8D4E3",
           "bordercolor": "rgb(17,17,17)",
           "borderwidth": 1,
           "tickwidth": 0
          },
          "ternary": {
           "aaxis": {
            "gridcolor": "#506784",
            "linecolor": "#506784",
            "ticks": ""
           },
           "baxis": {
            "gridcolor": "#506784",
            "linecolor": "#506784",
            "ticks": ""
           },
           "bgcolor": "rgb(17,17,17)",
           "caxis": {
            "gridcolor": "#506784",
            "linecolor": "#506784",
            "ticks": ""
           }
          },
          "title": {
           "x": 0.05
          },
          "updatemenudefaults": {
           "bgcolor": "#506784",
           "borderwidth": 0
          },
          "xaxis": {
           "automargin": true,
           "gridcolor": "#283442",
           "linecolor": "#506784",
           "ticks": "",
           "title": {
            "standoff": 15
           },
           "zerolinecolor": "#283442",
           "zerolinewidth": 2
          },
          "yaxis": {
           "automargin": true,
           "gridcolor": "#283442",
           "linecolor": "#506784",
           "ticks": "",
           "title": {
            "standoff": 15
           },
           "zerolinecolor": "#283442",
           "zerolinewidth": 2
          }
         }
        },
        "title": {
         "text": "Trade on EUR_JPY | P/L: <span style='color:lightcoral;'>$-1.11</span>"
        },
        "xaxis": {
         "rangeslider": {
          "visible": false
         },
         "title": {
          "text": "Date"
         }
        },
        "yaxis": {
         "title": {
          "text": "Price"
         }
        }
       }
      }
     },
     "metadata": {},
     "output_type": "display_data"
    },
    {
     "name": "stdout",
     "output_type": "stream",
     "text": [
      "\n",
      "--- Plotting trade on USD_CAD opened at: 2025-06-19 13:45:09 ---\n"
     ]
    },
    {
     "data": {
      "application/vnd.plotly.v1+json": {
       "config": {
        "plotlyServerURL": "https://plot.ly"
       },
       "data": [
        {
         "close": {
          "bdata": "8KKvIM3Y9T9lx0YgXtf1P1ovhnKi3fU/zSN/MPDc9T9fB84ZUdr1P/cBSG3i5PU/Z341Bwjm9T/zcW2oGOf1PxDpt68D5/U/TWcng6Pk9T/D0ytlGeL1PxNJ9DKK5fU/dF5jl6je9T834PPDCOH1P1InoImw4fU/w9MrZRni9T9zLsVVZd/1P4v9Zffk4fU/+THmriXk9T9q9kArMOT1PyXpmsk32/U/y/Pg7qzd9T9zLsVVZd/1P+/hkuNO6fU/oFT7dDzm9T+yYyMQr+v1P5usUQ/R6PU/luzYCMTr9T/usfShC+r1P2Gm7V9Z6fU/7+GS407p9T8p0CfyJOn1Pw+5GW7A5/U/ZB75g4Hn9T8PuRluwOf1P0inrnyW5/U/uCOcFrzo9T8rMGR1q+f1P0d3EDtT6PU/uCOcFrzo9T9FR3L5D+n1P5g0Ruuo6vU/7rH0oQvq9T/SOqqaIOr1P7STwVHy6vU/fNXKhF/q9T9eLuI7Mev1P+s56X3j6/U/Pj+MEB7t9T/MejGUE+31Pzz3Hi457vU/U67wLhfx9T8awFsgQfH1P08GR8mr8/U/GqiMf5/x9T/8AKQ2cfL1P6kT0ETY8PU/HPD5YYTw9T84Z0Rpb/D1P6pDboYb8PU/H2gFhqzu9T8C2evdH+/1P+Z5cHfW7vU/H2gFhqzu9T/+SBEZVvH1P8aKGkzD8PU/NzemJyzx9T8zp8tiYvP1PzAvwD469fU/uwopP6n29T8U0ETY8PT1P4j029eB8/U/+HDJcaf09T+LbOf7qfH1P4j029eB8/U/aAWGrG719T9RTrSrkPL1PwCpTZzc7/U/qRPQRNjw9T8eUDblCu/1PzqvsUtU7/U/rHMMyF7v9T/iAWVTrvD1P3AlOzYC8fU/Vd6OcFrw9T9WDi2yne/1P6tbPSe97/U/jZyFPe3w9T+pE9BE2PD1P+jB3Vm77fU/rrt5qkPu9T/mkT8YeO71P1YOLbKd7/U/GZC93v3x9T+JDKt4I/P1P6WD9X8O8/U/p7OTwVHy9T/C+j+H+fL1P0penWNA9vU/n6ut2F/29T/Twfo/h/n1P8qJdhVS/vU/RG6GG/D59T965A8Gnvv1P2IVb2Qe+fU/X7Uy4Zf69T/vOEVHcvn1P1+1MuGX+vU/7ginBS/69T8KgPEMGvr1P/PIHww89/U/Rs7Cnnb49T+DTDJyFvb1P9UhN8MN+PU/v4I0Y9H09T/76NSVz/L1P8RCrWne8fU/VMa/z7jw9T//eK9amfD1P/94r1qZ8PU/",
          "dtype": "f8"
         },
         "high": {
          "bdata": "YmcKndfY9T/tKqT8pNr1P1InoImw4fU/y/Pg7qzd9T92ptB5jd31P/fpeMxA5fU/LEgzFk3n9T+BlUOLbOf1PysYldQJ6PU/Cyk/qfbp9T8vwD46deX1P7yzdtuF5vU/oYSZtn/l9T+L/WX35OH1P4rNx7Wh4vU/+mGE8Gjj9T80gLdAguL1P1H3AUht4vU/aK7TSEvl9T/20akrn+X1PxWRYRVv5PU/HcnlP6Tf9T/hehSuR+H1PyegibDh6fU/Xf5D+u3r9T8/V1uxv+z1P0CH+fIC7PU/QIf58gLs9T/p8Xub/uz1P9I6qpog6vU/RBfUt8zp9T+28/3UeOn1P0QX1LfM6fU/D7kZbsDn9T/xKQDGM+j1P341Bwjm6PU/RBfUt8zp9T+brFEP0ej1P341Bwjm6PU/mEwVjErq9T9D/wQXK+r1P19GsdzS6vU/X0ax3NLq9T+YNEbrqOr1P+xph78m6/U/CMkCJnDr9T/P2m0Xmuv1P87Cnnb46/U/Vg4tsp3v9T89D+7O2u31Px9oBYas7vU//kgRGVbx9T/EWnwKgPH1P08GR8mr8/U/oyO5/If09T9QNuUK7/L1P1FOtKuQ8vU//TBCeLTx9T+pE9BE2PD1PxvYKsHi8PU/4xk09E/w9T8dIJijx+/1P3FV2XdF8PU/Oq+xS1Tv9T+LbOf7qfH1P/5IERlW8fU/bw1slWDx9T9n7bYLzfX1P4NMMnIW9vU/SS7/If329T/ymIHK+Pf1P2gFhqxu9fU/2uGvyRr19T9pNSTusfT1P2tlwi/18/U/2ZlC5zX29T8RcAhVavb1PxhgH5268vU/GsBbIEHx9T83N6YnLPH1P3AlOzYC8fU/cVXZd0Xw9T+o4zEDlfH1P4ts5/up8fU/xFp8CoDx9T+pE9BE2PD1P1Ou8C4X8fU/i2zn+6nx9T/DKt7IPPL1P1Ou8C4X8fU/5DEDlfHv9T+scwzIXu/1PxvYKsHi8PU/p7OTwVHy9T/4iJgSSfT1P4asbvWc9PU/ofMau0T19T/6uDZUjPP1P0ku/yH99vU/SS7/If329T9EboYb8Pn1P8lxp3Sw/vU/dCSX/5D+9T+T407pYP31P80Bgjl6/PU/Qj7o2az69T+z0qQUdPv1PyNnYU87/PU/lSu8y0X89T+Yo8fvbfr1P3wsfeiC+vU/1PGYgcr49T8qV3iXi/j1P5sb0xOW+PU/Kld4l4v49T8wR4/f2/T1PzJ3LSEf9PU/34lZL4by9T8b2CrB4vD1P/94r1qZ8PU/",
          "dtype": "f8"
         },
         "low": {
          "bdata": "okW28/3U9T+6LCY2H9f1P9ejcD0K1/U/CHJQwkzb9T9nD7QCQ9b1P3x+GCE82vU/GAltOZfi9T+FJR5QNuX1P4iFWtO84/U/at5xio7k9T/hehSuR+H1P+UK73IR3/U/WkdVE0Td9T90XmOXqN71P+TaUDHO3/U/xQPKplzh9T/lCu9yEd/1P6wcWmQ73/U/xOv6Bbvh9T8YCW05l+L1P7ecS3FV2fU/fZbnwd3Z9T9cd/NUh9z1P8mTpGsm3/U/EjElkujl9T+94xQdyeX1P6BsyhXe5fU/SddMvtnm9T/TakjcY+n1P2U2yCQj5/U/ZAYq49/n9T+eDI6SV+f1P/NxbagY5/U/Z341Bwjm9T/YKsHicOb1P7qD2JlC5/U/81meB3fn9T9Ip658luf1P530vvG15/U/uVM6WP/n9T9HdxA7U+j1P2K+vAD76PU/tvP91Hjp9T/v4ZLjTun1P7bz/dR46fU/mEwVjErq9T/SOqqaIOr1P5ccd0oH6/U/eXWOAdnr9T95dY4B2ev1P5XUCWgi7PU/y0qTUtDt9T8cCMkCJvD1P6orn+V58PU/qOMxA5Xx9T+o4zEDlfH1PzdPdcjN8PU/cVXZd0Xw9T9zhXe5iO/1P1cm/FI/7/U/5pE/GHju9T9YVpqUgu71PwLxun7B7vU/5pE/GHju9T9YVpqUgu71P+QxA5Xx7/U/c4V3uYjv9T/FckurIfH1P8HicOZX8/U/Tb7Z5sb09T8wR4/f2/T1P6WD9X8O8/U/iQyreCPz9T9TrvAuF/H1P6kT0ETY8PU/iQyreCPz9T8ZkL3e/fH1P+VhodY07/U/j/zBwHPv9T8DCYofY+71Pz0P7s7a7fU/HlA25Qrv9T8eUDblCu/1P1YOLbKd7/U/jswjfzDw9T9XPsvz4O71PwHBHD1+7/U/5WGh1jTv9T84Z0Rpb/D1P+jZrPpc7fU/P1dbsb/s9T9ZhjjWxe31P1u21hcJ7fU/Atnr3R/v9T9xVdl3RfD1P6ezk8FR8vU//Bhz1xLy9T9xVdl3RfD1PzXvOEVH8vU/v5oDBHP09T8vF/GdmPX1P/Fo44i1+PU/DMhe7/749T+2SrA4nPn1P2NFDaZh+PU/Rs7Cnnb49T/vOEVHcvn1P7dif9k9+fU/08H6P4f59T+3Yn/ZPfn1Pyy3tBoS9/U/nnsPlxz39T+DTDJyFvb1P4NMMnIW9vU/hqxu9Zz09T/8GHPXEvL1PxqojH+f8fU/4gFlU67w9T8dIJijx+/1Pxzw+WGE8PU/",
          "dtype": "f8"
         },
         "name": "Candles",
         "open": {
          "bdata": "LjnulA7W9T9iZwqd19j1P2XHRiBe1/U/y/Pg7qzd9T/NI38w8Nz1P+5Cc51G2vU/hj3t8Nfk9T+E9X8O8+X1P/NxbagY5/U/LWACt+7m9T9q3nGKjuT1P+BKdmwE4vU/oYSZtn/l9T90XmOXqN71P/7xXrUy4fU/UiegibDh9T/D0ytlGeL1PwFqatla3/U/4Ep2bATi9T/cupunOuT1PxWRYRVv5PU/CHJQwkzb9T89uDtrt931P3MuxVVl3/U/fh04Z0Tp9T8ukKD4Meb1P7JjIxCv6/U/m6xRD9Ho9T+W7NgIxOv1PwspP6n26fU/tvP91Hjp9T/v4ZLjTun1PynQJ/Ik6fU/nfS+8bXn9T/W4lMAjOf1P4B9dOrK5/U/D7kZbsDn9T+4I5wWvOj1Pw+5GW7A5/U/Y+5aQj7o9T+4I5wWvOj1P0VHcvkP6fU/JnDrbp7q9T/usfShC+r1P7XDX5M16vU/tJPBUfLq9T+YTBWMSur1P3qlLEMc6/U/Xf5D+u3r9T/MejGUE+31P8x6MZQT7fU/yjLEsS7u9T9TrvAuF/H1PxrAWyBB8fU/a32R0Jbz9T9v9Zz0vvH1P23F/rJ78vU/jZyFPe3w9T8c8PlhhPD1PzhnRGlv8PU/jswjfzDw9T+to6oJou71PwLZ690f7/U/dLUV+8vu9T+RLGACt+71PxrAWyBB8fU/xooaTMPw9T+p+wCkNvH1PzOny2Ji8/U/ofMau0T19T+7Cik/qfb1P6IL6lvm9PU/+rg2VIzz9T9pNSTusfT1P4ts5/up8fU/FjCBW3fz9T9oBYasbvX1P1FOtKuQ8vU/cm2oGOfv9T+pE9BE2PD1Px5QNuUK7/U/yOpWz0nv9T86r7FLVO/1P8aKGkzD8PU/cCU7NgLx9T/jGTT0T/D1P1YOLbKd7/U/HSCYo8fv9T+pE9BE2PD1P6kT0ETY8PU/6MHdWbvt9T9Zbmk1JO71PwMJih9j7vU/OZfiqrLv9T8ZkL3e/fH1P2yVYHE48/U/F0hQ/Bjz9T+ns5PBUfL1P95xio7k8vU/Sl6dY0D29T/0+L1Nf/b1P0SGVbyR+fU/PE7RkVz+9T9g5dAi2/n1PwggtYmT+/U/foy5awn59T9CPujZrPr1P2H9n8N8+fU/X7Uy4Zf69T/uCKcFL/r1P5m7lpAP+vU/88gfDDz39T9GzsKedvj1P4NMMnIW9vU/1SE3ww349T8wR4/f2/T1P/vo1JXP8vU/xEKtad7x9T+pE9BE2PD1P/94r1qZ8PU/",
          "dtype": "f8"
         },
         "type": "candlestick",
         "x": [
          "2025-06-18T13:00:00+00:00",
          "2025-06-18T13:15:00+00:00",
          "2025-06-18T13:30:00+00:00",
          "2025-06-18T13:45:00+00:00",
          "2025-06-18T14:00:00+00:00",
          "2025-06-18T14:15:00+00:00",
          "2025-06-18T14:30:00+00:00",
          "2025-06-18T14:45:00+00:00",
          "2025-06-18T15:00:00+00:00",
          "2025-06-18T15:15:00+00:00",
          "2025-06-18T15:30:00+00:00",
          "2025-06-18T15:45:00+00:00",
          "2025-06-18T16:00:00+00:00",
          "2025-06-18T16:15:00+00:00",
          "2025-06-18T16:30:00+00:00",
          "2025-06-18T16:45:00+00:00",
          "2025-06-18T17:00:00+00:00",
          "2025-06-18T17:15:00+00:00",
          "2025-06-18T17:30:00+00:00",
          "2025-06-18T17:45:00+00:00",
          "2025-06-18T18:00:00+00:00",
          "2025-06-18T18:15:00+00:00",
          "2025-06-18T18:30:00+00:00",
          "2025-06-18T18:45:00+00:00",
          "2025-06-18T19:00:00+00:00",
          "2025-06-18T19:15:00+00:00",
          "2025-06-18T19:30:00+00:00",
          "2025-06-18T19:45:00+00:00",
          "2025-06-18T20:00:00+00:00",
          "2025-06-18T20:15:00+00:00",
          "2025-06-18T20:30:00+00:00",
          "2025-06-18T20:45:00+00:00",
          "2025-06-18T21:00:00+00:00",
          "2025-06-18T21:15:00+00:00",
          "2025-06-18T21:30:00+00:00",
          "2025-06-18T21:45:00+00:00",
          "2025-06-18T22:00:00+00:00",
          "2025-06-18T22:15:00+00:00",
          "2025-06-18T22:30:00+00:00",
          "2025-06-18T22:45:00+00:00",
          "2025-06-18T23:00:00+00:00",
          "2025-06-18T23:15:00+00:00",
          "2025-06-18T23:30:00+00:00",
          "2025-06-18T23:45:00+00:00",
          "2025-06-19T00:00:00+00:00",
          "2025-06-19T00:15:00+00:00",
          "2025-06-19T00:30:00+00:00",
          "2025-06-19T00:45:00+00:00",
          "2025-06-19T01:00:00+00:00",
          "2025-06-19T01:15:00+00:00",
          "2025-06-19T01:30:00+00:00",
          "2025-06-19T01:45:00+00:00",
          "2025-06-19T02:00:00+00:00",
          "2025-06-19T02:15:00+00:00",
          "2025-06-19T02:30:00+00:00",
          "2025-06-19T02:45:00+00:00",
          "2025-06-19T03:00:00+00:00",
          "2025-06-19T03:15:00+00:00",
          "2025-06-19T03:30:00+00:00",
          "2025-06-19T03:45:00+00:00",
          "2025-06-19T04:00:00+00:00",
          "2025-06-19T04:15:00+00:00",
          "2025-06-19T04:30:00+00:00",
          "2025-06-19T04:45:00+00:00",
          "2025-06-19T05:00:00+00:00",
          "2025-06-19T05:15:00+00:00",
          "2025-06-19T05:30:00+00:00",
          "2025-06-19T05:45:00+00:00",
          "2025-06-19T06:00:00+00:00",
          "2025-06-19T06:15:00+00:00",
          "2025-06-19T06:30:00+00:00",
          "2025-06-19T06:45:00+00:00",
          "2025-06-19T07:00:00+00:00",
          "2025-06-19T07:15:00+00:00",
          "2025-06-19T07:30:00+00:00",
          "2025-06-19T07:45:00+00:00",
          "2025-06-19T08:00:00+00:00",
          "2025-06-19T08:15:00+00:00",
          "2025-06-19T08:30:00+00:00",
          "2025-06-19T08:45:00+00:00",
          "2025-06-19T09:00:00+00:00",
          "2025-06-19T09:15:00+00:00",
          "2025-06-19T09:30:00+00:00",
          "2025-06-19T09:45:00+00:00",
          "2025-06-19T10:00:00+00:00",
          "2025-06-19T10:15:00+00:00",
          "2025-06-19T10:30:00+00:00",
          "2025-06-19T10:45:00+00:00",
          "2025-06-19T11:00:00+00:00",
          "2025-06-19T11:15:00+00:00",
          "2025-06-19T11:30:00+00:00",
          "2025-06-19T11:45:00+00:00",
          "2025-06-19T12:00:00+00:00",
          "2025-06-19T12:15:00+00:00",
          "2025-06-19T12:30:00+00:00",
          "2025-06-19T12:45:00+00:00",
          "2025-06-19T13:00:00+00:00",
          "2025-06-19T13:15:00+00:00",
          "2025-06-19T13:30:00+00:00",
          "2025-06-19T13:45:00+00:00",
          "2025-06-19T14:00:00+00:00",
          "2025-06-19T14:15:00+00:00",
          "2025-06-19T14:30:00+00:00",
          "2025-06-19T14:45:00+00:00",
          "2025-06-19T15:00:00+00:00",
          "2025-06-19T15:15:00+00:00",
          "2025-06-19T15:30:00+00:00",
          "2025-06-19T15:45:00+00:00",
          "2025-06-19T16:00:00+00:00",
          "2025-06-19T16:15:00+00:00",
          "2025-06-19T16:30:00+00:00",
          "2025-06-19T16:45:00+00:00",
          "2025-06-19T17:00:00+00:00",
          "2025-06-19T17:15:00+00:00",
          "2025-06-19T17:30:00+00:00",
          "2025-06-19T17:45:00+00:00",
          "2025-06-19T18:00:00+00:00",
          "2025-06-19T18:15:00+00:00",
          "2025-06-19T18:30:00+00:00",
          "2025-06-19T18:45:00+00:00"
         ]
        },
        {
         "line": {
          "color": "cyan",
          "dash": "dash"
         },
         "mode": "lines",
         "name": "Upper BB",
         "opacity": 0.7,
         "type": "scatter",
         "x": [
          "2025-06-18T13:00:00+00:00",
          "2025-06-18T13:15:00+00:00",
          "2025-06-18T13:30:00+00:00",
          "2025-06-18T13:45:00+00:00",
          "2025-06-18T14:00:00+00:00",
          "2025-06-18T14:15:00+00:00",
          "2025-06-18T14:30:00+00:00",
          "2025-06-18T14:45:00+00:00",
          "2025-06-18T15:00:00+00:00",
          "2025-06-18T15:15:00+00:00",
          "2025-06-18T15:30:00+00:00",
          "2025-06-18T15:45:00+00:00",
          "2025-06-18T16:00:00+00:00",
          "2025-06-18T16:15:00+00:00",
          "2025-06-18T16:30:00+00:00",
          "2025-06-18T16:45:00+00:00",
          "2025-06-18T17:00:00+00:00",
          "2025-06-18T17:15:00+00:00",
          "2025-06-18T17:30:00+00:00",
          "2025-06-18T17:45:00+00:00",
          "2025-06-18T18:00:00+00:00",
          "2025-06-18T18:15:00+00:00",
          "2025-06-18T18:30:00+00:00",
          "2025-06-18T18:45:00+00:00",
          "2025-06-18T19:00:00+00:00",
          "2025-06-18T19:15:00+00:00",
          "2025-06-18T19:30:00+00:00",
          "2025-06-18T19:45:00+00:00",
          "2025-06-18T20:00:00+00:00",
          "2025-06-18T20:15:00+00:00",
          "2025-06-18T20:30:00+00:00",
          "2025-06-18T20:45:00+00:00",
          "2025-06-18T21:00:00+00:00",
          "2025-06-18T21:15:00+00:00",
          "2025-06-18T21:30:00+00:00",
          "2025-06-18T21:45:00+00:00",
          "2025-06-18T22:00:00+00:00",
          "2025-06-18T22:15:00+00:00",
          "2025-06-18T22:30:00+00:00",
          "2025-06-18T22:45:00+00:00",
          "2025-06-18T23:00:00+00:00",
          "2025-06-18T23:15:00+00:00",
          "2025-06-18T23:30:00+00:00",
          "2025-06-18T23:45:00+00:00",
          "2025-06-19T00:00:00+00:00",
          "2025-06-19T00:15:00+00:00",
          "2025-06-19T00:30:00+00:00",
          "2025-06-19T00:45:00+00:00",
          "2025-06-19T01:00:00+00:00",
          "2025-06-19T01:15:00+00:00",
          "2025-06-19T01:30:00+00:00",
          "2025-06-19T01:45:00+00:00",
          "2025-06-19T02:00:00+00:00",
          "2025-06-19T02:15:00+00:00",
          "2025-06-19T02:30:00+00:00",
          "2025-06-19T02:45:00+00:00",
          "2025-06-19T03:00:00+00:00",
          "2025-06-19T03:15:00+00:00",
          "2025-06-19T03:30:00+00:00",
          "2025-06-19T03:45:00+00:00",
          "2025-06-19T04:00:00+00:00",
          "2025-06-19T04:15:00+00:00",
          "2025-06-19T04:30:00+00:00",
          "2025-06-19T04:45:00+00:00",
          "2025-06-19T05:00:00+00:00",
          "2025-06-19T05:15:00+00:00",
          "2025-06-19T05:30:00+00:00",
          "2025-06-19T05:45:00+00:00",
          "2025-06-19T06:00:00+00:00",
          "2025-06-19T06:15:00+00:00",
          "2025-06-19T06:30:00+00:00",
          "2025-06-19T06:45:00+00:00",
          "2025-06-19T07:00:00+00:00",
          "2025-06-19T07:15:00+00:00",
          "2025-06-19T07:30:00+00:00",
          "2025-06-19T07:45:00+00:00",
          "2025-06-19T08:00:00+00:00",
          "2025-06-19T08:15:00+00:00",
          "2025-06-19T08:30:00+00:00",
          "2025-06-19T08:45:00+00:00",
          "2025-06-19T09:00:00+00:00",
          "2025-06-19T09:15:00+00:00",
          "2025-06-19T09:30:00+00:00",
          "2025-06-19T09:45:00+00:00",
          "2025-06-19T10:00:00+00:00",
          "2025-06-19T10:15:00+00:00",
          "2025-06-19T10:30:00+00:00",
          "2025-06-19T10:45:00+00:00",
          "2025-06-19T11:00:00+00:00",
          "2025-06-19T11:15:00+00:00",
          "2025-06-19T11:30:00+00:00",
          "2025-06-19T11:45:00+00:00",
          "2025-06-19T12:00:00+00:00",
          "2025-06-19T12:15:00+00:00",
          "2025-06-19T12:30:00+00:00",
          "2025-06-19T12:45:00+00:00",
          "2025-06-19T13:00:00+00:00",
          "2025-06-19T13:15:00+00:00",
          "2025-06-19T13:30:00+00:00",
          "2025-06-19T13:45:00+00:00",
          "2025-06-19T14:00:00+00:00",
          "2025-06-19T14:15:00+00:00",
          "2025-06-19T14:30:00+00:00",
          "2025-06-19T14:45:00+00:00",
          "2025-06-19T15:00:00+00:00",
          "2025-06-19T15:15:00+00:00",
          "2025-06-19T15:30:00+00:00",
          "2025-06-19T15:45:00+00:00",
          "2025-06-19T16:00:00+00:00",
          "2025-06-19T16:15:00+00:00",
          "2025-06-19T16:30:00+00:00",
          "2025-06-19T16:45:00+00:00",
          "2025-06-19T17:00:00+00:00",
          "2025-06-19T17:15:00+00:00",
          "2025-06-19T17:30:00+00:00",
          "2025-06-19T17:45:00+00:00",
          "2025-06-19T18:00:00+00:00",
          "2025-06-19T18:15:00+00:00",
          "2025-06-19T18:30:00+00:00",
          "2025-06-19T18:45:00+00:00"
         ],
         "y": {
          "bdata": "AAAAAAAA+H8AAAAAAAD4fwAAAAAAAPh/AAAAAAAA+H8AAAAAAAD4fwAAAAAAAPh/AAAAAAAA+H8AAAAAAAD4fwAAAAAAAPh/AAAAAAAA+H8AAAAAAAD4fwAAAAAAAPh/AAAAAAAA+H8AAAAAAAD4fwAAAAAAAPh/AAAAAAAA+H8AAAAAAAD4fwAAAAAAAPh/AAAAAAAA+H+G8JKUeur1Py9cdicy6vU/Z2KPv2jp9T810te4WOn1P4J36wlW6vU/te1l7Snq9T/6KJV3d+v1P8v6lcrk6/U/GTDFU8ns9T/9HDi1RO31P9Wb9IjS7fU/u3R1+Gnu9T9hAEM5z+71P+uxaEH37vU/yFEbaCrv9T+49kKQXu/1PzLToXeI7/U/AuaZ5pDv9T/oCs83n+/1PzCKdUXH7/U/UdCE9/Lv9T81EKjMrO71Pzim0siE7fU/+ydwtcjr9T8W72B33uv1P1qP1t3o6/U/A5tIKKbr9T8H5yzj6uv1P6ZZ5NDy6/U/gkwKGpjs9T9ciVvUK+31P122d+v17fU/EgXdRnTv9T/pOEbypPD1P8tHSS1D8vU/8A2f5hHz9T82OCV+4vP1P0lUUHVU9PU/o1VMrIj09T9T3IAxrvT1P4SVZKu59PU/4Sqn0pX09T/x9yHwkvT1PwPA80tu9PU/vai5IDj09T/utph4RPT1P8ddkccI9PU/Kk/H/tfz9T+9HIBSA/T1P5oZX0a19PU/XlBsQJ/19T+mPiZjBvb1PxE6QHM59vU/mmLFipT29T/Tqw53Zvb1P3z4gZqP9vU/U/m0Wvn29T+pE/+WCff1P5OZxkgO9/U/fpy6YQ339T9TAYp9G/f1PxsLbe4O9/U/q552uQr39T+ca6RH8/b1P1kTa0HS9vU/lVoLiNX29T9DvYT44Pb1P2X8ezvp9vU/y48IvMX29T8lgJt6Ufb1P5l40zqU9fU/oqquFhX19T+Xm4CVyfT1P1mV2ngb9PU/kLfVRib09T+kpI32EfT1P3DYEnhf8/U/aFyVCVPz9T+Xnvs8svP1P6onbXXg9PU/jXOwId319T8Pk4zEmff1PzmKGu2C+vU/r7Zzm5n79T89b7116vz1PypeyHeT/fU/KoeB/l3+9T/qizS72v71PyPWIS16//U/OhxWS/D/9T/rGHY6/P/1P6o7AYuj//U/EQ2DKDn/9T+6gR1Msv71P+bL2ud4/vU/HJlAR1X+9T/23SbiXP71P66TxMJt/vU/FR1x68D+9T9vca4KMP/1P43Yj/qD//U/",
          "dtype": "f8"
         }
        },
        {
         "line": {
          "color": "yellow",
          "dash": "dash"
         },
         "mode": "lines",
         "name": "Middle BB",
         "opacity": 0.7,
         "type": "scatter",
         "x": [
          "2025-06-18T13:00:00+00:00",
          "2025-06-18T13:15:00+00:00",
          "2025-06-18T13:30:00+00:00",
          "2025-06-18T13:45:00+00:00",
          "2025-06-18T14:00:00+00:00",
          "2025-06-18T14:15:00+00:00",
          "2025-06-18T14:30:00+00:00",
          "2025-06-18T14:45:00+00:00",
          "2025-06-18T15:00:00+00:00",
          "2025-06-18T15:15:00+00:00",
          "2025-06-18T15:30:00+00:00",
          "2025-06-18T15:45:00+00:00",
          "2025-06-18T16:00:00+00:00",
          "2025-06-18T16:15:00+00:00",
          "2025-06-18T16:30:00+00:00",
          "2025-06-18T16:45:00+00:00",
          "2025-06-18T17:00:00+00:00",
          "2025-06-18T17:15:00+00:00",
          "2025-06-18T17:30:00+00:00",
          "2025-06-18T17:45:00+00:00",
          "2025-06-18T18:00:00+00:00",
          "2025-06-18T18:15:00+00:00",
          "2025-06-18T18:30:00+00:00",
          "2025-06-18T18:45:00+00:00",
          "2025-06-18T19:00:00+00:00",
          "2025-06-18T19:15:00+00:00",
          "2025-06-18T19:30:00+00:00",
          "2025-06-18T19:45:00+00:00",
          "2025-06-18T20:00:00+00:00",
          "2025-06-18T20:15:00+00:00",
          "2025-06-18T20:30:00+00:00",
          "2025-06-18T20:45:00+00:00",
          "2025-06-18T21:00:00+00:00",
          "2025-06-18T21:15:00+00:00",
          "2025-06-18T21:30:00+00:00",
          "2025-06-18T21:45:00+00:00",
          "2025-06-18T22:00:00+00:00",
          "2025-06-18T22:15:00+00:00",
          "2025-06-18T22:30:00+00:00",
          "2025-06-18T22:45:00+00:00",
          "2025-06-18T23:00:00+00:00",
          "2025-06-18T23:15:00+00:00",
          "2025-06-18T23:30:00+00:00",
          "2025-06-18T23:45:00+00:00",
          "2025-06-19T00:00:00+00:00",
          "2025-06-19T00:15:00+00:00",
          "2025-06-19T00:30:00+00:00",
          "2025-06-19T00:45:00+00:00",
          "2025-06-19T01:00:00+00:00",
          "2025-06-19T01:15:00+00:00",
          "2025-06-19T01:30:00+00:00",
          "2025-06-19T01:45:00+00:00",
          "2025-06-19T02:00:00+00:00",
          "2025-06-19T02:15:00+00:00",
          "2025-06-19T02:30:00+00:00",
          "2025-06-19T02:45:00+00:00",
          "2025-06-19T03:00:00+00:00",
          "2025-06-19T03:15:00+00:00",
          "2025-06-19T03:30:00+00:00",
          "2025-06-19T03:45:00+00:00",
          "2025-06-19T04:00:00+00:00",
          "2025-06-19T04:15:00+00:00",
          "2025-06-19T04:30:00+00:00",
          "2025-06-19T04:45:00+00:00",
          "2025-06-19T05:00:00+00:00",
          "2025-06-19T05:15:00+00:00",
          "2025-06-19T05:30:00+00:00",
          "2025-06-19T05:45:00+00:00",
          "2025-06-19T06:00:00+00:00",
          "2025-06-19T06:15:00+00:00",
          "2025-06-19T06:30:00+00:00",
          "2025-06-19T06:45:00+00:00",
          "2025-06-19T07:00:00+00:00",
          "2025-06-19T07:15:00+00:00",
          "2025-06-19T07:30:00+00:00",
          "2025-06-19T07:45:00+00:00",
          "2025-06-19T08:00:00+00:00",
          "2025-06-19T08:15:00+00:00",
          "2025-06-19T08:30:00+00:00",
          "2025-06-19T08:45:00+00:00",
          "2025-06-19T09:00:00+00:00",
          "2025-06-19T09:15:00+00:00",
          "2025-06-19T09:30:00+00:00",
          "2025-06-19T09:45:00+00:00",
          "2025-06-19T10:00:00+00:00",
          "2025-06-19T10:15:00+00:00",
          "2025-06-19T10:30:00+00:00",
          "2025-06-19T10:45:00+00:00",
          "2025-06-19T11:00:00+00:00",
          "2025-06-19T11:15:00+00:00",
          "2025-06-19T11:30:00+00:00",
          "2025-06-19T11:45:00+00:00",
          "2025-06-19T12:00:00+00:00",
          "2025-06-19T12:15:00+00:00",
          "2025-06-19T12:30:00+00:00",
          "2025-06-19T12:45:00+00:00",
          "2025-06-19T13:00:00+00:00",
          "2025-06-19T13:15:00+00:00",
          "2025-06-19T13:30:00+00:00",
          "2025-06-19T13:45:00+00:00",
          "2025-06-19T14:00:00+00:00",
          "2025-06-19T14:15:00+00:00",
          "2025-06-19T14:30:00+00:00",
          "2025-06-19T14:45:00+00:00",
          "2025-06-19T15:00:00+00:00",
          "2025-06-19T15:15:00+00:00",
          "2025-06-19T15:30:00+00:00",
          "2025-06-19T15:45:00+00:00",
          "2025-06-19T16:00:00+00:00",
          "2025-06-19T16:15:00+00:00",
          "2025-06-19T16:30:00+00:00",
          "2025-06-19T16:45:00+00:00",
          "2025-06-19T17:00:00+00:00",
          "2025-06-19T17:15:00+00:00",
          "2025-06-19T17:30:00+00:00",
          "2025-06-19T17:45:00+00:00",
          "2025-06-19T18:00:00+00:00",
          "2025-06-19T18:15:00+00:00",
          "2025-06-19T18:30:00+00:00",
          "2025-06-19T18:45:00+00:00"
         ],
         "y": {
          "bdata": "AAAAAAAA+H8AAAAAAAD4fwAAAAAAAPh/AAAAAAAA+H8AAAAAAAD4fwAAAAAAAPh/AAAAAAAA+H8AAAAAAAD4fwAAAAAAAPh/AAAAAAAA+H8AAAAAAAD4fwAAAAAAAPh/AAAAAAAA+H8AAAAAAAD4fwAAAAAAAPh/AAAAAAAA+H8AAAAAAAD4fwAAAAAAAPh/AAAAAAAA+H+6FcJqLOH1PwmmmllL4fU/dVsiF5zh9T9pG3+isuH1Px4YQPhQ4vU/lPWbieni9T9Eh8CRQOP1P8a8jjhk4/U/Tulg/Z/j9T/zjH3JxuP1P4F2hxQD5PU/amrZWl/k9T9eZAJ+jeT1P01PWOIB5fU/zvi+uFTl9T8YQPhQouX1PxIxJZLo5fU/IorJG2Dm9T9EpnwIqub1P4j2sYLf5vU//uvctBnn9T+BfXTqyuf1P4qNeR1x6PU/UYcVbvno9T/CS3DqA+n1P1E1ejVA6fU/mpSCbi/p9T/kZyPXTen1P/aeymlP6fU/oP8evHbp9T+lMO9xpun1P0/LD1zl6fU/nglNEkvq9T/FVtC0xOr1P16iemtg6/U/uJTzxd7r9T+aP6a1aez1PwBywoTR7PU/zO7Jw0Lt9T8yIeaSqu31PzEJF/II7vU/PDHrxVDu9T+orKbrie71P0EQIEPH7vU/uAVLdQHv9T8uNUI/U+/1P6ZkOQml7/U/5DEDlfHv9T/0UNuGUfD1P1qD91W58PU/jUrqBDTx9T8xYp8AivH1P4Dyd++o8fU/WDuKc9Tx9T9CDd/CuvH1P0YE4+DS8fU/5urHJvnx9T/V7ewrD/L1P3odccgG8vU/sn+eBgzy9T8eTfVk/vH1P3odccgG8vU/nIu/7Qny9T+cxYuFIfL1P+Db9Gc/8vU/VyO70jLy9T+4dqIkJPL1P/GeA8sR8vU/nFHzVfLx9T87UKc8uvH1P2RZMPFH8fU/xv6ye/Lw9T8KLev+sfD1P09bI4Jx8PU/fEPhs3Xw9T9Knuv7cPD1P//KSpNS8PU/3Vz8bU/w9T+OeohGd/D1P3zxRXu88PU/dhw/VBrx9T/99nXgnPH1Pxh47j1c8vU/HVcju9Ly9T/ek4eFWvP1P56WH7jK8/U/knh5Olf09T/WdhN80/T1PxO4dTdP9fU/JBEawcb19T/YDdsWZfb1P7XBiejX9vU/Ieup1Vf39T+ilBCsqvf1P+zbSUT49/U/1SE3ww349T+zs+idCvj1P3WUg9kE+PU/O/iJA+j39T8rE36pn/f1Pwr3yrxV9/U/",
          "dtype": "f8"
         }
        },
        {
         "fill": "tonexty",
         "fillcolor": "rgba(0, 176, 246, 0.1)",
         "line": {
          "color": "cyan",
          "dash": "dash"
         },
         "mode": "lines",
         "name": "Lower BB",
         "opacity": 0.7,
         "type": "scatter",
         "x": [
          "2025-06-18T13:00:00+00:00",
          "2025-06-18T13:15:00+00:00",
          "2025-06-18T13:30:00+00:00",
          "2025-06-18T13:45:00+00:00",
          "2025-06-18T14:00:00+00:00",
          "2025-06-18T14:15:00+00:00",
          "2025-06-18T14:30:00+00:00",
          "2025-06-18T14:45:00+00:00",
          "2025-06-18T15:00:00+00:00",
          "2025-06-18T15:15:00+00:00",
          "2025-06-18T15:30:00+00:00",
          "2025-06-18T15:45:00+00:00",
          "2025-06-18T16:00:00+00:00",
          "2025-06-18T16:15:00+00:00",
          "2025-06-18T16:30:00+00:00",
          "2025-06-18T16:45:00+00:00",
          "2025-06-18T17:00:00+00:00",
          "2025-06-18T17:15:00+00:00",
          "2025-06-18T17:30:00+00:00",
          "2025-06-18T17:45:00+00:00",
          "2025-06-18T18:00:00+00:00",
          "2025-06-18T18:15:00+00:00",
          "2025-06-18T18:30:00+00:00",
          "2025-06-18T18:45:00+00:00",
          "2025-06-18T19:00:00+00:00",
          "2025-06-18T19:15:00+00:00",
          "2025-06-18T19:30:00+00:00",
          "2025-06-18T19:45:00+00:00",
          "2025-06-18T20:00:00+00:00",
          "2025-06-18T20:15:00+00:00",
          "2025-06-18T20:30:00+00:00",
          "2025-06-18T20:45:00+00:00",
          "2025-06-18T21:00:00+00:00",
          "2025-06-18T21:15:00+00:00",
          "2025-06-18T21:30:00+00:00",
          "2025-06-18T21:45:00+00:00",
          "2025-06-18T22:00:00+00:00",
          "2025-06-18T22:15:00+00:00",
          "2025-06-18T22:30:00+00:00",
          "2025-06-18T22:45:00+00:00",
          "2025-06-18T23:00:00+00:00",
          "2025-06-18T23:15:00+00:00",
          "2025-06-18T23:30:00+00:00",
          "2025-06-18T23:45:00+00:00",
          "2025-06-19T00:00:00+00:00",
          "2025-06-19T00:15:00+00:00",
          "2025-06-19T00:30:00+00:00",
          "2025-06-19T00:45:00+00:00",
          "2025-06-19T01:00:00+00:00",
          "2025-06-19T01:15:00+00:00",
          "2025-06-19T01:30:00+00:00",
          "2025-06-19T01:45:00+00:00",
          "2025-06-19T02:00:00+00:00",
          "2025-06-19T02:15:00+00:00",
          "2025-06-19T02:30:00+00:00",
          "2025-06-19T02:45:00+00:00",
          "2025-06-19T03:00:00+00:00",
          "2025-06-19T03:15:00+00:00",
          "2025-06-19T03:30:00+00:00",
          "2025-06-19T03:45:00+00:00",
          "2025-06-19T04:00:00+00:00",
          "2025-06-19T04:15:00+00:00",
          "2025-06-19T04:30:00+00:00",
          "2025-06-19T04:45:00+00:00",
          "2025-06-19T05:00:00+00:00",
          "2025-06-19T05:15:00+00:00",
          "2025-06-19T05:30:00+00:00",
          "2025-06-19T05:45:00+00:00",
          "2025-06-19T06:00:00+00:00",
          "2025-06-19T06:15:00+00:00",
          "2025-06-19T06:30:00+00:00",
          "2025-06-19T06:45:00+00:00",
          "2025-06-19T07:00:00+00:00",
          "2025-06-19T07:15:00+00:00",
          "2025-06-19T07:30:00+00:00",
          "2025-06-19T07:45:00+00:00",
          "2025-06-19T08:00:00+00:00",
          "2025-06-19T08:15:00+00:00",
          "2025-06-19T08:30:00+00:00",
          "2025-06-19T08:45:00+00:00",
          "2025-06-19T09:00:00+00:00",
          "2025-06-19T09:15:00+00:00",
          "2025-06-19T09:30:00+00:00",
          "2025-06-19T09:45:00+00:00",
          "2025-06-19T10:00:00+00:00",
          "2025-06-19T10:15:00+00:00",
          "2025-06-19T10:30:00+00:00",
          "2025-06-19T10:45:00+00:00",
          "2025-06-19T11:00:00+00:00",
          "2025-06-19T11:15:00+00:00",
          "2025-06-19T11:30:00+00:00",
          "2025-06-19T11:45:00+00:00",
          "2025-06-19T12:00:00+00:00",
          "2025-06-19T12:15:00+00:00",
          "2025-06-19T12:30:00+00:00",
          "2025-06-19T12:45:00+00:00",
          "2025-06-19T13:00:00+00:00",
          "2025-06-19T13:15:00+00:00",
          "2025-06-19T13:30:00+00:00",
          "2025-06-19T13:45:00+00:00",
          "2025-06-19T14:00:00+00:00",
          "2025-06-19T14:15:00+00:00",
          "2025-06-19T14:30:00+00:00",
          "2025-06-19T14:45:00+00:00",
          "2025-06-19T15:00:00+00:00",
          "2025-06-19T15:15:00+00:00",
          "2025-06-19T15:30:00+00:00",
          "2025-06-19T15:45:00+00:00",
          "2025-06-19T16:00:00+00:00",
          "2025-06-19T16:15:00+00:00",
          "2025-06-19T16:30:00+00:00",
          "2025-06-19T16:45:00+00:00",
          "2025-06-19T17:00:00+00:00",
          "2025-06-19T17:15:00+00:00",
          "2025-06-19T17:30:00+00:00",
          "2025-06-19T17:45:00+00:00",
          "2025-06-19T18:00:00+00:00",
          "2025-06-19T18:15:00+00:00",
          "2025-06-19T18:30:00+00:00",
          "2025-06-19T18:45:00+00:00"
         ],
         "y": {
          "bdata": "AAAAAAAA+H8AAAAAAAD4fwAAAAAAAPh/AAAAAAAA+H8AAAAAAAD4fwAAAAAAAPh/AAAAAAAA+H8AAAAAAAD4fwAAAAAAAPh/AAAAAAAA+H8AAAAAAAD4fwAAAAAAAPh/AAAAAAAA+H8AAAAAAAD4fwAAAAAAAPh/AAAAAAAA+H8AAAAAAAD4fwAAAAAAAPh/AAAAAAAA+H/uOvFA3tf1P+Pvvotk2PU/g1S1bs/Z9T+dZCaMDNr1P7q4lOZL2vU/c/3RJanb9T+O5eurCdv1P8F+h6bj2vU/g6L8pnba9T/p/MLdSNr1Py1RGqAz2vU/GWA9vVTa9T9byMHCS9r1P6/sR4MM2/U/1J9iCX/b9T94ia0R5tv1P/KOqKxI3PU/Qi75UC/d9T+gQSrZtN31P+Bi7r/33fU/qwc1ckDe9T/N6kAI6eD1P9x0IHJd4/U/p+a6Jirm9T9uqH9dKeb1P0jbHY2X5vU/MY68tLjm9T/B6BnLsOb1P0bksAKs5vU/vrIzXlXm9T/u14IPIeb1P0Hgp8zU5fU/Kg693SHl9T+hdFp35OT1P/H8q6l95PU/gBtIpavk9T/+Rift8OT1P7ePNJRO5fU/9YdH2/zl9T8RZkv0pub1P958yThY5/U/lzcvuQvo9T9fYSvngOj1P39gTDog6fU/s2Lcycrp9T9us+sFYur1P4Vr4UpB6/U/nhQ/Kwvs9T8rhTa7n+z1Pxrtj2W97PU/vERoycjs9T+8hRieDe31P++qr2sY7fU/FhRPXBTt9T+xbq8OD+31PxAQRCcW7fU/edza8vjs9T8ByNrAFO31P2GhG0j/7PU/5mKCqwrt9T/pmGBM4ez1P9kvdaL+7PU/jXgIIgnt9T+cH3PDT+31P2ekfo6s7fU/GexqHZDt9T8tMMBQZ+31P31Bi1o67fU/bRPe7x7t9T9RILP+Iu31Py86jaf77PU/6lK34M/s9T99vlVomuz1P0UhbIvH7PU/aM/sIMXs9T/wl0kB0Oz1P469gq5F7fU/Ul1j0kvt9T+FVhVQPO31P067HoGY7PU/X8XNhlfs9T/rWl/8n+v1P/dlwo416vU/i/fS2gvq9T9/uFGVyun1PxLPdvgB6vU/+mlxdlDq9T/CYfI8zOr1PwOayUEk6/U/DgbeNp3r9T/FAkDzzez1P8BHEkYM7vU/McnQgnbv9T+KpwMMo/D1P/LruKB38fU/jqotP8bx9T9wiapZuPH1PzyVQvCb8fU/YdOiGw/x9T/ntE1ID/D1P4cVBn8n7/U/",
          "dtype": "f8"
         }
        },
        {
         "marker": {
          "color": "red",
          "line": {
           "color": "white",
           "width": 1
          },
          "size": 12,
          "symbol": "triangle-down"
         },
         "mode": "markers",
         "name": "Entry",
         "type": "scatter",
         "x": [
          "2025-06-19T13:45:09.894023879+00:00"
         ],
         "y": [
          1.37253
         ]
        },
        {
         "marker": {
          "color": "purple",
          "line": {
           "color": "white",
           "width": 1
          },
          "size": 10,
          "symbol": "square"
         },
         "mode": "markers",
         "name": "Exit",
         "type": "scatter",
         "x": [
          "2025-06-19T14:27:25.103658447+00:00"
         ],
         "y": [
          1.37414
         ]
        }
       ],
       "layout": {
        "legend": {
         "orientation": "h",
         "x": 1,
         "xanchor": "right",
         "y": 1.02,
         "yanchor": "bottom"
        },
        "template": {
         "data": {
          "bar": [
           {
            "error_x": {
             "color": "#f2f5fa"
            },
            "error_y": {
             "color": "#f2f5fa"
            },
            "marker": {
             "line": {
              "color": "rgb(17,17,17)",
              "width": 0.5
             },
             "pattern": {
              "fillmode": "overlay",
              "size": 10,
              "solidity": 0.2
             }
            },
            "type": "bar"
           }
          ],
          "barpolar": [
           {
            "marker": {
             "line": {
              "color": "rgb(17,17,17)",
              "width": 0.5
             },
             "pattern": {
              "fillmode": "overlay",
              "size": 10,
              "solidity": 0.2
             }
            },
            "type": "barpolar"
           }
          ],
          "carpet": [
           {
            "aaxis": {
             "endlinecolor": "#A2B1C6",
             "gridcolor": "#506784",
             "linecolor": "#506784",
             "minorgridcolor": "#506784",
             "startlinecolor": "#A2B1C6"
            },
            "baxis": {
             "endlinecolor": "#A2B1C6",
             "gridcolor": "#506784",
             "linecolor": "#506784",
             "minorgridcolor": "#506784",
             "startlinecolor": "#A2B1C6"
            },
            "type": "carpet"
           }
          ],
          "choropleth": [
           {
            "colorbar": {
             "outlinewidth": 0,
             "ticks": ""
            },
            "type": "choropleth"
           }
          ],
          "contour": [
           {
            "colorbar": {
             "outlinewidth": 0,
             "ticks": ""
            },
            "colorscale": [
             [
              0,
              "#0d0887"
             ],
             [
              0.1111111111111111,
              "#46039f"
             ],
             [
              0.2222222222222222,
              "#7201a8"
             ],
             [
              0.3333333333333333,
              "#9c179e"
             ],
             [
              0.4444444444444444,
              "#bd3786"
             ],
             [
              0.5555555555555556,
              "#d8576b"
             ],
             [
              0.6666666666666666,
              "#ed7953"
             ],
             [
              0.7777777777777778,
              "#fb9f3a"
             ],
             [
              0.8888888888888888,
              "#fdca26"
             ],
             [
              1,
              "#f0f921"
             ]
            ],
            "type": "contour"
           }
          ],
          "contourcarpet": [
           {
            "colorbar": {
             "outlinewidth": 0,
             "ticks": ""
            },
            "type": "contourcarpet"
           }
          ],
          "heatmap": [
           {
            "colorbar": {
             "outlinewidth": 0,
             "ticks": ""
            },
            "colorscale": [
             [
              0,
              "#0d0887"
             ],
             [
              0.1111111111111111,
              "#46039f"
             ],
             [
              0.2222222222222222,
              "#7201a8"
             ],
             [
              0.3333333333333333,
              "#9c179e"
             ],
             [
              0.4444444444444444,
              "#bd3786"
             ],
             [
              0.5555555555555556,
              "#d8576b"
             ],
             [
              0.6666666666666666,
              "#ed7953"
             ],
             [
              0.7777777777777778,
              "#fb9f3a"
             ],
             [
              0.8888888888888888,
              "#fdca26"
             ],
             [
              1,
              "#f0f921"
             ]
            ],
            "type": "heatmap"
           }
          ],
          "histogram": [
           {
            "marker": {
             "pattern": {
              "fillmode": "overlay",
              "size": 10,
              "solidity": 0.2
             }
            },
            "type": "histogram"
           }
          ],
          "histogram2d": [
           {
            "colorbar": {
             "outlinewidth": 0,
             "ticks": ""
            },
            "colorscale": [
             [
              0,
              "#0d0887"
             ],
             [
              0.1111111111111111,
              "#46039f"
             ],
             [
              0.2222222222222222,
              "#7201a8"
             ],
             [
              0.3333333333333333,
              "#9c179e"
             ],
             [
              0.4444444444444444,
              "#bd3786"
             ],
             [
              0.5555555555555556,
              "#d8576b"
             ],
             [
              0.6666666666666666,
              "#ed7953"
             ],
             [
              0.7777777777777778,
              "#fb9f3a"
             ],
             [
              0.8888888888888888,
              "#fdca26"
             ],
             [
              1,
              "#f0f921"
             ]
            ],
            "type": "histogram2d"
           }
          ],
          "histogram2dcontour": [
           {
            "colorbar": {
             "outlinewidth": 0,
             "ticks": ""
            },
            "colorscale": [
             [
              0,
              "#0d0887"
             ],
             [
              0.1111111111111111,
              "#46039f"
             ],
             [
              0.2222222222222222,
              "#7201a8"
             ],
             [
              0.3333333333333333,
              "#9c179e"
             ],
             [
              0.4444444444444444,
              "#bd3786"
             ],
             [
              0.5555555555555556,
              "#d8576b"
             ],
             [
              0.6666666666666666,
              "#ed7953"
             ],
             [
              0.7777777777777778,
              "#fb9f3a"
             ],
             [
              0.8888888888888888,
              "#fdca26"
             ],
             [
              1,
              "#f0f921"
             ]
            ],
            "type": "histogram2dcontour"
           }
          ],
          "mesh3d": [
           {
            "colorbar": {
             "outlinewidth": 0,
             "ticks": ""
            },
            "type": "mesh3d"
           }
          ],
          "parcoords": [
           {
            "line": {
             "colorbar": {
              "outlinewidth": 0,
              "ticks": ""
             }
            },
            "type": "parcoords"
           }
          ],
          "pie": [
           {
            "automargin": true,
            "type": "pie"
           }
          ],
          "scatter": [
           {
            "marker": {
             "line": {
              "color": "#283442"
             }
            },
            "type": "scatter"
           }
          ],
          "scatter3d": [
           {
            "line": {
             "colorbar": {
              "outlinewidth": 0,
              "ticks": ""
             }
            },
            "marker": {
             "colorbar": {
              "outlinewidth": 0,
              "ticks": ""
             }
            },
            "type": "scatter3d"
           }
          ],
          "scattercarpet": [
           {
            "marker": {
             "colorbar": {
              "outlinewidth": 0,
              "ticks": ""
             }
            },
            "type": "scattercarpet"
           }
          ],
          "scattergeo": [
           {
            "marker": {
             "colorbar": {
              "outlinewidth": 0,
              "ticks": ""
             }
            },
            "type": "scattergeo"
           }
          ],
          "scattergl": [
           {
            "marker": {
             "line": {
              "color": "#283442"
             }
            },
            "type": "scattergl"
           }
          ],
          "scattermap": [
           {
            "marker": {
             "colorbar": {
              "outlinewidth": 0,
              "ticks": ""
             }
            },
            "type": "scattermap"
           }
          ],
          "scattermapbox": [
           {
            "marker": {
             "colorbar": {
              "outlinewidth": 0,
              "ticks": ""
             }
            },
            "type": "scattermapbox"
           }
          ],
          "scatterpolar": [
           {
            "marker": {
             "colorbar": {
              "outlinewidth": 0,
              "ticks": ""
             }
            },
            "type": "scatterpolar"
           }
          ],
          "scatterpolargl": [
           {
            "marker": {
             "colorbar": {
              "outlinewidth": 0,
              "ticks": ""
             }
            },
            "type": "scatterpolargl"
           }
          ],
          "scatterternary": [
           {
            "marker": {
             "colorbar": {
              "outlinewidth": 0,
              "ticks": ""
             }
            },
            "type": "scatterternary"
           }
          ],
          "surface": [
           {
            "colorbar": {
             "outlinewidth": 0,
             "ticks": ""
            },
            "colorscale": [
             [
              0,
              "#0d0887"
             ],
             [
              0.1111111111111111,
              "#46039f"
             ],
             [
              0.2222222222222222,
              "#7201a8"
             ],
             [
              0.3333333333333333,
              "#9c179e"
             ],
             [
              0.4444444444444444,
              "#bd3786"
             ],
             [
              0.5555555555555556,
              "#d8576b"
             ],
             [
              0.6666666666666666,
              "#ed7953"
             ],
             [
              0.7777777777777778,
              "#fb9f3a"
             ],
             [
              0.8888888888888888,
              "#fdca26"
             ],
             [
              1,
              "#f0f921"
             ]
            ],
            "type": "surface"
           }
          ],
          "table": [
           {
            "cells": {
             "fill": {
              "color": "#506784"
             },
             "line": {
              "color": "rgb(17,17,17)"
             }
            },
            "header": {
             "fill": {
              "color": "#2a3f5f"
             },
             "line": {
              "color": "rgb(17,17,17)"
             }
            },
            "type": "table"
           }
          ]
         },
         "layout": {
          "annotationdefaults": {
           "arrowcolor": "#f2f5fa",
           "arrowhead": 0,
           "arrowwidth": 1
          },
          "autotypenumbers": "strict",
          "coloraxis": {
           "colorbar": {
            "outlinewidth": 0,
            "ticks": ""
           }
          },
          "colorscale": {
           "diverging": [
            [
             0,
             "#8e0152"
            ],
            [
             0.1,
             "#c51b7d"
            ],
            [
             0.2,
             "#de77ae"
            ],
            [
             0.3,
             "#f1b6da"
            ],
            [
             0.4,
             "#fde0ef"
            ],
            [
             0.5,
             "#f7f7f7"
            ],
            [
             0.6,
             "#e6f5d0"
            ],
            [
             0.7,
             "#b8e186"
            ],
            [
             0.8,
             "#7fbc41"
            ],
            [
             0.9,
             "#4d9221"
            ],
            [
             1,
             "#276419"
            ]
           ],
           "sequential": [
            [
             0,
             "#0d0887"
            ],
            [
             0.1111111111111111,
             "#46039f"
            ],
            [
             0.2222222222222222,
             "#7201a8"
            ],
            [
             0.3333333333333333,
             "#9c179e"
            ],
            [
             0.4444444444444444,
             "#bd3786"
            ],
            [
             0.5555555555555556,
             "#d8576b"
            ],
            [
             0.6666666666666666,
             "#ed7953"
            ],
            [
             0.7777777777777778,
             "#fb9f3a"
            ],
            [
             0.8888888888888888,
             "#fdca26"
            ],
            [
             1,
             "#f0f921"
            ]
           ],
           "sequentialminus": [
            [
             0,
             "#0d0887"
            ],
            [
             0.1111111111111111,
             "#46039f"
            ],
            [
             0.2222222222222222,
             "#7201a8"
            ],
            [
             0.3333333333333333,
             "#9c179e"
            ],
            [
             0.4444444444444444,
             "#bd3786"
            ],
            [
             0.5555555555555556,
             "#d8576b"
            ],
            [
             0.6666666666666666,
             "#ed7953"
            ],
            [
             0.7777777777777778,
             "#fb9f3a"
            ],
            [
             0.8888888888888888,
             "#fdca26"
            ],
            [
             1,
             "#f0f921"
            ]
           ]
          },
          "colorway": [
           "#636efa",
           "#EF553B",
           "#00cc96",
           "#ab63fa",
           "#FFA15A",
           "#19d3f3",
           "#FF6692",
           "#B6E880",
           "#FF97FF",
           "#FECB52"
          ],
          "font": {
           "color": "#f2f5fa"
          },
          "geo": {
           "bgcolor": "rgb(17,17,17)",
           "lakecolor": "rgb(17,17,17)",
           "landcolor": "rgb(17,17,17)",
           "showlakes": true,
           "showland": true,
           "subunitcolor": "#506784"
          },
          "hoverlabel": {
           "align": "left"
          },
          "hovermode": "closest",
          "mapbox": {
           "style": "dark"
          },
          "paper_bgcolor": "rgb(17,17,17)",
          "plot_bgcolor": "rgb(17,17,17)",
          "polar": {
           "angularaxis": {
            "gridcolor": "#506784",
            "linecolor": "#506784",
            "ticks": ""
           },
           "bgcolor": "rgb(17,17,17)",
           "radialaxis": {
            "gridcolor": "#506784",
            "linecolor": "#506784",
            "ticks": ""
           }
          },
          "scene": {
           "xaxis": {
            "backgroundcolor": "rgb(17,17,17)",
            "gridcolor": "#506784",
            "gridwidth": 2,
            "linecolor": "#506784",
            "showbackground": true,
            "ticks": "",
            "zerolinecolor": "#C8D4E3"
           },
           "yaxis": {
            "backgroundcolor": "rgb(17,17,17)",
            "gridcolor": "#506784",
            "gridwidth": 2,
            "linecolor": "#506784",
            "showbackground": true,
            "ticks": "",
            "zerolinecolor": "#C8D4E3"
           },
           "zaxis": {
            "backgroundcolor": "rgb(17,17,17)",
            "gridcolor": "#506784",
            "gridwidth": 2,
            "linecolor": "#506784",
            "showbackground": true,
            "ticks": "",
            "zerolinecolor": "#C8D4E3"
           }
          },
          "shapedefaults": {
           "line": {
            "color": "#f2f5fa"
           }
          },
          "sliderdefaults": {
           "bgcolor": "#C8D4E3",
           "bordercolor": "rgb(17,17,17)",
           "borderwidth": 1,
           "tickwidth": 0
          },
          "ternary": {
           "aaxis": {
            "gridcolor": "#506784",
            "linecolor": "#506784",
            "ticks": ""
           },
           "baxis": {
            "gridcolor": "#506784",
            "linecolor": "#506784",
            "ticks": ""
           },
           "bgcolor": "rgb(17,17,17)",
           "caxis": {
            "gridcolor": "#506784",
            "linecolor": "#506784",
            "ticks": ""
           }
          },
          "title": {
           "x": 0.05
          },
          "updatemenudefaults": {
           "bgcolor": "#506784",
           "borderwidth": 0
          },
          "xaxis": {
           "automargin": true,
           "gridcolor": "#283442",
           "linecolor": "#506784",
           "ticks": "",
           "title": {
            "standoff": 15
           },
           "zerolinecolor": "#283442",
           "zerolinewidth": 2
          },
          "yaxis": {
           "automargin": true,
           "gridcolor": "#283442",
           "linecolor": "#506784",
           "ticks": "",
           "title": {
            "standoff": 15
           },
           "zerolinecolor": "#283442",
           "zerolinewidth": 2
          }
         }
        },
        "title": {
         "text": "Trade on USD_CAD | P/L: <span style='color:lightcoral;'>$-1.18</span>"
        },
        "xaxis": {
         "rangeslider": {
          "visible": false
         },
         "title": {
          "text": "Date"
         }
        },
        "yaxis": {
         "title": {
          "text": "Price"
         }
        }
       }
      }
     },
     "metadata": {},
     "output_type": "display_data"
    }
   ],
   "source": [
    "# Make sure these libraries are installed\n",
    "# pip install matplotlib pandas plotly\n",
    "\n",
    "import pandas as pd\n",
    "import plotly.graph_objects as go # <-- Import Plotly\n",
    "from datetime import datetime, timedelta\n",
    "\n",
    "# Import our custom service functions\n",
    "from oanda_api_service import get_oanda_client, get_historical_candles, get_closed_trades\n",
    "from technical_indicator_service import add_bollinger_bands\n",
    "from live_trader_config import CANDLE_GRANULARITY\n",
    "\n",
    "def plot_recent_trades_plotly(num_trades_to_plot=10):\n",
    "    \"\"\"\n",
    "    Fetches and plots the most recently closed trades using Plotly for interactive charts.\n",
    "    \"\"\"\n",
    "    api_client = get_oanda_client()\n",
    "    if not api_client:\n",
    "        print(\"Failed to get OANDA client.\")\n",
    "        return\n",
    "\n",
    "    print(f\"Fetching the last {num_trades_to_plot} closed trades...\")\n",
    "    closed_trades = get_closed_trades(api_client, count=num_trades_to_plot)\n",
    "    \n",
    "    if not closed_trades:\n",
    "        print(\"No closed trades found.\")\n",
    "        return\n",
    "\n",
    "    print(f\"Found {len(closed_trades)} recent closed trades to plot.\")\n",
    "\n",
    "    for trade_data in reversed(closed_trades):\n",
    "        instrument = trade_data['instrument']\n",
    "        entry_time = pd.to_datetime(trade_data['openTime'])\n",
    "        exit_time = pd.to_datetime(trade_data['closeTime'])\n",
    "        entry_price = float(trade_data['price'])\n",
    "        exit_price = float(trade_data.get('averageClosePrice', trade_data['price']))\n",
    "        pnl = float(trade_data.get('realizedPL', 0.0))\n",
    "        units = float(trade_data['initialUnits'])\n",
    "        \n",
    "        print(f\"\\n--- Plotting trade on {instrument} opened at: {entry_time.strftime('%Y-%m-%d %H:%M:%S')} ---\")\n",
    "\n",
    "        plot_start_time = entry_time - timedelta(minutes=15 * 100)\n",
    "        plot_end_time = exit_time + timedelta(minutes=15 * 50)\n",
    "\n",
    "        df_candles = get_historical_candles(\n",
    "            api_client, instrument, count=500, granularity=CANDLE_GRANULARITY\n",
    "        )\n",
    "        df_plot_data = df_candles[(df_candles.index >= plot_start_time) & (df_candles.index <= plot_end_time)]\n",
    "        \n",
    "        if df_plot_data.empty:\n",
    "            continue\n",
    "            \n",
    "        df_with_bb = add_bollinger_bands(df_plot_data)\n",
    "\n",
    "        # --- Create Plotly Figure ---\n",
    "        fig = go.Figure()\n",
    "\n",
    "        # 1. Add Candlestick Trace\n",
    "        fig.add_trace(go.Candlestick(\n",
    "            x=df_with_bb.index,\n",
    "            open=df_with_bb['open'],\n",
    "            high=df_with_bb['high'],\n",
    "            low=df_with_bb['low'],\n",
    "            close=df_with_bb['close'],\n",
    "            name='Candles'\n",
    "        ))\n",
    "\n",
    "        # 2. Add Bollinger Bands Traces\n",
    "        fig.add_trace(go.Scatter(x=df_with_bb.index, y=df_with_bb['bb_upper'], mode='lines', name='Upper BB', line={'dash': 'dash', 'color': 'cyan'}, opacity=0.7))\n",
    "        fig.add_trace(go.Scatter(x=df_with_bb.index, y=df_with_bb['bb_middle'], mode='lines', name='Middle BB', line={'dash': 'dash', 'color': 'yellow'}, opacity=0.7))\n",
    "        fig.add_trace(go.Scatter(x=df_with_bb.index, y=df_with_bb['bb_lower'], mode='lines', name='Lower BB', line={'dash': 'dash', 'color': 'cyan'}, opacity=0.7,\n",
    "                                 fill='tonexty', fillcolor='rgba(0, 176, 246, 0.1)')) # Fill between lower and middle\n",
    "\n",
    "        # 3. Add Trade Markers\n",
    "        entry_color = 'green' if units > 0 else 'red'\n",
    "        entry_symbol = 'triangle-up' if units > 0 else 'triangle-down'\n",
    "        \n",
    "        fig.add_trace(go.Scatter(\n",
    "            x=[entry_time], y=[entry_price],\n",
    "            mode='markers', name='Entry',\n",
    "            marker=dict(color=entry_color, symbol=entry_symbol, size=12, line=dict(width=1, color='white'))\n",
    "        ))\n",
    "        \n",
    "        fig.add_trace(go.Scatter(\n",
    "            x=[exit_time], y=[exit_price],\n",
    "            mode='markers', name='Exit',\n",
    "            marker=dict(color='purple', symbol='square', size=10, line=dict(width=1, color='white'))\n",
    "        ))\n",
    "\n",
    "        # 4. Update Layout and Formatting\n",
    "        pnl_color = 'lightgreen' if pnl >= 0 else 'lightcoral'\n",
    "        title_str = f\"Trade on {instrument} | P/L: <span style='color:{pnl_color};'>${pnl:.2f}</span>\"\n",
    "        \n",
    "        fig.update_layout(\n",
    "            title=title_str,\n",
    "            yaxis_title='Price',\n",
    "            xaxis_title='Date',\n",
    "            template='plotly_dark',  # Use a dark theme suitable for finance\n",
    "            xaxis_rangeslider_visible=False, # Hide the range slider\n",
    "            legend=dict(orientation=\"h\", yanchor=\"bottom\", y=1.02, xanchor=\"right\", x=1)\n",
    "        )\n",
    "        \n",
    "        fig.show()\n",
    "\n",
    "\n",
    "# --- USAGE EXAMPLE ---\n",
    "plot_recent_trades_plotly(num_trades_to_plot=5)"
   ]
  }
 ],
 "metadata": {
  "kernelspec": {
   "display_name": "venv",
   "language": "python",
   "name": "python3"
  },
  "language_info": {
   "codemirror_mode": {
    "name": "ipython",
    "version": 3
   },
   "file_extension": ".py",
   "mimetype": "text/x-python",
   "name": "python",
   "nbconvert_exporter": "python",
   "pygments_lexer": "ipython3",
   "version": "3.12.7"
  }
 },
 "nbformat": 4,
 "nbformat_minor": 5
}
